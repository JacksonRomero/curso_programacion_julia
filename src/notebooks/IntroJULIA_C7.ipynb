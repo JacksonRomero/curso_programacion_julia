{
 "cells": [
  {
   "cell_type": "markdown",
   "metadata": {},
   "source": [
    "# Introducción a la Programación en JULIA\n",
    "## Notebook 7\n",
    "\n",
    "Mauricio Tejada\n",
    "\n",
    "ILADES - Universidad Alberto Hurtado"
   ]
  },
  {
   "cell_type": "markdown",
   "metadata": {},
   "source": [
    "## Contenidos\n",
    "\n",
    "- [Programar en Julia](#7.-Programar-en-Julia)\n",
    "    - [jl-files](#7.1-jl-files)\n",
    "    - [funciones](#7.2-Funciones)\n",
    "    - [Loops](#7.3-Loops)\n",
    "    - [Condicionales y Operadores Lógicos](#7.4-Condicionales-y-Operadores-Lógicos)"
   ]
  },
  {
   "cell_type": "markdown",
   "metadata": {},
   "source": [
    "## 7. Programar en Julia"
   ]
  },
  {
   "cell_type": "markdown",
   "metadata": {},
   "source": [
    "### 7.1 jl-files\n",
    "\n",
    "Los *jl-files* son *Scripts* (archivos de texto) donde guardamos una secuencia de comandos. Son útiles para automatizar un bloque de comandos. Los *Scripts* operan sobre datos existentes y crean nuevos datos a partir de las operaciones contenidas (y guardados en el espacio de trabajo). Los *Scripts* pueden contener también funciones que ejecutan tareas específicas. Estos archivos son guardados con extensión `.jl`. \n",
    "\n",
    "Los *jl−files* puede llevar comentarios, esto es bloques de texto que son ignorados por el compilador. Toda línea que empieza con signo de porcentaje (`#`) es considerada comentarios.\n",
    "\n",
    "Para ejecutar un *jl-file* en el REPL (read–eval–print-loop) de Julia en la terminal usamos:\n",
    "\n",
    "```julia\n",
    "> include(\"myScript.jl\")\n",
    "```\n",
    "\n",
    "El *jl-file* debe estar guardado en el directorio de trabajo."
   ]
  },
  {
   "cell_type": "markdown",
   "metadata": {},
   "source": [
    "### 7.2 Funciones"
   ]
  },
  {
   "cell_type": "markdown",
   "metadata": {},
   "source": [
    "\n",
    "- Es una buena práctica dividir la tarea que queremos realizar con julia en tareas simples y asignar una función para cada tarea simple. \n",
    "\n",
    "- Son muy útiles para procedimiento repetidos. \n"
   ]
  },
  {
   "cell_type": "markdown",
   "metadata": {},
   "source": [
    "La sintaxis de una función en Julia es:\n",
    "\n",
    "```julia\n",
    "\"\"\"\n",
    "Documentación de la función\n",
    "\"\"\"\n",
    "\n",
    "function nombre_funcion(input1, input2,...) \n",
    "\n",
    "    comandos\n",
    "\n",
    "    return output1, output2, ...\n",
    "\n",
    "end\n",
    "```"
   ]
  },
  {
   "cell_type": "markdown",
   "metadata": {},
   "source": [
    "**Ejemplo 1:** Crear una función de nombre `fx` que evalúa un polinomio de grado 2."
   ]
  },
  {
   "cell_type": "code",
   "execution_count": 1,
   "metadata": {},
   "outputs": [
    {
     "data": {
      "text/plain": [
       "fx"
      ]
     },
     "execution_count": 1,
     "metadata": {},
     "output_type": "execute_result"
    }
   ],
   "source": [
    "\"\"\"\n",
    "**fx** Evalúa un polinomio de segundo grado. Función aplica sólo a escalares.\n",
    "\n",
    "##### Uso:\n",
    "\n",
    "```julia\n",
    "val = fx(x)\n",
    "```\n",
    "\"\"\"\n",
    "function fx(x)    \n",
    "    return 2*x^2 + 3*x - 5\n",
    "end"
   ]
  },
  {
   "cell_type": "code",
   "execution_count": 2,
   "metadata": {},
   "outputs": [
    {
     "name": "stdout",
     "output_type": "stream",
     "text": [
      "search: \u001b[0m\u001b[1mf\u001b[22m\u001b[0m\u001b[1mx\u001b[22m \u001b[0m\u001b[1mf\u001b[22mre\u001b[0m\u001b[1mx\u001b[22mp \u001b[0m\u001b[1mf\u001b[22mindma\u001b[0m\u001b[1mx\u001b[22m \u001b[0m\u001b[1mf\u001b[22mindne\u001b[0m\u001b[1mx\u001b[22mt \u001b[0m\u001b[1mf\u001b[22mindma\u001b[0m\u001b[1mx\u001b[22m! \u001b[0m\u001b[1mf\u001b[22mloatma\u001b[0m\u001b[1mx\u001b[22m Task\u001b[0m\u001b[1mF\u001b[22mailedE\u001b[0m\u001b[1mx\u001b[22mception\n",
      "\n"
     ]
    },
    {
     "data": {
      "text/latex": [
       "\\textbf{fx} Evalúa un polinomio de segundo grado. Función aplica sólo a escalares.\n",
       "\n",
       "\\subparagraph{Uso:}\n",
       "\\begin{verbatim}\n",
       "val = fx(x)\n",
       "\\end{verbatim}\n"
      ],
      "text/markdown": [
       "**fx** Evalúa un polinomio de segundo grado. Función aplica sólo a escalares.\n",
       "\n",
       "##### Uso:\n",
       "\n",
       "```julia\n",
       "val = fx(x)\n",
       "```\n"
      ],
      "text/plain": [
       "  \u001b[1mfx\u001b[22m Evalúa un polinomio de segundo grado. Función aplica sólo a escalares.\n",
       "\n",
       "\u001b[1m  Uso:\u001b[22m\n",
       "\u001b[1m  ⋅⋅⋅⋅⋅⋅\u001b[22m\n",
       "\n",
       "\u001b[36m  val = fx(x)\u001b[39m"
      ]
     },
     "execution_count": 2,
     "metadata": {},
     "output_type": "execute_result"
    }
   ],
   "source": [
    "?fx"
   ]
  },
  {
   "cell_type": "code",
   "execution_count": 3,
   "metadata": {},
   "outputs": [
    {
     "data": {
      "text/plain": [
       "39"
      ]
     },
     "execution_count": 3,
     "metadata": {},
     "output_type": "execute_result"
    }
   ],
   "source": [
    "f2 = fx(4)"
   ]
  },
  {
   "cell_type": "markdown",
   "metadata": {},
   "source": [
    "Esta misma función puede usarse sobre vectores, matrices o arreglos de mayor dimensión usando la notación `funcion.()` (aplica la función a cada elemento). "
   ]
  },
  {
   "cell_type": "code",
   "execution_count": 4,
   "metadata": {},
   "outputs": [
    {
     "data": {
      "text/plain": [
       "4×1 Array{Float64,2}:\n",
       " -3.4403572504811804\n",
       " -1.0175839459349678\n",
       " -0.2278903378636148\n",
       " -2.044475844291118"
      ]
     },
     "execution_count": 4,
     "metadata": {},
     "output_type": "execute_result"
    }
   ],
   "source": [
    "x = rand(4,1)\n",
    "y = fx.(x)"
   ]
  },
  {
   "cell_type": "markdown",
   "metadata": {},
   "source": [
    "**Ejemplo 2:** Crear una función de nombre `stat`, que calcula la media y la desviación estándar de un vector, y guardarla en el directorio de trabajo."
   ]
  },
  {
   "cell_type": "code",
   "execution_count": 5,
   "metadata": {},
   "outputs": [
    {
     "data": {
      "text/plain": [
       "stat"
      ]
     },
     "execution_count": 5,
     "metadata": {},
     "output_type": "execute_result"
    }
   ],
   "source": [
    "\"\"\"\n",
    "**stat** Calcula la media y la desviación estándar de un vector x.\n",
    "\n",
    "##### Uso:\n",
    "\n",
    "```julia\n",
    "mean, stdev = stat(x) \n",
    "```\n",
    "\"\"\"\n",
    "function stat(x)\n",
    "\n",
    "    n     = length(x)\n",
    "    mean  = sum(x)/n\n",
    "    stdev = sqrt(sum(x.^2)/n - mean^2)   # Nota: elevamos al cuadrado cada elemento del vector (.^)\n",
    "    \n",
    "    return mean, stdev\n",
    "\n",
    "end"
   ]
  },
  {
   "cell_type": "code",
   "execution_count": 6,
   "metadata": {},
   "outputs": [
    {
     "name": "stdout",
     "output_type": "stream",
     "text": [
      "search: \u001b[0m\u001b[1ms\u001b[22m\u001b[0m\u001b[1mt\u001b[22m\u001b[0m\u001b[1ma\u001b[22m\u001b[0m\u001b[1mt\u001b[22m l\u001b[0m\u001b[1ms\u001b[22m\u001b[0m\u001b[1mt\u001b[22m\u001b[0m\u001b[1ma\u001b[22m\u001b[0m\u001b[1mt\u001b[22m @\u001b[0m\u001b[1ms\u001b[22m\u001b[0m\u001b[1mt\u001b[22m\u001b[0m\u001b[1ma\u001b[22m\u001b[0m\u001b[1mt\u001b[22mic \u001b[0m\u001b[1ms\u001b[22m\u001b[0m\u001b[1mt\u001b[22m\u001b[0m\u001b[1ma\u001b[22mr\u001b[0m\u001b[1mt\u001b[22mswith \u001b[0m\u001b[1ms\u001b[22m\u001b[0m\u001b[1mt\u001b[22m\u001b[0m\u001b[1ma\u001b[22mck\u001b[0m\u001b[1mt\u001b[22mrace \u001b[0m\u001b[1mS\u001b[22m\u001b[0m\u001b[1mt\u001b[22m\u001b[0m\u001b[1ma\u001b[22mck\u001b[0m\u001b[1mT\u001b[22mraces @fa\u001b[0m\u001b[1ms\u001b[22m\u001b[0m\u001b[1mt\u001b[22mm\u001b[0m\u001b[1ma\u001b[22m\u001b[0m\u001b[1mt\u001b[22mh\n",
      "\n"
     ]
    },
    {
     "data": {
      "text/latex": [
       "\\textbf{stat} Calcula la media y la desviación estándar de un vector x.\n",
       "\n",
       "\\subparagraph{Uso:}\n",
       "\\begin{verbatim}\n",
       "mean, stdev = stat(x) \n",
       "\\end{verbatim}\n"
      ],
      "text/markdown": [
       "**stat** Calcula la media y la desviación estándar de un vector x.\n",
       "\n",
       "##### Uso:\n",
       "\n",
       "```julia\n",
       "mean, stdev = stat(x) \n",
       "```\n"
      ],
      "text/plain": [
       "  \u001b[1mstat\u001b[22m Calcula la media y la desviación estándar de un vector x.\n",
       "\n",
       "\u001b[1m  Uso:\u001b[22m\n",
       "\u001b[1m  ⋅⋅⋅⋅⋅⋅\u001b[22m\n",
       "\n",
       "\u001b[36m  mean, stdev = stat(x) \u001b[39m"
      ]
     },
     "execution_count": 6,
     "metadata": {},
     "output_type": "execute_result"
    }
   ],
   "source": [
    "?stat"
   ]
  },
  {
   "cell_type": "code",
   "execution_count": 7,
   "metadata": {},
   "outputs": [
    {
     "data": {
      "text/plain": [
       "(50.4122422099313, 4.330807964819799)"
      ]
     },
     "execution_count": 7,
     "metadata": {},
     "output_type": "execute_result"
    }
   ],
   "source": [
    "xvec = 50*ones(100,1)+4*randn(100,1)\n",
    "\n",
    "media, desv = stat(xvec)"
   ]
  },
  {
   "cell_type": "code",
   "execution_count": 8,
   "metadata": {},
   "outputs": [
    {
     "data": {
      "text/plain": [
       "50.4122422099313"
      ]
     },
     "execution_count": 8,
     "metadata": {},
     "output_type": "execute_result"
    }
   ],
   "source": [
    "media"
   ]
  },
  {
   "cell_type": "markdown",
   "metadata": {},
   "source": [
    "Funciones simples pueden crearse usando las dos siguientes opciones:\n",
    "\n",
    "- Usando notación matemática:"
   ]
  },
  {
   "cell_type": "code",
   "execution_count": 9,
   "metadata": {},
   "outputs": [
    {
     "data": {
      "text/plain": [
       "60"
      ]
     },
     "execution_count": 9,
     "metadata": {},
     "output_type": "execute_result"
    }
   ],
   "source": [
    "fx2(x) = 2*x^2 + 3*x - 5\n",
    "fx2(5)"
   ]
  },
  {
   "cell_type": "markdown",
   "metadata": {},
   "source": [
    "- Usando el formato `input ->`:"
   ]
  },
  {
   "cell_type": "code",
   "execution_count": 10,
   "metadata": {},
   "outputs": [
    {
     "data": {
      "text/plain": [
       "60"
      ]
     },
     "execution_count": 10,
     "metadata": {},
     "output_type": "execute_result"
    }
   ],
   "source": [
    "fx3 = x -> 2*x^2 + 3*x - 5\n",
    "fx3(5)"
   ]
  },
  {
   "cell_type": "markdown",
   "metadata": {},
   "source": [
    "**Nota Importante!!**\n",
    "\n",
    "- Las funciones creadas Julia cuentan con la información provista como `input` y todas las variables del espacio de memoria (cómo *variables globales*). Por esto, y para tener un mejor control de los argumentos que está usando una función, es una buena práctica pasar como argumento explícito todo lo que la función requiera.\n",
    "- Todas las variables creadas al interior de la función son *variables locales*, esto es, sólo existen dentro de la función. Así, la función dejará en el espacio de trabajo sólo las variables que fueron pasadas por el `return` de la función.\n",
    "- Los argumentos (inputs) de una función pueden contener strings, matrices, vectores, escalares, y funciones. \n",
    "- Es posible además declarar funciones (varias) en un *jl-file* separado y llamarlo con `include(\"misfunciones.jl\")` para que las funciones estén disponible en el espacio de trabajo."
   ]
  },
  {
   "cell_type": "markdown",
   "metadata": {},
   "source": [
    "**Ejemplo 3:** Crear una función de nombre `fxalt` que evalúa un polinomio de grado 2 tomando dos argumentos: $x$ y los parámetros del polinomio:"
   ]
  },
  {
   "cell_type": "code",
   "execution_count": 11,
   "metadata": {},
   "outputs": [
    {
     "data": {
      "text/plain": [
       "fxalt"
      ]
     },
     "execution_count": 11,
     "metadata": {},
     "output_type": "execute_result"
    }
   ],
   "source": [
    "\"\"\"\n",
    "**fx* Evalúa un polinomio de segundo grado.\n",
    "\n",
    "Uso:     \n",
    "```julia\n",
    "val = fxalt(x,params)\n",
    "```\n",
    "\n",
    "params: vector 3 x 1 de parámetros.\n",
    "\"\"\"\n",
    "function fxalt(x,param)\n",
    "\n",
    "    a = param[1]\n",
    "    b = param[2]\n",
    "    c = param[3]\n",
    "\n",
    "    return a*x^2 + b*x + c\n",
    "\n",
    "end"
   ]
  },
  {
   "cell_type": "code",
   "execution_count": 12,
   "metadata": {},
   "outputs": [
    {
     "name": "stdout",
     "output_type": "stream",
     "text": [
      "55.0\n"
     ]
    }
   ],
   "source": [
    "pa = 3.0\n",
    "pb = 3.0\n",
    "pc = -5.0\n",
    "\n",
    "p = [pa, pb, pc]\n",
    "x = 4.0\n",
    "\n",
    "val = fxalt(x,p)\n",
    "println(val)"
   ]
  },
  {
   "cell_type": "markdown",
   "metadata": {},
   "source": [
    "Una forma de transformar la función `fxalt` para que sólo dependa del argumento `x` es usar una función anónima."
   ]
  },
  {
   "cell_type": "code",
   "execution_count": 13,
   "metadata": {},
   "outputs": [
    {
     "data": {
      "text/plain": [
       "39.0"
      ]
     },
     "execution_count": 13,
     "metadata": {},
     "output_type": "execute_result"
    }
   ],
   "source": [
    "pa = 2.0\n",
    "pb = 3.0\n",
    "pc = -5.0\n",
    "\n",
    "p = [pa, pb, pc]\n",
    "\n",
    "fx4 = x -> fxalt(x,p)  # fijamos p = [2, 3, -5]\n",
    "\n",
    "fx4(4.0)"
   ]
  },
  {
   "cell_type": "markdown",
   "metadata": {},
   "source": [
    "### 7.3 Loops\n",
    "\n",
    "Los *Loops* son bucles que sirven para realizar operaciones de manera repetida. En Julia existen dos tipos de Loops:\n",
    "\n",
    "- **For Loop:** Realiza la misma acción un número determinado de veces. Su sintaxis es como sigue:\n",
    "\n",
    "```julia\n",
    "for expresión_iterable\n",
    "\n",
    "    Comando 1 \n",
    "    Comando 2\n",
    "    Comando 3\n",
    "    ...\n",
    "\n",
    "end\n",
    "```\n",
    "\n",
    "**Ejemplo 1:** Calcular la suma acumulada de un vector:"
   ]
  },
  {
   "cell_type": "code",
   "execution_count": 14,
   "metadata": {},
   "outputs": [
    {
     "name": "stdout",
     "output_type": "stream",
     "text": [
      "[0.41438184219166496, 0.5282944687155284, 1.2411181123390385, 1.5690514075230144, 2.1956672842431466, 2.547419687447792, 3.5073972181850968, 3.7684506038641796]\n"
     ]
    }
   ],
   "source": [
    "n = 8\n",
    "x = rand(n)\n",
    "sumx = zeros(n)\n",
    "\n",
    "sumx[1]= x[1] \n",
    "\n",
    "for i = 2:n\n",
    "    sumx[i] = sumx[i-1]+x[i]\n",
    "end\n",
    "\n",
    "println(sumx)"
   ]
  },
  {
   "cell_type": "markdown",
   "metadata": {},
   "source": [
    "Comentarios:\n",
    "\n",
    "- Al igual que en el caso de las funciones, en Julia todas las variables que se crean al interior de un For Loop tienen un ambito local, es decir sólo existen dentro del loop. Para guardar los resultados del loop debemos declarar la función fuera del loop (inicializarla, como es el caso del vector `sumx`) para que está exista en memoria una vez concluido el loop.\n",
    "- Los loops operan repetidas veces con elementos iterables. Las secuencias creadas como `inicio:incremento:fin` o con la función `range()` son iterables. No obstante lo anterior, en general, cualquier arreglo en Julia es iterable. "
   ]
  },
  {
   "cell_type": "code",
   "execution_count": 15,
   "metadata": {},
   "outputs": [
    {
     "data": {
      "text/plain": [
       "2:8"
      ]
     },
     "execution_count": 15,
     "metadata": {},
     "output_type": "execute_result"
    }
   ],
   "source": [
    "iterable = 2:n"
   ]
  },
  {
   "cell_type": "code",
   "execution_count": 16,
   "metadata": {},
   "outputs": [
    {
     "ename": "UndefVarError",
     "evalue": "UndefVarError: interable not defined",
     "output_type": "error",
     "traceback": [
      "UndefVarError: interable not defined",
      "",
      "Stacktrace:",
      " [1] top-level scope at In[16]:1"
     ]
    }
   ],
   "source": [
    "typeof(interable)"
   ]
  },
  {
   "cell_type": "markdown",
   "metadata": {},
   "source": [
    "Un Arreglo formado de texto puede ser iterado (para ello se utiliza la opción `in` en el For Loop): "
   ]
  },
  {
   "cell_type": "code",
   "execution_count": 17,
   "metadata": {},
   "outputs": [
    {
     "name": "stdout",
     "output_type": "stream",
     "text": [
      "La Materia es: Macro\n",
      "La Materia es: Micro\n",
      "La Materia es: Econometría\n"
     ]
    }
   ],
   "source": [
    "clase = [\"Macro\", \"Micro\", \"Econometría\"]\n",
    "for i in clase\n",
    "    println(\"La Materia es: $i\")\n",
    "end"
   ]
  },
  {
   "cell_type": "markdown",
   "metadata": {},
   "source": [
    "Existen una forma muy útil de construir Arreglos sobre la base de iterables de una manera sencilla. Es herramienta se llama *list comprehension* y utiliza el formato `[función for var_iterable in objeto_iterable]`. Por ejemplo, para calcular el cuadrado de cada elemento de un vector podemos usar (demás de la notación `.ˆ`): "
   ]
  },
  {
   "cell_type": "code",
   "execution_count": 18,
   "metadata": {},
   "outputs": [
    {
     "data": {
      "text/plain": [
       "5-element Array{Float64,1}:\n",
       "  9.0\n",
       " 36.0\n",
       " 81.0\n",
       " 64.0\n",
       "  9.0"
      ]
     },
     "execution_count": 18,
     "metadata": {},
     "output_type": "execute_result"
    }
   ],
   "source": [
    "x = [3.0, 6.0, 9.0, 8.0, 3.0]\n",
    "sqrx = [i^2 for i in x]"
   ]
  },
  {
   "cell_type": "markdown",
   "metadata": {},
   "source": [
    "Alternativamente es posible usa la función `map(función, x)` para pasar una función escalar anónima por cada elemento de un arreglo: "
   ]
  },
  {
   "cell_type": "code",
   "execution_count": 19,
   "metadata": {},
   "outputs": [
    {
     "data": {
      "text/plain": [
       "5-element Array{Float64,1}:\n",
       "  9.0\n",
       " 36.0\n",
       " 81.0\n",
       " 64.0\n",
       "  9.0"
      ]
     },
     "execution_count": 19,
     "metadata": {},
     "output_type": "execute_result"
    }
   ],
   "source": [
    "funsqr(x) = x^2\n",
    "sqrx2 = map(funsqr,x)"
   ]
  },
  {
   "cell_type": "markdown",
   "metadata": {},
   "source": [
    "o definiendo una función de forma anónima directamente en `map()`:"
   ]
  },
  {
   "cell_type": "code",
   "execution_count": 20,
   "metadata": {},
   "outputs": [
    {
     "data": {
      "text/plain": [
       "5-element Array{Float64,1}:\n",
       "  9.0\n",
       " 36.0\n",
       " 81.0\n",
       " 64.0\n",
       "  9.0"
      ]
     },
     "execution_count": 20,
     "metadata": {},
     "output_type": "execute_result"
    }
   ],
   "source": [
    "sqrx2 = map(y -> y^2,x)"
   ]
  },
  {
   "cell_type": "markdown",
   "metadata": {
    "collapsed": true
   },
   "source": [
    "- **While Loop:** Realiza la misma acción hasta que una condición se cumpla.\n",
    "\n",
    "```julia\n",
    "while Condición\n",
    "\n",
    "    Comando 1\n",
    "    Comando 2\n",
    "    Comando3\n",
    "    ...\n",
    "end\n",
    "```\n",
    "\n",
    "**Ejemplo 2:** Calcular la secuencia de número en la que cada numero precedente es la mitad del anterior. La secuencia termina cuando el número final sea menor que 0.05."
   ]
  },
  {
   "cell_type": "code",
   "execution_count": 21,
   "metadata": {},
   "outputs": [
    {
     "name": "stdout",
     "output_type": "stream",
     "text": [
      "1\n",
      "0.5\n",
      "0.25\n",
      "0.125\n",
      "0.0625\n",
      "0.03125\n"
     ]
    }
   ],
   "source": [
    "delta = 1\n",
    "println(delta)\n",
    "while delta > 0.05\n",
    "    delta = delta/2\n",
    "    println(delta)\n",
    "end"
   ]
  },
  {
   "cell_type": "markdown",
   "metadata": {},
   "source": [
    "Comentarios:\n",
    "\n",
    "- Julia es eficiente al utilizar loops. \n",
    "- Un for loop puede comportarse de forma descendente: `for i=10:-1:1`.\n",
    "- Podemos anidar varios loops. Por ejemplo:"
   ]
  },
  {
   "cell_type": "code",
   "execution_count": 22,
   "metadata": {},
   "outputs": [
    {
     "data": {
      "text/plain": [
       "3×2 Array{Float64,2}:\n",
       " 1.0       0.5\n",
       " 0.5       0.333333\n",
       " 0.333333  0.25"
      ]
     },
     "execution_count": 22,
     "metadata": {},
     "output_type": "execute_result"
    }
   ],
   "source": [
    "m = 3\n",
    "n = 2\n",
    "H = zeros(m,n)\n",
    "\n",
    "for i = 1:m\n",
    "    for j = 1:n \n",
    "        H[i, j] = 1/(i+j-1)\n",
    "    end\n",
    "end\n",
    "\n",
    "H"
   ]
  },
  {
   "cell_type": "markdown",
   "metadata": {},
   "source": [
    "Para loops anidados, Julia tiene una notación más compacta que consta de un For Loop y varios iterables separados por coma, por ejemplo:"
   ]
  },
  {
   "cell_type": "code",
   "execution_count": 23,
   "metadata": {},
   "outputs": [
    {
     "data": {
      "text/plain": [
       "3×2 Array{Float64,2}:\n",
       " 1.0       0.5\n",
       " 0.5       0.333333\n",
       " 0.333333  0.25"
      ]
     },
     "execution_count": 23,
     "metadata": {},
     "output_type": "execute_result"
    }
   ],
   "source": [
    "H2 = zeros(m,n)\n",
    "\n",
    "for i in 1:m, j in 1:n \n",
    "    H2[i, j] = 1/(i+j-1)\n",
    "end\n",
    "\n",
    "H2"
   ]
  },
  {
   "cell_type": "markdown",
   "metadata": {},
   "source": [
    "y también puede usar una *list comprehension* y escribir el el loop anterior de manera aún más compacta:"
   ]
  },
  {
   "cell_type": "code",
   "execution_count": 24,
   "metadata": {},
   "outputs": [
    {
     "data": {
      "text/plain": [
       "3×2 Array{Float64,2}:\n",
       " 1.0       0.5\n",
       " 0.5       0.333333\n",
       " 0.333333  0.25"
      ]
     },
     "execution_count": 24,
     "metadata": {},
     "output_type": "execute_result"
    }
   ],
   "source": [
    "mult = [1/(i+j-1) for i in 1:m, j in 1:n]"
   ]
  },
  {
   "cell_type": "markdown",
   "metadata": {},
   "source": [
    "- Podemos utilizar un while loop como un for loop, sólo se necesita definir un contador. Por ejemplo:"
   ]
  },
  {
   "cell_type": "code",
   "execution_count": 25,
   "metadata": {},
   "outputs": [
    {
     "name": "stdout",
     "output_type": "stream",
     "text": [
      "1\n",
      "2\n",
      "3\n",
      "4\n"
     ]
    }
   ],
   "source": [
    "iter = 1\n",
    "\n",
    "while iter < 5 \n",
    "    println(iter)\n",
    "    iter += 1   # esto es equivalente a iter = iter + 1\n",
    "end"
   ]
  },
  {
   "cell_type": "markdown",
   "metadata": {},
   "source": [
    "### 7.4 Condicionales y Operadores Lógicos\n",
    "\n",
    "Los condicionales sirven para ejecutar un comando si se cumple cierta condición. La sintaxis para condicionales es:\n",
    "\n",
    "```\n",
    "if condicion 1\n",
    "    comando\n",
    "elseif condicion 2 \n",
    "    comando\n",
    "elseif condicion 3 \n",
    "    comando\n",
    "else\n",
    "    comando\n",
    "end\n",
    "\n",
    "```\n",
    "\n",
    "donde `condicion 1`, `condicion 2`, etc son variable boolenada: `true`o `false`. Para construir variables boolianas utilizamos los siguientes operadores lógicos:\n",
    "\n",
    "- `<` menor a\n",
    "- `>` mayor a\n",
    "- `<=` menor o igual a\n",
    "- `>=` mayor o igual a\n",
    "- `==` igual a\n",
    "- `!=` no es igual a\n",
    "- `|` o: verdadero si al menos una es verdadera\n",
    "- `||` o: verdadero si al menos una es verdadera (no evalúa la segunda si la primera condición es verdadera) \n",
    "- `&` y: verdadero si todas son verdaderas\n",
    "- `&&` y: verdadero si todas son verdaderas (no evalúa la segunda condición si la primera es falsa) \n",
    "- `!` negativo\n",
    "- `any` verdadero si algún elemento de un Arreglo booleano es `true`\n",
    "- `all` verdadero si todos los elementos de un Arreglo booleano son `true`\n",
    "- `isnan` detecta valores NaN en una matriz\n",
    "- `isempty` detecta si es una matriz vacía.\n",
    "\n",
    "**Ejemplo 3:**"
   ]
  },
  {
   "cell_type": "code",
   "execution_count": 26,
   "metadata": {},
   "outputs": [
    {
     "name": "stdout",
     "output_type": "stream",
     "text": [
      "0.45768647694921316\n",
      "A es positivo\n"
     ]
    }
   ],
   "source": [
    "A = randn()\n",
    "println(A)\n",
    "if A>0\n",
    "    println(\"A es positivo\")\n",
    "elseif A==0\n",
    "    println(\"A es cero\")\n",
    "else\n",
    "    println(\"A es negativo\")\n",
    "end"
   ]
  },
  {
   "cell_type": "markdown",
   "metadata": {},
   "source": [
    "Las condiciones son verificadas de manera secuencial. En cuando se cumple una condición, el comando `if` ya no continúa con las demás condiciones. Por ejemplo:"
   ]
  },
  {
   "cell_type": "code",
   "execution_count": 27,
   "metadata": {},
   "outputs": [
    {
     "name": "stdout",
     "output_type": "stream",
     "text": [
      "3\n"
     ]
    }
   ],
   "source": [
    "n = 0\n",
    "\n",
    "if -5 > 0 \n",
    "    n = 1\n",
    "elseif -1 > 0 \n",
    "    n = 2\n",
    "elseif 3 > 0\n",
    "    n = 3 \n",
    "else\n",
    "    n = 4\n",
    "end\n",
    "\n",
    "println(n)"
   ]
  },
  {
   "cell_type": "markdown",
   "metadata": {},
   "source": [
    "Comentarios:\n",
    "\n",
    "- Matrices lógicas: `dummy = (condición)` genera una matriz de dummies si se cumple la condición.\n",
    "- Referenciación: `A(condición)` genera una matriz con los elementos de `A` que cumplen la condición.\n",
    "- Si se comparan elemento por elemento dos vectores o matrices, se utiliza la notación `.operador`. \n",
    "- Los condicionales `if` pueden estar anidados entre si y anidados dentro Loops.\n",
    "\n",
    "Ejemplo del uso de matrices lógicas:"
   ]
  },
  {
   "cell_type": "code",
   "execution_count": 28,
   "metadata": {},
   "outputs": [
    {
     "data": {
      "text/plain": [
       "9-element BitArray{1}:\n",
       " 0\n",
       " 0\n",
       " 1\n",
       " 0\n",
       " 0\n",
       " 1\n",
       " 0\n",
       " 1\n",
       " 1"
      ]
     },
     "execution_count": 28,
     "metadata": {},
     "output_type": "execute_result"
    }
   ],
   "source": [
    " A = [1, 4, 7, 2, 8, 5, 2, 7, 9]\n",
    " B = [2, 5, 1, 4, 8, 0, 3, 4, 3]\n",
    " \n",
    " dummy = A.>B"
   ]
  },
  {
   "cell_type": "markdown",
   "metadata": {},
   "source": [
    "Ejemplo de referenciación:"
   ]
  },
  {
   "cell_type": "code",
   "execution_count": 29,
   "metadata": {
    "scrolled": true
   },
   "outputs": [
    {
     "data": {
      "text/plain": [
       "4×2 Array{Int64,2}:\n",
       " 7  1\n",
       " 5  0\n",
       " 7  4\n",
       " 9  3"
      ]
     },
     "execution_count": 29,
     "metadata": {},
     "output_type": "execute_result"
    }
   ],
   "source": [
    "F = [A B]\n",
    "\n",
    "subF1 = F[A.>B,:] # Alternativa 1"
   ]
  },
  {
   "cell_type": "code",
   "execution_count": 30,
   "metadata": {},
   "outputs": [
    {
     "data": {
      "text/plain": [
       "4×2 Array{Int64,2}:\n",
       " 7  1\n",
       " 5  0\n",
       " 7  4\n",
       " 9  3"
      ]
     },
     "execution_count": 30,
     "metadata": {},
     "output_type": "execute_result"
    }
   ],
   "source": [
    "subF2 = F[F[:,1].>F[:,2],:] # Alternativa 2"
   ]
  }
 ],
 "metadata": {
  "kernelspec": {
   "display_name": "Julia 1.4.1",
   "language": "julia",
   "name": "julia-1.4"
  },
  "language_info": {
   "file_extension": ".jl",
   "mimetype": "application/julia",
   "name": "julia",
   "version": "1.4.1"
  }
 },
 "nbformat": 4,
 "nbformat_minor": 1
}
