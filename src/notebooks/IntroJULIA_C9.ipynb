{
 "cells": [
  {
   "cell_type": "markdown",
   "metadata": {},
   "source": [
    "# Introducción a la Programación en JULIA\n",
    "## Notebook 9\n",
    "\n",
    "Mauricio Tejada\n",
    "\n",
    "ILADES - Universidad Alberto Hurtado"
   ]
  },
  {
   "cell_type": "markdown",
   "metadata": {},
   "source": [
    "## Contenidos\n",
    "\n",
    "- [Diferenciación e Integración Numérica](9.-Diferenciaci%C3%B3n-e-Integraci%C3%B3n-Num%C3%A9rica)\n",
    "    - [Diferenciación](#9.1-Diferenciaci%C3%B3n)\n",
    "    - [Integración](#9.1-Integraci%C3%B3n)"
   ]
  },
  {
   "cell_type": "markdown",
   "metadata": {},
   "source": [
    "## 9. Diferenciación e Integración Numérica"
   ]
  },
  {
   "cell_type": "markdown",
   "metadata": {},
   "source": [
    "### 9.1 Diferenciación\n",
    "\n",
    "*Ideas Básicas:* La forma más simple y natural de aproximar una derivada es reemplazarla con una *diferencia finita*. Recordemos que la definición de derivada:\n",
    "\n",
    "$$ f'(x) = \\lim_{h \\rightarrow 0} \\frac{f(x+h)-f(x)}{h}$$ \n",
    "\n",
    "Por tanto la aproximación será: \n",
    "\n",
    "$$f'(x) \\approx \\frac{f(x+h)-f(x)}{h}$$ \n",
    "\n",
    "para un $h$ pequeño. Dado que la anterior ecuación representa una aproximación a la definición de derivada, existirá un error de aproximación asociado. \n",
    "\n",
    "Una alternativa, con un error de aproximación menor, es construir la aproximación usando diferencias a los dos lados:\n",
    "\n",
    "$$f'(x) \\approx \\frac{f(x+h)-f(x-h)}{2h}$$ \n",
    "\n",
    "¿Cuán pequeño debe ser $h$? Existe una disyuntiva:\n",
    "\n",
    "- Cuando $h$ es muy pequeño, errores de redondeo pueden llevar a un resultado sin sentido.\n",
    "- Cuando $h$ es muy grande, generar una aproximación muy pobre.\n",
    "\n",
    "Miranda y Fackler proveen una regla para la aproximación de dos lados: $$h=max(|x|,1)*\\sqrt[3]{\\epsilon}$$ con $\\epsilon$ es denominado *machine precision*. \n",
    "\n",
    "Escribamos una función para calcular la primera derivada de una función arbitraria:"
   ]
  },
  {
   "cell_type": "code",
   "execution_count": 48,
   "metadata": {},
   "outputs": [
    {
     "data": {
      "text/plain": [
       "primera_derivada (generic function with 1 method)"
      ]
     },
     "execution_count": 48,
     "metadata": {},
     "output_type": "execute_result"
    }
   ],
   "source": [
    "function primera_derivada(fun,x)\n",
    "    \n",
    "    h = (eps()^(1/3))*max(abs(x), 1.0)\n",
    "    \n",
    "    return (fun(x+h)-fun(x-h))/(2*h)\n",
    "end"
   ]
  },
  {
   "cell_type": "code",
   "execution_count": 49,
   "metadata": {},
   "outputs": [
    {
     "data": {
      "text/plain": [
       "3.9999999999658735"
      ]
     },
     "execution_count": 49,
     "metadata": {},
     "output_type": "execute_result"
    }
   ],
   "source": [
    "f(x) = x^2\n",
    "primera_derivada(f,2)"
   ]
  },
  {
   "cell_type": "markdown",
   "metadata": {},
   "source": [
    "Sabesmos que:"
   ]
  },
  {
   "cell_type": "code",
   "execution_count": 50,
   "metadata": {},
   "outputs": [
    {
     "data": {
      "text/plain": [
       "4"
      ]
     },
     "execution_count": 50,
     "metadata": {},
     "output_type": "execute_result"
    }
   ],
   "source": [
    "derf(x) = 2*x\n",
    "derf(2)"
   ]
  },
  {
   "cell_type": "markdown",
   "metadata": {},
   "source": [
    "Ahora escribamos la función que calcula el gradiente de una función (adaptada del código MATLAB del libro de Miranda y Fackler)."
   ]
  },
  {
   "cell_type": "code",
   "execution_count": 51,
   "metadata": {},
   "outputs": [
    {
     "data": {
      "text/plain": [
       "gradiente (generic function with 1 method)"
      ]
     },
     "execution_count": 51,
     "metadata": {},
     "output_type": "execute_result"
    }
   ],
   "source": [
    "function gradiente(fun,x)\n",
    "    \n",
    "    nv = length(x)\n",
    "    h = (eps()^(1/3))*max.(abs.(x), 1.0)\n",
    "\n",
    "    xh1 = x+h\n",
    "    xh0 = x-h\n",
    "    hh  = xh1 - xh0  # 2h\n",
    "    \n",
    "    fderiv = zeros(nv)\n",
    "\n",
    "    if nv == 1\n",
    "        f1 = fun(xh1)\n",
    "        f0 = fun(xh0)\n",
    "        fderiv = (f1-f0)/hh\n",
    "    else\n",
    "        for j=1:nv\n",
    "            xx = copy(x)\n",
    "            xx[j] = xh1[j]\n",
    "            f1 = fun(xx)\n",
    "            xx[j] = xh0[j]\n",
    "            f0 = fun(xx)\n",
    "            fderiv[j] = (f1-f0)/hh[j]\n",
    "        end\n",
    "    end\n",
    "    \n",
    "    return fderiv\n",
    "end"
   ]
  },
  {
   "cell_type": "markdown",
   "metadata": {},
   "source": [
    "Probemos la función aproximando la derivada de: $$f(x) = 2x^2+x-1$$"
   ]
  },
  {
   "cell_type": "code",
   "execution_count": 52,
   "metadata": {},
   "outputs": [
    {
     "data": {
      "text/plain": [
       "fx (generic function with 1 method)"
      ]
     },
     "execution_count": 52,
     "metadata": {},
     "output_type": "execute_result"
    }
   ],
   "source": [
    "# Definimos la funcion\n",
    "fx(x) = 2*x^2 + x - 1"
   ]
  },
  {
   "cell_type": "code",
   "execution_count": 53,
   "metadata": {},
   "outputs": [
    {
     "data": {
      "text/plain": [
       "8.999999999954165"
      ]
     },
     "execution_count": 53,
     "metadata": {},
     "output_type": "execute_result"
    }
   ],
   "source": [
    "# Aplicamos la función gradiente (nota que pasamos una función como argumento)\n",
    "derv = gradiente(fx,2.0)"
   ]
  },
  {
   "cell_type": "markdown",
   "metadata": {},
   "source": [
    "Ahora probemos la función $$f(x,y) = 2x^2+2y^2+x*y-1$$"
   ]
  },
  {
   "cell_type": "code",
   "execution_count": 54,
   "metadata": {},
   "outputs": [
    {
     "data": {
      "text/plain": [
       "fxy (generic function with 1 method)"
      ]
     },
     "execution_count": 54,
     "metadata": {},
     "output_type": "execute_result"
    }
   ],
   "source": [
    "fxy(x) = 2*x[1]^2+2*x[2]^2+x[1]*x[2]-1"
   ]
  },
  {
   "cell_type": "code",
   "execution_count": 55,
   "metadata": {},
   "outputs": [
    {
     "data": {
      "text/plain": [
       "2-element Array{Float64,1}:\n",
       " 13.99999999995111\n",
       " 10.999999999862492"
      ]
     },
     "execution_count": 55,
     "metadata": {},
     "output_type": "execute_result"
    }
   ],
   "source": [
    "x = [3.0; 2.0]\n",
    "dervxy = gradiente(fxy,x)"
   ]
  },
  {
   "cell_type": "markdown",
   "metadata": {},
   "source": [
    "Tomemos ahora la siguiente función: $$f(x,y,z) = xyz + 2xy + 2yz + x + y + z$$\n",
    "\n",
    "y usemos `gradiente()` para encontrar el gradiente de la función.  "
   ]
  },
  {
   "cell_type": "code",
   "execution_count": 56,
   "metadata": {},
   "outputs": [
    {
     "data": {
      "text/plain": [
       "fxyz (generic function with 1 method)"
      ]
     },
     "execution_count": 56,
     "metadata": {},
     "output_type": "execute_result"
    }
   ],
   "source": [
    "# Definimos la funcion\n",
    "fxyz(x) = x[1]*x[2]*x[3] + 2*x[1]*x[2] + 2*x[2]*x[3] + x[1] + x[2] + x[3] "
   ]
  },
  {
   "cell_type": "code",
   "execution_count": 57,
   "metadata": {},
   "outputs": [
    {
     "data": {
      "text/plain": [
       "3-element Array{Float64,1}:\n",
       " 4.000000000110005\n",
       " 5.999999999944997\n",
       " 4.000000000110005"
      ]
     },
     "execution_count": 57,
     "metadata": {},
     "output_type": "execute_result"
    }
   ],
   "source": [
    "# Aplicamos la función fgrad\n",
    "x0 = [1.0; 1.0; 1.0]\n",
    "derivxyz = gradiente(fxyz,x0)"
   ]
  },
  {
   "cell_type": "markdown",
   "metadata": {},
   "source": [
    "#### Calculus\n",
    "\n",
    "Este ejemplo sencillo ayuda a entender la lógica de las derivada numéricas. Existe un módulo en Julia que permite calcular derivadas, gradientes y jacobinas. También permite el cálculo de derivadas de orden superior a 1. El modelo se llama **Calculus** y se instala usando:\n",
    "\n",
    "`Pkg.add(\"Calculus\")`\n",
    "\n",
    "- Primera Derivada: `derivative()` \n",
    "- Segunda Derivada: `second_derivative()`\n",
    "- Gradiente: `Calculus.gradient()` \n",
    "- Matriz Hessiana: `hessian()`\n",
    "\n",
    "Para detalles de todas las opciones ver la documentación de cada función."
   ]
  },
  {
   "cell_type": "code",
   "execution_count": 58,
   "metadata": {},
   "outputs": [],
   "source": [
    "using Calculus"
   ]
  },
  {
   "cell_type": "markdown",
   "metadata": {},
   "source": [
    "Partamos con la función $fx: R \\rightarrow R$"
   ]
  },
  {
   "cell_type": "code",
   "execution_count": 59,
   "metadata": {},
   "outputs": [
    {
     "data": {
      "text/plain": [
       "8.999999999918636"
      ]
     },
     "execution_count": 59,
     "metadata": {},
     "output_type": "execute_result"
    }
   ],
   "source": [
    "dx = derivative(fx, 2.0)"
   ]
  },
  {
   "cell_type": "code",
   "execution_count": 60,
   "metadata": {},
   "outputs": [
    {
     "data": {
      "text/plain": [
       "3.9999990266181173"
      ]
     },
     "execution_count": 60,
     "metadata": {},
     "output_type": "execute_result"
    }
   ],
   "source": [
    "d2x = second_derivative(fx, 2.0)"
   ]
  },
  {
   "cell_type": "markdown",
   "metadata": {},
   "source": [
    "Es posible generar una función general con la derivada y evaluarla posteriormente en cualquier punto de interés:"
   ]
  },
  {
   "cell_type": "code",
   "execution_count": 61,
   "metadata": {},
   "outputs": [
    {
     "data": {
      "text/plain": [
       "#1 (generic function with 1 method)"
      ]
     },
     "execution_count": 61,
     "metadata": {},
     "output_type": "execute_result"
    }
   ],
   "source": [
    "dx = derivative(fx)"
   ]
  },
  {
   "cell_type": "code",
   "execution_count": 62,
   "metadata": {},
   "outputs": [
    {
     "data": {
      "text/plain": [
       "8.999999999918636"
      ]
     },
     "execution_count": 62,
     "metadata": {},
     "output_type": "execute_result"
    }
   ],
   "source": [
    "dx(2.0)"
   ]
  },
  {
   "cell_type": "markdown",
   "metadata": {},
   "source": [
    "Ahora apliquemos el cálculo del gradiente a la función $fxy: R^2 \\rightarrow R$"
   ]
  },
  {
   "cell_type": "code",
   "execution_count": 63,
   "metadata": {},
   "outputs": [
    {
     "data": {
      "text/plain": [
       "2-element Array{Float64,1}:\n",
       " 13.999999999938623\n",
       " 10.999999999819071"
      ]
     },
     "execution_count": 63,
     "metadata": {},
     "output_type": "execute_result"
    }
   ],
   "source": [
    "dfxy = Calculus.gradient(fxy,[3.0, 2.0])"
   ]
  },
  {
   "cell_type": "markdown",
   "metadata": {},
   "source": [
    "La matriz hessiana (matriz de segundas derivadas) para la misma función se calcula como:"
   ]
  },
  {
   "cell_type": "code",
   "execution_count": 64,
   "metadata": {},
   "outputs": [
    {
     "data": {
      "text/plain": [
       "2×2 Array{Float64,2}:\n",
       " 4.00001   0.999998\n",
       " 0.999998  3.99999"
      ]
     },
     "execution_count": 64,
     "metadata": {},
     "output_type": "execute_result"
    }
   ],
   "source": [
    "d2fxy = Calculus.hessian(fxy,[3.0, 2.0])"
   ]
  },
  {
   "cell_type": "markdown",
   "metadata": {},
   "source": [
    "De la misma forma apliquemos el cálculo del gradiente a la función $fxy: R^2 \\rightarrow R$"
   ]
  },
  {
   "cell_type": "code",
   "execution_count": 65,
   "metadata": {},
   "outputs": [
    {
     "data": {
      "text/plain": [
       "3-element Array{Float64,1}:\n",
       " 4.000000000094215\n",
       " 5.999999999921312\n",
       " 4.000000000094215"
      ]
     },
     "execution_count": 65,
     "metadata": {},
     "output_type": "execute_result"
    }
   ],
   "source": [
    "dfxyz = Calculus.gradient(fxyz,[1.0, 1.0, 1.0])"
   ]
  },
  {
   "cell_type": "markdown",
   "metadata": {},
   "source": [
    "y su hessiana:"
   ]
  },
  {
   "cell_type": "code",
   "execution_count": 66,
   "metadata": {},
   "outputs": [
    {
     "data": {
      "text/plain": [
       "3×3 Array{Float64,2}:\n",
       " 7.6074e-6   2.99999      1.00001\n",
       " 2.99999    -6.99636e-7   2.99999\n",
       " 1.00001     2.99999     -1.66143e-5"
      ]
     },
     "execution_count": 66,
     "metadata": {},
     "output_type": "execute_result"
    }
   ],
   "source": [
    "d2fxyz = Calculus.hessian(fxyz,[1.0, 1.0, 1.0])"
   ]
  },
  {
   "cell_type": "markdown",
   "metadata": {},
   "source": [
    "#### ForwardDiff\n",
    "\n",
    "Otra alternativa en Julia para la aproximación numérica de las derivadas es el paquete **ForwardDiff**, el mismo que implementa métodos de diferenciación automática en su modo hacia adelante (forward mode automatic differentiation, AD). Este método es un algoritmo que usa de forma exacta las operaciones básicas que realiza un computador y una sucesión acumulada de derivadas sobre la base de la regla de la cadena. Para mayor detalle sobre el método ver la entrada de [forward mode automatic differentiation en Wikipedia](https://en.wikipedia.org/wiki/Automatic_differentiation)."
   ]
  },
  {
   "cell_type": "code",
   "execution_count": 67,
   "metadata": {},
   "outputs": [],
   "source": [
    "using ForwardDiff"
   ]
  },
  {
   "cell_type": "markdown",
   "metadata": {},
   "source": [
    "Usemos ahora `ForwarDiff` sobre la función $$f(x,y) = 2x^2+2y^2+x*y-1$$"
   ]
  },
  {
   "cell_type": "code",
   "execution_count": 68,
   "metadata": {},
   "outputs": [
    {
     "data": {
      "text/plain": [
       "fxy (generic function with 1 method)"
      ]
     },
     "execution_count": 68,
     "metadata": {},
     "output_type": "execute_result"
    }
   ],
   "source": [
    "fxy(x) = 2*x[1]^2+2*x[2]^2+x[1]*x[2]-1"
   ]
  },
  {
   "cell_type": "code",
   "execution_count": 69,
   "metadata": {},
   "outputs": [
    {
     "data": {
      "text/plain": [
       "2-element Array{Float64,1}:\n",
       " 14.0\n",
       " 11.0"
      ]
     },
     "execution_count": 69,
     "metadata": {},
     "output_type": "execute_result"
    }
   ],
   "source": [
    "ForwardDiff.gradient(fxy,[3.0; 2.0])"
   ]
  },
  {
   "cell_type": "code",
   "execution_count": 70,
   "metadata": {},
   "outputs": [
    {
     "data": {
      "text/plain": [
       "2×2 Array{Float64,2}:\n",
       " 4.0  1.0\n",
       " 1.0  4.0"
      ]
     },
     "execution_count": 70,
     "metadata": {},
     "output_type": "execute_result"
    }
   ],
   "source": [
    "ForwardDiff.hessian(fxy,[3.0; 2.0])"
   ]
  },
  {
   "cell_type": "markdown",
   "metadata": {},
   "source": [
    "`ForwardDiff` implementa también el calculo de la matriz jacobiana de una sistema de ecuaciones (esto es, la matriz conformada por los gradientes de cada ecuación). Consideremos el siguiente sistema definido en $Fxy: R^2 \\rightarrow R^2$:\n",
    "\n",
    "$$f(x,y) =  x^2 + y^2 - 2$$\n",
    "$$g(x,y) = xy$$ "
   ]
  },
  {
   "cell_type": "code",
   "execution_count": 71,
   "metadata": {},
   "outputs": [
    {
     "data": {
      "text/plain": [
       "sistema (generic function with 1 method)"
      ]
     },
     "execution_count": 71,
     "metadata": {},
     "output_type": "execute_result"
    }
   ],
   "source": [
    "function sistema(var)\n",
    "\n",
    "    f = similar(var)\n",
    "\n",
    "    x = var[1]\n",
    "    y = var[2]\n",
    "\n",
    "    f[1] = x^2 + y^2 - 2\n",
    "    f[2] = x*y\n",
    "\n",
    "    return f    \n",
    "end"
   ]
  },
  {
   "cell_type": "code",
   "execution_count": 72,
   "metadata": {},
   "outputs": [
    {
     "data": {
      "text/plain": [
       "2×2 Array{Float64,2}:\n",
       " 4.0  4.0\n",
       " 2.0  2.0"
      ]
     },
     "execution_count": 72,
     "metadata": {},
     "output_type": "execute_result"
    }
   ],
   "source": [
    "ForwardDiff.jacobian(sistema,[2.0,2.0])"
   ]
  },
  {
   "cell_type": "markdown",
   "metadata": {},
   "source": [
    "### 9.1 Integración"
   ]
  },
  {
   "cell_type": "markdown",
   "metadata": {},
   "source": [
    "*Ideas Básicas:* En muchas aplicaciones económicas es necesario calcular la integral definida de una función $f(x)$ con respecto a una función de ponderadores $w(x)$ sobre el intervalo $I$ en $R^n$.\n",
    "\n",
    "$$\\int_I f(x)w(x)dx$$\n",
    "\n",
    "En algunos casos la función de ponderadores podría ser la unidad, $w(x)=1$, de tal manera que la integral representa el área bajo la función $f(x)$. En otras aplicaciones, $w(x)$ podría ser una función de densidad de tal manera que la integral representa $E[f(x)]$.\n",
    "\n",
    "Los métodos conocidos como cuadraturas aproximan la integral de la función con una suma ponderada de valores de la función:\n",
    "\n",
    "$$\\int_I f(x)w(x)dx \\approx \\sum^{n}_{i=0}w_if(x_i)$$\n",
    "\n",
    "La elección de los ponderadores $w_i$ y de los nodos $x_i$ definen el método.\n",
    "\n",
    "- Newton-Cotes: Usa polinomios para aproximar la función entre los nodos.\n",
    "- Cuadraturas Gausianas: Elige los ponderadores y los nodos (puntos en $x$) de manera de machear ciertos momentos.\n",
    "- Monte Carlo: Usa ponderadores aleatorios y nodos equidistribuidos.\n",
    "\n",
    "Para ganar intuición vamos a analizar sólo dos versiones simples de las cuadraturas de Newton-Cotes para una función univariada.\n",
    "\n",
    "**Newton-Cotes**\n",
    "\n",
    "Buscamos calcular: $$\\int_a^b f(x) dx$$"
   ]
  },
  {
   "cell_type": "markdown",
   "metadata": {},
   "source": [
    "- Regla basadas en trapezoides: \n",
    "    - $x_i = a + i \\times h$ con $h=(b-a)/n$ e $i=0,..,n$.\n",
    "    - En el subintervalo $[x_i,x_{i+1}]$ aproximar: $$\\int_{x_i}^{x_{i+1}} f(x) dx \\approx \\frac{h}{2}[f(x_i)+f(x_{i+1})]$$\n",
    "    - Sumando las subareas: $$\\int_a^b f(x)dx \\approx \\sum^{n}_{i=0}w_if(x_i)$$\n",
    "    con $w_1=w_n=h/2$ y $w_i$.\n",
    "    ![](https://upload.wikimedia.org/wikipedia/commons/thumb/0/03/Integration_trapezoid.svg/300px-Integration_trapezoid.svg.png)"
   ]
  },
  {
   "cell_type": "code",
   "execution_count": 73,
   "metadata": {},
   "outputs": [
    {
     "data": {
      "text/plain": [
       "integral_trapezoide (generic function with 1 method)"
      ]
     },
     "execution_count": 73,
     "metadata": {},
     "output_type": "execute_result"
    }
   ],
   "source": [
    "function integral_trapezoide(fun,x,n)\n",
    "   \n",
    "    a = x[1]\n",
    "    b = x[2]\n",
    "    \n",
    "    h = (b-a)/n\n",
    "    i = collect(range(0,stop=n,length=n+1))\n",
    "    x = a*ones(n+1) + i*h\n",
    "    \n",
    "    y = map(fun, x)\n",
    "    \n",
    "    return 0.5 * h * (2 * sum(y[2:length(y)-1])+y[1]+y[length(y)])\n",
    "end"
   ]
  },
  {
   "cell_type": "code",
   "execution_count": 74,
   "metadata": {},
   "outputs": [
    {
     "data": {
      "text/plain": [
       "1.0000000000000002"
      ]
     },
     "execution_count": 74,
     "metadata": {},
     "output_type": "execute_result"
    }
   ],
   "source": [
    "f(x)=2*x\n",
    "int_res = integral_trapezoide(f,[0,1],10)"
   ]
  },
  {
   "cell_type": "markdown",
   "metadata": {},
   "source": [
    "- Regla de Simpson:\n",
    "    - $x_i = a + i \\times h$ con $h=(b-a)/n$ e $i=0,..,n$.\n",
    "    - En el par de subintervalos $[x_{2j-1},x_{2j}]$ y $[x_{2j},x_{2j+1}]$ el área bajo la función cuadrática aproximada que pasa por esos tres puntos es: $$\\int_{x_{2j-1}}^{x_{2j+1}} f(x) dx \\approx \\frac{h}{3}[f(x_{2j-1})+4f(x_{2j})+f(x_{2j+1}]$$\n",
    "    - Sumando las subareas: $$\\int_a^b f(x)dx \\approx \\sum^{n}_{i=0}w_if(x_i)$$\n",
    "    con $w_1=w_n=h/3$, $w_4h/3$ para $i$ para y $w_i=2h/3$ para $i$ impar.\n",
    "    ![](https://upload.wikimedia.org/wikipedia/commons/thumb/1/13/Integration_simpson.svg/300px-Integration_simpson.svg.png)"
   ]
  },
  {
   "cell_type": "code",
   "execution_count": 75,
   "metadata": {},
   "outputs": [],
   "source": [
    "using LinearAlgebra"
   ]
  },
  {
   "cell_type": "code",
   "execution_count": 76,
   "metadata": {},
   "outputs": [
    {
     "data": {
      "text/plain": [
       "integral_simpson (generic function with 1 method)"
      ]
     },
     "execution_count": 76,
     "metadata": {},
     "output_type": "execute_result"
    }
   ],
   "source": [
    "function integral_simpson(fun,x,n)\n",
    "   \n",
    "    a = x[1]\n",
    "    b = x[2]\n",
    "    \n",
    "    h = (b-a)/n\n",
    "    i = collect(range(0,stop=n,length=n+1))\n",
    "    x = a*ones(n+1) + i*h\n",
    "    \n",
    "    y = map(fun, x)\n",
    "    \n",
    "    return h/3 * (2.0 * dot((ones(length(y)-2)+rem.(1:length(y)-2,2)),(y[2:(length(y)-1)])) +y[1]+y[length(y)])\n",
    "end"
   ]
  },
  {
   "cell_type": "code",
   "execution_count": 77,
   "metadata": {},
   "outputs": [
    {
     "data": {
      "text/plain": [
       "1.0"
      ]
     },
     "execution_count": 77,
     "metadata": {},
     "output_type": "execute_result"
    }
   ],
   "source": [
    "f(x)=2*x\n",
    "int_res = integral_simpson(f,[0,1],10)"
   ]
  },
  {
   "cell_type": "markdown",
   "metadata": {},
   "source": [
    "#### QuadGK\n",
    "\n",
    "Existen varios paquetes desarrollado en Julia para implementar algoritmos de integración numérica. Uno de ellos es  **QuadGK**, el cual implementa diferentes versiones de [Cuadraturas Gausianas](https://en.wikipedia.org/wiki/Gaussian_quadrature) para aproximar la integral. Existen tres funciones disponibles en este paqueta: `QuadGK.quadgk()`, `QuadGK.gauss()` y `QuadGK.kronrod()`. La sintaxis general es:\n",
    "\n",
    "```julia\n",
    "(int,err) = QuadGK.quadgk(f, xmin, xmax)\n",
    "(int,err) = QuadGK.gauss(f, xmin, xmax)\n",
    "(int,err) = QuadGK.kronrod(f, xmin, xmax)\n",
    "```\n",
    "\n",
    "El resultado es un par de la forma $(int,err)$, donde $int$ es la integral calculada numéricamente y $err$ es la cota superior del error absoluto.\n",
    "\n",
    "La desventaja de `QuadGK()` es que solo permite integrar funciones de una dimensión."
   ]
  },
  {
   "cell_type": "code",
   "execution_count": 78,
   "metadata": {},
   "outputs": [],
   "source": [
    "using QuadGK"
   ]
  },
  {
   "cell_type": "code",
   "execution_count": 79,
   "metadata": {},
   "outputs": [
    {
     "data": {
      "text/plain": [
       "(1.0, 0.0)"
      ]
     },
     "execution_count": 79,
     "metadata": {},
     "output_type": "execute_result"
    }
   ],
   "source": [
    "f(x) = 2*x\n",
    "int_res, err_res = quadgk(f, 0.0, 1.0)"
   ]
  },
  {
   "cell_type": "code",
   "execution_count": 80,
   "metadata": {},
   "outputs": [
    {
     "data": {
      "text/plain": [
       "(-1.5039074657240442e-16, 1.1477450933278502e-20)"
      ]
     },
     "execution_count": 80,
     "metadata": {},
     "output_type": "execute_result"
    }
   ],
   "source": [
    "ff(x) = x*exp(-x^2)\n",
    "int_res, err_res = quadgk(ff, -Inf, Inf)"
   ]
  },
  {
   "cell_type": "markdown",
   "metadata": {},
   "source": [
    "#### Cubature\n",
    "\n",
    "Otra alternativa es **Cubature**. Este paquete está bastante desarrollado y permite aproximar integrales tanto en una como en múltiples dimensiones. La característica más importante del paquete es que el algoritmo usado usa la idea de integración adaptativa, la cual significa que el algoritmo se irá adaptando usando un número creciente de puntos hasta conseguir convergencia en términos de error tolerado de aproximación. Cubature usa dos enfoques que difieren en la forma en que ellos obtienen convergencia: `h-adaptivity` y `p-adaptativity`. El primer enfoque (h) debiera ser aplicado cuando se sabe poco respecto de la función a integrar, mientras que el segundo (p) debiera ser usado con funciones bien comportadas y con un número pequeño de dimensiones.\n",
    "\n",
    "La sintaxis de similar a la usada con quadgk:\n",
    "\n",
    "```julia\n",
    "(int,err) = hquadrature(f, xmin, xmax)\n",
    "(int,err) = pquadrature(f, xmin, xmax)\n",
    "```\n",
    "\n",
    "Usemos nuevamente el ejemplo de integrar $f(x)=2x$ en el intervalo $[0,1]$:"
   ]
  },
  {
   "cell_type": "code",
   "execution_count": 81,
   "metadata": {},
   "outputs": [],
   "source": [
    "using Cubature"
   ]
  },
  {
   "cell_type": "code",
   "execution_count": 82,
   "metadata": {},
   "outputs": [
    {
     "data": {
      "text/plain": [
       "(1.0, 1.1102230246251565e-14)"
      ]
     },
     "execution_count": 82,
     "metadata": {},
     "output_type": "execute_result"
    }
   ],
   "source": [
    "f(x) = 2*x\n",
    "int, err = hquadrature(f, 0.0, 1.0)"
   ]
  },
  {
   "cell_type": "markdown",
   "metadata": {},
   "source": [
    "Cubature también permite calcular integrales múltiples. En particular, permite integrar una función $f(x)$ con $x \\in R^n$ sobre una *caja multidimensional* en la cual cada coordenada $x_i$ está definida en un intervalos $[x_{i,min},x_{i,max}]$. La sintaxis es:\n",
    "\n",
    "```julia\n",
    "(int,err) = hcubature(f, xmin, xmax)\n",
    "(int,err) = pcubature(f, xmin, xmax)\n",
    "```\n",
    "\n",
    "Los argumentos son:\n",
    "\n",
    "- `f` es una función del vector `x` y retorna un valor real..\n",
    "- `xmin` and `xmax` son Arreglos o Tuplas (o cualquier iterable) que especifican los límites `xmin[i]` y `xmax[i]` para todas las coordenadas. \n",
    "\n",
    "Nota: Al igual que antes, Cubature solo permite integrar bajo límites finitos.\n",
    "\n",
    "Ejemplo:\n",
    "\n",
    "$$\\int^{1}_{0} \\int^{1}_{0} f(x,y) dx dy$$\n",
    "\n",
    "donde: $$f(x,y) = x^3 y$$"
   ]
  },
  {
   "cell_type": "code",
   "execution_count": 83,
   "metadata": {},
   "outputs": [
    {
     "data": {
      "text/plain": [
       "funxy (generic function with 1 method)"
      ]
     },
     "execution_count": 83,
     "metadata": {},
     "output_type": "execute_result"
    }
   ],
   "source": [
    "funxy(x) =  x[1]^3*x[2]"
   ]
  },
  {
   "cell_type": "code",
   "execution_count": 84,
   "metadata": {},
   "outputs": [
    {
     "data": {
      "text/plain": [
       "(0.12499999999999999, 4.163336342344337e-17)"
      ]
     },
     "execution_count": 84,
     "metadata": {},
     "output_type": "execute_result"
    }
   ],
   "source": [
    "intm, errm = hcubature(funxy, [0,0],[1,1])"
   ]
  }
 ],
 "metadata": {
  "kernelspec": {
   "display_name": "Julia 1.4.1",
   "language": "julia",
   "name": "julia-1.4"
  },
  "language_info": {
   "file_extension": ".jl",
   "mimetype": "application/julia",
   "name": "julia",
   "version": "1.4.1"
  }
 },
 "nbformat": 4,
 "nbformat_minor": 2
}
