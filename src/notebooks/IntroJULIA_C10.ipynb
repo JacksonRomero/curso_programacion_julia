{
 "cells": [
  {
   "cell_type": "markdown",
   "metadata": {},
   "source": [
    "# Introducción a la Programación en JULIA\n",
    "## Notebook 10\n",
    "\n",
    "Mauricio Tejada\n",
    "\n",
    "ILADES - Universidad Alberto Hurtado\n",
    "\n",
    "Mayo 2019"
   ]
  },
  {
   "cell_type": "markdown",
   "metadata": {},
   "source": [
    "## Contenidos\n",
    "\n",
    "- [Ecuaciones No Lineales](#10.-Ecuaciones-No-Lineales)\n",
    "    - [Métodos Numéricos y Ecuaciones No Lineales: Ideas Básicas](#10.1-Métodos-Numéricos-y-Ecuaciones-No-Lineales:-Ideas-Básicas)\n",
    "    - [Las Funciones fzero y nlsolve](#10.2-Paquetes-Roots-y-NLsolve)"
   ]
  },
  {
   "cell_type": "markdown",
   "metadata": {},
   "source": [
    "## 10. Ecuaciones No Lineales\n",
    "\n",
    "*La exposición en esta sección sigue de cerca el capítulo 3 del libro de Miranda y Fackler.*\n",
    "\n",
    "Los problemas que envuelven sistemas de ecuaciones no lineales son muy comunes en economía. Éstos se presentan en dos formatos:\n",
    "\n",
    "- Búsqueda de raíces: $$f(x) = 0$$ con $f:R^n \\rightarrow R^n$ y $x\\in R^n$\n",
    "- Punto fijo: $$x = g(x)$$ con $g:R^n \\rightarrow R^n$ y $x\\in R^n$ \n",
    "\n",
    "Ambas formas son equivalentes: \n",
    "\n",
    "- Problema de raíces expresado como un problema de punto fijo: $$g(x) = x - f(x)$$\n",
    "- Problema de punto fijo expresado como un problema de raíces: $$f(x) = x-g(x)$$\n",
    "\n",
    "En muchas aplicaciones económicas, no es posible encontrar una solución analítica a un problema no lineal y por tanto la solución tiene que hallarse de manera numérica.\n",
    "\n",
    "Problemas:\n",
    "- Los métodos numéricos con iterativos y son sensibles a la condición inicial.\n",
    "- Los sistemas no lineales pueden tener más de una solución.\n",
    "\n",
    "Vamos a analizar métodos que no usan derivadas (método de bisección y método de iteración de la función) y métodos de usan derivadas (Método de Newton y Método de quasi-Newton). \n",
    "\n",
    "Existen métodos más sofisticados basados en los métodos mencionados y sólo realizaremos una descripción escueta."
   ]
  },
  {
   "cell_type": "markdown",
   "metadata": {},
   "source": [
    "### 10.1 Métodos Numéricos y Ecuaciones No Lineales: Ideas Básicas"
   ]
  },
  {
   "cell_type": "markdown",
   "metadata": {},
   "source": [
    "#### Método de Bisección\n",
    "\n",
    "Es el método más simple y robusto para hallar la raíz de una función no lineal definida en $R$ en el intervalo $[a,b]$.\n",
    "\n",
    "Buscamos resolver: $$f(x)=0$$ con $f:R \\rightarrow R$.\n",
    "\n",
    "Es un método iterativo que evalúa el signo en los puntos extremos y en el punto medio del intervalo y en función de ello reduce el intervalo de búsqueda. Repite este proceso hasta que el intervalos resultante sea menor que un nivel de tolerancia.\n",
    "\n",
    "![](https://upload.wikimedia.org/wikipedia/commons/thumb/c/c2/Bisection_method.png/250px-Bisection_method.png)\n",
    "<center>Fuente: Wikipedia.</center>\n",
    "\n",
    "Requerimientos: La solución debe estar contenida en $[a,b]$ y la función debe ser continua en el intervalo. \n",
    "\n",
    "La siguiente función implementa el método de Bisección:"
   ]
  },
  {
   "cell_type": "code",
   "execution_count": 1,
   "metadata": {},
   "outputs": [
    {
     "data": {
      "text/plain": [
       "bisect"
      ]
     },
     "execution_count": 1,
     "metadata": {},
     "output_type": "execute_result"
    }
   ],
   "source": [
    "\"\"\"\n",
    "**bisection** implementa el Método de Bisección\n",
    "\n",
    "Uso: `root = bisect(f,a,b)`\n",
    "\"\"\"\n",
    "function bisect(f,a,b)\n",
    "\n",
    "    if f(a)*f(b)>0 \n",
    "        error(\"La función debe ser de signo distinto en los extremos\")\n",
    "    else\n",
    "        tol = 1.5e-8;\n",
    "\n",
    "        s = sign(f(a))\n",
    "        x = (a+b)/2\n",
    "        d = (b-a)/2\n",
    "\n",
    "        while d>tol\n",
    "            d = d/2\n",
    "            if s == sign(f(x))\n",
    "                x = x+d\n",
    "            else\n",
    "                x = x-d\n",
    "            end\n",
    "        end\n",
    "        root = x\n",
    "    end\n",
    "\n",
    "return root\n",
    "    \n",
    "end"
   ]
  },
  {
   "cell_type": "markdown",
   "metadata": {},
   "source": [
    "Para probar el método creamos la siguiente función $f(x) = x^3 -2$ (sabemos que la raíz es $2^{1/3}$):"
   ]
  },
  {
   "cell_type": "code",
   "execution_count": 2,
   "metadata": {},
   "outputs": [
    {
     "data": {
      "text/plain": [
       "ff (generic function with 1 method)"
      ]
     },
     "execution_count": 2,
     "metadata": {},
     "output_type": "execute_result"
    }
   ],
   "source": [
    "function ff(x)\n",
    "    return x^3-2\n",
    "end"
   ]
  },
  {
   "cell_type": "markdown",
   "metadata": {},
   "source": [
    "Buscamos la raíz en el intervalos $[1,2]$."
   ]
  },
  {
   "cell_type": "code",
   "execution_count": 3,
   "metadata": {},
   "outputs": [
    {
     "name": "stdout",
     "output_type": "stream",
     "text": [
      "1.259921059012413"
     ]
    }
   ],
   "source": [
    "x = bisect(ff,1,2)\n",
    "print(x)"
   ]
  },
  {
   "cell_type": "markdown",
   "metadata": {},
   "source": [
    "#### Iteración de la Función\n",
    "\n",
    "El método de iteración de la función es un técnica iterativa usada para encontrar un punto fijo $x=g(x)$ con $g:R^n \\rightarrow R^n$. Este método también puede ser aplicado al problema de búsqueda de raíces usando la transformación apropiada (ver más arriba).\n",
    "\n",
    "La iteración se inicia con una conjetura inicia $x^(0)$ para el punto fijo y se la actualiza usando la siguiente regla: \n",
    "\n",
    "$$x^{(k+1)} \\leftarrow g(x^{(k)})$$ \n",
    "\n",
    "Este proceso continúa iterando hasta que $g(x^{(k)})$ se \"suficientemente\" cercano a $x^{(k+1)}$.\n",
    "\n",
    "La convergencia está garantizada si:\n",
    "\n",
    "- $g$ es diferenciable.\n",
    "- la conjetura inicial $x^{(0)}$ está suficientemente cerca del punto fijo $x^*$.\n",
    "- $||g'(x^*)||<1$.\n",
    "\n",
    "La siguiente figura ilustra la iteración de una función en $R$:\n",
    "\n",
    "![](figs/fpi_miranda_fackler.png)\n",
    "<center>Fuente: Miranda y Fackler (2002)</center>\n",
    "\n",
    "La siguiente función implementa el método de iteración de la función:"
   ]
  },
  {
   "cell_type": "code",
   "execution_count": 4,
   "metadata": {},
   "outputs": [],
   "source": [
    "using LinearAlgebra"
   ]
  },
  {
   "cell_type": "code",
   "execution_count": 5,
   "metadata": {},
   "outputs": [
    {
     "data": {
      "text/plain": [
       "fixpoint (generic function with 1 method)"
      ]
     },
     "execution_count": 5,
     "metadata": {},
     "output_type": "execute_result"
    }
   ],
   "source": [
    "\"\"\"\n",
    "**fixpoint** implementa el Método de Iteración de la Función\n",
    "\n",
    "Uso: `[x, gval] = fixpoint(f,x0)`\n",
    "\"\"\"\n",
    "\n",
    "function fixpoint(g,x0)\n",
    "    \n",
    "    tol     = 1.5e-8\n",
    "    maxiter = 1000    \n",
    "\n",
    "    x = x0\n",
    "    iter = 0\n",
    "\n",
    "    for i in 1:maxiter \n",
    "       iter = i\n",
    "       gval = g(x)\n",
    "       if norm(gval-x)<tol\n",
    "           return x, gval\n",
    "       end \n",
    "       x = gval;\n",
    "    end\n",
    "\n",
    "    if iter == maxiter\n",
    "        println(\"No se obtuvo convergencia\")\n",
    "    end\n",
    "\n",
    "end"
   ]
  },
  {
   "cell_type": "markdown",
   "metadata": {},
   "source": [
    "Para probar el método creamos la siguiente función:"
   ]
  },
  {
   "cell_type": "code",
   "execution_count": 6,
   "metadata": {},
   "outputs": [
    {
     "data": {
      "text/plain": [
       "gg (generic function with 1 method)"
      ]
     },
     "execution_count": 6,
     "metadata": {},
     "output_type": "execute_result"
    }
   ],
   "source": [
    "gg(x) = x^0.5"
   ]
  },
  {
   "cell_type": "markdown",
   "metadata": {},
   "source": [
    "Buscamos el punto fijo partiendo de una conjetura de $x=4$ (sabemos que el punto fijo es 1)."
   ]
  },
  {
   "cell_type": "code",
   "execution_count": 7,
   "metadata": {},
   "outputs": [
    {
     "name": "stdout",
     "output_type": "stream",
     "text": [
      "1.000000020657396\n",
      "1.000000010328698\n"
     ]
    }
   ],
   "source": [
    "(xstar, gx) = fixpoint(gg,4)\n",
    "println(xstar)\n",
    "println(gx)"
   ]
  },
  {
   "cell_type": "markdown",
   "metadata": {},
   "source": [
    "#### El Método de Newton\n",
    "\n",
    "En la práctica muchos problemas se resuelven usando el método de Newton o variaciones de él. De hecho las funciones de Matlab para realizar ésta tarea usan justamente variaciones del método de Newton.\n",
    "\n",
    "El método de Newton se basa en el principio de linelización sucesiva. Así, problemas no lineales son reemplazados por una secuencia de problemas lineales cuyas soluciones convergen a la solución del problema original. \n",
    "\n",
    "Este método puede ser aplicado tanto a problemas de búsqueda de raíz como problemas de punto fijo. En el último caso debe aplicarse la transformación apropiada (ver más arriba).\n",
    "\n",
    "El método es iterativo y empieza con una conjetura inicial $x^{(0)}$ para la raíz del problema. La actualización desde $x^{(k)}$ a $x^{(k+1)}$ ocurre resolviendo un problema de búsqueda de raíces lineal. Aplicando la aproximación de Taylor de primer orden:\n",
    "\n",
    "$$f(x) \\approx f(x^{(k)}) + f'(x^{(k)})(x-x^{(k)}) = 0$$\n",
    "\n",
    "Por tanto:\n",
    "\n",
    "$$ x^{(k+1)} \\leftarrow x^{(k)} - [f'(x^{(k)})]^{-1} f(x^{(k)})$$\n",
    "\n",
    "La iteración concluye cuando $x^{(k)}$ se \"suficientemente\" cercano a $x^{(k+1)}$.\n",
    "\n",
    "La convergencia está garantizada si:\n",
    "- $f$ es continuamente derivable.\n",
    "- La conjetura inicial $x^{(0)}$ está suficientemente cerca de la raíz $x^*$.\n",
    "- $f'$ es invertible.\n",
    "\n",
    "La siguiente figura ilustra la iteración de una función en $R$:\n",
    "\n",
    "![](figs/newton_miranda_fackler.png)\n",
    "<center>Fuente: Miranda y Fackler (2002)</center>\n",
    "\n",
    "La siguiente función implementa el método de Newton:"
   ]
  },
  {
   "cell_type": "code",
   "execution_count": 8,
   "metadata": {},
   "outputs": [
    {
     "data": {
      "text/plain": [
       "newton (generic function with 1 method)"
      ]
     },
     "execution_count": 8,
     "metadata": {},
     "output_type": "execute_result"
    }
   ],
   "source": [
    "\"\"\"\n",
    "**newton** implementa el Método de Newton\n",
    "    \n",
    "Uso: `x = newton(f,x0)`\n",
    "\"\"\"\n",
    "\n",
    "function newton(f,x0; tol = 1.5e-8, maxiter = 1000)       \n",
    "\n",
    "    x = x0\n",
    "    iter = 0\n",
    "\n",
    "    for i in 1:maxiter\n",
    "        iter = i\n",
    "        (fval, fjac) = f(x)\n",
    "        x = x - fjac\\fval\n",
    "        if norm(fval) < tol\n",
    "            break\n",
    "        end\n",
    "    end\n",
    "\n",
    "    if iter == maxiter\n",
    "        println(\"No se obtuvo convergencia\")\n",
    "    end\n",
    "\n",
    "    return x\n",
    "end"
   ]
  },
  {
   "cell_type": "markdown",
   "metadata": {},
   "source": [
    "Para probar el método usemos la función ya creada $f(x) = x^3 - 2$ y buscamos la raíz partiendo de la conjetura $x=1$. Note que la primera derivada es necesaria por lo que la función creada debe contener ambos la función matemática y su derivada como *outputs*."
   ]
  },
  {
   "cell_type": "code",
   "execution_count": 9,
   "metadata": {},
   "outputs": [
    {
     "data": {
      "text/plain": [
       "ff2 (generic function with 1 method)"
      ]
     },
     "execution_count": 9,
     "metadata": {},
     "output_type": "execute_result"
    }
   ],
   "source": [
    "function ff2(x)\n",
    "\n",
    "    fval = x^3-2\n",
    "    fjac = 3*x^2\n",
    "    \n",
    "    return fval, fjac\n",
    "\n",
    "end"
   ]
  },
  {
   "cell_type": "code",
   "execution_count": 10,
   "metadata": {},
   "outputs": [
    {
     "name": "stdout",
     "output_type": "stream",
     "text": [
      "1.2599210498948732\n"
     ]
    }
   ],
   "source": [
    "x = newton(ff2,1)\n",
    "println(x)"
   ]
  },
  {
   "cell_type": "markdown",
   "metadata": {},
   "source": [
    "#### El Método de Quasi-Newton\n",
    "\n",
    "El problema del método de Newton es que requiere la matriz Jacobiana para realizar la linealización. En muchos problemas es difícil encontrar dicha matriz.\n",
    "\n",
    "El Método de Quasi-Newton sigue la misma lógica que el método de Newton pero reemplaza la matriz Jacobiana por una aproximación fácil de computar. \n",
    "\n",
    "El costo viene asociado a que es más lento en converger y requiere de una aproximación inicial a la matriz Jacobiana. \n",
    "\n",
    "*Método de la Secante*\n",
    "\n",
    "El *Método de la Secante* es el método de Quasi-Newton univariado más usado. La idea es reemplazar la derivada con una aproximación construida con los valores de la iteración anterior. La regla de actualización sería entonces:\n",
    "\n",
    "$$ x^{(k+1)} \\leftarrow x^{(k)} - \\frac{x^{(k)}-x^{(k-1)}}{f(x^{(k)})-f(x^{(k-1)})} f(x^{(k)})$$\n",
    "\n",
    "La siguiente función implementa el método de la secante:"
   ]
  },
  {
   "cell_type": "code",
   "execution_count": 11,
   "metadata": {},
   "outputs": [
    {
     "data": {
      "text/plain": [
       "secante (generic function with 1 method)"
      ]
     },
     "execution_count": 11,
     "metadata": {},
     "output_type": "execute_result"
    }
   ],
   "source": [
    "\"\"\"\n",
    "**secante** implementa el Método de la Secante\n",
    "\n",
    "Uso: `x = secante(f,x0)`\n",
    "\"\"\"\n",
    "\n",
    "function secante(f,x0; tol = 1.5e-8, maxiter = 1000)\n",
    "  \n",
    "    x1 = 0.5*x0\n",
    "    iter = 0    \n",
    "\n",
    "    for i in 1:maxiter\n",
    "        iter = i    \n",
    "        fval0 = f(x0)\n",
    "        fval1 = f(x1)\n",
    "        x = x1 - ((x1-x0)/(fval1-fval0))*fval1\n",
    "        if abs(fval1) < tol\n",
    "            break\n",
    "        end\n",
    "        x0 = x1\n",
    "        x1 = x\n",
    "    end\n",
    "\n",
    "    if iter == maxiter\n",
    "        println(\"No se obtuvo convergencia\")\n",
    "    end\n",
    "\n",
    "    return x\n",
    "end"
   ]
  },
  {
   "cell_type": "markdown",
   "metadata": {},
   "source": [
    "Para probar el método usemos la función:"
   ]
  },
  {
   "cell_type": "code",
   "execution_count": 12,
   "metadata": {},
   "outputs": [
    {
     "data": {
      "text/plain": [
       "ff (generic function with 1 method)"
      ]
     },
     "execution_count": 12,
     "metadata": {},
     "output_type": "execute_result"
    }
   ],
   "source": [
    "function ff(x)\n",
    "    return x^3-2\n",
    "end"
   ]
  },
  {
   "cell_type": "markdown",
   "metadata": {},
   "source": [
    "Buscamos la raíz conjeturando $x=1$."
   ]
  },
  {
   "cell_type": "code",
   "execution_count": 13,
   "metadata": {},
   "outputs": [
    {
     "name": "stdout",
     "output_type": "stream",
     "text": [
      "1.2599210498948732\n"
     ]
    }
   ],
   "source": [
    "xsol = secante(ff,1)\n",
    "println(xsol)"
   ]
  },
  {
   "cell_type": "markdown",
   "metadata": {},
   "source": [
    "*Método de Broyden*\n",
    "\n",
    "El *Método de Broyden* es el método de Quasi-Newton multivariado más usado. El método parte con una conjetura inicial para la raíz $x^{(0)}$ y para la matriz Jacobiana $A^{(0)}$. Las ecuaciones de actualización son para la raíz:\n",
    "\n",
    "$$f(x) \\approx f(x^{(k)}) + A^{(k)}(x-x^{(k)}) = 0$$\n",
    "\n",
    "$$ x^{(k+1)} \\leftarrow x^{(k)} - [A^{(k)}]^{-1} f(x^{(k)})$$\n",
    "\n",
    "y para la matriz jacobiana:\n",
    "    \n",
    "$$f(x^{(k+1)}) - f(x^{(k)}) = A^{(k)}(x^{(k+1)} - x^{(k)})$$\n",
    "\n",
    "$$A^{(k+1)} \\leftarrow A^{(k)} + \\left[f(x^{(k+1)}) - f(x^{(k)}) - A^{(k)}d^{(k)}\\right] \\frac{d^{(k)}`}{d^{(k)}` d^{(k)}}$$\n",
    "\n",
    "con $d^{(k)} = x^{(k+1)}-x^{(k)}$.\n",
    "\n",
    "En lugar de implomentar ese método (y otros) usaremos paquetes (más eficientes) escritos en Julia. "
   ]
  },
  {
   "cell_type": "markdown",
   "metadata": {},
   "source": [
    "\n",
    "### 10.2 Paquetes Roots y NLsolve"
   ]
  },
  {
   "cell_type": "markdown",
   "metadata": {},
   "source": [
    "Julia cuenta dos paquetes diseñados para lidiar con problemas no lineales: (1) **Roots** y (2) **NLsolve**.\n",
    "\n",
    "**Roots**\n",
    "\n",
    "El paquete Roots contiene la función `fzero` para buscar la raíz de una función definida en los reales. Usa una combinación de métodos entre los cuales se encuentra los de bisección y el de la secante.\n",
    "\n",
    "La sintaxis de esta función es:\n",
    "\n",
    "`x = fzero(fun,x0,opciones)`\n",
    "\n",
    "donde `fun` es una función definida en $R$ y `x0` es la conjetura inicial. \n",
    "\n",
    "- Si se provee un intervalo de búsqueda de la forma `fzero(fun,a,b)` Julia usara Bisección).\n",
    "- Entre las opciones se puede usar por ejemplo `xatol=1e-7` para definir la tolerancia en la solución.\n",
    "- También entre las opciones se puede definir el método, por ejemplo con `order=:secant` se define el uso del método de la secante.\n",
    "- Si además de la función proveemos la derivada, de la forma `fzero(fun,dfun,x0)` Julia utilizará el método de Newton. \n",
    "\n",
    "El resultado es `x` la raíz."
   ]
  },
  {
   "cell_type": "code",
   "execution_count": 14,
   "metadata": {},
   "outputs": [
    {
     "name": "stderr",
     "output_type": "stream",
     "text": [
      "┌ Info: Precompiling Roots [f2b01f46-fcfa-551c-844a-d8ac1e96c665]\n",
      "└ @ Base loading.jl:1260\n"
     ]
    }
   ],
   "source": [
    "using Roots\n",
    "using Plots"
   ]
  },
  {
   "cell_type": "code",
   "execution_count": 15,
   "metadata": {},
   "outputs": [
    {
     "data": {
      "text/plain": [
       "f (generic function with 1 method)"
      ]
     },
     "execution_count": 15,
     "metadata": {},
     "output_type": "execute_result"
    }
   ],
   "source": [
    "f(x) = exp(x) - x^4"
   ]
  },
  {
   "cell_type": "code",
   "execution_count": 16,
   "metadata": {},
   "outputs": [
    {
     "data": {
      "image/svg+xml": [
       "<?xml version=\"1.0\" encoding=\"utf-8\"?>\n",
       "<svg xmlns=\"http://www.w3.org/2000/svg\" xmlns:xlink=\"http://www.w3.org/1999/xlink\" width=\"600\" height=\"400\" viewBox=\"0 0 2400 1600\">\n",
       "<defs>\n",
       "  <clipPath id=\"clip900\">\n",
       "    <rect x=\"0\" y=\"0\" width=\"2400\" height=\"1600\"/>\n",
       "  </clipPath>\n",
       "</defs>\n",
       "<path clip-path=\"url(#clip900)\" d=\"\n",
       "M0 1600 L2400 1600 L2400 0 L0 0  Z\n",
       "  \" fill=\"#ffffff\" fill-rule=\"evenodd\" fill-opacity=\"1\"/>\n",
       "<defs>\n",
       "  <clipPath id=\"clip901\">\n",
       "    <rect x=\"480\" y=\"0\" width=\"1681\" height=\"1600\"/>\n",
       "  </clipPath>\n",
       "</defs>\n",
       "<path clip-path=\"url(#clip900)\" d=\"\n",
       "M217.251 1423.18 L2352.76 1423.18 L2352.76 47.2441 L217.251 47.2441  Z\n",
       "  \" fill=\"#ffffff\" fill-rule=\"evenodd\" fill-opacity=\"1\"/>\n",
       "<defs>\n",
       "  <clipPath id=\"clip902\">\n",
       "    <rect x=\"217\" y=\"47\" width=\"2137\" height=\"1377\"/>\n",
       "  </clipPath>\n",
       "</defs>\n",
       "<polyline clip-path=\"url(#clip902)\" style=\"stroke:#000000; stroke-width:2; stroke-opacity:0.1; fill:none\" points=\"\n",
       "  277.689,1423.18 277.689,47.2441 \n",
       "  \"/>\n",
       "<polyline clip-path=\"url(#clip902)\" style=\"stroke:#000000; stroke-width:2; stroke-opacity:0.1; fill:none\" points=\"\n",
       "  781.346,1423.18 781.346,47.2441 \n",
       "  \"/>\n",
       "<polyline clip-path=\"url(#clip902)\" style=\"stroke:#000000; stroke-width:2; stroke-opacity:0.1; fill:none\" points=\"\n",
       "  1285,1423.18 1285,47.2441 \n",
       "  \"/>\n",
       "<polyline clip-path=\"url(#clip902)\" style=\"stroke:#000000; stroke-width:2; stroke-opacity:0.1; fill:none\" points=\"\n",
       "  1788.66,1423.18 1788.66,47.2441 \n",
       "  \"/>\n",
       "<polyline clip-path=\"url(#clip902)\" style=\"stroke:#000000; stroke-width:2; stroke-opacity:0.1; fill:none\" points=\"\n",
       "  2292.32,1423.18 2292.32,47.2441 \n",
       "  \"/>\n",
       "<polyline clip-path=\"url(#clip902)\" style=\"stroke:#000000; stroke-width:2; stroke-opacity:0.1; fill:none\" points=\"\n",
       "  217.251,1365.29 2352.76,1365.29 \n",
       "  \"/>\n",
       "<polyline clip-path=\"url(#clip902)\" style=\"stroke:#000000; stroke-width:2; stroke-opacity:0.1; fill:none\" points=\"\n",
       "  217.251,1158.04 2352.76,1158.04 \n",
       "  \"/>\n",
       "<polyline clip-path=\"url(#clip902)\" style=\"stroke:#000000; stroke-width:2; stroke-opacity:0.1; fill:none\" points=\"\n",
       "  217.251,950.79 2352.76,950.79 \n",
       "  \"/>\n",
       "<polyline clip-path=\"url(#clip902)\" style=\"stroke:#000000; stroke-width:2; stroke-opacity:0.1; fill:none\" points=\"\n",
       "  217.251,743.541 2352.76,743.541 \n",
       "  \"/>\n",
       "<polyline clip-path=\"url(#clip902)\" style=\"stroke:#000000; stroke-width:2; stroke-opacity:0.1; fill:none\" points=\"\n",
       "  217.251,536.293 2352.76,536.293 \n",
       "  \"/>\n",
       "<polyline clip-path=\"url(#clip902)\" style=\"stroke:#000000; stroke-width:2; stroke-opacity:0.1; fill:none\" points=\"\n",
       "  217.251,329.045 2352.76,329.045 \n",
       "  \"/>\n",
       "<polyline clip-path=\"url(#clip902)\" style=\"stroke:#000000; stroke-width:2; stroke-opacity:0.1; fill:none\" points=\"\n",
       "  217.251,121.797 2352.76,121.797 \n",
       "  \"/>\n",
       "<polyline clip-path=\"url(#clip900)\" style=\"stroke:#000000; stroke-width:4; stroke-opacity:1; fill:none\" points=\"\n",
       "  217.251,1423.18 2352.76,1423.18 \n",
       "  \"/>\n",
       "<polyline clip-path=\"url(#clip900)\" style=\"stroke:#000000; stroke-width:4; stroke-opacity:1; fill:none\" points=\"\n",
       "  217.251,1423.18 217.251,47.2441 \n",
       "  \"/>\n",
       "<polyline clip-path=\"url(#clip900)\" style=\"stroke:#000000; stroke-width:4; stroke-opacity:1; fill:none\" points=\"\n",
       "  277.689,1423.18 277.689,1406.67 \n",
       "  \"/>\n",
       "<polyline clip-path=\"url(#clip900)\" style=\"stroke:#000000; stroke-width:4; stroke-opacity:1; fill:none\" points=\"\n",
       "  781.346,1423.18 781.346,1406.67 \n",
       "  \"/>\n",
       "<polyline clip-path=\"url(#clip900)\" style=\"stroke:#000000; stroke-width:4; stroke-opacity:1; fill:none\" points=\"\n",
       "  1285,1423.18 1285,1406.67 \n",
       "  \"/>\n",
       "<polyline clip-path=\"url(#clip900)\" style=\"stroke:#000000; stroke-width:4; stroke-opacity:1; fill:none\" points=\"\n",
       "  1788.66,1423.18 1788.66,1406.67 \n",
       "  \"/>\n",
       "<polyline clip-path=\"url(#clip900)\" style=\"stroke:#000000; stroke-width:4; stroke-opacity:1; fill:none\" points=\"\n",
       "  2292.32,1423.18 2292.32,1406.67 \n",
       "  \"/>\n",
       "<polyline clip-path=\"url(#clip900)\" style=\"stroke:#000000; stroke-width:4; stroke-opacity:1; fill:none\" points=\"\n",
       "  217.251,1365.29 242.877,1365.29 \n",
       "  \"/>\n",
       "<polyline clip-path=\"url(#clip900)\" style=\"stroke:#000000; stroke-width:4; stroke-opacity:1; fill:none\" points=\"\n",
       "  217.251,1158.04 242.877,1158.04 \n",
       "  \"/>\n",
       "<polyline clip-path=\"url(#clip900)\" style=\"stroke:#000000; stroke-width:4; stroke-opacity:1; fill:none\" points=\"\n",
       "  217.251,950.79 242.877,950.79 \n",
       "  \"/>\n",
       "<polyline clip-path=\"url(#clip900)\" style=\"stroke:#000000; stroke-width:4; stroke-opacity:1; fill:none\" points=\"\n",
       "  217.251,743.541 242.877,743.541 \n",
       "  \"/>\n",
       "<polyline clip-path=\"url(#clip900)\" style=\"stroke:#000000; stroke-width:4; stroke-opacity:1; fill:none\" points=\"\n",
       "  217.251,536.293 242.877,536.293 \n",
       "  \"/>\n",
       "<polyline clip-path=\"url(#clip900)\" style=\"stroke:#000000; stroke-width:4; stroke-opacity:1; fill:none\" points=\"\n",
       "  217.251,329.045 242.877,329.045 \n",
       "  \"/>\n",
       "<polyline clip-path=\"url(#clip900)\" style=\"stroke:#000000; stroke-width:4; stroke-opacity:1; fill:none\" points=\"\n",
       "  217.251,121.797 242.877,121.797 \n",
       "  \"/>\n",
       "<path clip-path=\"url(#clip900)\" d=\"M 0 0 M249.588 1472.72 L257.227 1472.72 L257.227 1446.35 L248.916 1448.02 L248.916 1443.76 L257.18 1442.09 L261.856 1442.09 L261.856 1472.72 L269.495 1472.72 L269.495 1476.65 L249.588 1476.65 L249.588 1472.72 Z\" fill=\"#000000\" fill-rule=\"evenodd\" fill-opacity=\"1\" /><path clip-path=\"url(#clip900)\" d=\"M 0 0 M274.564 1470.77 L279.449 1470.77 L279.449 1476.65 L274.564 1476.65 L274.564 1470.77 Z\" fill=\"#000000\" fill-rule=\"evenodd\" fill-opacity=\"1\" /><path clip-path=\"url(#clip900)\" d=\"M 0 0 M294.518 1445.17 Q290.907 1445.17 289.078 1448.74 Q287.273 1452.28 287.273 1459.41 Q287.273 1466.51 289.078 1470.08 Q290.907 1473.62 294.518 1473.62 Q298.152 1473.62 299.958 1470.08 Q301.786 1466.51 301.786 1459.41 Q301.786 1452.28 299.958 1448.74 Q298.152 1445.17 294.518 1445.17 M294.518 1441.47 Q300.328 1441.47 303.384 1446.07 Q306.462 1450.66 306.462 1459.41 Q306.462 1468.13 303.384 1472.74 Q300.328 1477.32 294.518 1477.32 Q288.708 1477.32 285.629 1472.74 Q282.574 1468.13 282.574 1459.41 Q282.574 1450.66 285.629 1446.07 Q288.708 1441.47 294.518 1441.47 Z\" fill=\"#000000\" fill-rule=\"evenodd\" fill-opacity=\"1\" /><path clip-path=\"url(#clip900)\" d=\"M 0 0 M753.742 1472.72 L761.381 1472.72 L761.381 1446.35 L753.071 1448.02 L753.071 1443.76 L761.335 1442.09 L766.011 1442.09 L766.011 1472.72 L773.65 1472.72 L773.65 1476.65 L753.742 1476.65 L753.742 1472.72 Z\" fill=\"#000000\" fill-rule=\"evenodd\" fill-opacity=\"1\" /><path clip-path=\"url(#clip900)\" d=\"M 0 0 M778.719 1470.77 L783.603 1470.77 L783.603 1476.65 L778.719 1476.65 L778.719 1470.77 Z\" fill=\"#000000\" fill-rule=\"evenodd\" fill-opacity=\"1\" /><path clip-path=\"url(#clip900)\" d=\"M 0 0 M788.719 1442.09 L807.075 1442.09 L807.075 1446.03 L793.001 1446.03 L793.001 1454.5 Q794.02 1454.15 795.038 1453.99 Q796.057 1453.8 797.075 1453.8 Q802.862 1453.8 806.242 1456.98 Q809.622 1460.15 809.622 1465.56 Q809.622 1471.14 806.149 1474.24 Q802.677 1477.32 796.358 1477.32 Q794.182 1477.32 791.913 1476.95 Q789.668 1476.58 787.261 1475.84 L787.261 1471.14 Q789.344 1472.28 791.566 1472.83 Q793.788 1473.39 796.265 1473.39 Q800.27 1473.39 802.608 1471.28 Q804.946 1469.18 804.946 1465.56 Q804.946 1461.95 802.608 1459.85 Q800.27 1457.74 796.265 1457.74 Q794.39 1457.74 792.515 1458.16 Q790.663 1458.57 788.719 1459.45 L788.719 1442.09 Z\" fill=\"#000000\" fill-rule=\"evenodd\" fill-opacity=\"1\" /><path clip-path=\"url(#clip900)\" d=\"M 0 0 M1261.17 1472.72 L1277.49 1472.72 L1277.49 1476.65 L1255.55 1476.65 L1255.55 1472.72 Q1258.21 1469.96 1262.79 1465.33 Q1267.4 1460.68 1268.58 1459.34 Q1270.83 1456.81 1271.7 1455.08 Q1272.61 1453.32 1272.61 1451.63 Q1272.61 1448.87 1270.66 1447.14 Q1268.74 1445.4 1265.64 1445.4 Q1263.44 1445.4 1260.99 1446.17 Q1258.56 1446.93 1255.78 1448.48 L1255.78 1443.76 Q1258.6 1442.62 1261.06 1442.05 Q1263.51 1441.47 1265.55 1441.47 Q1270.92 1441.47 1274.11 1444.15 Q1277.31 1446.84 1277.31 1451.33 Q1277.31 1453.46 1276.5 1455.38 Q1275.71 1457.28 1273.6 1459.87 Q1273.02 1460.54 1269.92 1463.76 Q1266.82 1466.95 1261.17 1472.72 Z\" fill=\"#000000\" fill-rule=\"evenodd\" fill-opacity=\"1\" /><path clip-path=\"url(#clip900)\" d=\"M 0 0 M1282.56 1470.77 L1287.45 1470.77 L1287.45 1476.65 L1282.56 1476.65 L1282.56 1470.77 Z\" fill=\"#000000\" fill-rule=\"evenodd\" fill-opacity=\"1\" /><path clip-path=\"url(#clip900)\" d=\"M 0 0 M1302.51 1445.17 Q1298.9 1445.17 1297.07 1448.74 Q1295.27 1452.28 1295.27 1459.41 Q1295.27 1466.51 1297.07 1470.08 Q1298.9 1473.62 1302.51 1473.62 Q1306.15 1473.62 1307.95 1470.08 Q1309.78 1466.51 1309.78 1459.41 Q1309.78 1452.28 1307.95 1448.74 Q1306.15 1445.17 1302.51 1445.17 M1302.51 1441.47 Q1308.32 1441.47 1311.38 1446.07 Q1314.46 1450.66 1314.46 1459.41 Q1314.46 1468.13 1311.38 1472.74 Q1308.32 1477.32 1302.51 1477.32 Q1296.7 1477.32 1293.63 1472.74 Q1290.57 1468.13 1290.57 1459.41 Q1290.57 1450.66 1293.63 1446.07 Q1296.7 1441.47 1302.51 1441.47 Z\" fill=\"#000000\" fill-rule=\"evenodd\" fill-opacity=\"1\" /><path clip-path=\"url(#clip900)\" d=\"M 0 0 M1765.33 1472.72 L1781.65 1472.72 L1781.65 1476.65 L1759.7 1476.65 L1759.7 1472.72 Q1762.36 1469.96 1766.95 1465.33 Q1771.55 1460.68 1772.73 1459.34 Q1774.98 1456.81 1775.86 1455.08 Q1776.76 1453.32 1776.76 1451.63 Q1776.76 1448.87 1774.82 1447.14 Q1772.9 1445.4 1769.79 1445.4 Q1767.6 1445.4 1765.14 1446.17 Q1762.71 1446.93 1759.93 1448.48 L1759.93 1443.76 Q1762.76 1442.62 1765.21 1442.05 Q1767.66 1441.47 1769.7 1441.47 Q1775.07 1441.47 1778.27 1444.15 Q1781.46 1446.84 1781.46 1451.33 Q1781.46 1453.46 1780.65 1455.38 Q1779.86 1457.28 1777.76 1459.87 Q1777.18 1460.54 1774.08 1463.76 Q1770.98 1466.95 1765.33 1472.72 Z\" fill=\"#000000\" fill-rule=\"evenodd\" fill-opacity=\"1\" /><path clip-path=\"url(#clip900)\" d=\"M 0 0 M1786.72 1470.77 L1791.6 1470.77 L1791.6 1476.65 L1786.72 1476.65 L1786.72 1470.77 Z\" fill=\"#000000\" fill-rule=\"evenodd\" fill-opacity=\"1\" /><path clip-path=\"url(#clip900)\" d=\"M 0 0 M1796.72 1442.09 L1815.07 1442.09 L1815.07 1446.03 L1801 1446.03 L1801 1454.5 Q1802.02 1454.15 1803.04 1453.99 Q1804.05 1453.8 1805.07 1453.8 Q1810.86 1453.8 1814.24 1456.98 Q1817.62 1460.15 1817.62 1465.56 Q1817.62 1471.14 1814.15 1474.24 Q1810.67 1477.32 1804.35 1477.32 Q1802.18 1477.32 1799.91 1476.95 Q1797.66 1476.58 1795.26 1475.84 L1795.26 1471.14 Q1797.34 1472.28 1799.56 1472.83 Q1801.79 1473.39 1804.26 1473.39 Q1808.27 1473.39 1810.6 1471.28 Q1812.94 1469.18 1812.94 1465.56 Q1812.94 1461.95 1810.6 1459.85 Q1808.27 1457.74 1804.26 1457.74 Q1802.39 1457.74 1800.51 1458.16 Q1798.66 1458.57 1796.72 1459.45 L1796.72 1442.09 Z\" fill=\"#000000\" fill-rule=\"evenodd\" fill-opacity=\"1\" /><path clip-path=\"url(#clip900)\" d=\"M 0 0 M2278.08 1458.02 Q2281.44 1458.74 2283.31 1461 Q2285.21 1463.27 2285.21 1466.61 Q2285.21 1471.72 2281.69 1474.52 Q2278.17 1477.32 2271.69 1477.32 Q2269.52 1477.32 2267.2 1476.88 Q2264.91 1476.47 2262.46 1475.61 L2262.46 1471.1 Q2264.4 1472.23 2266.72 1472.81 Q2269.03 1473.39 2271.55 1473.39 Q2275.95 1473.39 2278.24 1471.65 Q2280.56 1469.92 2280.56 1466.61 Q2280.56 1463.55 2278.41 1461.84 Q2276.28 1460.1 2272.46 1460.1 L2268.43 1460.1 L2268.43 1456.26 L2272.64 1456.26 Q2276.09 1456.26 2277.92 1454.89 Q2279.75 1453.5 2279.75 1450.91 Q2279.75 1448.25 2277.85 1446.84 Q2275.97 1445.4 2272.46 1445.4 Q2270.53 1445.4 2268.34 1445.82 Q2266.14 1446.24 2263.5 1447.11 L2263.5 1442.95 Q2266.16 1442.21 2268.47 1441.84 Q2270.81 1441.47 2272.87 1441.47 Q2278.2 1441.47 2281.3 1443.9 Q2284.4 1446.3 2284.4 1450.43 Q2284.4 1453.3 2282.76 1455.29 Q2281.11 1457.25 2278.08 1458.02 Z\" fill=\"#000000\" fill-rule=\"evenodd\" fill-opacity=\"1\" /><path clip-path=\"url(#clip900)\" d=\"M 0 0 M2290.28 1470.77 L2295.16 1470.77 L2295.16 1476.65 L2290.28 1476.65 L2290.28 1470.77 Z\" fill=\"#000000\" fill-rule=\"evenodd\" fill-opacity=\"1\" /><path clip-path=\"url(#clip900)\" d=\"M 0 0 M2310.23 1445.17 Q2306.62 1445.17 2304.79 1448.74 Q2302.99 1452.28 2302.99 1459.41 Q2302.99 1466.51 2304.79 1470.08 Q2306.62 1473.62 2310.23 1473.62 Q2313.87 1473.62 2315.67 1470.08 Q2317.5 1466.51 2317.5 1459.41 Q2317.5 1452.28 2315.67 1448.74 Q2313.87 1445.17 2310.23 1445.17 M2310.23 1441.47 Q2316.04 1441.47 2319.1 1446.07 Q2322.18 1450.66 2322.18 1459.41 Q2322.18 1468.13 2319.1 1472.74 Q2316.04 1477.32 2310.23 1477.32 Q2304.42 1477.32 2301.34 1472.74 Q2298.29 1468.13 2298.29 1459.41 Q2298.29 1450.66 2301.34 1446.07 Q2304.42 1441.47 2310.23 1441.47 Z\" fill=\"#000000\" fill-rule=\"evenodd\" fill-opacity=\"1\" /><path clip-path=\"url(#clip900)\" d=\"M 0 0 M126.584 1367.68 L139.061 1367.68 L139.061 1371.48 L126.584 1371.48 L126.584 1367.68 Z\" fill=\"#000000\" fill-rule=\"evenodd\" fill-opacity=\"1\" /><path clip-path=\"url(#clip900)\" d=\"M 0 0 M154.709 1363.42 Q151.561 1363.42 149.709 1365.58 Q147.88 1367.73 147.88 1371.48 Q147.88 1375.21 149.709 1377.38 Q151.561 1379.53 154.709 1379.53 Q157.857 1379.53 159.686 1377.38 Q161.538 1375.21 161.538 1371.48 Q161.538 1367.73 159.686 1365.58 Q157.857 1363.42 154.709 1363.42 M163.991 1348.77 L163.991 1353.03 Q162.232 1352.2 160.427 1351.76 Q158.644 1351.32 156.885 1351.32 Q152.255 1351.32 149.802 1354.44 Q147.371 1357.57 147.024 1363.89 Q148.39 1361.87 150.45 1360.81 Q152.51 1359.72 154.987 1359.72 Q160.195 1359.72 163.204 1362.89 Q166.237 1366.04 166.237 1371.48 Q166.237 1376.8 163.089 1380.02 Q159.941 1383.24 154.709 1383.24 Q148.714 1383.24 145.542 1378.65 Q142.371 1374.05 142.371 1365.32 Q142.371 1357.13 146.26 1352.27 Q150.149 1347.38 156.7 1347.38 Q158.459 1347.38 160.241 1347.73 Q162.047 1348.08 163.991 1348.77 Z\" fill=\"#000000\" fill-rule=\"evenodd\" fill-opacity=\"1\" /><path clip-path=\"url(#clip900)\" d=\"M 0 0 M181.306 1351.08 Q177.695 1351.08 175.866 1354.65 Q174.061 1358.19 174.061 1365.32 Q174.061 1372.43 175.866 1375.99 Q177.695 1379.53 181.306 1379.53 Q184.94 1379.53 186.746 1375.99 Q188.575 1372.43 188.575 1365.32 Q188.575 1358.19 186.746 1354.65 Q184.94 1351.08 181.306 1351.08 M181.306 1347.38 Q187.116 1347.38 190.172 1351.99 Q193.251 1356.57 193.251 1365.32 Q193.251 1374.05 190.172 1378.65 Q187.116 1383.24 181.306 1383.24 Q175.496 1383.24 172.417 1378.65 Q169.362 1374.05 169.362 1365.32 Q169.362 1356.57 172.417 1351.99 Q175.496 1347.38 181.306 1347.38 Z\" fill=\"#000000\" fill-rule=\"evenodd\" fill-opacity=\"1\" /><path clip-path=\"url(#clip900)\" d=\"M 0 0 M127.742 1160.43 L140.218 1160.43 L140.218 1164.23 L127.742 1164.23 L127.742 1160.43 Z\" fill=\"#000000\" fill-rule=\"evenodd\" fill-opacity=\"1\" /><path clip-path=\"url(#clip900)\" d=\"M 0 0 M145.334 1140.76 L163.691 1140.76 L163.691 1144.69 L149.617 1144.69 L149.617 1153.17 Q150.635 1152.82 151.654 1152.66 Q152.672 1152.47 153.691 1152.47 Q159.478 1152.47 162.857 1155.64 Q166.237 1158.81 166.237 1164.23 Q166.237 1169.81 162.765 1172.91 Q159.292 1175.99 152.973 1175.99 Q150.797 1175.99 148.529 1175.62 Q146.283 1175.25 143.876 1174.51 L143.876 1169.81 Q145.959 1170.94 148.181 1171.5 Q150.404 1172.05 152.88 1172.05 Q156.885 1172.05 159.223 1169.95 Q161.561 1167.84 161.561 1164.23 Q161.561 1160.62 159.223 1158.51 Q156.885 1156.41 152.88 1156.41 Q151.005 1156.41 149.13 1156.82 Q147.279 1157.24 145.334 1158.12 L145.334 1140.76 Z\" fill=\"#000000\" fill-rule=\"evenodd\" fill-opacity=\"1\" /><path clip-path=\"url(#clip900)\" d=\"M 0 0 M181.306 1143.84 Q177.695 1143.84 175.866 1147.4 Q174.061 1150.94 174.061 1158.07 Q174.061 1165.18 175.866 1168.74 Q177.695 1172.29 181.306 1172.29 Q184.94 1172.29 186.746 1168.74 Q188.575 1165.18 188.575 1158.07 Q188.575 1150.94 186.746 1147.4 Q184.94 1143.84 181.306 1143.84 M181.306 1140.13 Q187.116 1140.13 190.172 1144.74 Q193.251 1149.32 193.251 1158.07 Q193.251 1166.8 190.172 1171.41 Q187.116 1175.99 181.306 1175.99 Q175.496 1175.99 172.417 1171.41 Q169.362 1166.8 169.362 1158.07 Q169.362 1149.32 172.417 1144.74 Q175.496 1140.13 181.306 1140.13 Z\" fill=\"#000000\" fill-rule=\"evenodd\" fill-opacity=\"1\" /><path clip-path=\"url(#clip900)\" d=\"M 0 0 M126.26 953.186 L138.737 953.186 L138.737 956.982 L126.26 956.982 L126.26 953.186 Z\" fill=\"#000000\" fill-rule=\"evenodd\" fill-opacity=\"1\" /><path clip-path=\"url(#clip900)\" d=\"M 0 0 M156.654 937.584 L144.848 956.033 L156.654 956.033 L156.654 937.584 M155.427 933.51 L161.306 933.51 L161.306 956.033 L166.237 956.033 L166.237 959.922 L161.306 959.922 L161.306 968.07 L156.654 968.07 L156.654 959.922 L141.052 959.922 L141.052 955.408 L155.427 933.51 Z\" fill=\"#000000\" fill-rule=\"evenodd\" fill-opacity=\"1\" /><path clip-path=\"url(#clip900)\" d=\"M 0 0 M181.306 936.588 Q177.695 936.588 175.866 940.153 Q174.061 943.695 174.061 950.824 Q174.061 957.931 175.866 961.496 Q177.695 965.037 181.306 965.037 Q184.94 965.037 186.746 961.496 Q188.575 957.931 188.575 950.824 Q188.575 943.695 186.746 940.153 Q184.94 936.588 181.306 936.588 M181.306 932.885 Q187.116 932.885 190.172 937.491 Q193.251 942.074 193.251 950.824 Q193.251 959.551 190.172 964.158 Q187.116 968.741 181.306 968.741 Q175.496 968.741 172.417 964.158 Q169.362 959.551 169.362 950.824 Q169.362 942.074 172.417 937.491 Q175.496 932.885 181.306 932.885 Z\" fill=\"#000000\" fill-rule=\"evenodd\" fill-opacity=\"1\" /><path clip-path=\"url(#clip900)\" d=\"M 0 0 M127.394 745.937 L139.871 745.937 L139.871 749.734 L127.394 749.734 L127.394 745.937 Z\" fill=\"#000000\" fill-rule=\"evenodd\" fill-opacity=\"1\" /><path clip-path=\"url(#clip900)\" d=\"M 0 0 M159.107 742.187 Q162.464 742.905 164.339 745.173 Q166.237 747.442 166.237 750.775 Q166.237 755.891 162.718 758.692 Q159.2 761.493 152.718 761.493 Q150.542 761.493 148.228 761.053 Q145.936 760.636 143.482 759.78 L143.482 755.266 Q145.427 756.4 147.742 756.979 Q150.056 757.558 152.579 757.558 Q156.978 757.558 159.269 755.821 Q161.584 754.085 161.584 750.775 Q161.584 747.72 159.431 746.007 Q157.302 744.271 153.482 744.271 L149.454 744.271 L149.454 740.428 L153.667 740.428 Q157.116 740.428 158.945 739.062 Q160.774 737.673 160.774 735.081 Q160.774 732.419 158.876 731.007 Q157.001 729.572 153.482 729.572 Q151.561 729.572 149.362 729.988 Q147.163 730.405 144.524 731.285 L144.524 727.118 Q147.186 726.377 149.501 726.007 Q151.839 725.636 153.899 725.636 Q159.223 725.636 162.325 728.067 Q165.427 730.474 165.427 734.595 Q165.427 737.465 163.783 739.456 Q162.14 741.423 159.107 742.187 Z\" fill=\"#000000\" fill-rule=\"evenodd\" fill-opacity=\"1\" /><path clip-path=\"url(#clip900)\" d=\"M 0 0 M181.306 729.34 Q177.695 729.34 175.866 732.905 Q174.061 736.447 174.061 743.576 Q174.061 750.683 175.866 754.247 Q177.695 757.789 181.306 757.789 Q184.94 757.789 186.746 754.247 Q188.575 750.683 188.575 743.576 Q188.575 736.447 186.746 732.905 Q184.94 729.34 181.306 729.34 M181.306 725.636 Q187.116 725.636 190.172 730.243 Q193.251 734.826 193.251 743.576 Q193.251 752.303 190.172 756.909 Q187.116 761.493 181.306 761.493 Q175.496 761.493 172.417 756.909 Q169.362 752.303 169.362 743.576 Q169.362 734.826 172.417 730.243 Q175.496 725.636 181.306 725.636 Z\" fill=\"#000000\" fill-rule=\"evenodd\" fill-opacity=\"1\" /><path clip-path=\"url(#clip900)\" d=\"M 0 0 M128.343 538.689 L140.82 538.689 L140.82 542.485 L128.343 542.485 L128.343 538.689 Z\" fill=\"#000000\" fill-rule=\"evenodd\" fill-opacity=\"1\" /><path clip-path=\"url(#clip900)\" d=\"M 0 0 M149.917 549.638 L166.237 549.638 L166.237 553.573 L144.292 553.573 L144.292 549.638 Q146.954 546.883 151.538 542.254 Q156.144 537.601 157.325 536.259 Q159.57 533.735 160.45 531.999 Q161.353 530.24 161.353 528.55 Q161.353 525.796 159.408 524.06 Q157.487 522.323 154.385 522.323 Q152.186 522.323 149.732 523.087 Q147.302 523.851 144.524 525.402 L144.524 520.68 Q147.348 519.546 149.802 518.967 Q152.255 518.388 154.292 518.388 Q159.663 518.388 162.857 521.073 Q166.052 523.759 166.052 528.249 Q166.052 530.379 165.241 532.3 Q164.454 534.198 162.348 536.791 Q161.769 537.462 158.667 540.68 Q155.566 543.874 149.917 549.638 Z\" fill=\"#000000\" fill-rule=\"evenodd\" fill-opacity=\"1\" /><path clip-path=\"url(#clip900)\" d=\"M 0 0 M181.306 522.092 Q177.695 522.092 175.866 525.657 Q174.061 529.198 174.061 536.328 Q174.061 543.434 175.866 546.999 Q177.695 550.541 181.306 550.541 Q184.94 550.541 186.746 546.999 Q188.575 543.434 188.575 536.328 Q188.575 529.198 186.746 525.657 Q184.94 522.092 181.306 522.092 M181.306 518.388 Q187.116 518.388 190.172 522.995 Q193.251 527.578 193.251 536.328 Q193.251 545.055 190.172 549.661 Q187.116 554.245 181.306 554.245 Q175.496 554.245 172.417 549.661 Q169.362 545.055 169.362 536.328 Q169.362 527.578 172.417 522.995 Q175.496 518.388 181.306 518.388 Z\" fill=\"#000000\" fill-rule=\"evenodd\" fill-opacity=\"1\" /><path clip-path=\"url(#clip900)\" d=\"M 0 0 M127.973 331.441 L140.45 331.441 L140.45 335.237 L127.973 335.237 L127.973 331.441 Z\" fill=\"#000000\" fill-rule=\"evenodd\" fill-opacity=\"1\" /><path clip-path=\"url(#clip900)\" d=\"M 0 0 M146.329 342.39 L153.968 342.39 L153.968 316.024 L145.658 317.691 L145.658 313.432 L153.922 311.765 L158.598 311.765 L158.598 342.39 L166.237 342.39 L166.237 346.325 L146.329 346.325 L146.329 342.39 Z\" fill=\"#000000\" fill-rule=\"evenodd\" fill-opacity=\"1\" /><path clip-path=\"url(#clip900)\" d=\"M 0 0 M181.306 314.844 Q177.695 314.844 175.866 318.408 Q174.061 321.95 174.061 329.08 Q174.061 336.186 175.866 339.751 Q177.695 343.293 181.306 343.293 Q184.94 343.293 186.746 339.751 Q188.575 336.186 188.575 329.08 Q188.575 321.95 186.746 318.408 Q184.94 314.844 181.306 314.844 M181.306 311.14 Q187.116 311.14 190.172 315.746 Q193.251 320.33 193.251 329.08 Q193.251 337.807 190.172 342.413 Q187.116 346.996 181.306 346.996 Q175.496 346.996 172.417 342.413 Q169.362 337.807 169.362 329.08 Q169.362 320.33 172.417 315.746 Q175.496 311.14 181.306 311.14 Z\" fill=\"#000000\" fill-rule=\"evenodd\" fill-opacity=\"1\" /><path clip-path=\"url(#clip900)\" d=\"M 0 0 M181.306 107.595 Q177.695 107.595 175.866 111.16 Q174.061 114.702 174.061 121.831 Q174.061 128.938 175.866 132.503 Q177.695 136.044 181.306 136.044 Q184.94 136.044 186.746 132.503 Q188.575 128.938 188.575 121.831 Q188.575 114.702 186.746 111.16 Q184.94 107.595 181.306 107.595 M181.306 103.892 Q187.116 103.892 190.172 108.498 Q193.251 113.082 193.251 121.831 Q193.251 130.558 190.172 135.165 Q187.116 139.748 181.306 139.748 Q175.496 139.748 172.417 135.165 Q169.362 130.558 169.362 121.831 Q169.362 113.082 172.417 108.498 Q175.496 103.892 181.306 103.892 Z\" fill=\"#000000\" fill-rule=\"evenodd\" fill-opacity=\"1\" /><path clip-path=\"url(#clip900)\" d=\"M 0 0 M1301.62 1520.4 L1288.73 1537.74 L1302.29 1556.04 L1295.38 1556.04 L1285 1542.04 L1274.63 1556.04 L1267.72 1556.04 L1281.57 1537.39 L1268.9 1520.4 L1275.8 1520.4 L1285.26 1533.1 L1294.71 1520.4 L1301.62 1520.4 Z\" fill=\"#000000\" fill-rule=\"evenodd\" fill-opacity=\"1\" /><path clip-path=\"url(#clip900)\" d=\"M 0 0 M38.479 762.107 L43.3487 762.107 L43.3487 767.709 Q43.3487 770.86 44.6219 772.101 Q45.895 773.311 49.2052 773.311 L52.3562 773.311 L52.3562 763.667 L56.9077 763.667 L56.9077 773.311 L88.0042 773.311 L88.0042 779.199 L56.9077 779.199 L56.9077 784.801 L52.3562 784.801 L52.3562 779.199 L49.8736 779.199 Q43.9216 779.199 41.2162 776.43 Q38.479 773.661 38.479 767.645 L38.479 762.107 Z\" fill=\"#000000\" fill-rule=\"evenodd\" fill-opacity=\"1\" /><path clip-path=\"url(#clip900)\" d=\"M 0 0 M38.5426 741.896 Q45.8632 746.161 53.0246 748.23 Q60.186 750.299 67.5384 750.299 Q74.8908 750.299 82.1159 748.23 Q89.3091 746.129 96.5979 741.896 L96.5979 746.989 Q89.1182 751.763 81.8931 754.15 Q74.668 756.505 67.5384 756.505 Q60.4406 756.505 53.2474 754.15 Q46.0542 751.795 38.5426 746.989 L38.5426 741.896 Z\" fill=\"#000000\" fill-rule=\"evenodd\" fill-opacity=\"1\" /><path clip-path=\"url(#clip900)\" d=\"M 0 0 M52.3562 706.121 L69.7028 719.011 L88.0042 705.452 L88.0042 712.359 L73.9996 722.735 L88.0042 733.111 L88.0042 740.018 L69.3526 726.173 L52.3562 738.84 L52.3562 731.934 L65.0558 722.481 L52.3562 713.027 L52.3562 706.121 Z\" fill=\"#000000\" fill-rule=\"evenodd\" fill-opacity=\"1\" /><path clip-path=\"url(#clip900)\" d=\"M 0 0 M38.5426 700.232 L38.5426 695.14 Q46.0542 690.366 53.2474 688.01 Q60.4406 685.623 67.5384 685.623 Q74.668 685.623 81.8931 688.01 Q89.1182 690.366 96.5979 695.14 L96.5979 700.232 Q89.3091 695.999 82.1159 693.93 Q74.8908 691.83 67.5384 691.83 Q60.186 691.83 53.0246 693.93 Q45.8632 695.999 38.5426 700.232 Z\" fill=\"#000000\" fill-rule=\"evenodd\" fill-opacity=\"1\" /><polyline clip-path=\"url(#clip902)\" style=\"stroke:#009af9; stroke-width:4; stroke-opacity:1; fill:none\" points=\"\n",
       "  277.689,86.1857 378.421,89.8792 479.152,95.9629 579.884,104.943 680.615,117.37 781.346,133.834 882.078,154.968 982.809,181.446 1083.54,213.98 1184.27,253.321 \n",
       "  1285,300.257 1385.73,355.613 1486.47,420.246 1587.2,495.049 1687.93,580.943 1788.66,678.88 1889.39,789.838 1990.12,914.819 2090.85,1054.85 2191.59,1210.97 \n",
       "  2292.32,1384.24 \n",
       "  \"/>\n",
       "<polyline clip-path=\"url(#clip902)\" style=\"stroke:#e26f46; stroke-width:4; stroke-opacity:1; fill:none\" points=\"\n",
       "  277.689,121.797 378.421,121.797 479.152,121.797 579.884,121.797 680.615,121.797 781.346,121.797 882.078,121.797 982.809,121.797 1083.54,121.797 1184.27,121.797 \n",
       "  1285,121.797 1385.73,121.797 1486.47,121.797 1587.2,121.797 1687.93,121.797 1788.66,121.797 1889.39,121.797 1990.12,121.797 2090.85,121.797 2191.59,121.797 \n",
       "  2292.32,121.797 \n",
       "  \"/>\n",
       "</svg>\n"
      ]
     },
     "execution_count": 16,
     "metadata": {},
     "output_type": "execute_result"
    }
   ],
   "source": [
    "x = collect(1:0.1:3)\n",
    "y = f.(x)\n",
    "yz = zeros(length(x))\n",
    "plot(x,[y, yz], ylabel = \"f(x)\", xlabel = \"x\", legend=:none)"
   ]
  },
  {
   "cell_type": "markdown",
   "metadata": {},
   "source": [
    "Tenemos una raíz en el intervalo $[1,3]$."
   ]
  },
  {
   "cell_type": "code",
   "execution_count": 17,
   "metadata": {},
   "outputs": [
    {
     "data": {
      "text/plain": [
       "1.4296118247255556"
      ]
     },
     "execution_count": 17,
     "metadata": {},
     "output_type": "execute_result"
    }
   ],
   "source": [
    "xsol = fzero(f,1,3) # Usamos Bisección"
   ]
  },
  {
   "cell_type": "code",
   "execution_count": 18,
   "metadata": {},
   "outputs": [
    {
     "data": {
      "text/plain": [
       "0.0"
      ]
     },
     "execution_count": 18,
     "metadata": {},
     "output_type": "execute_result"
    }
   ],
   "source": [
    "f(xsol)"
   ]
  },
  {
   "cell_type": "markdown",
   "metadata": {},
   "source": [
    "¿Qué sucede si ampliamos el intervalo de búsqueda (por ejemplo al intervalo $[-10,10]$)?"
   ]
  },
  {
   "cell_type": "code",
   "execution_count": 19,
   "metadata": {},
   "outputs": [
    {
     "data": {
      "image/svg+xml": [
       "<?xml version=\"1.0\" encoding=\"utf-8\"?>\n",
       "<svg xmlns=\"http://www.w3.org/2000/svg\" xmlns:xlink=\"http://www.w3.org/1999/xlink\" width=\"600\" height=\"400\" viewBox=\"0 0 2400 1600\">\n",
       "<defs>\n",
       "  <clipPath id=\"clip940\">\n",
       "    <rect x=\"0\" y=\"0\" width=\"2400\" height=\"1600\"/>\n",
       "  </clipPath>\n",
       "</defs>\n",
       "<path clip-path=\"url(#clip940)\" d=\"\n",
       "M0 1600 L2400 1600 L2400 0 L0 0  Z\n",
       "  \" fill=\"#ffffff\" fill-rule=\"evenodd\" fill-opacity=\"1\"/>\n",
       "<defs>\n",
       "  <clipPath id=\"clip941\">\n",
       "    <rect x=\"480\" y=\"0\" width=\"1681\" height=\"1600\"/>\n",
       "  </clipPath>\n",
       "</defs>\n",
       "<path clip-path=\"url(#clip940)\" d=\"\n",
       "M292.065 1423.18 L2352.76 1423.18 L2352.76 47.2441 L292.065 47.2441  Z\n",
       "  \" fill=\"#ffffff\" fill-rule=\"evenodd\" fill-opacity=\"1\"/>\n",
       "<defs>\n",
       "  <clipPath id=\"clip942\">\n",
       "    <rect x=\"292\" y=\"47\" width=\"2062\" height=\"1377\"/>\n",
       "  </clipPath>\n",
       "</defs>\n",
       "<polyline clip-path=\"url(#clip942)\" style=\"stroke:#000000; stroke-width:2; stroke-opacity:0.1; fill:none\" points=\"\n",
       "  350.386,1423.18 350.386,47.2441 \n",
       "  \"/>\n",
       "<polyline clip-path=\"url(#clip942)\" style=\"stroke:#000000; stroke-width:2; stroke-opacity:0.1; fill:none\" points=\"\n",
       "  836.398,1423.18 836.398,47.2441 \n",
       "  \"/>\n",
       "<polyline clip-path=\"url(#clip942)\" style=\"stroke:#000000; stroke-width:2; stroke-opacity:0.1; fill:none\" points=\"\n",
       "  1322.41,1423.18 1322.41,47.2441 \n",
       "  \"/>\n",
       "<polyline clip-path=\"url(#clip942)\" style=\"stroke:#000000; stroke-width:2; stroke-opacity:0.1; fill:none\" points=\"\n",
       "  1808.42,1423.18 1808.42,47.2441 \n",
       "  \"/>\n",
       "<polyline clip-path=\"url(#clip942)\" style=\"stroke:#000000; stroke-width:2; stroke-opacity:0.1; fill:none\" points=\"\n",
       "  2294.43,1423.18 2294.43,47.2441 \n",
       "  \"/>\n",
       "<polyline clip-path=\"url(#clip942)\" style=\"stroke:#000000; stroke-width:2; stroke-opacity:0.1; fill:none\" points=\"\n",
       "  292.065,1384.24 2352.76,1384.24 \n",
       "  \"/>\n",
       "<polyline clip-path=\"url(#clip942)\" style=\"stroke:#000000; stroke-width:2; stroke-opacity:0.1; fill:none\" points=\"\n",
       "  292.065,1089.58 2352.76,1089.58 \n",
       "  \"/>\n",
       "<polyline clip-path=\"url(#clip942)\" style=\"stroke:#000000; stroke-width:2; stroke-opacity:0.1; fill:none\" points=\"\n",
       "  292.065,794.923 2352.76,794.923 \n",
       "  \"/>\n",
       "<polyline clip-path=\"url(#clip942)\" style=\"stroke:#000000; stroke-width:2; stroke-opacity:0.1; fill:none\" points=\"\n",
       "  292.065,500.266 2352.76,500.266 \n",
       "  \"/>\n",
       "<polyline clip-path=\"url(#clip942)\" style=\"stroke:#000000; stroke-width:2; stroke-opacity:0.1; fill:none\" points=\"\n",
       "  292.065,205.608 2352.76,205.608 \n",
       "  \"/>\n",
       "<polyline clip-path=\"url(#clip940)\" style=\"stroke:#000000; stroke-width:4; stroke-opacity:1; fill:none\" points=\"\n",
       "  292.065,1423.18 2352.76,1423.18 \n",
       "  \"/>\n",
       "<polyline clip-path=\"url(#clip940)\" style=\"stroke:#000000; stroke-width:4; stroke-opacity:1; fill:none\" points=\"\n",
       "  292.065,1423.18 292.065,47.2441 \n",
       "  \"/>\n",
       "<polyline clip-path=\"url(#clip940)\" style=\"stroke:#000000; stroke-width:4; stroke-opacity:1; fill:none\" points=\"\n",
       "  350.386,1423.18 350.386,1406.67 \n",
       "  \"/>\n",
       "<polyline clip-path=\"url(#clip940)\" style=\"stroke:#000000; stroke-width:4; stroke-opacity:1; fill:none\" points=\"\n",
       "  836.398,1423.18 836.398,1406.67 \n",
       "  \"/>\n",
       "<polyline clip-path=\"url(#clip940)\" style=\"stroke:#000000; stroke-width:4; stroke-opacity:1; fill:none\" points=\"\n",
       "  1322.41,1423.18 1322.41,1406.67 \n",
       "  \"/>\n",
       "<polyline clip-path=\"url(#clip940)\" style=\"stroke:#000000; stroke-width:4; stroke-opacity:1; fill:none\" points=\"\n",
       "  1808.42,1423.18 1808.42,1406.67 \n",
       "  \"/>\n",
       "<polyline clip-path=\"url(#clip940)\" style=\"stroke:#000000; stroke-width:4; stroke-opacity:1; fill:none\" points=\"\n",
       "  2294.43,1423.18 2294.43,1406.67 \n",
       "  \"/>\n",
       "<polyline clip-path=\"url(#clip940)\" style=\"stroke:#000000; stroke-width:4; stroke-opacity:1; fill:none\" points=\"\n",
       "  292.065,1384.24 316.793,1384.24 \n",
       "  \"/>\n",
       "<polyline clip-path=\"url(#clip940)\" style=\"stroke:#000000; stroke-width:4; stroke-opacity:1; fill:none\" points=\"\n",
       "  292.065,1089.58 316.793,1089.58 \n",
       "  \"/>\n",
       "<polyline clip-path=\"url(#clip940)\" style=\"stroke:#000000; stroke-width:4; stroke-opacity:1; fill:none\" points=\"\n",
       "  292.065,794.923 316.793,794.923 \n",
       "  \"/>\n",
       "<polyline clip-path=\"url(#clip940)\" style=\"stroke:#000000; stroke-width:4; stroke-opacity:1; fill:none\" points=\"\n",
       "  292.065,500.266 316.793,500.266 \n",
       "  \"/>\n",
       "<polyline clip-path=\"url(#clip940)\" style=\"stroke:#000000; stroke-width:4; stroke-opacity:1; fill:none\" points=\"\n",
       "  292.065,205.608 316.793,205.608 \n",
       "  \"/>\n",
       "<path clip-path=\"url(#clip940)\" d=\"M 0 0 M317.748 1461.77 L330.224 1461.77 L330.224 1465.56 L317.748 1465.56 L317.748 1461.77 Z\" fill=\"#000000\" fill-rule=\"evenodd\" fill-opacity=\"1\" /><path clip-path=\"url(#clip940)\" d=\"M 0 0 M336.104 1472.72 L343.743 1472.72 L343.743 1446.35 L335.433 1448.02 L335.433 1443.76 L343.697 1442.09 L348.373 1442.09 L348.373 1472.72 L356.011 1472.72 L356.011 1476.65 L336.104 1476.65 L336.104 1472.72 Z\" fill=\"#000000\" fill-rule=\"evenodd\" fill-opacity=\"1\" /><path clip-path=\"url(#clip940)\" d=\"M 0 0 M371.081 1445.17 Q367.47 1445.17 365.641 1448.74 Q363.835 1452.28 363.835 1459.41 Q363.835 1466.51 365.641 1470.08 Q367.47 1473.62 371.081 1473.62 Q374.715 1473.62 376.521 1470.08 Q378.349 1466.51 378.349 1459.41 Q378.349 1452.28 376.521 1448.74 Q374.715 1445.17 371.081 1445.17 M371.081 1441.47 Q376.891 1441.47 379.946 1446.07 Q383.025 1450.66 383.025 1459.41 Q383.025 1468.13 379.946 1472.74 Q376.891 1477.32 371.081 1477.32 Q365.271 1477.32 362.192 1472.74 Q359.136 1468.13 359.136 1459.41 Q359.136 1450.66 362.192 1446.07 Q365.271 1441.47 371.081 1441.47 Z\" fill=\"#000000\" fill-rule=\"evenodd\" fill-opacity=\"1\" /><path clip-path=\"url(#clip940)\" d=\"M 0 0 M817.151 1461.77 L829.628 1461.77 L829.628 1465.56 L817.151 1465.56 L817.151 1461.77 Z\" fill=\"#000000\" fill-rule=\"evenodd\" fill-opacity=\"1\" /><path clip-path=\"url(#clip940)\" d=\"M 0 0 M834.743 1442.09 L853.1 1442.09 L853.1 1446.03 L839.026 1446.03 L839.026 1454.5 Q840.044 1454.15 841.063 1453.99 Q842.081 1453.8 843.1 1453.8 Q848.887 1453.8 852.266 1456.98 Q855.646 1460.15 855.646 1465.56 Q855.646 1471.14 852.174 1474.24 Q848.702 1477.32 842.382 1477.32 Q840.206 1477.32 837.938 1476.95 Q835.692 1476.58 833.285 1475.84 L833.285 1471.14 Q835.368 1472.28 837.591 1472.83 Q839.813 1473.39 842.29 1473.39 Q846.294 1473.39 848.632 1471.28 Q850.97 1469.18 850.97 1465.56 Q850.97 1461.95 848.632 1459.85 Q846.294 1457.74 842.29 1457.74 Q840.415 1457.74 838.54 1458.16 Q836.688 1458.57 834.743 1459.45 L834.743 1442.09 Z\" fill=\"#000000\" fill-rule=\"evenodd\" fill-opacity=\"1\" /><path clip-path=\"url(#clip940)\" d=\"M 0 0 M1322.41 1445.17 Q1318.8 1445.17 1316.97 1448.74 Q1315.17 1452.28 1315.17 1459.41 Q1315.17 1466.51 1316.97 1470.08 Q1318.8 1473.62 1322.41 1473.62 Q1326.04 1473.62 1327.85 1470.08 Q1329.68 1466.51 1329.68 1459.41 Q1329.68 1452.28 1327.85 1448.74 Q1326.04 1445.17 1322.41 1445.17 M1322.41 1441.47 Q1328.22 1441.47 1331.28 1446.07 Q1334.35 1450.66 1334.35 1459.41 Q1334.35 1468.13 1331.28 1472.74 Q1328.22 1477.32 1322.41 1477.32 Q1316.6 1477.32 1313.52 1472.74 Q1310.47 1468.13 1310.47 1459.41 Q1310.47 1450.66 1313.52 1446.07 Q1316.6 1441.47 1322.41 1441.47 Z\" fill=\"#000000\" fill-rule=\"evenodd\" fill-opacity=\"1\" /><path clip-path=\"url(#clip940)\" d=\"M 0 0 M1798.7 1442.09 L1817.06 1442.09 L1817.06 1446.03 L1802.98 1446.03 L1802.98 1454.5 Q1804 1454.15 1805.02 1453.99 Q1806.04 1453.8 1807.06 1453.8 Q1812.84 1453.8 1816.22 1456.98 Q1819.6 1460.15 1819.6 1465.56 Q1819.6 1471.14 1816.13 1474.24 Q1812.66 1477.32 1806.34 1477.32 Q1804.16 1477.32 1801.89 1476.95 Q1799.65 1476.58 1797.24 1475.84 L1797.24 1471.14 Q1799.33 1472.28 1801.55 1472.83 Q1803.77 1473.39 1806.25 1473.39 Q1810.25 1473.39 1812.59 1471.28 Q1814.93 1469.18 1814.93 1465.56 Q1814.93 1461.95 1812.59 1459.85 Q1810.25 1457.74 1806.25 1457.74 Q1804.37 1457.74 1802.5 1458.16 Q1800.64 1458.57 1798.7 1459.45 L1798.7 1442.09 Z\" fill=\"#000000\" fill-rule=\"evenodd\" fill-opacity=\"1\" /><path clip-path=\"url(#clip940)\" d=\"M 0 0 M2271.31 1472.72 L2278.95 1472.72 L2278.95 1446.35 L2270.64 1448.02 L2270.64 1443.76 L2278.9 1442.09 L2283.58 1442.09 L2283.58 1472.72 L2291.22 1472.72 L2291.22 1476.65 L2271.31 1476.65 L2271.31 1472.72 Z\" fill=\"#000000\" fill-rule=\"evenodd\" fill-opacity=\"1\" /><path clip-path=\"url(#clip940)\" d=\"M 0 0 M2306.29 1445.17 Q2302.68 1445.17 2300.85 1448.74 Q2299.04 1452.28 2299.04 1459.41 Q2299.04 1466.51 2300.85 1470.08 Q2302.68 1473.62 2306.29 1473.62 Q2309.92 1473.62 2311.73 1470.08 Q2313.55 1466.51 2313.55 1459.41 Q2313.55 1452.28 2311.73 1448.74 Q2309.92 1445.17 2306.29 1445.17 M2306.29 1441.47 Q2312.1 1441.47 2315.15 1446.07 Q2318.23 1450.66 2318.23 1459.41 Q2318.23 1468.13 2315.15 1472.74 Q2312.1 1477.32 2306.29 1477.32 Q2300.48 1477.32 2297.4 1472.74 Q2294.34 1468.13 2294.34 1459.41 Q2294.34 1450.66 2297.4 1446.07 Q2300.48 1441.47 2306.29 1441.47 Z\" fill=\"#000000\" fill-rule=\"evenodd\" fill-opacity=\"1\" /><path clip-path=\"url(#clip940)\" d=\"M 0 0 M111.307 1393.08 L123.783 1393.08 L123.783 1396.88 L111.307 1396.88 L111.307 1393.08 Z\" fill=\"#000000\" fill-rule=\"evenodd\" fill-opacity=\"1\" /><path clip-path=\"url(#clip940)\" d=\"M 0 0 M141.654 1404.03 L149.292 1404.03 L149.292 1377.67 L140.982 1379.33 L140.982 1375.07 L149.246 1373.41 L153.922 1373.41 L153.922 1404.03 L161.561 1404.03 L161.561 1407.97 L141.654 1407.97 L141.654 1404.03 Z\" fill=\"#000000\" fill-rule=\"evenodd\" fill-opacity=\"1\" /><path clip-path=\"url(#clip940)\" d=\"M 0 0 M194.801 1382.5 L184.223 1393.13 L194.801 1403.71 L192.047 1406.51 L181.422 1395.88 L170.797 1406.51 L168.065 1403.71 L178.621 1393.13 L168.065 1382.5 L170.797 1379.7 L181.422 1390.33 L192.047 1379.7 L194.801 1382.5 Z\" fill=\"#000000\" fill-rule=\"evenodd\" fill-opacity=\"1\" /><path clip-path=\"url(#clip940)\" d=\"M 0 0 M200.681 1404.03 L208.32 1404.03 L208.32 1377.67 L200.01 1379.33 L200.01 1375.07 L208.274 1373.41 L212.95 1373.41 L212.95 1404.03 L220.588 1404.03 L220.588 1407.97 L200.681 1407.97 L200.681 1404.03 Z\" fill=\"#000000\" fill-rule=\"evenodd\" fill-opacity=\"1\" /><path clip-path=\"url(#clip940)\" d=\"M 0 0 M235.658 1376.48 Q232.047 1376.48 230.218 1380.05 Q228.412 1383.59 228.412 1390.72 Q228.412 1397.83 230.218 1401.39 Q232.047 1404.93 235.658 1404.93 Q239.292 1404.93 241.098 1401.39 Q242.926 1397.83 242.926 1390.72 Q242.926 1383.59 241.098 1380.05 Q239.292 1376.48 235.658 1376.48 M235.658 1372.78 Q241.468 1372.78 244.523 1377.39 Q247.602 1381.97 247.602 1390.72 Q247.602 1399.45 244.523 1404.05 Q241.468 1408.64 235.658 1408.64 Q229.848 1408.64 226.769 1404.05 Q223.713 1399.45 223.713 1390.72 Q223.713 1381.97 226.769 1377.39 Q229.848 1372.78 235.658 1372.78 Z\" fill=\"#000000\" fill-rule=\"evenodd\" fill-opacity=\"1\" /><path clip-path=\"url(#clip940)\" d=\"M 0 0 M260.279 1355.79 L250.687 1370.78 L260.279 1370.78 L260.279 1355.79 M259.282 1352.48 L264.059 1352.48 L264.059 1370.78 L268.065 1370.78 L268.065 1373.94 L264.059 1373.94 L264.059 1380.56 L260.279 1380.56 L260.279 1373.94 L247.602 1373.94 L247.602 1370.27 L259.282 1352.48 Z\" fill=\"#000000\" fill-rule=\"evenodd\" fill-opacity=\"1\" /><path clip-path=\"url(#clip940)\" d=\"M 0 0 M111.499 1098.42 L123.976 1098.42 L123.976 1102.22 L111.499 1102.22 L111.499 1098.42 Z\" fill=\"#000000\" fill-rule=\"evenodd\" fill-opacity=\"1\" /><path clip-path=\"url(#clip940)\" d=\"M 0 0 M142.633 1078.75 L160.989 1078.75 L160.989 1082.68 L146.915 1082.68 L146.915 1091.16 Q147.934 1090.81 148.952 1090.65 Q149.971 1090.46 150.989 1090.46 Q156.776 1090.46 160.156 1093.63 Q163.536 1096.8 163.536 1102.22 Q163.536 1107.8 160.064 1110.9 Q156.591 1113.98 150.272 1113.98 Q148.096 1113.98 145.827 1113.61 Q143.582 1113.24 141.175 1112.5 L141.175 1107.8 Q143.258 1108.93 145.48 1109.49 Q147.702 1110.04 150.179 1110.04 Q154.184 1110.04 156.522 1107.94 Q158.86 1105.83 158.86 1102.22 Q158.86 1098.61 156.522 1096.5 Q154.184 1094.4 150.179 1094.4 Q148.304 1094.4 146.429 1094.81 Q144.577 1095.23 142.633 1096.11 L142.633 1078.75 Z\" fill=\"#000000\" fill-rule=\"evenodd\" fill-opacity=\"1\" /><path clip-path=\"url(#clip940)\" d=\"M 0 0 M196.776 1087.85 L186.198 1098.47 L196.776 1109.05 L194.022 1111.85 L183.397 1101.23 L172.772 1111.85 L170.04 1109.05 L180.596 1098.47 L170.04 1087.85 L172.772 1085.04 L183.397 1095.67 L194.022 1085.04 L196.776 1087.85 Z\" fill=\"#000000\" fill-rule=\"evenodd\" fill-opacity=\"1\" /><path clip-path=\"url(#clip940)\" d=\"M 0 0 M202.656 1109.37 L210.295 1109.37 L210.295 1083.01 L201.985 1084.67 L201.985 1080.42 L210.248 1078.75 L214.924 1078.75 L214.924 1109.37 L222.563 1109.37 L222.563 1113.31 L202.656 1113.31 L202.656 1109.37 Z\" fill=\"#000000\" fill-rule=\"evenodd\" fill-opacity=\"1\" /><path clip-path=\"url(#clip940)\" d=\"M 0 0 M237.633 1081.83 Q234.021 1081.83 232.193 1085.39 Q230.387 1088.93 230.387 1096.06 Q230.387 1103.17 232.193 1106.73 Q234.021 1110.28 237.633 1110.28 Q241.267 1110.28 243.072 1106.73 Q244.901 1103.17 244.901 1096.06 Q244.901 1088.93 243.072 1085.39 Q241.267 1081.83 237.633 1081.83 M237.633 1078.12 Q243.443 1078.12 246.498 1082.73 Q249.577 1087.31 249.577 1096.06 Q249.577 1104.79 246.498 1109.4 Q243.443 1113.98 237.633 1113.98 Q231.822 1113.98 228.744 1109.4 Q225.688 1104.79 225.688 1096.06 Q225.688 1087.31 228.744 1082.73 Q231.822 1078.12 237.633 1078.12 Z\" fill=\"#000000\" fill-rule=\"evenodd\" fill-opacity=\"1\" /><path clip-path=\"url(#clip940)\" d=\"M 0 0 M262.272 1070.76 Q264.999 1071.34 266.523 1073.18 Q268.065 1075.03 268.065 1077.74 Q268.065 1081.89 265.206 1084.17 Q262.347 1086.44 257.081 1086.44 Q255.313 1086.44 253.433 1086.09 Q251.571 1085.75 249.577 1085.05 L249.577 1081.38 Q251.157 1082.31 253.038 1082.78 Q254.918 1083.25 256.968 1083.25 Q260.542 1083.25 262.404 1081.84 Q264.285 1080.42 264.285 1077.74 Q264.285 1075.25 262.535 1073.86 Q260.805 1072.45 257.702 1072.45 L254.429 1072.45 L254.429 1069.33 L257.852 1069.33 Q260.655 1069.33 262.141 1068.22 Q263.626 1067.09 263.626 1064.98 Q263.626 1062.82 262.084 1061.67 Q260.561 1060.51 257.702 1060.51 Q256.141 1060.51 254.354 1060.85 Q252.567 1061.18 250.423 1061.9 L250.423 1058.51 Q252.586 1057.91 254.467 1057.61 Q256.367 1057.31 258.04 1057.31 Q262.366 1057.31 264.886 1059.28 Q267.407 1061.24 267.407 1064.59 Q267.407 1066.92 266.071 1068.54 Q264.736 1070.14 262.272 1070.76 Z\" fill=\"#000000\" fill-rule=\"evenodd\" fill-opacity=\"1\" /><path clip-path=\"url(#clip940)\" d=\"M 0 0 M256.121 780.722 Q252.509 780.722 250.681 784.287 Q248.875 787.828 248.875 794.958 Q248.875 802.064 250.681 805.629 Q252.509 809.171 256.121 809.171 Q259.755 809.171 261.56 805.629 Q263.389 802.064 263.389 794.958 Q263.389 787.828 261.56 784.287 Q259.755 780.722 256.121 780.722 M256.121 777.018 Q261.931 777.018 264.986 781.625 Q268.065 786.208 268.065 794.958 Q268.065 803.685 264.986 808.291 Q261.931 812.875 256.121 812.875 Q250.31 812.875 247.232 808.291 Q244.176 803.685 244.176 794.958 Q244.176 786.208 247.232 781.625 Q250.31 777.018 256.121 777.018 Z\" fill=\"#000000\" fill-rule=\"evenodd\" fill-opacity=\"1\" /><path clip-path=\"url(#clip940)\" d=\"M 0 0 M142.633 489.433 L160.989 489.433 L160.989 493.369 L146.915 493.369 L146.915 501.841 Q147.934 501.494 148.952 501.332 Q149.971 501.146 150.989 501.146 Q156.776 501.146 160.156 504.318 Q163.536 507.489 163.536 512.906 Q163.536 518.484 160.064 521.586 Q156.591 524.665 150.272 524.665 Q148.096 524.665 145.827 524.294 Q143.582 523.924 141.175 523.183 L141.175 518.484 Q143.258 519.618 145.48 520.174 Q147.702 520.73 150.179 520.73 Q154.184 520.73 156.522 518.623 Q158.86 516.517 158.86 512.906 Q158.86 509.294 156.522 507.188 Q154.184 505.081 150.179 505.081 Q148.304 505.081 146.429 505.498 Q144.577 505.915 142.633 506.794 L142.633 489.433 Z\" fill=\"#000000\" fill-rule=\"evenodd\" fill-opacity=\"1\" /><path clip-path=\"url(#clip940)\" d=\"M 0 0 M196.776 498.531 L186.198 509.156 L196.776 519.734 L194.022 522.535 L183.397 511.91 L172.772 522.535 L170.04 519.734 L180.596 509.156 L170.04 498.531 L172.772 495.73 L183.397 506.355 L194.022 495.73 L196.776 498.531 Z\" fill=\"#000000\" fill-rule=\"evenodd\" fill-opacity=\"1\" /><path clip-path=\"url(#clip940)\" d=\"M 0 0 M202.656 520.058 L210.295 520.058 L210.295 493.693 L201.985 495.359 L201.985 491.1 L210.248 489.433 L214.924 489.433 L214.924 520.058 L222.563 520.058 L222.563 523.993 L202.656 523.993 L202.656 520.058 Z\" fill=\"#000000\" fill-rule=\"evenodd\" fill-opacity=\"1\" /><path clip-path=\"url(#clip940)\" d=\"M 0 0 M237.633 492.512 Q234.021 492.512 232.193 496.077 Q230.387 499.619 230.387 506.748 Q230.387 513.855 232.193 517.419 Q234.021 520.961 237.633 520.961 Q241.267 520.961 243.072 517.419 Q244.901 513.855 244.901 506.748 Q244.901 499.619 243.072 496.077 Q241.267 492.512 237.633 492.512 M237.633 488.808 Q243.443 488.808 246.498 493.415 Q249.577 497.998 249.577 506.748 Q249.577 515.475 246.498 520.081 Q243.443 524.665 237.633 524.665 Q231.822 524.665 228.744 520.081 Q225.688 515.475 225.688 506.748 Q225.688 497.998 228.744 493.415 Q231.822 488.808 237.633 488.808 Z\" fill=\"#000000\" fill-rule=\"evenodd\" fill-opacity=\"1\" /><path clip-path=\"url(#clip940)\" d=\"M 0 0 M262.272 481.443 Q264.999 482.026 266.523 483.869 Q268.065 485.712 268.065 488.42 Q268.065 492.577 265.206 494.853 Q262.347 497.128 257.081 497.128 Q255.313 497.128 253.433 496.771 Q251.571 496.433 249.577 495.737 L249.577 492.069 Q251.157 492.991 253.038 493.461 Q254.918 493.931 256.968 493.931 Q260.542 493.931 262.404 492.521 Q264.285 491.11 264.285 488.42 Q264.285 485.938 262.535 484.546 Q260.805 483.135 257.702 483.135 L254.429 483.135 L254.429 480.013 L257.852 480.013 Q260.655 480.013 262.141 478.904 Q263.626 477.775 263.626 475.669 Q263.626 473.506 262.084 472.359 Q260.561 471.193 257.702 471.193 Q256.141 471.193 254.354 471.531 Q252.567 471.87 250.423 472.584 L250.423 469.199 Q252.586 468.597 254.467 468.296 Q256.367 467.995 258.04 467.995 Q262.366 467.995 264.886 469.97 Q267.407 471.926 267.407 475.274 Q267.407 477.606 266.071 479.223 Q264.736 480.822 262.272 481.443 Z\" fill=\"#000000\" fill-rule=\"evenodd\" fill-opacity=\"1\" /><path clip-path=\"url(#clip940)\" d=\"M 0 0 M141.654 225.401 L149.292 225.401 L149.292 199.035 L140.982 200.702 L140.982 196.443 L149.246 194.776 L153.922 194.776 L153.922 225.401 L161.561 225.401 L161.561 229.336 L141.654 229.336 L141.654 225.401 Z\" fill=\"#000000\" fill-rule=\"evenodd\" fill-opacity=\"1\" /><path clip-path=\"url(#clip940)\" d=\"M 0 0 M194.801 203.873 L184.223 214.498 L194.801 225.077 L192.047 227.878 L181.422 217.253 L170.797 227.878 L168.065 225.077 L178.621 214.498 L168.065 203.873 L170.797 201.072 L181.422 211.697 L192.047 201.072 L194.801 203.873 Z\" fill=\"#000000\" fill-rule=\"evenodd\" fill-opacity=\"1\" /><path clip-path=\"url(#clip940)\" d=\"M 0 0 M200.681 225.401 L208.32 225.401 L208.32 199.035 L200.01 200.702 L200.01 196.443 L208.274 194.776 L212.95 194.776 L212.95 225.401 L220.588 225.401 L220.588 229.336 L200.681 229.336 L200.681 225.401 Z\" fill=\"#000000\" fill-rule=\"evenodd\" fill-opacity=\"1\" /><path clip-path=\"url(#clip940)\" d=\"M 0 0 M235.658 197.855 Q232.047 197.855 230.218 201.419 Q228.412 204.961 228.412 212.091 Q228.412 219.197 230.218 222.762 Q232.047 226.304 235.658 226.304 Q239.292 226.304 241.098 222.762 Q242.926 219.197 242.926 212.091 Q242.926 204.961 241.098 201.419 Q239.292 197.855 235.658 197.855 M235.658 194.151 Q241.468 194.151 244.523 198.757 Q247.602 203.341 247.602 212.091 Q247.602 220.817 244.523 225.424 Q241.468 230.007 235.658 230.007 Q229.848 230.007 226.769 225.424 Q223.713 220.817 223.713 212.091 Q223.713 203.341 226.769 198.757 Q229.848 194.151 235.658 194.151 Z\" fill=\"#000000\" fill-rule=\"evenodd\" fill-opacity=\"1\" /><path clip-path=\"url(#clip940)\" d=\"M 0 0 M260.279 177.156 L250.687 192.145 L260.279 192.145 L260.279 177.156 M259.282 173.846 L264.059 173.846 L264.059 192.145 L268.065 192.145 L268.065 195.305 L264.059 195.305 L264.059 201.926 L260.279 201.926 L260.279 195.305 L247.602 195.305 L247.602 191.638 L259.282 173.846 Z\" fill=\"#000000\" fill-rule=\"evenodd\" fill-opacity=\"1\" /><path clip-path=\"url(#clip940)\" d=\"M 0 0 M1339.02 1520.4 L1326.13 1537.74 L1339.69 1556.04 L1332.79 1556.04 L1322.41 1542.04 L1312.03 1556.04 L1305.13 1556.04 L1318.97 1537.39 L1306.31 1520.4 L1313.21 1520.4 L1322.67 1533.1 L1332.12 1520.4 L1339.02 1520.4 Z\" fill=\"#000000\" fill-rule=\"evenodd\" fill-opacity=\"1\" /><path clip-path=\"url(#clip940)\" d=\"M 0 0 M38.479 762.107 L43.3487 762.107 L43.3487 767.709 Q43.3487 770.86 44.6219 772.101 Q45.895 773.311 49.2052 773.311 L52.3562 773.311 L52.3562 763.667 L56.9077 763.667 L56.9077 773.311 L88.0042 773.311 L88.0042 779.199 L56.9077 779.199 L56.9077 784.801 L52.3562 784.801 L52.3562 779.199 L49.8736 779.199 Q43.9216 779.199 41.2162 776.43 Q38.479 773.661 38.479 767.645 L38.479 762.107 Z\" fill=\"#000000\" fill-rule=\"evenodd\" fill-opacity=\"1\" /><path clip-path=\"url(#clip940)\" d=\"M 0 0 M38.5426 741.896 Q45.8632 746.161 53.0246 748.23 Q60.186 750.299 67.5384 750.299 Q74.8908 750.299 82.1159 748.23 Q89.3091 746.129 96.5979 741.896 L96.5979 746.989 Q89.1182 751.763 81.8931 754.15 Q74.668 756.505 67.5384 756.505 Q60.4406 756.505 53.2474 754.15 Q46.0542 751.795 38.5426 746.989 L38.5426 741.896 Z\" fill=\"#000000\" fill-rule=\"evenodd\" fill-opacity=\"1\" /><path clip-path=\"url(#clip940)\" d=\"M 0 0 M52.3562 706.121 L69.7028 719.011 L88.0042 705.452 L88.0042 712.359 L73.9996 722.735 L88.0042 733.111 L88.0042 740.018 L69.3526 726.173 L52.3562 738.84 L52.3562 731.934 L65.0558 722.481 L52.3562 713.027 L52.3562 706.121 Z\" fill=\"#000000\" fill-rule=\"evenodd\" fill-opacity=\"1\" /><path clip-path=\"url(#clip940)\" d=\"M 0 0 M38.5426 700.232 L38.5426 695.14 Q46.0542 690.366 53.2474 688.01 Q60.4406 685.623 67.5384 685.623 Q74.668 685.623 81.8931 688.01 Q89.1182 690.366 96.5979 695.14 L96.5979 700.232 Q89.3091 695.999 82.1159 693.93 Q74.8908 691.83 67.5384 691.83 Q60.186 691.83 53.0246 693.93 Q45.8632 695.999 38.5426 700.232 Z\" fill=\"#000000\" fill-rule=\"evenodd\" fill-opacity=\"1\" /><polyline clip-path=\"url(#clip942)\" style=\"stroke:#009af9; stroke-width:4; stroke-opacity:1; fill:none\" points=\"\n",
       "  350.386,1384.24 360.107,1361.02 369.827,1338.49 379.547,1316.64 389.267,1295.46 398.988,1274.92 408.708,1255.03 418.428,1235.76 428.148,1217.1 437.869,1199.05 \n",
       "  447.589,1181.57 457.309,1164.67 467.029,1148.33 476.75,1132.54 486.47,1117.28 496.19,1102.55 505.91,1088.33 515.63,1074.6 525.351,1061.37 535.071,1048.6 \n",
       "  544.791,1036.31 554.511,1024.46 564.232,1013.06 573.952,1002.09 583.672,991.532 593.392,981.386 603.113,971.639 612.833,962.278 622.553,953.295 632.273,944.678 \n",
       "  641.994,936.418 651.714,928.504 661.434,920.927 671.154,913.677 680.875,906.744 690.595,900.12 700.315,893.794 710.035,887.758 719.756,882.002 729.476,876.519 \n",
       "  739.196,871.298 748.916,866.333 758.636,861.613 768.357,857.131 778.077,852.879 787.797,848.849 797.517,845.033 807.238,841.423 816.958,838.011 826.678,834.791 \n",
       "  836.398,831.755 846.119,828.896 855.839,826.206 865.559,823.679 875.279,821.309 885,819.088 894.72,817.011 904.44,815.07 914.16,813.26 923.881,811.575 \n",
       "  933.601,810.009 943.321,808.556 953.041,807.21 962.762,805.967 972.482,804.82 982.202,803.765 991.922,802.797 1001.64,801.91 1011.36,801.1 1021.08,800.363 \n",
       "  1030.8,799.694 1040.52,799.088 1050.24,798.542 1059.96,798.051 1069.68,797.612 1079.4,797.22 1089.12,796.873 1098.84,796.567 1108.57,796.297 1118.29,796.062 \n",
       "  1128.01,795.858 1137.73,795.682 1147.45,795.532 1157.17,795.405 1166.89,795.298 1176.61,795.208 1186.33,795.135 1196.05,795.076 1205.77,795.028 1215.49,794.99 \n",
       "  1225.21,794.961 1234.93,794.938 1244.65,794.921 1254.37,794.908 1264.09,794.899 1273.81,794.891 1283.53,794.885 1293.25,794.88 1302.97,794.875 1312.69,794.87 \n",
       "  1322.41,794.864 1332.13,794.858 1341.85,794.851 1351.57,794.844 1361.29,794.837 1371.01,794.83 1380.73,794.824 1390.45,794.819 1400.17,794.816 1409.89,794.817 \n",
       "  1419.61,794.822 1429.33,794.833 1439.05,794.85 1448.77,794.875 1458.49,794.911 1468.21,794.958 1477.93,795.018 1487.65,795.093 1497.37,795.185 1507.09,795.297 \n",
       "  1516.82,795.431 1526.54,795.588 1536.26,795.772 1545.98,795.985 1555.7,796.229 1565.42,796.507 1575.14,796.823 1584.86,797.178 1594.58,797.576 1604.3,798.02 \n",
       "  1614.02,798.513 1623.74,799.058 1633.46,799.657 1643.18,800.314 1652.9,801.033 1662.62,801.815 1672.34,802.665 1682.06,803.584 1691.78,804.577 1701.5,805.645 \n",
       "  1711.22,806.792 1720.94,808.02 1730.66,809.331 1740.38,810.728 1750.1,812.211 1759.82,813.784 1769.54,815.447 1779.26,817.201 1788.98,819.046 1798.7,820.982 \n",
       "  1808.42,823.009 1818.14,825.126 1827.86,827.329 1837.58,829.617 1847.3,831.985 1857.02,834.429 1866.74,836.943 1876.46,839.519 1886.18,842.148 1895.9,844.821 \n",
       "  1905.62,847.524 1915.35,850.244 1925.07,852.964 1934.79,855.665 1944.51,858.326 1954.23,860.922 1963.95,863.424 1973.67,865.801 1983.39,868.015 1993.11,870.028 \n",
       "  2002.83,871.792 2012.55,873.255 2022.27,874.36 2031.99,875.042 2041.71,875.228 2051.43,874.836 2061.15,873.775 2070.87,871.944 2080.59,869.23 2090.31,865.507 \n",
       "  2100.03,860.634 2109.75,854.456 2119.47,846.799 2129.19,837.469 2138.91,826.254 2148.63,812.915 2158.35,797.188 2168.07,778.78 2177.79,757.367 2187.51,732.589 \n",
       "  2197.23,704.046 2206.95,671.297 2216.67,633.852 2226.39,591.168 2236.11,542.644 2245.83,487.615 2255.55,425.345 2265.27,355.019 2274.99,275.733 2284.71,186.49 \n",
       "  2294.43,86.1857 \n",
       "  \"/>\n",
       "<polyline clip-path=\"url(#clip942)\" style=\"stroke:#e26f46; stroke-width:4; stroke-opacity:1; fill:none\" points=\"\n",
       "  350.386,794.923 360.107,794.923 369.827,794.923 379.547,794.923 389.267,794.923 398.988,794.923 408.708,794.923 418.428,794.923 428.148,794.923 437.869,794.923 \n",
       "  447.589,794.923 457.309,794.923 467.029,794.923 476.75,794.923 486.47,794.923 496.19,794.923 505.91,794.923 515.63,794.923 525.351,794.923 535.071,794.923 \n",
       "  544.791,794.923 554.511,794.923 564.232,794.923 573.952,794.923 583.672,794.923 593.392,794.923 603.113,794.923 612.833,794.923 622.553,794.923 632.273,794.923 \n",
       "  641.994,794.923 651.714,794.923 661.434,794.923 671.154,794.923 680.875,794.923 690.595,794.923 700.315,794.923 710.035,794.923 719.756,794.923 729.476,794.923 \n",
       "  739.196,794.923 748.916,794.923 758.636,794.923 768.357,794.923 778.077,794.923 787.797,794.923 797.517,794.923 807.238,794.923 816.958,794.923 826.678,794.923 \n",
       "  836.398,794.923 846.119,794.923 855.839,794.923 865.559,794.923 875.279,794.923 885,794.923 894.72,794.923 904.44,794.923 914.16,794.923 923.881,794.923 \n",
       "  933.601,794.923 943.321,794.923 953.041,794.923 962.762,794.923 972.482,794.923 982.202,794.923 991.922,794.923 1001.64,794.923 1011.36,794.923 1021.08,794.923 \n",
       "  1030.8,794.923 1040.52,794.923 1050.24,794.923 1059.96,794.923 1069.68,794.923 1079.4,794.923 1089.12,794.923 1098.84,794.923 1108.57,794.923 1118.29,794.923 \n",
       "  1128.01,794.923 1137.73,794.923 1147.45,794.923 1157.17,794.923 1166.89,794.923 1176.61,794.923 1186.33,794.923 1196.05,794.923 1205.77,794.923 1215.49,794.923 \n",
       "  1225.21,794.923 1234.93,794.923 1244.65,794.923 1254.37,794.923 1264.09,794.923 1273.81,794.923 1283.53,794.923 1293.25,794.923 1302.97,794.923 1312.69,794.923 \n",
       "  1322.41,794.923 1332.13,794.923 1341.85,794.923 1351.57,794.923 1361.29,794.923 1371.01,794.923 1380.73,794.923 1390.45,794.923 1400.17,794.923 1409.89,794.923 \n",
       "  1419.61,794.923 1429.33,794.923 1439.05,794.923 1448.77,794.923 1458.49,794.923 1468.21,794.923 1477.93,794.923 1487.65,794.923 1497.37,794.923 1507.09,794.923 \n",
       "  1516.82,794.923 1526.54,794.923 1536.26,794.923 1545.98,794.923 1555.7,794.923 1565.42,794.923 1575.14,794.923 1584.86,794.923 1594.58,794.923 1604.3,794.923 \n",
       "  1614.02,794.923 1623.74,794.923 1633.46,794.923 1643.18,794.923 1652.9,794.923 1662.62,794.923 1672.34,794.923 1682.06,794.923 1691.78,794.923 1701.5,794.923 \n",
       "  1711.22,794.923 1720.94,794.923 1730.66,794.923 1740.38,794.923 1750.1,794.923 1759.82,794.923 1769.54,794.923 1779.26,794.923 1788.98,794.923 1798.7,794.923 \n",
       "  1808.42,794.923 1818.14,794.923 1827.86,794.923 1837.58,794.923 1847.3,794.923 1857.02,794.923 1866.74,794.923 1876.46,794.923 1886.18,794.923 1895.9,794.923 \n",
       "  1905.62,794.923 1915.35,794.923 1925.07,794.923 1934.79,794.923 1944.51,794.923 1954.23,794.923 1963.95,794.923 1973.67,794.923 1983.39,794.923 1993.11,794.923 \n",
       "  2002.83,794.923 2012.55,794.923 2022.27,794.923 2031.99,794.923 2041.71,794.923 2051.43,794.923 2061.15,794.923 2070.87,794.923 2080.59,794.923 2090.31,794.923 \n",
       "  2100.03,794.923 2109.75,794.923 2119.47,794.923 2129.19,794.923 2138.91,794.923 2148.63,794.923 2158.35,794.923 2168.07,794.923 2177.79,794.923 2187.51,794.923 \n",
       "  2197.23,794.923 2206.95,794.923 2216.67,794.923 2226.39,794.923 2236.11,794.923 2245.83,794.923 2255.55,794.923 2265.27,794.923 2274.99,794.923 2284.71,794.923 \n",
       "  2294.43,794.923 \n",
       "  \"/>\n",
       "</svg>\n"
      ]
     },
     "execution_count": 19,
     "metadata": {},
     "output_type": "execute_result"
    }
   ],
   "source": [
    "x = collect(-10:0.1:10)\n",
    "y = f.(x)\n",
    "yz = zeros(length(x))\n",
    "plot(x,[y, yz], ylabel = \"f(x)\", xlabel = \"x\", legend=:none)"
   ]
  },
  {
   "cell_type": "markdown",
   "metadata": {},
   "source": [
    "Tenemos más de una raíz! En el paquete Roots también tenemos la función `fzeros()` que es una extensión de la función anterior para buscar todas las posibles raíces:"
   ]
  },
  {
   "cell_type": "code",
   "execution_count": 20,
   "metadata": {},
   "outputs": [
    {
     "data": {
      "text/plain": [
       "3-element Array{Float64,1}:\n",
       " -0.8155534188089606\n",
       "  1.4296118247255556\n",
       "  8.613169456441398"
      ]
     },
     "execution_count": 20,
     "metadata": {},
     "output_type": "execute_result"
    }
   ],
   "source": [
    "xm = fzeros(f, -10, 10)"
   ]
  },
  {
   "cell_type": "code",
   "execution_count": 21,
   "metadata": {},
   "outputs": [
    {
     "data": {
      "text/plain": [
       "3-element Array{Float64,1}:\n",
       "  1.6653345369377348e-16\n",
       "  0.0\n",
       " -2.7284841053187847e-12"
      ]
     },
     "execution_count": 21,
     "metadata": {},
     "output_type": "execute_result"
    }
   ],
   "source": [
    "f.(xm)"
   ]
  },
  {
   "cell_type": "markdown",
   "metadata": {},
   "source": [
    "**NLsolve**\n",
    "\n",
    "El paquete **NLsolve** resuelve sistemas de ecuaciones no lineales. En particular, si $F(x)$ es una función multivariada, con $x\\in R^n$, entonces la función nlsolve buscar el vector $x^*$ que satisface $F(x^*)=0$ (con algún nivel de tolerancia). Esta función usa variaciones (más robustas y eficientes) del método de Newton.\n",
    "\n",
    "La sintaxis de esta función es:\n",
    "\n",
    "`res = nlsolve(fun, x0, inplace = false, otras_opciones)`\n",
    "\n",
    "donde `fun` es un vector de `n` función definidas en $R^n$ y $x0 \\in R^n$ es la conjetura inicial. La opción `inplace`  se usa cuando se define el problema como uno de búsqueda de raíces.\n",
    "\n",
    "Resolvamos el siguiente sistema de ecuaciones no lineales usando `nlsolve`.\n",
    "\n",
    "$$e^{-e^{-(x+y)}} = y(1+x^2)$$\n",
    "$$x \\cos y + y \\sin x = \\frac{1}{2}$$\n",
    "\n",
    "La conjetura inicial será $x=y=0.5$."
   ]
  },
  {
   "cell_type": "code",
   "execution_count": 22,
   "metadata": {},
   "outputs": [
    {
     "name": "stderr",
     "output_type": "stream",
     "text": [
      "┌ Info: Precompiling NLsolve [2774e3e8-f4cf-5e23-947b-6d7e65073b56]\n",
      "└ @ Base loading.jl:1260\n"
     ]
    }
   ],
   "source": [
    "using NLsolve"
   ]
  },
  {
   "cell_type": "code",
   "execution_count": 23,
   "metadata": {},
   "outputs": [
    {
     "data": {
      "text/plain": [
       "sistemanl (generic function with 1 method)"
      ]
     },
     "execution_count": 23,
     "metadata": {},
     "output_type": "execute_result"
    }
   ],
   "source": [
    "function sistemanl(x)\n",
    "\n",
    "    f = zeros(length(x))\n",
    "\n",
    "    f[1] = exp(-exp(-x[1]+x[2])) - x[2]*(1+x[1]^2)\n",
    "    f[2] = x[1]*cos(x[2]) + x[2]*sin(x[1]) - 0.5\n",
    "    \n",
    "    return f\n",
    "\n",
    "end"
   ]
  },
  {
   "cell_type": "code",
   "execution_count": 24,
   "metadata": {},
   "outputs": [
    {
     "data": {
      "text/plain": [
       "Results of Nonlinear Solver Algorithm\n",
       " * Algorithm: Trust-region with dogleg and autoscaling\n",
       " * Starting Point: [0.5, 0.5]\n",
       " * Zero: [0.3931134000423612, 0.33662701554572494]\n",
       " * Inf-norm of residuals: 0.000000\n",
       " * Iterations: 3\n",
       " * Convergence: true\n",
       "   * |x - x'| < 0.0e+00: false\n",
       "   * |f(x)| < 1.0e-08: true\n",
       " * Function Calls (f): 4\n",
       " * Jacobian Calls (df/dx): 4"
      ]
     },
     "execution_count": 24,
     "metadata": {},
     "output_type": "execute_result"
    }
   ],
   "source": [
    "xss = nlsolve(sistemanl, [0.5, 0.5], inplace = false)"
   ]
  },
  {
   "cell_type": "code",
   "execution_count": 25,
   "metadata": {},
   "outputs": [
    {
     "data": {
      "text/plain": [
       "2-element Array{Float64,1}:\n",
       " 0.3931134000423612\n",
       " 0.33662701554572494"
      ]
     },
     "execution_count": 25,
     "metadata": {},
     "output_type": "execute_result"
    }
   ],
   "source": [
    "xss.zero # Vector con el resultado"
   ]
  },
  {
   "cell_type": "markdown",
   "metadata": {},
   "source": [
    "La matriz Jacobiana no fue provista y por tanto para utilizar métodos tipo Quasi-Newton Julia tuvo que aproximarla (usando diferencias finitas). Proveer está matriz (cuando es posible) asegura mayor precisión. La sintaxis es:\n",
    "\n",
    "`res = nlsolve(fun, jacobiana, x0, inplace = false, otras_opciones)`\n",
    "\n",
    "Resolvamos el sistema (ejemplo tomado de la documentación de nlsolve):\n",
    "\n",
    "$$(x+3)(y^3-7) = -18$$\n",
    "$$\\sin(y\\exp(x)-1) = 0$$"
   ]
  },
  {
   "cell_type": "code",
   "execution_count": 26,
   "metadata": {},
   "outputs": [
    {
     "data": {
      "text/plain": [
       "sistema2 (generic function with 1 method)"
      ]
     },
     "execution_count": 26,
     "metadata": {},
     "output_type": "execute_result"
    }
   ],
   "source": [
    "function sistema2(x)\n",
    "\n",
    "    f = zeros(length(x))\n",
    "\n",
    "    f[1] = (x[1]+3)*(x[2]^3-7)+18\n",
    "    f[2] = sin(x[2]*exp(x[1])-1)\n",
    "    \n",
    "    return f\n",
    "end"
   ]
  },
  {
   "cell_type": "code",
   "execution_count": 27,
   "metadata": {},
   "outputs": [],
   "source": [
    "xss = nlsolve(sistema2, [0.1, 1.2], inplace = false);"
   ]
  },
  {
   "cell_type": "code",
   "execution_count": 28,
   "metadata": {},
   "outputs": [
    {
     "data": {
      "text/plain": [
       "2-element Array{Float64,1}:\n",
       " -7.775548712324193e-17\n",
       "  0.9999999999999999"
      ]
     },
     "execution_count": 28,
     "metadata": {},
     "output_type": "execute_result"
    }
   ],
   "source": [
    "xss.zero"
   ]
  },
  {
   "cell_type": "markdown",
   "metadata": {},
   "source": [
    "Ahora definamos una función con la matriz jacobiana:"
   ]
  },
  {
   "cell_type": "code",
   "execution_count": 29,
   "metadata": {},
   "outputs": [
    {
     "data": {
      "text/plain": [
       "jacob_sistema2 (generic function with 1 method)"
      ]
     },
     "execution_count": 29,
     "metadata": {},
     "output_type": "execute_result"
    }
   ],
   "source": [
    "function jacob_sistema2(x)\n",
    "    \n",
    "    J = zeros(2,2)\n",
    "\n",
    "    J[1, 1] = x[2]^3-7\n",
    "    J[1, 2] = 3*x[2]^2*(x[1]+3)\n",
    "    u = exp(x[1])*cos(x[2]*exp(x[1])-1)\n",
    "    J[2, 1] = x[2]*u\n",
    "    J[2, 2] = u\n",
    "    \n",
    "    return J\n",
    "end"
   ]
  },
  {
   "cell_type": "code",
   "execution_count": 30,
   "metadata": {},
   "outputs": [],
   "source": [
    "xss = nlsolve(sistema2, jacob_sistema2, [0.1, 1.2], inplace = false);"
   ]
  },
  {
   "cell_type": "code",
   "execution_count": 31,
   "metadata": {},
   "outputs": [
    {
     "data": {
      "text/plain": [
       "2-element Array{Float64,1}:\n",
       " -3.7818049096324184e-16\n",
       "  1.0000000000000002"
      ]
     },
     "execution_count": 31,
     "metadata": {},
     "output_type": "execute_result"
    }
   ],
   "source": [
    "xss.zero"
   ]
  },
  {
   "cell_type": "markdown",
   "metadata": {},
   "source": [
    "Otras opciones de la función nlsolve son:\n",
    "\n",
    "- `xtol`: Tolerancia para la solución (por defecto 0.0)\n",
    "- `ftol`: Tolerancia para la solución (por defecto 1e-8).\n",
    "- `iterations`: Máximo número de iteraciones (por defecto 1000).\n",
    "- `show_trace`: muestra en pantalla las iteraciones del algoritmo (por defecto false)."
   ]
  }
 ],
 "metadata": {
  "kernelspec": {
   "display_name": "Julia 1.4.1",
   "language": "julia",
   "name": "julia-1.4"
  },
  "language_info": {
   "file_extension": ".jl",
   "mimetype": "application/julia",
   "name": "julia",
   "version": "1.4.1"
  }
 },
 "nbformat": 4,
 "nbformat_minor": 2
}
