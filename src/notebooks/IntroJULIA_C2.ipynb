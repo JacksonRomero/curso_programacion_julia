{
 "cells": [
  {
   "cell_type": "markdown",
   "metadata": {
    "slideshow": {
     "slide_type": "slide"
    }
   },
   "source": [
    "# Introducción a la Programación en Julia \n",
    "## Notebook 2\n",
    "\n",
    "Mauricio Tejada\n",
    "\n",
    "ILADES - Universidad Alberto Hurtado"
   ]
  },
  {
   "cell_type": "markdown",
   "metadata": {
    "slideshow": {
     "slide_type": "slide"
    }
   },
   "source": [
    "## 2. Primeros Pasos en Julia\n",
    "\n",
    "**Julia** es un lenguaje de programación dinámico de alto nivel y altamente eficiente diseñado para realizar análisis numérico. Julia fue creado para eliminar el problema del *doble lenguaje*. \n",
    "\n",
    "Los lenguajes de programación se categorizan en lenguajes de *alto nivel* y lenguajes de *bajo nivel*.\n",
    "\n",
    "> Un lenguaje de *programación de alto nivel* se caracteriza por expresar el algoritmo de una manera adecuada a la capacidad cognitiva humana, en lugar de la capacidad ejecutora de las máquinas. \n",
    ">\n",
    ">Un lenguaje de *programación de bajo nivel* es aquel en el que sus instrucciones ejercen un control directo sobre el hardware y están condicionados por la estructura física de las computadoras que lo soportan. \n",
    ">\n",
    ">El uso de la palabra bajo nivel no implica que el lenguaje sea menos potente que un lenguaje de alto nivel, sino que se refiere a la reducida abstracción entre el lenguaje y el hardware \n",
    ">\n",
    ">*Wikipedia*\n",
    "\n",
    "Los lenguajes de alto nivel (como Matlab, R, Python, etc) buscan minimizar el tiempo de programación pero son ineficientes en lo que se refiere al tiempo de ejecución. Los lenguajes de bajo nivel (como C, C++, Fortran, etc), por el contrario, requieren más tiempo y esfuerzo al programar pero son bastante eficientes en la ejecución.  "
   ]
  },
  {
   "cell_type": "markdown",
   "metadata": {
    "slideshow": {
     "slide_type": "slide"
    }
   },
   "source": [
    "El problema del doble lenguaje surge en dos situaciones:\n",
    "\n",
    "1. Realizar el prototipo de programa en un lenguaje de alto nivel y luego re-programar en un lenguaje de bajo nivel para obtener mayor velocidad en ejecución.\n",
    "2. Muchos lenguajes de alto nivel (incluidos Matlab, Python y R) tienen dos capas: lenguaje de alto nivel en la interacción con el usuario que llama a programas en lenguaje de bajo nivel para que se ejecuten detrás de bambalinas.\n"
   ]
  },
  {
   "cell_type": "markdown",
   "metadata": {
    "slideshow": {
     "slide_type": "slide"
    }
   },
   "source": [
    "### 2.1 Instalar e Interactuar con Julia\n",
    "\n",
    "- Bajar Julia de la página oficial: https://julialang.org/downloads/. Elegir la versión según el sistema operativo. Es recomendable bajar la versión LTS (soporte de largo plazo): actualmente v1.0.5.\n",
    "- Vamos a usar un *entorno de desarrollo integrado (IDE)* para trabajar con Julia. Tenemos varias opciones:\n",
    "     - Atom + Juno: Bajar Atom (https://atom.io/) e intalar JUNO (Configuración + Intalar Paquetes).\n",
    "     - Visula Studio Code + Julia: Bajar VSCode (https://code.visualstudio.com/) e instalar la extensión Julia. *Este es el IDE que actualmente estoy usando*.\n",
    "     - Jupyter notebooks. Instalar paquete IJulia en Julia (más adelante)\n",
    "\n",
    "Una alternativa para bajar Julia en un empaquetado de Julia+JUNO+Jupyter es instalar JuliaPRO. La versión básica es gratuita y sólo requiere registro de usuario. Se puede descargar JuliaPRO del siguiente link: https://juliacomputing.com/products/juliapro.html"
   ]
  },
  {
   "cell_type": "markdown",
   "metadata": {
    "slideshow": {
     "slide_type": "slide"
    }
   },
   "source": [
    "Julia usa el espacio de un directorio como área de trabajo. Dicho directorio se denomina *directorio de trabajo* y todos los archivos (que no formen parte del paquete) deber estar en dicho directorio (por ejemplo, datos, procedimientos adicionales, etc).\n",
    "\n",
    "* Usar `pwd()` para conocer el directorio de trabajo actual.\n",
    "* Usar `cd(\"directorio\")` para cambiar el directorio de trabajo."
   ]
  },
  {
   "cell_type": "code",
   "execution_count": 1,
   "metadata": {},
   "outputs": [
    {
     "data": {
      "text/plain": [
       "\"/Users/mauriciotejada/Dropbox/Teaching/MAE - Julia/2020/slides\""
      ]
     },
     "execution_count": 1,
     "metadata": {},
     "output_type": "execute_result"
    }
   ],
   "source": [
    "pwd()"
   ]
  },
  {
   "cell_type": "code",
   "execution_count": 2,
   "metadata": {},
   "outputs": [
    {
     "data": {
      "text/plain": [
       "\"/Users/mauriciotejada/Dropbox\""
      ]
     },
     "execution_count": 2,
     "metadata": {},
     "output_type": "execute_result"
    }
   ],
   "source": [
    "cd(\"/Users/mauriciotejada/Dropbox/\")\n",
    "pwd()"
   ]
  },
  {
   "cell_type": "code",
   "execution_count": 3,
   "metadata": {},
   "outputs": [],
   "source": [
    "cd(\"/Users/mauriciotejada/Dropbox/Teaching/MAE - Julia/2020/slides\");"
   ]
  },
  {
   "cell_type": "markdown",
   "metadata": {},
   "source": [
    "Note: Los usuarios de Windows deben usar las rutas en formato `C:\\Dir\\Subdir\\`"
   ]
  },
  {
   "cell_type": "markdown",
   "metadata": {
    "slideshow": {
     "slide_type": "slide"
    }
   },
   "source": [
    "### 2.2 Ayuda\n",
    "\n",
    "Más allá de este curso introductorio, la mejor forma de aprender Julia es a través de la experimentación. Las dos fuentes más importantes para referencia: \n",
    "1. Documentación de Julia: https://docs.julialang.org/en/v1/. En la parte de abajo (a la izquierda) es posible seleccionar la versión de Julia.\n",
    "2. Google (existen literalmente millones de códigos en la web que resuelven distintos problemas).\n",
    "\n",
    "Para acceder a la documentación de Julia usar `?` y el curso cambiará a `help?>`. Por ejemplo, se puede buscar ayuda sobre un comando o procedimiento en particular usando `? comando`"
   ]
  },
  {
   "cell_type": "code",
   "execution_count": 4,
   "metadata": {},
   "outputs": [
    {
     "name": "stdout",
     "output_type": "stream",
     "text": [
      "search: \u001b[0m\u001b[1mp\u001b[22m\u001b[0m\u001b[1mr\u001b[22m\u001b[0m\u001b[1mi\u001b[22m\u001b[0m\u001b[1mn\u001b[22m\u001b[0m\u001b[1mt\u001b[22m\u001b[0m\u001b[1ml\u001b[22m\u001b[0m\u001b[1mn\u001b[22m \u001b[0m\u001b[1mp\u001b[22m\u001b[0m\u001b[1mr\u001b[22m\u001b[0m\u001b[1mi\u001b[22m\u001b[0m\u001b[1mn\u001b[22m\u001b[0m\u001b[1mt\u001b[22msty\u001b[0m\u001b[1ml\u001b[22med \u001b[0m\u001b[1mp\u001b[22m\u001b[0m\u001b[1mr\u001b[22m\u001b[0m\u001b[1mi\u001b[22m\u001b[0m\u001b[1mn\u001b[22m\u001b[0m\u001b[1mt\u001b[22m s\u001b[0m\u001b[1mp\u001b[22m\u001b[0m\u001b[1mr\u001b[22m\u001b[0m\u001b[1mi\u001b[22m\u001b[0m\u001b[1mn\u001b[22m\u001b[0m\u001b[1mt\u001b[22m is\u001b[0m\u001b[1mp\u001b[22m\u001b[0m\u001b[1mr\u001b[22m\u001b[0m\u001b[1mi\u001b[22m\u001b[0m\u001b[1mn\u001b[22m\u001b[0m\u001b[1mt\u001b[22m\n",
      "\n"
     ]
    },
    {
     "data": {
      "text/latex": [
       "\\begin{verbatim}\n",
       "println([io::IO], xs...)\n",
       "\\end{verbatim}\n",
       "Print (using \\href{@ref}{\\texttt{print}}) \\texttt{xs} followed by a newline. If \\texttt{io} is not supplied, prints to \\href{@ref}{\\texttt{stdout}}.\n",
       "\n",
       "\\section{Examples}\n",
       "\\begin{verbatim}\n",
       "julia> println(\"Hello, world\")\n",
       "Hello, world\n",
       "\n",
       "julia> io = IOBuffer();\n",
       "\n",
       "julia> println(io, \"Hello, world\")\n",
       "\n",
       "julia> String(take!(io))\n",
       "\"Hello, world\\n\"\n",
       "\\end{verbatim}\n"
      ],
      "text/markdown": [
       "```\n",
       "println([io::IO], xs...)\n",
       "```\n",
       "\n",
       "Print (using [`print`](@ref)) `xs` followed by a newline. If `io` is not supplied, prints to [`stdout`](@ref).\n",
       "\n",
       "# Examples\n",
       "\n",
       "```jldoctest\n",
       "julia> println(\"Hello, world\")\n",
       "Hello, world\n",
       "\n",
       "julia> io = IOBuffer();\n",
       "\n",
       "julia> println(io, \"Hello, world\")\n",
       "\n",
       "julia> String(take!(io))\n",
       "\"Hello, world\\n\"\n",
       "```\n"
      ],
      "text/plain": [
       "\u001b[36m  println([io::IO], xs...)\u001b[39m\n",
       "\n",
       "  Print (using \u001b[36mprint\u001b[39m) \u001b[36mxs\u001b[39m followed by a newline. If \u001b[36mio\u001b[39m is not supplied, prints\n",
       "  to \u001b[36mstdout\u001b[39m.\n",
       "\n",
       "\u001b[1m  Examples\u001b[22m\n",
       "\u001b[1m  ≡≡≡≡≡≡≡≡≡≡\u001b[22m\n",
       "\n",
       "\u001b[36m  julia> println(\"Hello, world\")\u001b[39m\n",
       "\u001b[36m  Hello, world\u001b[39m\n",
       "\u001b[36m  \u001b[39m\n",
       "\u001b[36m  julia> io = IOBuffer();\u001b[39m\n",
       "\u001b[36m  \u001b[39m\n",
       "\u001b[36m  julia> println(io, \"Hello, world\")\u001b[39m\n",
       "\u001b[36m  \u001b[39m\n",
       "\u001b[36m  julia> String(take!(io))\u001b[39m\n",
       "\u001b[36m  \"Hello, world\\n\"\u001b[39m"
      ]
     },
     "execution_count": 4,
     "metadata": {},
     "output_type": "execute_result"
    }
   ],
   "source": [
    "? println"
   ]
  },
  {
   "cell_type": "markdown",
   "metadata": {
    "slideshow": {
     "slide_type": "slide"
    }
   },
   "source": [
    "### 2.3 Paquetes\n",
    "\n",
    "Es posible aumentar las capacidades de Julia usando paquetes (ya sea con los que vienen en la instalación base como con externos). Los paquetes son invocados (después de haber sido instalados) usando la sintaxis: `using nombre_paquete`. Para administrar los paquetes en julia se usa el *paquete* `Pkg`. La sintaxis para instalar un paquete es: \n",
    "\n",
    "```julia\n",
    "using Pkg\n",
    "Pkg.add(\"nombre_paquete\")\n",
    "```\n",
    "\n",
    "**Nota:** El computador debe estar conectado a Internet para descargar los archivos binarios del paquete a instalar. Los archivos descargados son guardados en la carpeta: `~/.julia/environments/`.\n",
    "\n",
    "Cada paquete por defecto instala todas las dependencias necesarias para funcionar (esto es, otros paquetes necesarios).\n",
    "\n",
    "Adicionalmente, los siguientes comandos son útiles:\n",
    "\n",
    "- `Pkg.rm(\"nombre_paquete\")`: Elimina un paquete.\n",
    "- `Pkg.build(\"nombre_paquete\")`: Reconstruye un paquete desde sus archivos binarios.\n",
    "- `Pkg.status()`: Provee una lista de los paquetes instalados.\n",
    "- `Pkg.update()`: Actualiza los paquetes instalados.\n",
    "\n",
    "Los paquetes y sus versiones utilizados en este curso son:"
   ]
  },
  {
   "cell_type": "code",
   "execution_count": 5,
   "metadata": {},
   "outputs": [
    {
     "name": "stdout",
     "output_type": "stream",
     "text": [
      "\u001b[32m\u001b[1mStatus\u001b[22m\u001b[39m `~/.julia/environments/v1.4/Project.toml`\n",
      " \u001b[90m [28f2ccd6]\u001b[39m\u001b[37m ApproxFun v0.11.14\u001b[39m\n",
      " \u001b[90m [e28b5b4c]\u001b[39m\u001b[37m Bootstrap v2.2.0\u001b[39m\n",
      " \u001b[90m [336ed68f]\u001b[39m\u001b[37m CSV v0.6.2\u001b[39m\n",
      " \u001b[90m [49dc2e85]\u001b[39m\u001b[37m Calculus v0.5.1\u001b[39m\n",
      " \u001b[90m [8f4d0f93]\u001b[39m\u001b[37m Conda v1.4.1\u001b[39m\n",
      " \u001b[90m [667455a9]\u001b[39m\u001b[37m Cubature v1.5.1\u001b[39m\n",
      " \u001b[90m [a93c6f00]\u001b[39m\u001b[37m DataFrames v0.21.2\u001b[39m\n",
      " \u001b[90m [31c24e10]\u001b[39m\u001b[37m Distributions v0.23.4\u001b[39m\n",
      " \u001b[90m [c04bee98]\u001b[39m\u001b[37m ExcelReaders v0.11.0\u001b[39m\n",
      " \u001b[90m [f6369f11]\u001b[39m\u001b[37m ForwardDiff v0.10.10\u001b[39m\n",
      " \u001b[90m [38e38edf]\u001b[39m\u001b[37m GLM v1.3.9\u001b[39m\n",
      " \u001b[90m [60bf3e95]\u001b[39m\u001b[37m GLPK v0.13.0\u001b[39m\n",
      " \u001b[90m [7073ff75]\u001b[39m\u001b[37m IJulia v1.21.2\u001b[39m\n",
      " \u001b[90m [a98d9a8b]\u001b[39m\u001b[37m Interpolations v0.12.10\u001b[39m\n",
      " \u001b[90m [b6b21f68]\u001b[39m\u001b[37m Ipopt v0.6.2\u001b[39m\n",
      " \u001b[90m [4138dd39]\u001b[39m\u001b[37m JLD v0.10.0\u001b[39m\n",
      " \u001b[90m [4076af6c]\u001b[39m\u001b[37m JuMP v0.21.2\u001b[39m\n",
      " \u001b[90m [857edff2]\u001b[39m\u001b[37m KernelEstimator v0.3.3\u001b[39m\n",
      " \u001b[90m [b964fa9f]\u001b[39m\u001b[37m LaTeXStrings v1.1.0\u001b[39m\n",
      " \u001b[90m [98b081ad]\u001b[39m\u001b[37m Literate v2.5.0\u001b[39m\n",
      " \u001b[90m [6f286f6a]\u001b[39m\u001b[37m MultivariateStats v0.7.0\u001b[39m\n",
      " \u001b[90m [2774e3e8]\u001b[39m\u001b[37m NLsolve v4.4.0\u001b[39m\n",
      " \u001b[90m [90c472d1]\u001b[39m\u001b[37m OOPMacro v0.4.0\u001b[39m\n",
      " \u001b[90m [429524aa]\u001b[39m\u001b[37m Optim v0.21.0\u001b[39m\n",
      " \u001b[90m [91a5bcdd]\u001b[39m\u001b[37m Plots v1.4.0\u001b[39m\n",
      " \u001b[90m [c3e4b0f8]\u001b[39m\u001b[37m Pluto v0.9.9\u001b[39m\n",
      " \u001b[90m [438e738f]\u001b[39m\u001b[37m PyCall v1.91.4\u001b[39m\n",
      " \u001b[90m [d330b81b]\u001b[39m\u001b[37m PyPlot v2.9.0\u001b[39m\n",
      " \u001b[90m [1fd47b50]\u001b[39m\u001b[37m QuadGK v2.3.1\u001b[39m\n",
      " \u001b[90m [fcd29c91]\u001b[39m\u001b[37m QuantEcon v0.16.2\u001b[39m\n",
      " \u001b[90m [295af30f]\u001b[39m\u001b[37m Revise v2.7.3\u001b[39m\n",
      " \u001b[90m [f2b01f46]\u001b[39m\u001b[37m Roots v1.0.2\u001b[39m\n",
      " \u001b[90m [2913bbd2]\u001b[39m\u001b[37m StatsBase v0.33.0\u001b[39m\n",
      " \u001b[90m [3eaba693]\u001b[39m\u001b[37m StatsModels v0.6.11\u001b[39m\n",
      " \u001b[90m [24249f21]\u001b[39m\u001b[37m SymPy v1.0.26\u001b[39m\n",
      " \u001b[90m [9e3dc215]\u001b[39m\u001b[37m TimeSeries v0.18.0\u001b[39m\n"
     ]
    }
   ],
   "source": [
    "using Pkg\n",
    "Pkg.status()"
   ]
  },
  {
   "cell_type": "markdown",
   "metadata": {
    "slideshow": {
     "slide_type": "slide"
    }
   },
   "source": [
    "### 2.4 Comentarios\n",
    "\n",
    "Comentar o dejar documentación en diferentes partes de un código es muy útil para explicar en detalle que es exactamente qué cálculos se están realizando. Esto es particularmente útil cuando el código es compartido con otra persona o con uno mismo en el futuro. \n",
    "\n",
    "- Comentarios de una sola línea inician con `#`. Todo lo que precede a este símbolo será ignorado por Julia.\n",
    "- Comentarios de más de una línea inician con `#=` y cierran con `=#`. Estos comentarios son útiles para escribir documentación de detallada que requiera de varias líneas."
   ]
  },
  {
   "cell_type": "markdown",
   "metadata": {
    "slideshow": {
     "slide_type": "slide"
    }
   },
   "source": [
    "### 2.5 Variables\n",
    "\n",
    "Julia es un lenguaje basado en expresiones. \n",
    "\n",
    "Las expresiones que introducimos mediante el teclado son interpretadas y evaluadas. \n",
    "\n",
    "Cada expresión genera algún tipo de *output* que puede ser asignado en una *variable*. La asignación se realiza de la siguiente forma:\n",
    "\n",
    "```\n",
    "nombrevariable = expresión\n",
    "```\n",
    "\n",
    "Si se introduce alguna expresión pero no se define un nombre para la variable, Julia asigna la expresión a una variable auxiliar temporal denominada `ans`.\n",
    "\n",
    "Todas las variables son almacenadas en la memoria RAM del computador por lo que se pierden en cuanto uno sale y apaga  Julia.\n",
    "\n",
    "Algunas reglas al elegir los nombres de las variables:\n",
    "\n",
    "- Los nombres deben empezar con una letra y pueden contener letras, números y `_`.\n",
    "- Julia es sensible a mayúsculas y minúsculas (`x` es diferente de `X`).\n",
    "- Julia soporta el sistema unicode para nombrar variables. Por ejemplo, es posible llamar una variable `\\alpha<TAB> = 0.3` (recuerde presionar la tecla TAB antes de escribir el signo igual)."
   ]
  },
  {
   "cell_type": "markdown",
   "metadata": {
    "slideshow": {
     "slide_type": "slide"
    }
   },
   "source": [
    "Tipos básicos de variables:\n",
    "\n",
    "1. Numéricas (distinguiendo entre enteros (`Int64`), decimales (`Float64`) y complejos (`Complex`)):"
   ]
  },
  {
   "cell_type": "code",
   "execution_count": 6,
   "metadata": {},
   "outputs": [
    {
     "data": {
      "text/plain": [
       "Float64"
      ]
     },
     "execution_count": 6,
     "metadata": {},
     "output_type": "execute_result"
    }
   ],
   "source": [
    "x = 2.5\n",
    "typeof(x) # función que muestra el tipo de la variable"
   ]
  },
  {
   "cell_type": "code",
   "execution_count": 7,
   "metadata": {},
   "outputs": [
    {
     "data": {
      "text/plain": [
       "Int64"
      ]
     },
     "execution_count": 7,
     "metadata": {},
     "output_type": "execute_result"
    }
   ],
   "source": [
    "y = 4\n",
    "typeof(y)"
   ]
  },
  {
   "cell_type": "code",
   "execution_count": 8,
   "metadata": {},
   "outputs": [
    {
     "data": {
      "text/plain": [
       "Complex{Float64}"
      ]
     },
     "execution_count": 8,
     "metadata": {},
     "output_type": "execute_result"
    }
   ],
   "source": [
    "variable_imaginaria = 2.0 + 5.0im\n",
    "typeof(variable_imaginaria)"
   ]
  },
  {
   "cell_type": "code",
   "execution_count": 9,
   "metadata": {},
   "outputs": [
    {
     "data": {
      "text/plain": [
       "Float64"
      ]
     },
     "execution_count": 9,
     "metadata": {},
     "output_type": "execute_result"
    }
   ],
   "source": [
    "α = 0.4\n",
    "typeof(α)"
   ]
  },
  {
   "cell_type": "markdown",
   "metadata": {
    "slideshow": {
     "slide_type": "slide"
    }
   },
   "source": [
    "2. Texto (se asignan usando `\"\"` o `\"\"\" \"\"\"`):"
   ]
  },
  {
   "cell_type": "code",
   "execution_count": 10,
   "metadata": {},
   "outputs": [
    {
     "data": {
      "text/plain": [
       "String"
      ]
     },
     "execution_count": 10,
     "metadata": {},
     "output_type": "execute_result"
    }
   ],
   "source": [
    "Y_1 = \"Texto\"\n",
    "typeof(Y_1)"
   ]
  },
  {
   "cell_type": "code",
   "execution_count": 11,
   "metadata": {},
   "outputs": [
    {
     "data": {
      "text/plain": [
       "\"Pueden incluirse Espacios\""
      ]
     },
     "execution_count": 11,
     "metadata": {},
     "output_type": "execute_result"
    }
   ],
   "source": [
    "var_texto = \"Pueden incluirse Espacios\""
   ]
  },
  {
   "cell_type": "code",
   "execution_count": 12,
   "metadata": {},
   "outputs": [
    {
     "data": {
      "text/plain": [
       "\"Esto es un texto muy largo incluido en una\\nvariable. El texto tiene varias lineas.\\n\""
      ]
     },
     "execution_count": 12,
     "metadata": {},
     "output_type": "execute_result"
    }
   ],
   "source": [
    "var_texto_muy_largo = \"\"\"\n",
    "Esto es un texto muy largo incluido en una\n",
    "variable. El texto tiene varias lineas.\n",
    "\"\"\""
   ]
  },
  {
   "cell_type": "markdown",
   "metadata": {
    "slideshow": {
     "slide_type": "slide"
    }
   },
   "source": [
    "3. Booleanos (variables dicotómicas o que sólo admiten dos valores: verdadero (`true`) o falso (`false`).)"
   ]
  },
  {
   "cell_type": "code",
   "execution_count": 13,
   "metadata": {},
   "outputs": [
    {
     "data": {
      "text/plain": [
       "Bool"
      ]
     },
     "execution_count": 13,
     "metadata": {},
     "output_type": "execute_result"
    }
   ],
   "source": [
    "var_bool = true\n",
    "typeof(var_bool)"
   ]
  },
  {
   "cell_type": "markdown",
   "metadata": {
    "slideshow": {
     "slide_type": "slide"
    }
   },
   "source": [
    "4. Carácter (el valor de una constante de tipo carácter es el valor numérico de ese carácter en el código ASCII):"
   ]
  },
  {
   "cell_type": "code",
   "execution_count": 14,
   "metadata": {},
   "outputs": [
    {
     "data": {
      "text/plain": [
       "Char"
      ]
     },
     "execution_count": 14,
     "metadata": {},
     "output_type": "execute_result"
    }
   ],
   "source": [
    "var_car = 'a'\n",
    "typeof(var_car)"
   ]
  },
  {
   "cell_type": "markdown",
   "metadata": {},
   "source": [
    "Para saber qué objetos se han creado se usan los comandos `varinfo()`. Esta función muestra los nombres de todas las variables y da información detallada del tipo y el tamaño."
   ]
  },
  {
   "cell_type": "code",
   "execution_count": 15,
   "metadata": {},
   "outputs": [
    {
     "data": {
      "text/latex": [
       "\\begin{tabular}\n",
       "{l | r | l}\n",
       "name & size & summary \\\\\n",
       "\\hline\n",
       "Base &  & Module \\\\\n",
       "Core &  & Module \\\\\n",
       "Main &  & Module \\\\\n",
       "Y\\_1 & 13 bytes & String \\\\\n",
       "var\\_bool & 1 byte & Bool \\\\\n",
       "var\\_car & 4 bytes & Char \\\\\n",
       "var\\_texto & 33 bytes & String \\\\\n",
       "var\\_texto\\_muy\\_largo & 91 bytes & String \\\\\n",
       "variable\\_imaginaria & 16 bytes & Complex\\{Float64\\} \\\\\n",
       "x & 8 bytes & Float64 \\\\\n",
       "y & 8 bytes & Int64 \\\\\n",
       "α & 8 bytes & Float64 \\\\\n",
       "\\end{tabular}\n"
      ],
      "text/markdown": [
       "| name                |     size | summary          |\n",
       "|:------------------- | --------:|:---------------- |\n",
       "| Base                |          | Module           |\n",
       "| Core                |          | Module           |\n",
       "| Main                |          | Module           |\n",
       "| Y_1                 | 13 bytes | String           |\n",
       "| var_bool            |   1 byte | Bool             |\n",
       "| var_car             |  4 bytes | Char             |\n",
       "| var_texto           | 33 bytes | String           |\n",
       "| var_texto_muy_largo | 91 bytes | String           |\n",
       "| variable_imaginaria | 16 bytes | Complex{Float64} |\n",
       "| x                   |  8 bytes | Float64          |\n",
       "| y                   |  8 bytes | Int64            |\n",
       "| α                   |  8 bytes | Float64          |\n"
      ],
      "text/plain": [
       "  name                    size summary         \n",
       "  ––––––––––––––––––– –––––––– ––––––––––––––––\n",
       "  Base                         Module          \n",
       "  Core                         Module          \n",
       "  Main                         Module          \n",
       "  Y_1                 13 bytes String          \n",
       "  var_bool              1 byte Bool            \n",
       "  var_car              4 bytes Char            \n",
       "  var_texto           33 bytes String          \n",
       "  var_texto_muy_largo 91 bytes String          \n",
       "  variable_imaginaria 16 bytes Complex{Float64}\n",
       "  x                    8 bytes Float64         \n",
       "  y                    8 bytes Int64           \n",
       "  α                    8 bytes Float64         "
      ]
     },
     "execution_count": 15,
     "metadata": {},
     "output_type": "execute_result"
    }
   ],
   "source": [
    "varinfo()"
   ]
  },
  {
   "cell_type": "markdown",
   "metadata": {
    "slideshow": {
     "slide_type": "slide"
    }
   },
   "source": [
    "### 2.6 Operaciones Matemáticas Básicas\n",
    "\n",
    "Julia tiene todas las operaciones matemáticas básicas:\n",
    "\n",
    "1. Suma (`+`)\n",
    "2. Resta (`-`)\n",
    "3. Multiplicación (`*`)\n",
    "4. División (`/`)\n",
    "5. Potencia (`^`)\n",
    "6. Módulo (`%`)"
   ]
  },
  {
   "cell_type": "code",
   "execution_count": 16,
   "metadata": {},
   "outputs": [
    {
     "data": {
      "text/plain": [
       "7.4"
      ]
     },
     "execution_count": 16,
     "metadata": {},
     "output_type": "execute_result"
    }
   ],
   "source": [
    "x = 2.4\n",
    "y = 5\n",
    "z_sum = x + y"
   ]
  },
  {
   "cell_type": "code",
   "execution_count": 17,
   "metadata": {},
   "outputs": [
    {
     "data": {
      "text/plain": [
       "Float64"
      ]
     },
     "execution_count": 17,
     "metadata": {},
     "output_type": "execute_result"
    }
   ],
   "source": [
    "typeof(z_sum)"
   ]
  },
  {
   "cell_type": "code",
   "execution_count": 18,
   "metadata": {},
   "outputs": [
    {
     "data": {
      "text/plain": [
       "12.0"
      ]
     },
     "execution_count": 18,
     "metadata": {},
     "output_type": "execute_result"
    }
   ],
   "source": [
    "z_pro = x*y"
   ]
  },
  {
   "cell_type": "code",
   "execution_count": 19,
   "metadata": {},
   "outputs": [
    {
     "data": {
      "text/plain": [
       "79.62623999999998"
      ]
     },
     "execution_count": 19,
     "metadata": {},
     "output_type": "execute_result"
    }
   ],
   "source": [
    "z_pot = x^y"
   ]
  },
  {
   "cell_type": "code",
   "execution_count": 20,
   "metadata": {},
   "outputs": [
    {
     "data": {
      "text/plain": [
       "2"
      ]
     },
     "execution_count": 20,
     "metadata": {},
     "output_type": "execute_result"
    }
   ],
   "source": [
    "x = 5\n",
    "y = 2\n",
    "z_mod = y % x"
   ]
  },
  {
   "cell_type": "markdown",
   "metadata": {
    "slideshow": {
     "slide_type": "slide"
    }
   },
   "source": [
    "La operación multiplicación `*` esta definida también cuando las variables son tipo texto y sirve para concatenar variables:"
   ]
  },
  {
   "cell_type": "code",
   "execution_count": 21,
   "metadata": {},
   "outputs": [
    {
     "data": {
      "text/plain": [
       "\"hola amigo Jon Snow\""
      ]
     },
     "execution_count": 21,
     "metadata": {},
     "output_type": "execute_result"
    }
   ],
   "source": [
    "a = \"hola amigo \"\n",
    "b = \"Jon Snow\"\n",
    "z = a * b"
   ]
  },
  {
   "cell_type": "markdown",
   "metadata": {},
   "source": [
    "### 2.7 Estructura de Datos\n",
    "\n",
    "En el trabajo diario con variables es útil poder almacenarlas conjuntamente en ciertas estructuras de datos y trabajar con todas ellas al mismo tiempo que usarlas todas de manera dispersa. Los tipos de estructuras de datos básicos son:\n",
    "\n",
    "1. Tuplas (Tuples)\n",
    "2. Diccionarios (Dictionaries)\n",
    "3. Arreglos (Arrays)\n",
    "\n",
    "Algunos comentarios:\n",
    "\n",
    "- Las Tuplas y los Arreglos son secuencias ordenadas de elemento y por tanto es posible utilizar índices para describir sus elementos. Los Diccionarios, en tanto, asocian a cada elemento una clave. \n",
    "- Los Diccionarios y los Arreglos son mutables (podemos cambiar sus elementos), en tanto que las Tuplas no lo son.\n",
    "- Las tres estructuras de datos pueden contener una mezcla de tipos de variables, por ejemplo almacenando tanto valores numéricos con de tipo texto.\n",
    "\n",
    "\n",
    "1. Las **Tuplas** se crean utilizando el siguiente sintaxis: `nombre = (item1, item2, ...)`"
   ]
  },
  {
   "cell_type": "code",
   "execution_count": 22,
   "metadata": {},
   "outputs": [
    {
     "data": {
      "text/plain": [
       "(1, 2, 3, \"texto\")"
      ]
     },
     "execution_count": 22,
     "metadata": {},
     "output_type": "execute_result"
    }
   ],
   "source": [
    "xtup = (1, 2, 3, \"texto\")"
   ]
  },
  {
   "cell_type": "markdown",
   "metadata": {},
   "source": [
    "Cada elemento puede ser recuperado usando el índice asociado a su ordenamiento (empezando en 1) bajo el sintaxis `nombre_var[indice]`:"
   ]
  },
  {
   "cell_type": "code",
   "execution_count": 23,
   "metadata": {},
   "outputs": [
    {
     "data": {
      "text/plain": [
       "\"texto\""
      ]
     },
     "execution_count": 23,
     "metadata": {},
     "output_type": "execute_result"
    }
   ],
   "source": [
    "xtup[4]"
   ]
  },
  {
   "cell_type": "markdown",
   "metadata": {},
   "source": [
    "Como las Tuplas son inmutables, no se puede cambiar el contenido de ellas una vez que ya se crearon."
   ]
  },
  {
   "cell_type": "code",
   "execution_count": 24,
   "metadata": {},
   "outputs": [
    {
     "ename": "MethodError",
     "evalue": "MethodError: no method matching setindex!(::Tuple{Int64,Int64,Int64,String}, ::Int64, ::Int64)",
     "output_type": "error",
     "traceback": [
      "MethodError: no method matching setindex!(::Tuple{Int64,Int64,Int64,String}, ::Int64, ::Int64)",
      "",
      "Stacktrace:",
      " [1] top-level scope at In[24]:1"
     ]
    }
   ],
   "source": [
    "xtup[2] = 8"
   ]
  },
  {
   "cell_type": "markdown",
   "metadata": {},
   "source": [
    "2. Los **Diccionarios** se crean utilizando la siguiente sintaxis: `Dict(clave1 => valor1, clave2 => valor2, ...)`"
   ]
  },
  {
   "cell_type": "code",
   "execution_count": 25,
   "metadata": {},
   "outputs": [
    {
     "data": {
      "text/plain": [
       "Dict{String,Any} with 3 entries:\n",
       "  \"Ernesto\" => \"No Rindio el Examen\"\n",
       "  \"Camila\"  => 6.8\n",
       "  \"Javier\"  => 6.5"
      ]
     },
     "execution_count": 25,
     "metadata": {},
     "output_type": "execute_result"
    }
   ],
   "source": [
    "notas = Dict(\"Javier\" => 6.5, \"Camila\" => 6.8, \"Ernesto\" => \"No Rindio el Examen\")"
   ]
  },
  {
   "cell_type": "markdown",
   "metadata": {},
   "source": [
    "Cada elemento puede ser recuperado usando su clave asociada bajo el sintaxis `nombre_dic[\"clave\"]`:"
   ]
  },
  {
   "cell_type": "code",
   "execution_count": 26,
   "metadata": {},
   "outputs": [
    {
     "data": {
      "text/plain": [
       "6.8"
      ]
     },
     "execution_count": 26,
     "metadata": {},
     "output_type": "execute_result"
    }
   ],
   "source": [
    "notas[\"Camila\"]"
   ]
  },
  {
   "cell_type": "markdown",
   "metadata": {},
   "source": [
    "Los Diccionarios son mutable por lo que podemos cambiar su contenido:"
   ]
  },
  {
   "cell_type": "code",
   "execution_count": 27,
   "metadata": {},
   "outputs": [
    {
     "data": {
      "text/plain": [
       "7.0"
      ]
     },
     "execution_count": 27,
     "metadata": {},
     "output_type": "execute_result"
    }
   ],
   "source": [
    "notas[\"Ernesto\"] = 7.0"
   ]
  },
  {
   "cell_type": "code",
   "execution_count": 28,
   "metadata": {},
   "outputs": [
    {
     "data": {
      "text/plain": [
       "Dict{String,Any} with 3 entries:\n",
       "  \"Ernesto\" => 7.0\n",
       "  \"Camila\"  => 6.8\n",
       "  \"Javier\"  => 6.5"
      ]
     },
     "execution_count": 28,
     "metadata": {},
     "output_type": "execute_result"
    }
   ],
   "source": [
    "notas"
   ]
  },
  {
   "cell_type": "markdown",
   "metadata": {},
   "source": [
    "Es posible además adicionar elementos definiendo una clave inexistente y su valor:"
   ]
  },
  {
   "cell_type": "code",
   "execution_count": 29,
   "metadata": {},
   "outputs": [
    {
     "data": {
      "text/plain": [
       "6.5"
      ]
     },
     "execution_count": 29,
     "metadata": {},
     "output_type": "execute_result"
    }
   ],
   "source": [
    "notas[\"Paola\"] = 6.5"
   ]
  },
  {
   "cell_type": "code",
   "execution_count": 30,
   "metadata": {},
   "outputs": [
    {
     "data": {
      "text/plain": [
       "Dict{String,Any} with 4 entries:\n",
       "  \"Ernesto\" => 7.0\n",
       "  \"Paola\"   => 6.5\n",
       "  \"Camila\"  => 6.8\n",
       "  \"Javier\"  => 6.5"
      ]
     },
     "execution_count": 30,
     "metadata": {},
     "output_type": "execute_result"
    }
   ],
   "source": [
    "notas"
   ]
  },
  {
   "cell_type": "markdown",
   "metadata": {},
   "source": [
    "Para eliminar una entrada del Diccionario usamos la función `pop!(Diccionario, \"clave\")`"
   ]
  },
  {
   "cell_type": "code",
   "execution_count": 31,
   "metadata": {},
   "outputs": [
    {
     "data": {
      "text/plain": [
       "6.5"
      ]
     },
     "execution_count": 31,
     "metadata": {},
     "output_type": "execute_result"
    }
   ],
   "source": [
    "pop!(notas, \"Javier\")"
   ]
  },
  {
   "cell_type": "code",
   "execution_count": 32,
   "metadata": {},
   "outputs": [
    {
     "data": {
      "text/plain": [
       "Dict{String,Any} with 3 entries:\n",
       "  \"Ernesto\" => 7.0\n",
       "  \"Paola\"   => 6.5\n",
       "  \"Camila\"  => 6.8"
      ]
     },
     "execution_count": 32,
     "metadata": {},
     "output_type": "execute_result"
    }
   ],
   "source": [
    "notas"
   ]
  },
  {
   "cell_type": "markdown",
   "metadata": {},
   "source": [
    "3. Los **Arreglos** se crean utilizando el siguiente sintaxis: `nombre = [item1, item2, ...]`"
   ]
  },
  {
   "cell_type": "code",
   "execution_count": 33,
   "metadata": {},
   "outputs": [
    {
     "data": {
      "text/plain": [
       "4-element Array{String,1}:\n",
       " \"Javier\"\n",
       " \"Camila\"\n",
       " \"Ernesto\"\n",
       " \"Paola\""
      ]
     },
     "execution_count": 33,
     "metadata": {},
     "output_type": "execute_result"
    }
   ],
   "source": [
    "lista_nombres = [\"Javier\", \"Camila\", \"Ernesto\", \"Paola\"]"
   ]
  },
  {
   "cell_type": "code",
   "execution_count": 34,
   "metadata": {},
   "outputs": [
    {
     "data": {
      "text/plain": [
       "5-element Array{Float64,1}:\n",
       " 3.8\n",
       " 4.0\n",
       " 2.5\n",
       " 6.8\n",
       " 9.0"
      ]
     },
     "execution_count": 34,
     "metadata": {},
     "output_type": "execute_result"
    }
   ],
   "source": [
    "secuencia_numeros = [3.8, 4.0, 2.5, 6.8, 9.0]"
   ]
  },
  {
   "cell_type": "code",
   "execution_count": 35,
   "metadata": {},
   "outputs": [
    {
     "data": {
      "text/plain": [
       "5-element Array{Any,1}:\n",
       " 3.8\n",
       " 4.0\n",
       " 2.5\n",
       " 6.8\n",
       "  \"texto\""
      ]
     },
     "execution_count": 35,
     "metadata": {},
     "output_type": "execute_result"
    }
   ],
   "source": [
    "arreglo_mexclado = [3.8, 4.0, 2.5, 6.8, \"texto\"]"
   ]
  },
  {
   "cell_type": "markdown",
   "metadata": {},
   "source": [
    "Al igual que con las Tuplas, cada elemento puede ser recuperado usando el índice asociado a su ordenamiento (empezando en 1) bajo el sintaxis `nombre_arreglo[indice]`: "
   ]
  },
  {
   "cell_type": "code",
   "execution_count": 36,
   "metadata": {},
   "outputs": [
    {
     "data": {
      "text/plain": [
       "6.8"
      ]
     },
     "execution_count": 36,
     "metadata": {},
     "output_type": "execute_result"
    }
   ],
   "source": [
    "secuencia_numeros[4]"
   ]
  },
  {
   "cell_type": "markdown",
   "metadata": {},
   "source": [
    "Los Arreglos son mutable por lo que podemos cambiar su contenido:"
   ]
  },
  {
   "cell_type": "code",
   "execution_count": 37,
   "metadata": {},
   "outputs": [
    {
     "data": {
      "text/plain": [
       "4.0"
      ]
     },
     "execution_count": 37,
     "metadata": {},
     "output_type": "execute_result"
    }
   ],
   "source": [
    "secuencia_numeros[4] = 4.0"
   ]
  },
  {
   "cell_type": "code",
   "execution_count": 38,
   "metadata": {},
   "outputs": [
    {
     "data": {
      "text/plain": [
       "5-element Array{Float64,1}:\n",
       " 3.8\n",
       " 4.0\n",
       " 2.5\n",
       " 4.0\n",
       " 9.0"
      ]
     },
     "execution_count": 38,
     "metadata": {},
     "output_type": "execute_result"
    }
   ],
   "source": [
    "secuencia_numeros"
   ]
  },
  {
   "cell_type": "markdown",
   "metadata": {},
   "source": [
    "Es posible editar el contenidos de un Arreglo usando las funciones `push!` y `pop!`.\n",
    "\n",
    "- `push!` adiciona un elemento al final del arreglo.\n",
    "- `pop!` remueve el último elemento del arreglo."
   ]
  },
  {
   "cell_type": "code",
   "execution_count": 39,
   "metadata": {},
   "outputs": [
    {
     "data": {
      "text/plain": [
       "7-element Array{Int64,1}:\n",
       "  1\n",
       "  1\n",
       "  2\n",
       "  3\n",
       "  5\n",
       "  8\n",
       " 13"
      ]
     },
     "execution_count": 39,
     "metadata": {},
     "output_type": "execute_result"
    }
   ],
   "source": [
    "fibonacci = [1, 1, 2, 3, 5, 8, 13]"
   ]
  },
  {
   "cell_type": "code",
   "execution_count": 40,
   "metadata": {},
   "outputs": [
    {
     "data": {
      "text/plain": [
       "8-element Array{Int64,1}:\n",
       "  1\n",
       "  1\n",
       "  2\n",
       "  3\n",
       "  5\n",
       "  8\n",
       " 13\n",
       " 21"
      ]
     },
     "execution_count": 40,
     "metadata": {},
     "output_type": "execute_result"
    }
   ],
   "source": [
    "push!(fibonacci, 21)"
   ]
  },
  {
   "cell_type": "code",
   "execution_count": 41,
   "metadata": {},
   "outputs": [
    {
     "data": {
      "text/plain": [
       "21"
      ]
     },
     "execution_count": 41,
     "metadata": {},
     "output_type": "execute_result"
    }
   ],
   "source": [
    "pop!(fibonacci)"
   ]
  },
  {
   "cell_type": "code",
   "execution_count": 42,
   "metadata": {},
   "outputs": [
    {
     "data": {
      "text/plain": [
       "7-element Array{Int64,1}:\n",
       "  1\n",
       "  1\n",
       "  2\n",
       "  3\n",
       "  5\n",
       "  8\n",
       " 13"
      ]
     },
     "execution_count": 42,
     "metadata": {},
     "output_type": "execute_result"
    }
   ],
   "source": [
    "fibonacci"
   ]
  },
  {
   "cell_type": "markdown",
   "metadata": {},
   "source": [
    "Como los arreglos (y también las Tuplas y los Diccionarios) almacenan información, es posible construir Arreglos que contengan otros Arreglos:"
   ]
  },
  {
   "cell_type": "code",
   "execution_count": 43,
   "metadata": {},
   "outputs": [
    {
     "data": {
      "text/plain": [
       "4-element Array{Any,1}:\n",
       "  [3, 4, 1]\n",
       "  [2, 1]\n",
       " 3\n",
       "  [6, 7, 8, 9, 11]"
      ]
     },
     "execution_count": 43,
     "metadata": {},
     "output_type": "execute_result"
    }
   ],
   "source": [
    "arreglos_compuestos = [[3, 4, 1], [2, 1], 3, [6, 7, 8, 9, 11]]"
   ]
  },
  {
   "cell_type": "markdown",
   "metadata": {},
   "source": [
    "Finalmente, se pueden crear Arreglos vacíos con el objetivo es reservar espacio en la memoria."
   ]
  },
  {
   "cell_type": "code",
   "execution_count": 44,
   "metadata": {},
   "outputs": [
    {
     "data": {
      "text/plain": [
       "0-element Array{Any,1}"
      ]
     },
     "execution_count": 44,
     "metadata": {},
     "output_type": "execute_result"
    }
   ],
   "source": [
    "arrogle_vacio = []"
   ]
  },
  {
   "cell_type": "markdown",
   "metadata": {},
   "source": [
    "**Nota:** Julia trata de optimizar el espacio usado en memoria no duplicando por defecto elementos. Así, si uno asigna un elemento a otro nombre usando `=` no está creando una copia sino una máscara para el mismo elemento. Esto es importante, porque si uno cambia el segundo elemento creado este cambio se reflejará también en el primer elemento. Por ejemplo:"
   ]
  },
  {
   "cell_type": "code",
   "execution_count": 45,
   "metadata": {},
   "outputs": [
    {
     "data": {
      "text/plain": [
       "3-element Array{Int64,1}:\n",
       " 3\n",
       " 4\n",
       " 5"
      ]
     },
     "execution_count": 45,
     "metadata": {},
     "output_type": "execute_result"
    }
   ],
   "source": [
    "x = [3, 4, 5]"
   ]
  },
  {
   "cell_type": "code",
   "execution_count": 46,
   "metadata": {},
   "outputs": [
    {
     "data": {
      "text/plain": [
       "3-element Array{Int64,1}:\n",
       " 3\n",
       " 4\n",
       " 5"
      ]
     },
     "execution_count": 46,
     "metadata": {},
     "output_type": "execute_result"
    }
   ],
   "source": [
    "y = x"
   ]
  },
  {
   "cell_type": "code",
   "execution_count": 47,
   "metadata": {},
   "outputs": [
    {
     "data": {
      "text/plain": [
       "100"
      ]
     },
     "execution_count": 47,
     "metadata": {},
     "output_type": "execute_result"
    }
   ],
   "source": [
    "y[3] = 100"
   ]
  },
  {
   "cell_type": "code",
   "execution_count": 48,
   "metadata": {},
   "outputs": [
    {
     "data": {
      "text/plain": [
       "3-element Array{Int64,1}:\n",
       "   3\n",
       "   4\n",
       " 100"
      ]
     },
     "execution_count": 48,
     "metadata": {},
     "output_type": "execute_result"
    }
   ],
   "source": [
    "x"
   ]
  },
  {
   "cell_type": "markdown",
   "metadata": {},
   "source": [
    "Para evitar esto se usa la función `copy()` (para estructuras más complejas se usa `deepcopy()`, copia además elementos dentro elementos como Arreglos dentro Arreglos)."
   ]
  },
  {
   "cell_type": "code",
   "execution_count": 49,
   "metadata": {},
   "outputs": [
    {
     "data": {
      "text/plain": [
       "3-element Array{Int64,1}:\n",
       "   3\n",
       "   4\n",
       " 100"
      ]
     },
     "execution_count": 49,
     "metadata": {},
     "output_type": "execute_result"
    }
   ],
   "source": [
    "z = copy(x)"
   ]
  },
  {
   "cell_type": "code",
   "execution_count": 50,
   "metadata": {},
   "outputs": [
    {
     "data": {
      "text/plain": [
       "1000"
      ]
     },
     "execution_count": 50,
     "metadata": {},
     "output_type": "execute_result"
    }
   ],
   "source": [
    "z[3] = 1000"
   ]
  },
  {
   "cell_type": "code",
   "execution_count": 51,
   "metadata": {},
   "outputs": [
    {
     "data": {
      "text/plain": [
       "3-element Array{Int64,1}:\n",
       "   3\n",
       "   4\n",
       " 100"
      ]
     },
     "execution_count": 51,
     "metadata": {},
     "output_type": "execute_result"
    }
   ],
   "source": [
    "x"
   ]
  },
  {
   "cell_type": "markdown",
   "metadata": {},
   "source": [
    "### 2.8 Imprimir Resultados en Pantalla\n",
    "\n",
    "Para mostrar el valor de las variables en pantalla usamos `println()` (imprime el contenido en pantalla y deja el cursor en la siguiente línea). Algunos ejemplos:"
   ]
  },
  {
   "cell_type": "code",
   "execution_count": 52,
   "metadata": {},
   "outputs": [
    {
     "name": "stdout",
     "output_type": "stream",
     "text": [
      "4.5\n",
      "Texto\n",
      "*** Otra forma ***\n",
      "---------\n"
     ]
    }
   ],
   "source": [
    "NombreLargo = 4.5\n",
    "println(NombreLargo)\n",
    "println(Y_1);\n",
    "println(\"*** Otra forma ***\") # Note que esta es una variable de texto definida directamente para \n",
    "println(\"---------\")                              "
   ]
  },
  {
   "cell_type": "markdown",
   "metadata": {},
   "source": [
    "Es posible extrapolar valores dentro una variable de texto usando `\"$var\"`. Por ejemplo:\n"
   ]
  },
  {
   "cell_type": "code",
   "execution_count": 53,
   "metadata": {},
   "outputs": [
    {
     "data": {
      "text/plain": [
       "\"2 es par\""
      ]
     },
     "execution_count": 53,
     "metadata": {},
     "output_type": "execute_result"
    }
   ],
   "source": [
    "x = 2\n",
    "y = \"$x es par\""
   ]
  },
  {
   "cell_type": "markdown",
   "metadata": {},
   "source": [
    "Esta idea se puede usar en combinación con la función `println()` para mostrar resultados en pantalla."
   ]
  },
  {
   "cell_type": "code",
   "execution_count": 54,
   "metadata": {},
   "outputs": [
    {
     "name": "stdout",
     "output_type": "stream",
     "text": [
      "Mi nombre es Mauricio Tejada\n",
      "Mi oficina es la 211 y mi email es matejada@uahurtado.cl\n"
     ]
    }
   ],
   "source": [
    "prof_name = \"Mauricio Tejada\"\n",
    "prof_of = 211\n",
    "prof_email = \"matejada@uahurtado.cl\"\n",
    "\n",
    "println(\"Mi nombre es $prof_name\") \n",
    "println(\"Mi oficina es la $prof_of y mi email es $prof_email\")"
   ]
  },
  {
   "cell_type": "markdown",
   "metadata": {},
   "source": [
    "### 2.9 Elementos Básicos para Graficar"
   ]
  },
  {
   "cell_type": "code",
   "execution_count": 55,
   "metadata": {},
   "outputs": [],
   "source": [
    "using Plots"
   ]
  },
  {
   "cell_type": "markdown",
   "metadata": {},
   "source": [
    "Ejemplo 1:"
   ]
  },
  {
   "cell_type": "code",
   "execution_count": 56,
   "metadata": {},
   "outputs": [
    {
     "data": {
      "image/svg+xml": [
       "<?xml version=\"1.0\" encoding=\"utf-8\"?>\n",
       "<svg xmlns=\"http://www.w3.org/2000/svg\" xmlns:xlink=\"http://www.w3.org/1999/xlink\" width=\"600\" height=\"400\" viewBox=\"0 0 2400 1600\">\n",
       "<defs>\n",
       "  <clipPath id=\"clip060\">\n",
       "    <rect x=\"0\" y=\"0\" width=\"2400\" height=\"1600\"/>\n",
       "  </clipPath>\n",
       "</defs>\n",
       "<path clip-path=\"url(#clip060)\" d=\"\n",
       "M0 1600 L2400 1600 L2400 0 L0 0  Z\n",
       "  \" fill=\"#ffffff\" fill-rule=\"evenodd\" fill-opacity=\"1\"/>\n",
       "<defs>\n",
       "  <clipPath id=\"clip061\">\n",
       "    <rect x=\"480\" y=\"0\" width=\"1681\" height=\"1600\"/>\n",
       "  </clipPath>\n",
       "</defs>\n",
       "<path clip-path=\"url(#clip060)\" d=\"\n",
       "M225.723 1423.18 L2352.76 1423.18 L2352.76 123.472 L225.723 123.472  Z\n",
       "  \" fill=\"#ffffff\" fill-rule=\"evenodd\" fill-opacity=\"1\"/>\n",
       "<defs>\n",
       "  <clipPath id=\"clip062\">\n",
       "    <rect x=\"225\" y=\"123\" width=\"2128\" height=\"1301\"/>\n",
       "  </clipPath>\n",
       "</defs>\n",
       "<polyline clip-path=\"url(#clip062)\" style=\"stroke:#000000; stroke-width:2; stroke-opacity:0.1; fill:none\" points=\"\n",
       "  285.922,1423.18 285.922,123.472 \n",
       "  \"/>\n",
       "<polyline clip-path=\"url(#clip062)\" style=\"stroke:#000000; stroke-width:2; stroke-opacity:0.1; fill:none\" points=\"\n",
       "  606.893,1423.18 606.893,123.472 \n",
       "  \"/>\n",
       "<polyline clip-path=\"url(#clip062)\" style=\"stroke:#000000; stroke-width:2; stroke-opacity:0.1; fill:none\" points=\"\n",
       "  927.863,1423.18 927.863,123.472 \n",
       "  \"/>\n",
       "<polyline clip-path=\"url(#clip062)\" style=\"stroke:#000000; stroke-width:2; stroke-opacity:0.1; fill:none\" points=\"\n",
       "  1248.83,1423.18 1248.83,123.472 \n",
       "  \"/>\n",
       "<polyline clip-path=\"url(#clip062)\" style=\"stroke:#000000; stroke-width:2; stroke-opacity:0.1; fill:none\" points=\"\n",
       "  1569.8,1423.18 1569.8,123.472 \n",
       "  \"/>\n",
       "<polyline clip-path=\"url(#clip062)\" style=\"stroke:#000000; stroke-width:2; stroke-opacity:0.1; fill:none\" points=\"\n",
       "  1890.78,1423.18 1890.78,123.472 \n",
       "  \"/>\n",
       "<polyline clip-path=\"url(#clip062)\" style=\"stroke:#000000; stroke-width:2; stroke-opacity:0.1; fill:none\" points=\"\n",
       "  2211.75,1423.18 2211.75,123.472 \n",
       "  \"/>\n",
       "<polyline clip-path=\"url(#clip062)\" style=\"stroke:#000000; stroke-width:2; stroke-opacity:0.1; fill:none\" points=\"\n",
       "  225.723,1386.4 2352.76,1386.4 \n",
       "  \"/>\n",
       "<polyline clip-path=\"url(#clip062)\" style=\"stroke:#000000; stroke-width:2; stroke-opacity:0.1; fill:none\" points=\"\n",
       "  225.723,1079.86 2352.76,1079.86 \n",
       "  \"/>\n",
       "<polyline clip-path=\"url(#clip062)\" style=\"stroke:#000000; stroke-width:2; stroke-opacity:0.1; fill:none\" points=\"\n",
       "  225.723,773.326 2352.76,773.326 \n",
       "  \"/>\n",
       "<polyline clip-path=\"url(#clip062)\" style=\"stroke:#000000; stroke-width:2; stroke-opacity:0.1; fill:none\" points=\"\n",
       "  225.723,466.791 2352.76,466.791 \n",
       "  \"/>\n",
       "<polyline clip-path=\"url(#clip062)\" style=\"stroke:#000000; stroke-width:2; stroke-opacity:0.1; fill:none\" points=\"\n",
       "  225.723,160.256 2352.76,160.256 \n",
       "  \"/>\n",
       "<polyline clip-path=\"url(#clip060)\" style=\"stroke:#000000; stroke-width:4; stroke-opacity:1; fill:none\" points=\"\n",
       "  225.723,1423.18 2352.76,1423.18 \n",
       "  \"/>\n",
       "<polyline clip-path=\"url(#clip060)\" style=\"stroke:#000000; stroke-width:4; stroke-opacity:1; fill:none\" points=\"\n",
       "  225.723,1423.18 225.723,123.472 \n",
       "  \"/>\n",
       "<polyline clip-path=\"url(#clip060)\" style=\"stroke:#000000; stroke-width:4; stroke-opacity:1; fill:none\" points=\"\n",
       "  285.922,1423.18 285.922,1407.58 \n",
       "  \"/>\n",
       "<polyline clip-path=\"url(#clip060)\" style=\"stroke:#000000; stroke-width:4; stroke-opacity:1; fill:none\" points=\"\n",
       "  606.893,1423.18 606.893,1407.58 \n",
       "  \"/>\n",
       "<polyline clip-path=\"url(#clip060)\" style=\"stroke:#000000; stroke-width:4; stroke-opacity:1; fill:none\" points=\"\n",
       "  927.863,1423.18 927.863,1407.58 \n",
       "  \"/>\n",
       "<polyline clip-path=\"url(#clip060)\" style=\"stroke:#000000; stroke-width:4; stroke-opacity:1; fill:none\" points=\"\n",
       "  1248.83,1423.18 1248.83,1407.58 \n",
       "  \"/>\n",
       "<polyline clip-path=\"url(#clip060)\" style=\"stroke:#000000; stroke-width:4; stroke-opacity:1; fill:none\" points=\"\n",
       "  1569.8,1423.18 1569.8,1407.58 \n",
       "  \"/>\n",
       "<polyline clip-path=\"url(#clip060)\" style=\"stroke:#000000; stroke-width:4; stroke-opacity:1; fill:none\" points=\"\n",
       "  1890.78,1423.18 1890.78,1407.58 \n",
       "  \"/>\n",
       "<polyline clip-path=\"url(#clip060)\" style=\"stroke:#000000; stroke-width:4; stroke-opacity:1; fill:none\" points=\"\n",
       "  2211.75,1423.18 2211.75,1407.58 \n",
       "  \"/>\n",
       "<polyline clip-path=\"url(#clip060)\" style=\"stroke:#000000; stroke-width:4; stroke-opacity:1; fill:none\" points=\"\n",
       "  225.723,1386.4 251.247,1386.4 \n",
       "  \"/>\n",
       "<polyline clip-path=\"url(#clip060)\" style=\"stroke:#000000; stroke-width:4; stroke-opacity:1; fill:none\" points=\"\n",
       "  225.723,1079.86 251.247,1079.86 \n",
       "  \"/>\n",
       "<polyline clip-path=\"url(#clip060)\" style=\"stroke:#000000; stroke-width:4; stroke-opacity:1; fill:none\" points=\"\n",
       "  225.723,773.326 251.247,773.326 \n",
       "  \"/>\n",
       "<polyline clip-path=\"url(#clip060)\" style=\"stroke:#000000; stroke-width:4; stroke-opacity:1; fill:none\" points=\"\n",
       "  225.723,466.791 251.247,466.791 \n",
       "  \"/>\n",
       "<polyline clip-path=\"url(#clip060)\" style=\"stroke:#000000; stroke-width:4; stroke-opacity:1; fill:none\" points=\"\n",
       "  225.723,160.256 251.247,160.256 \n",
       "  \"/>\n",
       "<path clip-path=\"url(#clip060)\" d=\"M 0 0 M285.922 1445.17 Q282.311 1445.17 280.482 1448.74 Q278.676 1452.28 278.676 1459.41 Q278.676 1466.51 280.482 1470.08 Q282.311 1473.62 285.922 1473.62 Q289.556 1473.62 291.362 1470.08 Q293.19 1466.51 293.19 1459.41 Q293.19 1452.28 291.362 1448.74 Q289.556 1445.17 285.922 1445.17 M285.922 1441.47 Q291.732 1441.47 294.787 1446.07 Q297.866 1450.66 297.866 1459.41 Q297.866 1468.13 294.787 1472.74 Q291.732 1477.32 285.922 1477.32 Q280.112 1477.32 277.033 1472.74 Q273.977 1468.13 273.977 1459.41 Q273.977 1450.66 277.033 1446.07 Q280.112 1441.47 285.922 1441.47 Z\" fill=\"#000000\" fill-rule=\"evenodd\" fill-opacity=\"1\" /><path clip-path=\"url(#clip060)\" d=\"M 0 0 M597.275 1472.72 L604.913 1472.72 L604.913 1446.35 L596.603 1448.02 L596.603 1443.76 L604.867 1442.09 L609.543 1442.09 L609.543 1472.72 L617.182 1472.72 L617.182 1476.65 L597.275 1476.65 L597.275 1472.72 Z\" fill=\"#000000\" fill-rule=\"evenodd\" fill-opacity=\"1\" /><path clip-path=\"url(#clip060)\" d=\"M 0 0 M922.516 1472.72 L938.835 1472.72 L938.835 1476.65 L916.891 1476.65 L916.891 1472.72 Q919.553 1469.96 924.136 1465.33 Q928.743 1460.68 929.923 1459.34 Q932.169 1456.81 933.048 1455.08 Q933.951 1453.32 933.951 1451.63 Q933.951 1448.87 932.007 1447.14 Q930.085 1445.4 926.984 1445.4 Q924.785 1445.4 922.331 1446.17 Q919.9 1446.93 917.123 1448.48 L917.123 1443.76 Q919.947 1442.62 922.4 1442.05 Q924.854 1441.47 926.891 1441.47 Q932.261 1441.47 935.456 1444.15 Q938.65 1446.84 938.65 1451.33 Q938.65 1453.46 937.84 1455.38 Q937.053 1457.28 934.947 1459.87 Q934.368 1460.54 931.266 1463.76 Q928.164 1466.95 922.516 1472.72 Z\" fill=\"#000000\" fill-rule=\"evenodd\" fill-opacity=\"1\" /><path clip-path=\"url(#clip060)\" d=\"M 0 0 M1253.08 1458.02 Q1256.44 1458.74 1258.31 1461 Q1260.21 1463.27 1260.21 1466.61 Q1260.21 1471.72 1256.69 1474.52 Q1253.17 1477.32 1246.69 1477.32 Q1244.52 1477.32 1242.2 1476.88 Q1239.91 1476.47 1237.46 1475.61 L1237.46 1471.1 Q1239.4 1472.23 1241.72 1472.81 Q1244.03 1473.39 1246.55 1473.39 Q1250.95 1473.39 1253.24 1471.65 Q1255.56 1469.92 1255.56 1466.61 Q1255.56 1463.55 1253.41 1461.84 Q1251.28 1460.1 1247.46 1460.1 L1243.43 1460.1 L1243.43 1456.26 L1247.64 1456.26 Q1251.09 1456.26 1252.92 1454.89 Q1254.75 1453.5 1254.75 1450.91 Q1254.75 1448.25 1252.85 1446.84 Q1250.98 1445.4 1247.46 1445.4 Q1245.54 1445.4 1243.34 1445.82 Q1241.14 1446.24 1238.5 1447.11 L1238.5 1442.95 Q1241.16 1442.21 1243.48 1441.84 Q1245.81 1441.47 1247.87 1441.47 Q1253.2 1441.47 1256.3 1443.9 Q1259.4 1446.3 1259.4 1450.43 Q1259.4 1453.3 1257.76 1455.29 Q1256.11 1457.25 1253.08 1458.02 Z\" fill=\"#000000\" fill-rule=\"evenodd\" fill-opacity=\"1\" /><path clip-path=\"url(#clip060)\" d=\"M 0 0 M1572.81 1446.17 L1561.01 1464.61 L1572.81 1464.61 L1572.81 1446.17 M1571.59 1442.09 L1577.47 1442.09 L1577.47 1464.61 L1582.4 1464.61 L1582.4 1468.5 L1577.47 1468.5 L1577.47 1476.65 L1572.81 1476.65 L1572.81 1468.5 L1557.21 1468.5 L1557.21 1463.99 L1571.59 1442.09 Z\" fill=\"#000000\" fill-rule=\"evenodd\" fill-opacity=\"1\" /><path clip-path=\"url(#clip060)\" d=\"M 0 0 M1881.05 1442.09 L1899.41 1442.09 L1899.41 1446.03 L1885.34 1446.03 L1885.34 1454.5 Q1886.35 1454.15 1887.37 1453.99 Q1888.39 1453.8 1889.41 1453.8 Q1895.2 1453.8 1898.58 1456.98 Q1901.96 1460.15 1901.96 1465.56 Q1901.96 1471.14 1898.48 1474.24 Q1895.01 1477.32 1888.69 1477.32 Q1886.52 1477.32 1884.25 1476.95 Q1882 1476.58 1879.6 1475.84 L1879.6 1471.14 Q1881.68 1472.28 1883.9 1472.83 Q1886.12 1473.39 1888.6 1473.39 Q1892.6 1473.39 1894.94 1471.28 Q1897.28 1469.18 1897.28 1465.56 Q1897.28 1461.95 1894.94 1459.85 Q1892.6 1457.74 1888.6 1457.74 Q1886.72 1457.74 1884.85 1458.16 Q1883 1458.57 1881.05 1459.45 L1881.05 1442.09 Z\" fill=\"#000000\" fill-rule=\"evenodd\" fill-opacity=\"1\" /><path clip-path=\"url(#clip060)\" d=\"M 0 0 M2212.15 1457.51 Q2209 1457.51 2207.15 1459.66 Q2205.32 1461.81 2205.32 1465.56 Q2205.32 1469.29 2207.15 1471.47 Q2209 1473.62 2212.15 1473.62 Q2215.3 1473.62 2217.13 1471.47 Q2218.98 1469.29 2218.98 1465.56 Q2218.98 1461.81 2217.13 1459.66 Q2215.3 1457.51 2212.15 1457.51 M2221.43 1442.86 L2221.43 1447.11 Q2219.67 1446.28 2217.87 1445.84 Q2216.09 1445.4 2214.33 1445.4 Q2209.7 1445.4 2207.24 1448.53 Q2204.81 1451.65 2204.47 1457.97 Q2205.83 1455.96 2207.89 1454.89 Q2209.95 1453.8 2212.43 1453.8 Q2217.64 1453.8 2220.65 1456.98 Q2223.68 1460.12 2223.68 1465.56 Q2223.68 1470.89 2220.53 1474.11 Q2217.38 1477.32 2212.15 1477.32 Q2206.16 1477.32 2202.98 1472.74 Q2199.81 1468.13 2199.81 1459.41 Q2199.81 1451.21 2203.7 1446.35 Q2207.59 1441.47 2214.14 1441.47 Q2215.9 1441.47 2217.68 1441.81 Q2219.49 1442.16 2221.43 1442.86 Z\" fill=\"#000000\" fill-rule=\"evenodd\" fill-opacity=\"1\" /><path clip-path=\"url(#clip060)\" d=\"M 0 0 M126.492 1388.79 L138.968 1388.79 L138.968 1392.59 L126.492 1392.59 L126.492 1388.79 Z\" fill=\"#000000\" fill-rule=\"evenodd\" fill-opacity=\"1\" /><path clip-path=\"url(#clip060)\" d=\"M 0 0 M144.848 1399.74 L152.487 1399.74 L152.487 1373.37 L144.177 1375.04 L144.177 1370.78 L152.441 1369.12 L157.116 1369.12 L157.116 1399.74 L164.755 1399.74 L164.755 1403.68 L144.848 1403.68 L144.848 1399.74 Z\" fill=\"#000000\" fill-rule=\"evenodd\" fill-opacity=\"1\" /><path clip-path=\"url(#clip060)\" d=\"M 0 0 M169.825 1397.8 L174.709 1397.8 L174.709 1403.68 L169.825 1403.68 L169.825 1397.8 Z\" fill=\"#000000\" fill-rule=\"evenodd\" fill-opacity=\"1\" /><path clip-path=\"url(#clip060)\" d=\"M 0 0 M189.778 1372.19 Q186.167 1372.19 184.339 1375.76 Q182.533 1379.3 182.533 1386.43 Q182.533 1393.54 184.339 1397.1 Q186.167 1400.64 189.778 1400.64 Q193.413 1400.64 195.218 1397.1 Q197.047 1393.54 197.047 1386.43 Q197.047 1379.3 195.218 1375.76 Q193.413 1372.19 189.778 1372.19 M189.778 1368.49 Q195.588 1368.49 198.644 1373.1 Q201.723 1377.68 201.723 1386.43 Q201.723 1395.16 198.644 1399.76 Q195.588 1404.35 189.778 1404.35 Q183.968 1404.35 180.889 1399.76 Q177.834 1395.16 177.834 1386.43 Q177.834 1377.68 180.889 1373.1 Q183.968 1368.49 189.778 1368.49 Z\" fill=\"#000000\" fill-rule=\"evenodd\" fill-opacity=\"1\" /><path clip-path=\"url(#clip060)\" d=\"M 0 0 M126.26 1082.26 L138.737 1082.26 L138.737 1086.05 L126.26 1086.05 L126.26 1082.26 Z\" fill=\"#000000\" fill-rule=\"evenodd\" fill-opacity=\"1\" /><path clip-path=\"url(#clip060)\" d=\"M 0 0 M153.806 1065.66 Q150.195 1065.66 148.367 1069.22 Q146.561 1072.77 146.561 1079.9 Q146.561 1087 148.367 1090.57 Q150.195 1094.11 153.806 1094.11 Q157.441 1094.11 159.246 1090.57 Q161.075 1087 161.075 1079.9 Q161.075 1072.77 159.246 1069.22 Q157.441 1065.66 153.806 1065.66 M153.806 1061.96 Q159.616 1061.96 162.672 1066.56 Q165.751 1071.15 165.751 1079.9 Q165.751 1088.62 162.672 1093.23 Q159.616 1097.81 153.806 1097.81 Q147.996 1097.81 144.917 1093.23 Q141.862 1088.62 141.862 1079.9 Q141.862 1071.15 144.917 1066.56 Q147.996 1061.96 153.806 1061.96 Z\" fill=\"#000000\" fill-rule=\"evenodd\" fill-opacity=\"1\" /><path clip-path=\"url(#clip060)\" d=\"M 0 0 M170.82 1091.26 L175.704 1091.26 L175.704 1097.14 L170.82 1097.14 L170.82 1091.26 Z\" fill=\"#000000\" fill-rule=\"evenodd\" fill-opacity=\"1\" /><path clip-path=\"url(#clip060)\" d=\"M 0 0 M180.82 1062.58 L199.176 1062.58 L199.176 1066.52 L185.102 1066.52 L185.102 1074.99 Q186.121 1074.64 187.139 1074.48 Q188.158 1074.29 189.176 1074.29 Q194.963 1074.29 198.343 1077.47 Q201.723 1080.64 201.723 1086.05 Q201.723 1091.63 198.251 1094.73 Q194.778 1097.81 188.459 1097.81 Q186.283 1097.81 184.014 1097.44 Q181.769 1097.07 179.362 1096.33 L179.362 1091.63 Q181.445 1092.77 183.667 1093.32 Q185.889 1093.88 188.366 1093.88 Q192.371 1093.88 194.709 1091.77 Q197.047 1089.66 197.047 1086.05 Q197.047 1082.44 194.709 1080.34 Q192.371 1078.23 188.366 1078.23 Q186.491 1078.23 184.616 1078.65 Q182.764 1079.06 180.82 1079.94 L180.82 1062.58 Z\" fill=\"#000000\" fill-rule=\"evenodd\" fill-opacity=\"1\" /><path clip-path=\"url(#clip060)\" d=\"M 0 0 M152.811 759.125 Q149.2 759.125 147.371 762.689 Q145.566 766.231 145.566 773.361 Q145.566 780.467 147.371 784.032 Q149.2 787.574 152.811 787.574 Q156.445 787.574 158.251 784.032 Q160.079 780.467 160.079 773.361 Q160.079 766.231 158.251 762.689 Q156.445 759.125 152.811 759.125 M152.811 755.421 Q158.621 755.421 161.677 760.027 Q164.755 764.611 164.755 773.361 Q164.755 782.088 161.677 786.694 Q158.621 791.277 152.811 791.277 Q147.001 791.277 143.922 786.694 Q140.867 782.088 140.867 773.361 Q140.867 764.611 143.922 760.027 Q147.001 755.421 152.811 755.421 Z\" fill=\"#000000\" fill-rule=\"evenodd\" fill-opacity=\"1\" /><path clip-path=\"url(#clip060)\" d=\"M 0 0 M169.825 784.726 L174.709 784.726 L174.709 790.606 L169.825 790.606 L169.825 784.726 Z\" fill=\"#000000\" fill-rule=\"evenodd\" fill-opacity=\"1\" /><path clip-path=\"url(#clip060)\" d=\"M 0 0 M189.778 759.125 Q186.167 759.125 184.339 762.689 Q182.533 766.231 182.533 773.361 Q182.533 780.467 184.339 784.032 Q186.167 787.574 189.778 787.574 Q193.413 787.574 195.218 784.032 Q197.047 780.467 197.047 773.361 Q197.047 766.231 195.218 762.689 Q193.413 759.125 189.778 759.125 M189.778 755.421 Q195.588 755.421 198.644 760.027 Q201.723 764.611 201.723 773.361 Q201.723 782.088 198.644 786.694 Q195.588 791.277 189.778 791.277 Q183.968 791.277 180.889 786.694 Q177.834 782.088 177.834 773.361 Q177.834 764.611 180.889 760.027 Q183.968 755.421 189.778 755.421 Z\" fill=\"#000000\" fill-rule=\"evenodd\" fill-opacity=\"1\" /><path clip-path=\"url(#clip060)\" d=\"M 0 0 M153.806 452.59 Q150.195 452.59 148.367 456.155 Q146.561 459.696 146.561 466.826 Q146.561 473.932 148.367 477.497 Q150.195 481.039 153.806 481.039 Q157.441 481.039 159.246 477.497 Q161.075 473.932 161.075 466.826 Q161.075 459.696 159.246 456.155 Q157.441 452.59 153.806 452.59 M153.806 448.886 Q159.616 448.886 162.672 453.493 Q165.751 458.076 165.751 466.826 Q165.751 475.553 162.672 480.159 Q159.616 484.742 153.806 484.742 Q147.996 484.742 144.917 480.159 Q141.862 475.553 141.862 466.826 Q141.862 458.076 144.917 453.493 Q147.996 448.886 153.806 448.886 Z\" fill=\"#000000\" fill-rule=\"evenodd\" fill-opacity=\"1\" /><path clip-path=\"url(#clip060)\" d=\"M 0 0 M170.82 478.192 L175.704 478.192 L175.704 484.071 L170.82 484.071 L170.82 478.192 Z\" fill=\"#000000\" fill-rule=\"evenodd\" fill-opacity=\"1\" /><path clip-path=\"url(#clip060)\" d=\"M 0 0 M180.82 449.511 L199.176 449.511 L199.176 453.446 L185.102 453.446 L185.102 461.918 Q186.121 461.571 187.139 461.409 Q188.158 461.224 189.176 461.224 Q194.963 461.224 198.343 464.395 Q201.723 467.567 201.723 472.983 Q201.723 478.562 198.251 481.664 Q194.778 484.742 188.459 484.742 Q186.283 484.742 184.014 484.372 Q181.769 484.002 179.362 483.261 L179.362 478.562 Q181.445 479.696 183.667 480.252 Q185.889 480.807 188.366 480.807 Q192.371 480.807 194.709 478.701 Q197.047 476.594 197.047 472.983 Q197.047 469.372 194.709 467.266 Q192.371 465.159 188.366 465.159 Q186.491 465.159 184.616 465.576 Q182.764 465.993 180.82 466.872 L180.82 449.511 Z\" fill=\"#000000\" fill-rule=\"evenodd\" fill-opacity=\"1\" /><path clip-path=\"url(#clip060)\" d=\"M 0 0 M144.848 173.601 L152.487 173.601 L152.487 147.236 L144.177 148.902 L144.177 144.643 L152.441 142.976 L157.116 142.976 L157.116 173.601 L164.755 173.601 L164.755 177.536 L144.848 177.536 L144.848 173.601 Z\" fill=\"#000000\" fill-rule=\"evenodd\" fill-opacity=\"1\" /><path clip-path=\"url(#clip060)\" d=\"M 0 0 M169.825 171.657 L174.709 171.657 L174.709 177.536 L169.825 177.536 L169.825 171.657 Z\" fill=\"#000000\" fill-rule=\"evenodd\" fill-opacity=\"1\" /><path clip-path=\"url(#clip060)\" d=\"M 0 0 M189.778 146.055 Q186.167 146.055 184.339 149.62 Q182.533 153.161 182.533 160.291 Q182.533 167.397 184.339 170.962 Q186.167 174.504 189.778 174.504 Q193.413 174.504 195.218 170.962 Q197.047 167.397 197.047 160.291 Q197.047 153.161 195.218 149.62 Q193.413 146.055 189.778 146.055 M189.778 142.351 Q195.588 142.351 198.644 146.958 Q201.723 151.541 201.723 160.291 Q201.723 169.018 198.644 173.624 Q195.588 178.208 189.778 178.208 Q183.968 178.208 180.889 173.624 Q177.834 169.018 177.834 160.291 Q177.834 151.541 180.889 146.958 Q183.968 142.351 189.778 142.351 Z\" fill=\"#000000\" fill-rule=\"evenodd\" fill-opacity=\"1\" /><path clip-path=\"url(#clip060)\" d=\"M 0 0 M1048.7 12.096 L1083.45 12.096 L1083.45 18.9825 L1056.88 18.9825 L1056.88 36.8065 L1080.86 36.8065 L1080.86 43.6931 L1056.88 43.6931 L1056.88 72.576 L1048.7 72.576 L1048.7 12.096 Z\" fill=\"#000000\" fill-rule=\"evenodd\" fill-opacity=\"1\" /><path clip-path=\"url(#clip060)\" d=\"M 0 0 M1085.96 54.671 L1085.96 27.2059 L1093.42 27.2059 L1093.42 54.3874 Q1093.42 60.8284 1095.93 64.0691 Q1098.44 67.2693 1103.46 67.2693 Q1109.5 67.2693 1112.98 63.421 Q1116.51 59.5726 1116.51 52.9291 L1116.51 27.2059 L1123.96 27.2059 L1123.96 72.576 L1116.51 72.576 L1116.51 65.6084 Q1113.79 69.7404 1110.19 71.7658 Q1106.62 73.7508 1101.88 73.7508 Q1094.07 73.7508 1090.02 68.8897 Q1085.96 64.0286 1085.96 54.671 M1104.72 26.1121 L1104.72 26.1121 Z\" fill=\"#000000\" fill-rule=\"evenodd\" fill-opacity=\"1\" /><path clip-path=\"url(#clip060)\" d=\"M 0 0 M1169.49 45.1919 L1169.49 72.576 L1162.04 72.576 L1162.04 45.4349 Q1162.04 38.994 1159.53 35.7938 Q1157.02 32.5936 1151.99 32.5936 Q1145.96 32.5936 1142.48 36.4419 Q1138.99 40.2903 1138.99 46.9338 L1138.99 72.576 L1131.5 72.576 L1131.5 27.2059 L1138.99 27.2059 L1138.99 34.2544 Q1141.66 30.163 1145.27 28.1376 Q1148.92 26.1121 1153.66 26.1121 Q1161.47 26.1121 1165.48 30.9732 Q1169.49 35.7938 1169.49 45.1919 Z\" fill=\"#000000\" fill-rule=\"evenodd\" fill-opacity=\"1\" /><path clip-path=\"url(#clip060)\" d=\"M 0 0 M1209.96 28.9478 L1209.96 35.9153 Q1206.8 34.1734 1203.6 33.3227 Q1200.44 32.4315 1197.2 32.4315 Q1189.95 32.4315 1185.94 37.0496 Q1181.93 41.6271 1181.93 49.9314 Q1181.93 58.2358 1185.94 62.8538 Q1189.95 67.4314 1197.2 67.4314 Q1200.44 67.4314 1203.6 66.5807 Q1206.8 65.6895 1209.96 63.9476 L1209.96 70.8341 Q1206.84 72.2924 1203.48 73.0216 Q1200.16 73.7508 1196.39 73.7508 Q1186.14 73.7508 1180.11 67.3098 Q1174.07 60.8689 1174.07 49.9314 Q1174.07 38.832 1180.15 32.472 Q1186.27 26.1121 1196.88 26.1121 Q1200.32 26.1121 1203.6 26.8413 Q1206.88 27.5299 1209.96 28.9478 Z\" fill=\"#000000\" fill-rule=\"evenodd\" fill-opacity=\"1\" /><path clip-path=\"url(#clip060)\" d=\"M 0 0 M1217.78 27.2059 L1225.24 27.2059 L1225.24 72.576 L1217.78 72.576 L1217.78 27.2059 M1217.78 9.54393 L1225.24 9.54393 L1225.24 18.9825 L1217.78 18.9825 L1217.78 9.54393 Z\" fill=\"#000000\" fill-rule=\"evenodd\" fill-opacity=\"1\" /><path clip-path=\"url(#clip060)\" d=\"M 0 0 M1250.63 32.4315 Q1244.64 32.4315 1241.16 37.1306 Q1237.67 41.7891 1237.67 49.9314 Q1237.67 58.0738 1241.11 62.7728 Q1244.6 67.4314 1250.63 67.4314 Q1256.59 67.4314 1260.07 62.7323 Q1263.56 58.0333 1263.56 49.9314 Q1263.56 41.8701 1260.07 37.1711 Q1256.59 32.4315 1250.63 32.4315 M1250.63 26.1121 Q1260.36 26.1121 1265.91 32.4315 Q1271.46 38.7509 1271.46 49.9314 Q1271.46 61.0714 1265.91 67.4314 Q1260.36 73.7508 1250.63 73.7508 Q1240.87 73.7508 1235.32 67.4314 Q1229.81 61.0714 1229.81 49.9314 Q1229.81 38.7509 1235.32 32.4315 Q1240.87 26.1121 1250.63 26.1121 M1256.26 6.22219 L1264.33 6.22219 L1251.12 21.4536 L1244.92 21.4536 L1256.26 6.22219 Z\" fill=\"#000000\" fill-rule=\"evenodd\" fill-opacity=\"1\" /><path clip-path=\"url(#clip060)\" d=\"M 0 0 M1316.99 45.1919 L1316.99 72.576 L1309.53 72.576 L1309.53 45.4349 Q1309.53 38.994 1307.02 35.7938 Q1304.51 32.5936 1299.49 32.5936 Q1293.45 32.5936 1289.97 36.4419 Q1286.48 40.2903 1286.48 46.9338 L1286.48 72.576 L1278.99 72.576 L1278.99 27.2059 L1286.48 27.2059 L1286.48 34.2544 Q1289.16 30.163 1292.76 28.1376 Q1296.41 26.1121 1301.15 26.1121 Q1308.97 26.1121 1312.98 30.9732 Q1316.99 35.7938 1316.99 45.1919 Z\" fill=\"#000000\" fill-rule=\"evenodd\" fill-opacity=\"1\" /><path clip-path=\"url(#clip060)\" d=\"M 0 0 M1387.76 14.0809 L1387.76 22.0612 Q1383.1 19.8332 1378.97 18.7395 Q1374.83 17.6457 1370.99 17.6457 Q1364.3 17.6457 1360.66 20.2383 Q1357.05 22.8309 1357.05 27.611 Q1357.05 31.6214 1359.44 33.6873 Q1361.87 35.7128 1368.6 36.9686 L1373.54 37.9813 Q1382.69 39.7232 1387.03 44.1387 Q1391.4 48.5136 1391.4 55.8863 Q1391.4 64.6767 1385.49 69.2137 Q1379.61 73.7508 1368.23 73.7508 Q1363.94 73.7508 1359.08 72.7785 Q1354.26 71.8063 1349.07 69.9024 L1349.07 61.4765 Q1354.05 64.2716 1358.83 65.6895 Q1363.61 67.1073 1368.23 67.1073 Q1375.24 67.1073 1379.05 64.3527 Q1382.86 61.598 1382.86 56.4939 Q1382.86 52.0379 1380.1 49.5264 Q1377.39 47.0148 1371.15 45.759 L1366.17 44.7868 Q1357.01 42.9639 1352.92 39.075 Q1348.83 35.1862 1348.83 28.2591 Q1348.83 20.2383 1354.46 15.6203 Q1360.13 11.0023 1370.05 11.0023 Q1374.31 11.0023 1378.72 11.7719 Q1383.14 12.5416 1387.76 14.0809 Z\" fill=\"#000000\" fill-rule=\"evenodd\" fill-opacity=\"1\" /><path clip-path=\"url(#clip060)\" d=\"M 0 0 M1438.03 48.0275 L1438.03 51.6733 L1403.76 51.6733 Q1404.24 59.3701 1408.38 63.421 Q1412.55 67.4314 1419.96 67.4314 Q1424.26 67.4314 1428.27 66.3781 Q1432.32 65.3249 1436.29 63.2184 L1436.29 70.267 Q1432.28 71.9684 1428.06 72.8596 Q1423.85 73.7508 1419.52 73.7508 Q1408.66 73.7508 1402.3 67.4314 Q1395.98 61.1119 1395.98 50.3365 Q1395.98 39.1965 1401.98 32.6746 Q1408.01 26.1121 1418.22 26.1121 Q1427.38 26.1121 1432.68 32.0264 Q1438.03 37.9003 1438.03 48.0275 M1430.58 45.84 Q1430.49 39.7232 1427.13 36.0774 Q1423.81 32.4315 1418.3 32.4315 Q1412.06 32.4315 1408.3 35.9558 Q1404.57 39.4801 1404 45.8805 L1430.58 45.84 Z\" fill=\"#000000\" fill-rule=\"evenodd\" fill-opacity=\"1\" /><path clip-path=\"url(#clip060)\" d=\"M 0 0 M1483.56 45.1919 L1483.56 72.576 L1476.11 72.576 L1476.11 45.4349 Q1476.11 38.994 1473.6 35.7938 Q1471.08 32.5936 1466.06 32.5936 Q1460.03 32.5936 1456.54 36.4419 Q1453.06 40.2903 1453.06 46.9338 L1453.06 72.576 L1445.56 72.576 L1445.56 27.2059 L1453.06 27.2059 L1453.06 34.2544 Q1455.73 30.163 1459.34 28.1376 Q1462.98 26.1121 1467.72 26.1121 Q1475.54 26.1121 1479.55 30.9732 Q1483.56 35.7938 1483.56 45.1919 Z\" fill=\"#000000\" fill-rule=\"evenodd\" fill-opacity=\"1\" /><path clip-path=\"url(#clip060)\" d=\"M 0 0 M1508.96 32.4315 Q1502.97 32.4315 1499.48 37.1306 Q1496 41.7891 1496 49.9314 Q1496 58.0738 1499.44 62.7728 Q1502.92 67.4314 1508.96 67.4314 Q1514.92 67.4314 1518.4 62.7323 Q1521.88 58.0333 1521.88 49.9314 Q1521.88 41.8701 1518.4 37.1711 Q1514.92 32.4315 1508.96 32.4315 M1508.96 26.1121 Q1518.68 26.1121 1524.23 32.4315 Q1529.78 38.7509 1529.78 49.9314 Q1529.78 61.0714 1524.23 67.4314 Q1518.68 73.7508 1508.96 73.7508 Q1499.2 73.7508 1493.65 67.4314 Q1488.14 61.0714 1488.14 49.9314 Q1488.14 38.7509 1493.65 32.4315 Q1499.2 26.1121 1508.96 26.1121 Z\" fill=\"#000000\" fill-rule=\"evenodd\" fill-opacity=\"1\" /><path clip-path=\"url(#clip060)\" d=\"M 0 0 M1305.85 1520.4 L1292.96 1537.74 L1306.52 1556.04 L1299.62 1556.04 L1289.24 1542.04 L1278.86 1556.04 L1271.96 1556.04 L1285.8 1537.39 L1273.13 1520.4 L1280.04 1520.4 L1289.49 1533.1 L1298.95 1520.4 L1305.85 1520.4 Z\" fill=\"#000000\" fill-rule=\"evenodd\" fill-opacity=\"1\" /><path clip-path=\"url(#clip060)\" d=\"M 0 0 M38.479 800.221 L43.3487 800.221 L43.3487 805.823 Q43.3487 808.974 44.6219 810.215 Q45.895 811.425 49.2052 811.425 L52.3562 811.425 L52.3562 801.781 L56.9077 801.781 L56.9077 811.425 L88.0042 811.425 L88.0042 817.313 L56.9077 817.313 L56.9077 822.915 L52.3562 822.915 L52.3562 817.313 L49.8736 817.313 Q43.9216 817.313 41.2162 814.544 Q38.479 811.775 38.479 805.759 L38.479 800.221 Z\" fill=\"#000000\" fill-rule=\"evenodd\" fill-opacity=\"1\" /><path clip-path=\"url(#clip060)\" d=\"M 0 0 M38.5426 780.01 Q45.8632 784.275 53.0246 786.344 Q60.186 788.413 67.5384 788.413 Q74.8908 788.413 82.1159 786.344 Q89.3091 784.243 96.5979 780.01 L96.5979 785.103 Q89.1182 789.877 81.8931 792.264 Q74.668 794.619 67.5384 794.619 Q60.4406 794.619 53.2474 792.264 Q46.0542 789.909 38.5426 785.103 L38.5426 780.01 Z\" fill=\"#000000\" fill-rule=\"evenodd\" fill-opacity=\"1\" /><path clip-path=\"url(#clip060)\" d=\"M 0 0 M52.3562 744.235 L69.7028 757.125 L88.0042 743.566 L88.0042 750.473 L73.9996 760.849 L88.0042 771.225 L88.0042 778.132 L69.3526 764.287 L52.3562 776.954 L52.3562 770.048 L65.0558 760.595 L52.3562 751.141 L52.3562 744.235 Z\" fill=\"#000000\" fill-rule=\"evenodd\" fill-opacity=\"1\" /><path clip-path=\"url(#clip060)\" d=\"M 0 0 M38.5426 738.346 L38.5426 733.254 Q46.0542 728.48 53.2474 726.124 Q60.4406 723.737 67.5384 723.737 Q74.668 723.737 81.8931 726.124 Q89.1182 728.48 96.5979 733.254 L96.5979 738.346 Q89.3091 734.113 82.1159 732.044 Q74.8908 729.944 67.5384 729.944 Q60.186 729.944 53.0246 732.044 Q45.8632 734.113 38.5426 738.346 Z\" fill=\"#000000\" fill-rule=\"evenodd\" fill-opacity=\"1\" /><polyline clip-path=\"url(#clip062)\" style=\"stroke:#0000ff; stroke-width:8; stroke-opacity:1; fill:none\" points=\"\n",
       "  285.922,773.326 296.005,754.069 306.089,734.831 316.173,715.631 326.256,696.488 336.34,677.421 346.423,658.448 356.507,639.589 366.591,620.862 376.674,602.285 \n",
       "  386.758,583.877 396.841,565.656 406.925,547.64 417.008,529.847 427.092,512.294 437.176,494.998 447.259,477.977 457.343,461.248 467.426,444.827 477.51,428.73 \n",
       "  487.594,412.973 497.677,397.571 507.761,382.541 517.844,367.896 527.928,353.651 538.012,339.82 548.095,326.417 558.179,313.456 568.262,300.948 578.346,288.906 \n",
       "  588.43,277.342 598.513,266.268 608.597,255.694 618.68,245.631 628.764,236.089 638.848,227.077 648.931,218.604 659.015,210.678 669.098,203.308 679.182,196.501 \n",
       "  689.266,190.262 699.349,184.599 709.433,179.517 719.516,175.021 729.6,171.115 739.683,167.804 749.767,165.091 759.851,162.977 769.934,161.466 780.018,160.559 \n",
       "  790.101,160.256 800.185,160.559 810.269,161.466 820.352,162.977 830.436,165.091 840.519,167.804 850.603,171.115 860.687,175.021 870.77,179.517 880.854,184.599 \n",
       "  890.937,190.262 901.021,196.501 911.105,203.308 921.188,210.678 931.272,218.604 941.355,227.077 951.439,236.089 961.523,245.631 971.606,255.694 981.69,266.268 \n",
       "  991.773,277.342 1001.86,288.906 1011.94,300.948 1022.02,313.456 1032.11,326.417 1042.19,339.82 1052.27,353.651 1062.36,367.896 1072.44,382.541 1082.53,397.571 \n",
       "  1092.61,412.973 1102.69,428.73 1112.78,444.827 1122.86,461.248 1132.94,477.977 1143.03,494.998 1153.11,512.294 1163.19,529.847 1173.28,547.64 1183.36,565.656 \n",
       "  1193.45,583.877 1203.53,602.285 1213.61,620.862 1223.7,639.589 1233.78,658.448 1243.86,677.421 1253.95,696.488 1264.03,715.631 1274.11,734.831 1284.2,754.069 \n",
       "  1294.28,773.326 1304.36,792.583 1314.45,811.821 1324.53,831.021 1334.62,850.164 1344.7,869.231 1354.78,888.204 1364.87,907.063 1374.95,925.79 1385.03,944.367 \n",
       "  1395.12,962.775 1405.2,980.996 1415.28,999.012 1425.37,1016.81 1435.45,1034.36 1445.54,1051.65 1455.62,1068.67 1465.7,1085.4 1475.79,1101.83 1485.87,1117.92 \n",
       "  1495.95,1133.68 1506.04,1149.08 1516.12,1164.11 1526.2,1178.76 1536.29,1193 1546.37,1206.83 1556.45,1220.23 1566.54,1233.2 1576.62,1245.7 1586.71,1257.75 \n",
       "  1596.79,1269.31 1606.87,1280.38 1616.96,1290.96 1627.04,1301.02 1637.12,1310.56 1647.21,1319.58 1657.29,1328.05 1667.37,1335.97 1677.46,1343.34 1687.54,1350.15 \n",
       "  1697.62,1356.39 1707.71,1362.05 1717.79,1367.13 1727.88,1371.63 1737.96,1375.54 1748.04,1378.85 1758.13,1381.56 1768.21,1383.67 1778.29,1385.19 1788.38,1386.09 \n",
       "  1798.46,1386.4 1808.54,1386.09 1818.63,1385.19 1828.71,1383.67 1838.8,1381.56 1848.88,1378.85 1858.96,1375.54 1869.05,1371.63 1879.13,1367.13 1889.21,1362.05 \n",
       "  1899.3,1356.39 1909.38,1350.15 1919.46,1343.34 1929.55,1335.97 1939.63,1328.05 1949.71,1319.58 1959.8,1310.56 1969.88,1301.02 1979.97,1290.96 1990.05,1280.38 \n",
       "  2000.13,1269.31 2010.22,1257.75 2020.3,1245.7 2030.38,1233.2 2040.47,1220.23 2050.55,1206.83 2060.63,1193 2070.72,1178.76 2080.8,1164.11 2090.88,1149.08 \n",
       "  2100.97,1133.68 2111.05,1117.92 2121.14,1101.83 2131.22,1085.4 2141.3,1068.67 2151.39,1051.65 2161.47,1034.36 2171.55,1016.81 2181.64,999.012 2191.72,980.996 \n",
       "  2201.8,962.775 2211.89,944.367 2221.97,925.79 2232.06,907.063 2242.14,888.204 2252.22,869.231 2262.31,850.164 2272.39,831.021 2282.47,811.821 2292.56,792.583 \n",
       "  \n",
       "  \"/>\n",
       "</svg>\n"
      ]
     },
     "metadata": {},
     "output_type": "display_data"
    }
   ],
   "source": [
    "x = collect(0:pi/100:2*pi)\n",
    "y = sin.(x)\n",
    "\n",
    "plt_sin = plot(x,y, xlabel=\"x\", ylabel=\"f(x)\", title = \"Función Seno\", \n",
    "               color=\"blue\", legend=false, linewidth = 2, grid = true)\n",
    "display(plt_sin)"
   ]
  },
  {
   "cell_type": "markdown",
   "metadata": {},
   "source": [
    "Ejemplo 2:"
   ]
  },
  {
   "cell_type": "code",
   "execution_count": 57,
   "metadata": {},
   "outputs": [
    {
     "data": {
      "image/svg+xml": [
       "<?xml version=\"1.0\" encoding=\"utf-8\"?>\n",
       "<svg xmlns=\"http://www.w3.org/2000/svg\" xmlns:xlink=\"http://www.w3.org/1999/xlink\" width=\"600\" height=\"400\" viewBox=\"0 0 2400 1600\">\n",
       "<defs>\n",
       "  <clipPath id=\"clip100\">\n",
       "    <rect x=\"0\" y=\"0\" width=\"2400\" height=\"1600\"/>\n",
       "  </clipPath>\n",
       "</defs>\n",
       "<path clip-path=\"url(#clip100)\" d=\"\n",
       "M0 1600 L2400 1600 L2400 0 L0 0  Z\n",
       "  \" fill=\"#ffffff\" fill-rule=\"evenodd\" fill-opacity=\"1\"/>\n",
       "<defs>\n",
       "  <clipPath id=\"clip101\">\n",
       "    <rect x=\"480\" y=\"0\" width=\"1681\" height=\"1600\"/>\n",
       "  </clipPath>\n",
       "</defs>\n",
       "<path clip-path=\"url(#clip100)\" d=\"\n",
       "M225.723 1423.18 L2352.76 1423.18 L2352.76 123.472 L225.723 123.472  Z\n",
       "  \" fill=\"#ffffff\" fill-rule=\"evenodd\" fill-opacity=\"1\"/>\n",
       "<defs>\n",
       "  <clipPath id=\"clip102\">\n",
       "    <rect x=\"225\" y=\"123\" width=\"2128\" height=\"1301\"/>\n",
       "  </clipPath>\n",
       "</defs>\n",
       "<polyline clip-path=\"url(#clip102)\" style=\"stroke:#000000; stroke-width:2; stroke-opacity:0.1; fill:none\" points=\"\n",
       "  490.825,1423.18 490.825,123.472 \n",
       "  \"/>\n",
       "<polyline clip-path=\"url(#clip102)\" style=\"stroke:#000000; stroke-width:2; stroke-opacity:0.1; fill:none\" points=\"\n",
       "  890.032,1423.18 890.032,123.472 \n",
       "  \"/>\n",
       "<polyline clip-path=\"url(#clip102)\" style=\"stroke:#000000; stroke-width:2; stroke-opacity:0.1; fill:none\" points=\"\n",
       "  1289.24,1423.18 1289.24,123.472 \n",
       "  \"/>\n",
       "<polyline clip-path=\"url(#clip102)\" style=\"stroke:#000000; stroke-width:2; stroke-opacity:0.1; fill:none\" points=\"\n",
       "  1688.45,1423.18 1688.45,123.472 \n",
       "  \"/>\n",
       "<polyline clip-path=\"url(#clip102)\" style=\"stroke:#000000; stroke-width:2; stroke-opacity:0.1; fill:none\" points=\"\n",
       "  2087.65,1423.18 2087.65,123.472 \n",
       "  \"/>\n",
       "<polyline clip-path=\"url(#clip102)\" style=\"stroke:#000000; stroke-width:2; stroke-opacity:0.1; fill:none\" points=\"\n",
       "  225.723,1386.71 2352.76,1386.71 \n",
       "  \"/>\n",
       "<polyline clip-path=\"url(#clip102)\" style=\"stroke:#000000; stroke-width:2; stroke-opacity:0.1; fill:none\" points=\"\n",
       "  225.723,1080.1 2352.76,1080.1 \n",
       "  \"/>\n",
       "<polyline clip-path=\"url(#clip102)\" style=\"stroke:#000000; stroke-width:2; stroke-opacity:0.1; fill:none\" points=\"\n",
       "  225.723,773.484 2352.76,773.484 \n",
       "  \"/>\n",
       "<polyline clip-path=\"url(#clip102)\" style=\"stroke:#000000; stroke-width:2; stroke-opacity:0.1; fill:none\" points=\"\n",
       "  225.723,466.87 2352.76,466.87 \n",
       "  \"/>\n",
       "<polyline clip-path=\"url(#clip102)\" style=\"stroke:#000000; stroke-width:2; stroke-opacity:0.1; fill:none\" points=\"\n",
       "  225.723,160.256 2352.76,160.256 \n",
       "  \"/>\n",
       "<polyline clip-path=\"url(#clip100)\" style=\"stroke:#000000; stroke-width:4; stroke-opacity:1; fill:none\" points=\"\n",
       "  225.723,1423.18 2352.76,1423.18 \n",
       "  \"/>\n",
       "<polyline clip-path=\"url(#clip100)\" style=\"stroke:#000000; stroke-width:4; stroke-opacity:1; fill:none\" points=\"\n",
       "  225.723,1423.18 225.723,123.472 \n",
       "  \"/>\n",
       "<polyline clip-path=\"url(#clip100)\" style=\"stroke:#000000; stroke-width:4; stroke-opacity:1; fill:none\" points=\"\n",
       "  490.825,1423.18 490.825,1407.58 \n",
       "  \"/>\n",
       "<polyline clip-path=\"url(#clip100)\" style=\"stroke:#000000; stroke-width:4; stroke-opacity:1; fill:none\" points=\"\n",
       "  890.032,1423.18 890.032,1407.58 \n",
       "  \"/>\n",
       "<polyline clip-path=\"url(#clip100)\" style=\"stroke:#000000; stroke-width:4; stroke-opacity:1; fill:none\" points=\"\n",
       "  1289.24,1423.18 1289.24,1407.58 \n",
       "  \"/>\n",
       "<polyline clip-path=\"url(#clip100)\" style=\"stroke:#000000; stroke-width:4; stroke-opacity:1; fill:none\" points=\"\n",
       "  1688.45,1423.18 1688.45,1407.58 \n",
       "  \"/>\n",
       "<polyline clip-path=\"url(#clip100)\" style=\"stroke:#000000; stroke-width:4; stroke-opacity:1; fill:none\" points=\"\n",
       "  2087.65,1423.18 2087.65,1407.58 \n",
       "  \"/>\n",
       "<polyline clip-path=\"url(#clip100)\" style=\"stroke:#000000; stroke-width:4; stroke-opacity:1; fill:none\" points=\"\n",
       "  225.723,1386.71 251.247,1386.71 \n",
       "  \"/>\n",
       "<polyline clip-path=\"url(#clip100)\" style=\"stroke:#000000; stroke-width:4; stroke-opacity:1; fill:none\" points=\"\n",
       "  225.723,1080.1 251.247,1080.1 \n",
       "  \"/>\n",
       "<polyline clip-path=\"url(#clip100)\" style=\"stroke:#000000; stroke-width:4; stroke-opacity:1; fill:none\" points=\"\n",
       "  225.723,773.484 251.247,773.484 \n",
       "  \"/>\n",
       "<polyline clip-path=\"url(#clip100)\" style=\"stroke:#000000; stroke-width:4; stroke-opacity:1; fill:none\" points=\"\n",
       "  225.723,466.87 251.247,466.87 \n",
       "  \"/>\n",
       "<polyline clip-path=\"url(#clip100)\" style=\"stroke:#000000; stroke-width:4; stroke-opacity:1; fill:none\" points=\"\n",
       "  225.723,160.256 251.247,160.256 \n",
       "  \"/>\n",
       "<path clip-path=\"url(#clip100)\" d=\"M 0 0 M453.093 1461.77 L465.57 1461.77 L465.57 1465.56 L453.093 1465.56 L453.093 1461.77 Z\" fill=\"#000000\" fill-rule=\"evenodd\" fill-opacity=\"1\" /><path clip-path=\"url(#clip100)\" d=\"M 0 0 M470.686 1442.09 L489.042 1442.09 L489.042 1446.03 L474.968 1446.03 L474.968 1454.5 Q475.987 1454.15 477.005 1453.99 Q478.024 1453.8 479.042 1453.8 Q484.829 1453.8 488.209 1456.98 Q491.588 1460.15 491.588 1465.56 Q491.588 1471.14 488.116 1474.24 Q484.644 1477.32 478.325 1477.32 Q476.149 1477.32 473.88 1476.95 Q471.635 1476.58 469.227 1475.84 L469.227 1471.14 Q471.311 1472.28 473.533 1472.83 Q475.755 1473.39 478.232 1473.39 Q482.237 1473.39 484.575 1471.28 Q486.913 1469.18 486.913 1465.56 Q486.913 1461.95 484.575 1459.85 Q482.237 1457.74 478.232 1457.74 Q476.357 1457.74 474.482 1458.16 Q472.63 1458.57 470.686 1459.45 L470.686 1442.09 Z\" fill=\"#000000\" fill-rule=\"evenodd\" fill-opacity=\"1\" /><path clip-path=\"url(#clip100)\" d=\"M 0 0 M496.658 1470.77 L501.542 1470.77 L501.542 1476.65 L496.658 1476.65 L496.658 1470.77 Z\" fill=\"#000000\" fill-rule=\"evenodd\" fill-opacity=\"1\" /><path clip-path=\"url(#clip100)\" d=\"M 0 0 M516.611 1445.17 Q513 1445.17 511.172 1448.74 Q509.366 1452.28 509.366 1459.41 Q509.366 1466.51 511.172 1470.08 Q513 1473.62 516.611 1473.62 Q520.246 1473.62 522.051 1470.08 Q523.88 1466.51 523.88 1459.41 Q523.88 1452.28 522.051 1448.74 Q520.246 1445.17 516.611 1445.17 M516.611 1441.47 Q522.422 1441.47 525.477 1446.07 Q528.556 1450.66 528.556 1459.41 Q528.556 1468.13 525.477 1472.74 Q522.422 1477.32 516.611 1477.32 Q510.801 1477.32 507.723 1472.74 Q504.667 1468.13 504.667 1459.41 Q504.667 1450.66 507.723 1446.07 Q510.801 1441.47 516.611 1441.47 Z\" fill=\"#000000\" fill-rule=\"evenodd\" fill-opacity=\"1\" /><path clip-path=\"url(#clip100)\" d=\"M 0 0 M853.099 1461.77 L865.576 1461.77 L865.576 1465.56 L853.099 1465.56 L853.099 1461.77 Z\" fill=\"#000000\" fill-rule=\"evenodd\" fill-opacity=\"1\" /><path clip-path=\"url(#clip100)\" d=\"M 0 0 M874.673 1472.72 L890.993 1472.72 L890.993 1476.65 L869.048 1476.65 L869.048 1472.72 Q871.71 1469.96 876.294 1465.33 Q880.9 1460.68 882.081 1459.34 Q884.326 1456.81 885.206 1455.08 Q886.108 1453.32 886.108 1451.63 Q886.108 1448.87 884.164 1447.14 Q882.243 1445.4 879.141 1445.4 Q876.942 1445.4 874.488 1446.17 Q872.058 1446.93 869.28 1448.48 L869.28 1443.76 Q872.104 1442.62 874.557 1442.05 Q877.011 1441.47 879.048 1441.47 Q884.419 1441.47 887.613 1444.15 Q890.807 1446.84 890.807 1451.33 Q890.807 1453.46 889.997 1455.38 Q889.21 1457.28 887.104 1459.87 Q886.525 1460.54 883.423 1463.76 Q880.321 1466.95 874.673 1472.72 Z\" fill=\"#000000\" fill-rule=\"evenodd\" fill-opacity=\"1\" /><path clip-path=\"url(#clip100)\" d=\"M 0 0 M896.062 1470.77 L900.946 1470.77 L900.946 1476.65 L896.062 1476.65 L896.062 1470.77 Z\" fill=\"#000000\" fill-rule=\"evenodd\" fill-opacity=\"1\" /><path clip-path=\"url(#clip100)\" d=\"M 0 0 M906.062 1442.09 L924.418 1442.09 L924.418 1446.03 L910.344 1446.03 L910.344 1454.5 Q911.363 1454.15 912.381 1453.99 Q913.4 1453.8 914.418 1453.8 Q920.205 1453.8 923.585 1456.98 Q926.965 1460.15 926.965 1465.56 Q926.965 1471.14 923.492 1474.24 Q920.02 1477.32 913.701 1477.32 Q911.525 1477.32 909.256 1476.95 Q907.011 1476.58 904.604 1475.84 L904.604 1471.14 Q906.687 1472.28 908.909 1472.83 Q911.131 1473.39 913.608 1473.39 Q917.613 1473.39 919.951 1471.28 Q922.289 1469.18 922.289 1465.56 Q922.289 1461.95 919.951 1459.85 Q917.613 1457.74 913.608 1457.74 Q911.733 1457.74 909.858 1458.16 Q908.006 1458.57 906.062 1459.45 L906.062 1442.09 Z\" fill=\"#000000\" fill-rule=\"evenodd\" fill-opacity=\"1\" /><path clip-path=\"url(#clip100)\" d=\"M 0 0 M1270.76 1445.17 Q1267.14 1445.17 1265.32 1448.74 Q1263.51 1452.28 1263.51 1459.41 Q1263.51 1466.51 1265.32 1470.08 Q1267.14 1473.62 1270.76 1473.62 Q1274.39 1473.62 1276.2 1470.08 Q1278.02 1466.51 1278.02 1459.41 Q1278.02 1452.28 1276.2 1448.74 Q1274.39 1445.17 1270.76 1445.17 M1270.76 1441.47 Q1276.57 1441.47 1279.62 1446.07 Q1282.7 1450.66 1282.7 1459.41 Q1282.7 1468.13 1279.62 1472.74 Q1276.57 1477.32 1270.76 1477.32 Q1264.95 1477.32 1261.87 1472.74 Q1258.81 1468.13 1258.81 1459.41 Q1258.81 1450.66 1261.87 1446.07 Q1264.95 1441.47 1270.76 1441.47 Z\" fill=\"#000000\" fill-rule=\"evenodd\" fill-opacity=\"1\" /><path clip-path=\"url(#clip100)\" d=\"M 0 0 M1287.77 1470.77 L1292.65 1470.77 L1292.65 1476.65 L1287.77 1476.65 L1287.77 1470.77 Z\" fill=\"#000000\" fill-rule=\"evenodd\" fill-opacity=\"1\" /><path clip-path=\"url(#clip100)\" d=\"M 0 0 M1307.72 1445.17 Q1304.11 1445.17 1302.28 1448.74 Q1300.48 1452.28 1300.48 1459.41 Q1300.48 1466.51 1302.28 1470.08 Q1304.11 1473.62 1307.72 1473.62 Q1311.36 1473.62 1313.16 1470.08 Q1314.99 1466.51 1314.99 1459.41 Q1314.99 1452.28 1313.16 1448.74 Q1311.36 1445.17 1307.72 1445.17 M1307.72 1441.47 Q1313.53 1441.47 1316.59 1446.07 Q1319.67 1450.66 1319.67 1459.41 Q1319.67 1468.13 1316.59 1472.74 Q1313.53 1477.32 1307.72 1477.32 Q1301.91 1477.32 1298.83 1472.74 Q1295.78 1468.13 1295.78 1459.41 Q1295.78 1450.66 1298.83 1446.07 Q1301.91 1441.47 1307.72 1441.47 Z\" fill=\"#000000\" fill-rule=\"evenodd\" fill-opacity=\"1\" /><path clip-path=\"url(#clip100)\" d=\"M 0 0 M1665.11 1472.72 L1681.43 1472.72 L1681.43 1476.65 L1659.49 1476.65 L1659.49 1472.72 Q1662.15 1469.96 1666.73 1465.33 Q1671.34 1460.68 1672.52 1459.34 Q1674.77 1456.81 1675.65 1455.08 Q1676.55 1453.32 1676.55 1451.63 Q1676.55 1448.87 1674.6 1447.14 Q1672.68 1445.4 1669.58 1445.4 Q1667.38 1445.4 1664.93 1446.17 Q1662.5 1446.93 1659.72 1448.48 L1659.72 1443.76 Q1662.54 1442.62 1665 1442.05 Q1667.45 1441.47 1669.49 1441.47 Q1674.86 1441.47 1678.05 1444.15 Q1681.25 1446.84 1681.25 1451.33 Q1681.25 1453.46 1680.44 1455.38 Q1679.65 1457.28 1677.54 1459.87 Q1676.97 1460.54 1673.86 1463.76 Q1670.76 1466.95 1665.11 1472.72 Z\" fill=\"#000000\" fill-rule=\"evenodd\" fill-opacity=\"1\" /><path clip-path=\"url(#clip100)\" d=\"M 0 0 M1686.5 1470.77 L1691.39 1470.77 L1691.39 1476.65 L1686.5 1476.65 L1686.5 1470.77 Z\" fill=\"#000000\" fill-rule=\"evenodd\" fill-opacity=\"1\" /><path clip-path=\"url(#clip100)\" d=\"M 0 0 M1696.5 1442.09 L1714.86 1442.09 L1714.86 1446.03 L1700.78 1446.03 L1700.78 1454.5 Q1701.8 1454.15 1702.82 1453.99 Q1703.84 1453.8 1704.86 1453.8 Q1710.65 1453.8 1714.03 1456.98 Q1717.4 1460.15 1717.4 1465.56 Q1717.4 1471.14 1713.93 1474.24 Q1710.46 1477.32 1704.14 1477.32 Q1701.97 1477.32 1699.7 1476.95 Q1697.45 1476.58 1695.04 1475.84 L1695.04 1471.14 Q1697.13 1472.28 1699.35 1472.83 Q1701.57 1473.39 1704.05 1473.39 Q1708.05 1473.39 1710.39 1471.28 Q1712.73 1469.18 1712.73 1465.56 Q1712.73 1461.95 1710.39 1459.85 Q1708.05 1457.74 1704.05 1457.74 Q1702.17 1457.74 1700.3 1458.16 Q1698.45 1458.57 1696.5 1459.45 L1696.5 1442.09 Z\" fill=\"#000000\" fill-rule=\"evenodd\" fill-opacity=\"1\" /><path clip-path=\"url(#clip100)\" d=\"M 0 0 M2059.45 1442.09 L2077.8 1442.09 L2077.8 1446.03 L2063.73 1446.03 L2063.73 1454.5 Q2064.75 1454.15 2065.77 1453.99 Q2066.79 1453.8 2067.8 1453.8 Q2073.59 1453.8 2076.97 1456.98 Q2080.35 1460.15 2080.35 1465.56 Q2080.35 1471.14 2076.88 1474.24 Q2073.41 1477.32 2067.09 1477.32 Q2064.91 1477.32 2062.64 1476.95 Q2060.4 1476.58 2057.99 1475.84 L2057.99 1471.14 Q2060.07 1472.28 2062.3 1472.83 Q2064.52 1473.39 2066.99 1473.39 Q2071 1473.39 2073.34 1471.28 Q2075.67 1469.18 2075.67 1465.56 Q2075.67 1461.95 2073.34 1459.85 Q2071 1457.74 2066.99 1457.74 Q2065.12 1457.74 2063.24 1458.16 Q2061.39 1458.57 2059.45 1459.45 L2059.45 1442.09 Z\" fill=\"#000000\" fill-rule=\"evenodd\" fill-opacity=\"1\" /><path clip-path=\"url(#clip100)\" d=\"M 0 0 M2085.42 1470.77 L2090.3 1470.77 L2090.3 1476.65 L2085.42 1476.65 L2085.42 1470.77 Z\" fill=\"#000000\" fill-rule=\"evenodd\" fill-opacity=\"1\" /><path clip-path=\"url(#clip100)\" d=\"M 0 0 M2105.37 1445.17 Q2101.76 1445.17 2099.93 1448.74 Q2098.13 1452.28 2098.13 1459.41 Q2098.13 1466.51 2099.93 1470.08 Q2101.76 1473.62 2105.37 1473.62 Q2109.01 1473.62 2110.81 1470.08 Q2112.64 1466.51 2112.64 1459.41 Q2112.64 1452.28 2110.81 1448.74 Q2109.01 1445.17 2105.37 1445.17 M2105.37 1441.47 Q2111.18 1441.47 2114.24 1446.07 Q2117.32 1450.66 2117.32 1459.41 Q2117.32 1468.13 2114.24 1472.74 Q2111.18 1477.32 2105.37 1477.32 Q2099.56 1477.32 2096.49 1472.74 Q2093.43 1468.13 2093.43 1459.41 Q2093.43 1450.66 2096.49 1446.07 Q2099.56 1441.47 2105.37 1441.47 Z\" fill=\"#000000\" fill-rule=\"evenodd\" fill-opacity=\"1\" /><path clip-path=\"url(#clip100)\" d=\"M 0 0 M126.492 1389.11 L138.968 1389.11 L138.968 1392.9 L126.492 1392.9 L126.492 1389.11 Z\" fill=\"#000000\" fill-rule=\"evenodd\" fill-opacity=\"1\" /><path clip-path=\"url(#clip100)\" d=\"M 0 0 M144.848 1400.06 L152.487 1400.06 L152.487 1373.69 L144.177 1375.36 L144.177 1371.1 L152.441 1369.43 L157.116 1369.43 L157.116 1400.06 L164.755 1400.06 L164.755 1403.99 L144.848 1403.99 L144.848 1400.06 Z\" fill=\"#000000\" fill-rule=\"evenodd\" fill-opacity=\"1\" /><path clip-path=\"url(#clip100)\" d=\"M 0 0 M169.825 1398.11 L174.709 1398.11 L174.709 1403.99 L169.825 1403.99 L169.825 1398.11 Z\" fill=\"#000000\" fill-rule=\"evenodd\" fill-opacity=\"1\" /><path clip-path=\"url(#clip100)\" d=\"M 0 0 M189.778 1372.51 Q186.167 1372.51 184.339 1376.07 Q182.533 1379.62 182.533 1386.75 Q182.533 1393.85 184.339 1397.42 Q186.167 1400.96 189.778 1400.96 Q193.413 1400.96 195.218 1397.42 Q197.047 1393.85 197.047 1386.75 Q197.047 1379.62 195.218 1376.07 Q193.413 1372.51 189.778 1372.51 M189.778 1368.81 Q195.588 1368.81 198.644 1373.41 Q201.723 1378 201.723 1386.75 Q201.723 1395.47 198.644 1400.08 Q195.588 1404.66 189.778 1404.66 Q183.968 1404.66 180.889 1400.08 Q177.834 1395.47 177.834 1386.75 Q177.834 1378 180.889 1373.41 Q183.968 1368.81 189.778 1368.81 Z\" fill=\"#000000\" fill-rule=\"evenodd\" fill-opacity=\"1\" /><path clip-path=\"url(#clip100)\" d=\"M 0 0 M126.26 1082.49 L138.737 1082.49 L138.737 1086.29 L126.26 1086.29 L126.26 1082.49 Z\" fill=\"#000000\" fill-rule=\"evenodd\" fill-opacity=\"1\" /><path clip-path=\"url(#clip100)\" d=\"M 0 0 M153.806 1065.9 Q150.195 1065.9 148.367 1069.46 Q146.561 1073 146.561 1080.13 Q146.561 1087.24 148.367 1090.8 Q150.195 1094.34 153.806 1094.34 Q157.441 1094.34 159.246 1090.8 Q161.075 1087.24 161.075 1080.13 Q161.075 1073 159.246 1069.46 Q157.441 1065.9 153.806 1065.9 M153.806 1062.19 Q159.616 1062.19 162.672 1066.8 Q165.751 1071.38 165.751 1080.13 Q165.751 1088.86 162.672 1093.47 Q159.616 1098.05 153.806 1098.05 Q147.996 1098.05 144.917 1093.47 Q141.862 1088.86 141.862 1080.13 Q141.862 1071.38 144.917 1066.8 Q147.996 1062.19 153.806 1062.19 Z\" fill=\"#000000\" fill-rule=\"evenodd\" fill-opacity=\"1\" /><path clip-path=\"url(#clip100)\" d=\"M 0 0 M170.82 1091.5 L175.704 1091.5 L175.704 1097.38 L170.82 1097.38 L170.82 1091.5 Z\" fill=\"#000000\" fill-rule=\"evenodd\" fill-opacity=\"1\" /><path clip-path=\"url(#clip100)\" d=\"M 0 0 M180.82 1062.82 L199.176 1062.82 L199.176 1066.75 L185.102 1066.75 L185.102 1075.22 Q186.121 1074.88 187.139 1074.72 Q188.158 1074.53 189.176 1074.53 Q194.963 1074.53 198.343 1077.7 Q201.723 1080.87 201.723 1086.29 Q201.723 1091.87 198.251 1094.97 Q194.778 1098.05 188.459 1098.05 Q186.283 1098.05 184.014 1097.68 Q181.769 1097.31 179.362 1096.57 L179.362 1091.87 Q181.445 1093 183.667 1093.56 Q185.889 1094.11 188.366 1094.11 Q192.371 1094.11 194.709 1092.01 Q197.047 1089.9 197.047 1086.29 Q197.047 1082.68 194.709 1080.57 Q192.371 1078.47 188.366 1078.47 Q186.491 1078.47 184.616 1078.88 Q182.764 1079.3 180.82 1080.18 L180.82 1062.82 Z\" fill=\"#000000\" fill-rule=\"evenodd\" fill-opacity=\"1\" /><path clip-path=\"url(#clip100)\" d=\"M 0 0 M152.811 759.282 Q149.2 759.282 147.371 762.847 Q145.566 766.389 145.566 773.518 Q145.566 780.625 147.371 784.189 Q149.2 787.731 152.811 787.731 Q156.445 787.731 158.251 784.189 Q160.079 780.625 160.079 773.518 Q160.079 766.389 158.251 762.847 Q156.445 759.282 152.811 759.282 M152.811 755.579 Q158.621 755.579 161.677 760.185 Q164.755 764.768 164.755 773.518 Q164.755 782.245 161.677 786.852 Q158.621 791.435 152.811 791.435 Q147.001 791.435 143.922 786.852 Q140.867 782.245 140.867 773.518 Q140.867 764.768 143.922 760.185 Q147.001 755.579 152.811 755.579 Z\" fill=\"#000000\" fill-rule=\"evenodd\" fill-opacity=\"1\" /><path clip-path=\"url(#clip100)\" d=\"M 0 0 M169.825 784.884 L174.709 784.884 L174.709 790.764 L169.825 790.764 L169.825 784.884 Z\" fill=\"#000000\" fill-rule=\"evenodd\" fill-opacity=\"1\" /><path clip-path=\"url(#clip100)\" d=\"M 0 0 M189.778 759.282 Q186.167 759.282 184.339 762.847 Q182.533 766.389 182.533 773.518 Q182.533 780.625 184.339 784.189 Q186.167 787.731 189.778 787.731 Q193.413 787.731 195.218 784.189 Q197.047 780.625 197.047 773.518 Q197.047 766.389 195.218 762.847 Q193.413 759.282 189.778 759.282 M189.778 755.579 Q195.588 755.579 198.644 760.185 Q201.723 764.768 201.723 773.518 Q201.723 782.245 198.644 786.852 Q195.588 791.435 189.778 791.435 Q183.968 791.435 180.889 786.852 Q177.834 782.245 177.834 773.518 Q177.834 764.768 180.889 760.185 Q183.968 755.579 189.778 755.579 Z\" fill=\"#000000\" fill-rule=\"evenodd\" fill-opacity=\"1\" /><path clip-path=\"url(#clip100)\" d=\"M 0 0 M153.806 452.669 Q150.195 452.669 148.367 456.233 Q146.561 459.775 146.561 466.905 Q146.561 474.011 148.367 477.576 Q150.195 481.118 153.806 481.118 Q157.441 481.118 159.246 477.576 Q161.075 474.011 161.075 466.905 Q161.075 459.775 159.246 456.233 Q157.441 452.669 153.806 452.669 M153.806 448.965 Q159.616 448.965 162.672 453.571 Q165.751 458.155 165.751 466.905 Q165.751 475.631 162.672 480.238 Q159.616 484.821 153.806 484.821 Q147.996 484.821 144.917 480.238 Q141.862 475.631 141.862 466.905 Q141.862 458.155 144.917 453.571 Q147.996 448.965 153.806 448.965 Z\" fill=\"#000000\" fill-rule=\"evenodd\" fill-opacity=\"1\" /><path clip-path=\"url(#clip100)\" d=\"M 0 0 M170.82 478.27 L175.704 478.27 L175.704 484.15 L170.82 484.15 L170.82 478.27 Z\" fill=\"#000000\" fill-rule=\"evenodd\" fill-opacity=\"1\" /><path clip-path=\"url(#clip100)\" d=\"M 0 0 M180.82 449.59 L199.176 449.59 L199.176 453.525 L185.102 453.525 L185.102 461.997 Q186.121 461.65 187.139 461.488 Q188.158 461.303 189.176 461.303 Q194.963 461.303 198.343 464.474 Q201.723 467.645 201.723 473.062 Q201.723 478.641 198.251 481.743 Q194.778 484.821 188.459 484.821 Q186.283 484.821 184.014 484.451 Q181.769 484.08 179.362 483.34 L179.362 478.641 Q181.445 479.775 183.667 480.33 Q185.889 480.886 188.366 480.886 Q192.371 480.886 194.709 478.78 Q197.047 476.673 197.047 473.062 Q197.047 469.451 194.709 467.344 Q192.371 465.238 188.366 465.238 Q186.491 465.238 184.616 465.655 Q182.764 466.071 180.82 466.951 L180.82 449.59 Z\" fill=\"#000000\" fill-rule=\"evenodd\" fill-opacity=\"1\" /><path clip-path=\"url(#clip100)\" d=\"M 0 0 M144.848 173.601 L152.487 173.601 L152.487 147.236 L144.177 148.902 L144.177 144.643 L152.441 142.976 L157.116 142.976 L157.116 173.601 L164.755 173.601 L164.755 177.536 L144.848 177.536 L144.848 173.601 Z\" fill=\"#000000\" fill-rule=\"evenodd\" fill-opacity=\"1\" /><path clip-path=\"url(#clip100)\" d=\"M 0 0 M169.825 171.657 L174.709 171.657 L174.709 177.536 L169.825 177.536 L169.825 171.657 Z\" fill=\"#000000\" fill-rule=\"evenodd\" fill-opacity=\"1\" /><path clip-path=\"url(#clip100)\" d=\"M 0 0 M189.778 146.055 Q186.167 146.055 184.339 149.62 Q182.533 153.161 182.533 160.291 Q182.533 167.397 184.339 170.962 Q186.167 174.504 189.778 174.504 Q193.413 174.504 195.218 170.962 Q197.047 167.397 197.047 160.291 Q197.047 153.161 195.218 149.62 Q193.413 146.055 189.778 146.055 M189.778 142.351 Q195.588 142.351 198.644 146.958 Q201.723 151.541 201.723 160.291 Q201.723 169.018 198.644 173.624 Q195.588 178.208 189.778 178.208 Q183.968 178.208 180.889 173.624 Q177.834 169.018 177.834 160.291 Q177.834 151.541 180.889 146.958 Q183.968 142.351 189.778 142.351 Z\" fill=\"#000000\" fill-rule=\"evenodd\" fill-opacity=\"1\" /><path clip-path=\"url(#clip100)\" d=\"M 0 0 M860.411 12.096 L895.167 12.096 L895.167 18.9825 L868.593 18.9825 L868.593 36.8065 L892.575 36.8065 L892.575 43.6931 L868.593 43.6931 L868.593 72.576 L860.411 72.576 L860.411 12.096 Z\" fill=\"#000000\" fill-rule=\"evenodd\" fill-opacity=\"1\" /><path clip-path=\"url(#clip100)\" d=\"M 0 0 M897.679 54.671 L897.679 27.2059 L905.133 27.2059 L905.133 54.3874 Q905.133 60.8284 907.644 64.0691 Q910.156 67.2693 915.179 67.2693 Q921.215 67.2693 924.698 63.421 Q928.223 59.5726 928.223 52.9291 L928.223 27.2059 L935.676 27.2059 L935.676 72.576 L928.223 72.576 L928.223 65.6084 Q925.509 69.7404 921.903 71.7658 Q918.339 73.7508 913.599 73.7508 Q905.781 73.7508 901.73 68.8897 Q897.679 64.0286 897.679 54.671 M916.435 26.1121 L916.435 26.1121 Z\" fill=\"#000000\" fill-rule=\"evenodd\" fill-opacity=\"1\" /><path clip-path=\"url(#clip100)\" d=\"M 0 0 M981.209 45.1919 L981.209 72.576 L973.755 72.576 L973.755 45.4349 Q973.755 38.994 971.243 35.7938 Q968.732 32.5936 963.709 32.5936 Q957.673 32.5936 954.189 36.4419 Q950.705 40.2903 950.705 46.9338 L950.705 72.576 L943.211 72.576 L943.211 27.2059 L950.705 27.2059 L950.705 34.2544 Q953.379 30.163 956.984 28.1376 Q960.63 26.1121 965.37 26.1121 Q973.188 26.1121 977.198 30.9732 Q981.209 35.7938 981.209 45.1919 Z\" fill=\"#000000\" fill-rule=\"evenodd\" fill-opacity=\"1\" /><path clip-path=\"url(#clip100)\" d=\"M 0 0 M1021.68 28.9478 L1021.68 35.9153 Q1018.52 34.1734 1015.32 33.3227 Q1012.16 32.4315 1008.92 32.4315 Q1001.67 32.4315 997.655 37.0496 Q993.645 41.6271 993.645 49.9314 Q993.645 58.2358 997.655 62.8538 Q1001.67 67.4314 1008.92 67.4314 Q1012.16 67.4314 1015.32 66.5807 Q1018.52 65.6895 1021.68 63.9476 L1021.68 70.8341 Q1018.56 72.2924 1015.2 73.0216 Q1011.87 73.7508 1008.11 73.7508 Q997.858 73.7508 991.822 67.3098 Q985.786 60.8689 985.786 49.9314 Q985.786 38.832 991.862 32.472 Q997.979 26.1121 1008.59 26.1121 Q1012.04 26.1121 1015.32 26.8413 Q1018.6 27.5299 1021.68 28.9478 Z\" fill=\"#000000\" fill-rule=\"evenodd\" fill-opacity=\"1\" /><path clip-path=\"url(#clip100)\" d=\"M 0 0 M1029.5 27.2059 L1036.95 27.2059 L1036.95 72.576 L1029.5 72.576 L1029.5 27.2059 M1029.5 9.54393 L1036.95 9.54393 L1036.95 18.9825 L1029.5 18.9825 L1029.5 9.54393 Z\" fill=\"#000000\" fill-rule=\"evenodd\" fill-opacity=\"1\" /><path clip-path=\"url(#clip100)\" d=\"M 0 0 M1062.35 32.4315 Q1056.35 32.4315 1052.87 37.1306 Q1049.39 41.7891 1049.39 49.9314 Q1049.39 58.0738 1052.83 62.7728 Q1056.31 67.4314 1062.35 67.4314 Q1068.3 67.4314 1071.79 62.7323 Q1075.27 58.0333 1075.27 49.9314 Q1075.27 41.8701 1071.79 37.1711 Q1068.3 32.4315 1062.35 32.4315 M1062.35 26.1121 Q1072.07 26.1121 1077.62 32.4315 Q1083.17 38.7509 1083.17 49.9314 Q1083.17 61.0714 1077.62 67.4314 Q1072.07 73.7508 1062.35 73.7508 Q1052.59 73.7508 1047.04 67.4314 Q1041.53 61.0714 1041.53 49.9314 Q1041.53 38.7509 1047.04 32.4315 Q1052.59 26.1121 1062.35 26.1121 M1067.98 6.22219 L1076.04 6.22219 L1062.83 21.4536 L1056.64 21.4536 L1067.98 6.22219 Z\" fill=\"#000000\" fill-rule=\"evenodd\" fill-opacity=\"1\" /><path clip-path=\"url(#clip100)\" d=\"M 0 0 M1128.7 45.1919 L1128.7 72.576 L1121.25 72.576 L1121.25 45.4349 Q1121.25 38.994 1118.74 35.7938 Q1116.23 32.5936 1111.2 32.5936 Q1105.17 32.5936 1101.68 36.4419 Q1098.2 40.2903 1098.2 46.9338 L1098.2 72.576 L1090.7 72.576 L1090.7 27.2059 L1098.2 27.2059 L1098.2 34.2544 Q1100.87 30.163 1104.48 28.1376 Q1108.12 26.1121 1112.86 26.1121 Q1120.68 26.1121 1124.69 30.9732 Q1128.7 35.7938 1128.7 45.1919 Z\" fill=\"#000000\" fill-rule=\"evenodd\" fill-opacity=\"1\" /><path clip-path=\"url(#clip100)\" d=\"M 0 0 M1199.47 14.0809 L1199.47 22.0612 Q1194.81 19.8332 1190.68 18.7395 Q1186.55 17.6457 1182.7 17.6457 Q1176.02 17.6457 1172.37 20.2383 Q1168.77 22.8309 1168.77 27.611 Q1168.77 31.6214 1171.16 33.6873 Q1173.59 35.7128 1180.31 36.9686 L1185.25 37.9813 Q1194.41 39.7232 1198.74 44.1387 Q1203.12 48.5136 1203.12 55.8863 Q1203.12 64.6767 1197.2 69.2137 Q1191.33 73.7508 1179.95 73.7508 Q1175.65 73.7508 1170.79 72.7785 Q1165.97 71.8063 1160.79 69.9024 L1160.79 61.4765 Q1165.77 64.2716 1170.55 65.6895 Q1175.33 67.1073 1179.95 67.1073 Q1186.95 67.1073 1190.76 64.3527 Q1194.57 61.598 1194.57 56.4939 Q1194.57 52.0379 1191.82 49.5264 Q1189.1 47.0148 1182.86 45.759 L1177.88 44.7868 Q1168.72 42.9639 1164.63 39.075 Q1160.54 35.1862 1160.54 28.2591 Q1160.54 20.2383 1166.17 15.6203 Q1171.84 11.0023 1181.77 11.0023 Q1186.02 11.0023 1190.44 11.7719 Q1194.85 12.5416 1199.47 14.0809 Z\" fill=\"#000000\" fill-rule=\"evenodd\" fill-opacity=\"1\" /><path clip-path=\"url(#clip100)\" d=\"M 0 0 M1249.74 48.0275 L1249.74 51.6733 L1215.47 51.6733 Q1215.96 59.3701 1220.09 63.421 Q1224.26 67.4314 1231.68 67.4314 Q1235.97 67.4314 1239.98 66.3781 Q1244.03 65.3249 1248 63.2184 L1248 70.267 Q1243.99 71.9684 1239.78 72.8596 Q1235.56 73.7508 1231.23 73.7508 Q1220.37 73.7508 1214.01 67.4314 Q1207.69 61.1119 1207.69 50.3365 Q1207.69 39.1965 1213.69 32.6746 Q1219.73 26.1121 1229.93 26.1121 Q1239.09 26.1121 1244.4 32.0264 Q1249.74 37.9003 1249.74 48.0275 M1242.29 45.84 Q1242.21 39.7232 1238.85 36.0774 Q1235.52 32.4315 1230.02 32.4315 Q1223.78 32.4315 1220.01 35.9558 Q1216.28 39.4801 1215.72 45.8805 L1242.29 45.84 Z\" fill=\"#000000\" fill-rule=\"evenodd\" fill-opacity=\"1\" /><path clip-path=\"url(#clip100)\" d=\"M 0 0 M1295.28 45.1919 L1295.28 72.576 L1287.82 72.576 L1287.82 45.4349 Q1287.82 38.994 1285.31 35.7938 Q1282.8 32.5936 1277.78 32.5936 Q1271.74 32.5936 1268.26 36.4419 Q1264.77 40.2903 1264.77 46.9338 L1264.77 72.576 L1257.28 72.576 L1257.28 27.2059 L1264.77 27.2059 L1264.77 34.2544 Q1267.45 30.163 1271.05 28.1376 Q1274.7 26.1121 1279.44 26.1121 Q1287.25 26.1121 1291.26 30.9732 Q1295.28 35.7938 1295.28 45.1919 Z\" fill=\"#000000\" fill-rule=\"evenodd\" fill-opacity=\"1\" /><path clip-path=\"url(#clip100)\" d=\"M 0 0 M1320.67 32.4315 Q1314.68 32.4315 1311.2 37.1306 Q1307.71 41.7891 1307.71 49.9314 Q1307.71 58.0738 1311.15 62.7728 Q1314.64 67.4314 1320.67 67.4314 Q1326.63 67.4314 1330.11 62.7323 Q1333.6 58.0333 1333.6 49.9314 Q1333.6 41.8701 1330.11 37.1711 Q1326.63 32.4315 1320.67 32.4315 M1320.67 26.1121 Q1330.4 26.1121 1335.95 32.4315 Q1341.5 38.7509 1341.5 49.9314 Q1341.5 61.0714 1335.95 67.4314 Q1330.4 73.7508 1320.67 73.7508 Q1310.91 73.7508 1305.36 67.4314 Q1299.85 61.0714 1299.85 49.9314 Q1299.85 38.7509 1305.36 32.4315 Q1310.91 26.1121 1320.67 26.1121 Z\" fill=\"#000000\" fill-rule=\"evenodd\" fill-opacity=\"1\" /><path clip-path=\"url(#clip100)\" d=\"M 0 0 M1394.56 76.7889 Q1391.4 84.8907 1388.41 87.3618 Q1385.41 89.8329 1380.38 89.8329 L1374.43 89.8329 L1374.43 83.5945 L1378.8 83.5945 Q1381.88 83.5945 1383.58 82.1361 Q1385.29 80.6778 1387.35 75.2496 L1388.69 71.8468 L1370.34 27.2059 L1378.24 27.2059 L1392.42 62.6918 L1406.59 27.2059 L1414.49 27.2059 L1394.56 76.7889 Z\" fill=\"#000000\" fill-rule=\"evenodd\" fill-opacity=\"1\" /><path clip-path=\"url(#clip100)\" d=\"M 0 0 M1494.3 16.7545 L1494.3 25.383 Q1490.16 21.5346 1485.47 19.6307 Q1480.81 17.7268 1475.54 17.7268 Q1465.17 17.7268 1459.66 24.0867 Q1454.15 30.4061 1454.15 42.3968 Q1454.15 54.3469 1459.66 60.7069 Q1465.17 67.0263 1475.54 67.0263 Q1480.81 67.0263 1485.47 65.1223 Q1490.16 63.2184 1494.3 59.3701 L1494.3 67.9175 Q1490 70.8341 1485.18 72.2924 Q1480.4 73.7508 1475.05 73.7508 Q1461.32 73.7508 1453.42 65.3654 Q1445.52 56.9395 1445.52 42.3968 Q1445.52 27.8135 1453.42 19.4281 Q1461.32 11.0023 1475.05 11.0023 Q1480.48 11.0023 1485.26 12.4606 Q1490.08 13.8784 1494.3 16.7545 Z\" fill=\"#000000\" fill-rule=\"evenodd\" fill-opacity=\"1\" /><path clip-path=\"url(#clip100)\" d=\"M 0 0 M1519.7 32.4315 Q1513.7 32.4315 1510.22 37.1306 Q1506.73 41.7891 1506.73 49.9314 Q1506.73 58.0738 1510.18 62.7728 Q1513.66 67.4314 1519.7 67.4314 Q1525.65 67.4314 1529.13 62.7323 Q1532.62 58.0333 1532.62 49.9314 Q1532.62 41.8701 1529.13 37.1711 Q1525.65 32.4315 1519.7 32.4315 M1519.7 26.1121 Q1529.42 26.1121 1534.97 32.4315 Q1540.52 38.7509 1540.52 49.9314 Q1540.52 61.0714 1534.97 67.4314 Q1529.42 73.7508 1519.7 73.7508 Q1509.93 73.7508 1504.38 67.4314 Q1498.87 61.0714 1498.87 49.9314 Q1498.87 38.7509 1504.38 32.4315 Q1509.93 26.1121 1519.7 26.1121 Z\" fill=\"#000000\" fill-rule=\"evenodd\" fill-opacity=\"1\" /><path clip-path=\"url(#clip100)\" d=\"M 0 0 M1577.26 28.5427 L1577.26 35.5912 Q1574.1 33.9709 1570.7 33.1607 Q1567.29 32.3505 1563.65 32.3505 Q1558.1 32.3505 1555.3 34.0519 Q1552.55 35.7533 1552.55 39.156 Q1552.55 41.7486 1554.53 43.2475 Q1556.52 44.7058 1562.51 46.0426 L1565.07 46.6097 Q1573.01 48.3111 1576.33 51.4303 Q1579.69 54.509 1579.69 60.0587 Q1579.69 66.3781 1574.67 70.0644 Q1569.68 73.7508 1560.93 73.7508 Q1557.29 73.7508 1553.32 73.0216 Q1549.39 72.3329 1545.01 70.9151 L1545.01 63.2184 Q1549.15 65.3654 1553.16 66.4591 Q1557.17 67.5124 1561.1 67.5124 Q1566.36 67.5124 1569.2 65.73 Q1572.03 63.9071 1572.03 60.6258 Q1572.03 57.5877 1569.97 55.9673 Q1567.94 54.3469 1561.01 52.8481 L1558.42 52.2405 Q1551.49 50.7821 1548.42 47.7845 Q1545.34 44.7463 1545.34 39.4801 Q1545.34 33.0797 1549.87 29.5959 Q1554.41 26.1121 1562.76 26.1121 Q1566.89 26.1121 1570.53 26.7198 Q1574.18 27.3274 1577.26 28.5427 Z\" fill=\"#000000\" fill-rule=\"evenodd\" fill-opacity=\"1\" /><path clip-path=\"url(#clip100)\" d=\"M 0 0 M1626.32 48.0275 L1626.32 51.6733 L1592.04 51.6733 Q1592.53 59.3701 1596.66 63.421 Q1600.83 67.4314 1608.25 67.4314 Q1612.54 67.4314 1616.55 66.3781 Q1620.6 65.3249 1624.57 63.2184 L1624.57 70.267 Q1620.56 71.9684 1616.35 72.8596 Q1612.14 73.7508 1607.8 73.7508 Q1596.95 73.7508 1590.59 67.4314 Q1584.27 61.1119 1584.27 50.3365 Q1584.27 39.1965 1590.26 32.6746 Q1596.3 26.1121 1606.51 26.1121 Q1615.66 26.1121 1620.97 32.0264 Q1626.32 37.9003 1626.32 48.0275 M1618.86 45.84 Q1618.78 39.7232 1615.42 36.0774 Q1612.1 32.4315 1606.59 32.4315 Q1600.35 32.4315 1596.58 35.9558 Q1592.85 39.4801 1592.29 45.8805 L1618.86 45.84 Z\" fill=\"#000000\" fill-rule=\"evenodd\" fill-opacity=\"1\" /><path clip-path=\"url(#clip100)\" d=\"M 0 0 M1671.85 45.1919 L1671.85 72.576 L1664.39 72.576 L1664.39 45.4349 Q1664.39 38.994 1661.88 35.7938 Q1659.37 32.5936 1654.35 32.5936 Q1648.31 32.5936 1644.83 36.4419 Q1641.34 40.2903 1641.34 46.9338 L1641.34 72.576 L1633.85 72.576 L1633.85 27.2059 L1641.34 27.2059 L1641.34 34.2544 Q1644.02 30.163 1647.62 28.1376 Q1651.27 26.1121 1656.01 26.1121 Q1663.83 26.1121 1667.84 30.9732 Q1671.85 35.7938 1671.85 45.1919 Z\" fill=\"#000000\" fill-rule=\"evenodd\" fill-opacity=\"1\" /><path clip-path=\"url(#clip100)\" d=\"M 0 0 M1697.25 32.4315 Q1691.25 32.4315 1687.77 37.1306 Q1684.28 41.7891 1684.28 49.9314 Q1684.28 58.0738 1687.73 62.7728 Q1691.21 67.4314 1697.25 67.4314 Q1703.2 67.4314 1706.68 62.7323 Q1710.17 58.0333 1710.17 49.9314 Q1710.17 41.8701 1706.68 37.1711 Q1703.2 32.4315 1697.25 32.4315 M1697.25 26.1121 Q1706.97 26.1121 1712.52 32.4315 Q1718.07 38.7509 1718.07 49.9314 Q1718.07 61.0714 1712.52 67.4314 Q1706.97 73.7508 1697.25 73.7508 Q1687.48 73.7508 1681.93 67.4314 Q1676.42 61.0714 1676.42 49.9314 Q1676.42 38.7509 1681.93 32.4315 Q1687.48 26.1121 1697.25 26.1121 Z\" fill=\"#000000\" fill-rule=\"evenodd\" fill-opacity=\"1\" /><path clip-path=\"url(#clip100)\" d=\"M 0 0 M1305.85 1520.4 L1292.96 1537.74 L1306.52 1556.04 L1299.62 1556.04 L1289.24 1542.04 L1278.86 1556.04 L1271.96 1556.04 L1285.8 1537.39 L1273.13 1520.4 L1280.04 1520.4 L1289.49 1533.1 L1298.95 1520.4 L1305.85 1520.4 Z\" fill=\"#000000\" fill-rule=\"evenodd\" fill-opacity=\"1\" /><path clip-path=\"url(#clip100)\" d=\"M 0 0 M38.479 800.221 L43.3487 800.221 L43.3487 805.823 Q43.3487 808.974 44.6219 810.215 Q45.895 811.425 49.2052 811.425 L52.3562 811.425 L52.3562 801.781 L56.9077 801.781 L56.9077 811.425 L88.0042 811.425 L88.0042 817.313 L56.9077 817.313 L56.9077 822.915 L52.3562 822.915 L52.3562 817.313 L49.8736 817.313 Q43.9216 817.313 41.2162 814.544 Q38.479 811.775 38.479 805.759 L38.479 800.221 Z\" fill=\"#000000\" fill-rule=\"evenodd\" fill-opacity=\"1\" /><path clip-path=\"url(#clip100)\" d=\"M 0 0 M38.5426 780.01 Q45.8632 784.275 53.0246 786.344 Q60.186 788.413 67.5384 788.413 Q74.8908 788.413 82.1159 786.344 Q89.3091 784.243 96.5979 780.01 L96.5979 785.103 Q89.1182 789.877 81.8931 792.264 Q74.668 794.619 67.5384 794.619 Q60.4406 794.619 53.2474 792.264 Q46.0542 789.909 38.5426 785.103 L38.5426 780.01 Z\" fill=\"#000000\" fill-rule=\"evenodd\" fill-opacity=\"1\" /><path clip-path=\"url(#clip100)\" d=\"M 0 0 M52.3562 744.235 L69.7028 757.125 L88.0042 743.566 L88.0042 750.473 L73.9996 760.849 L88.0042 771.225 L88.0042 778.132 L69.3526 764.287 L52.3562 776.954 L52.3562 770.048 L65.0558 760.595 L52.3562 751.141 L52.3562 744.235 Z\" fill=\"#000000\" fill-rule=\"evenodd\" fill-opacity=\"1\" /><path clip-path=\"url(#clip100)\" d=\"M 0 0 M38.5426 738.346 L38.5426 733.254 Q46.0542 728.48 53.2474 726.124 Q60.4406 723.737 67.5384 723.737 Q74.668 723.737 81.8931 726.124 Q89.1182 728.48 96.5979 733.254 L96.5979 738.346 Q89.3091 734.113 82.1159 732.044 Q74.8908 729.944 67.5384 729.944 Q60.186 729.944 53.0246 732.044 Q45.8632 734.113 38.5426 738.346 Z\" fill=\"#000000\" fill-rule=\"evenodd\" fill-opacity=\"1\" /><polyline clip-path=\"url(#clip102)\" style=\"stroke:#0000ff; stroke-width:8; stroke-opacity:1; fill:none\" points=\"\n",
       "  285.922,773.484 326.874,617.936 367.825,472.562 408.777,346.872 449.729,249.087 490.68,185.602 531.632,160.571 572.584,175.631 613.536,229.797 654.487,319.525 \n",
       "  695.439,438.947 736.391,580.251 777.343,734.194 818.294,890.707 859.246,1039.55 900.198,1170.99 941.15,1276.44 982.101,1348.98 1023.05,1383.88 1064,1378.85 \n",
       "  1104.96,1334.23 1145.91,1252.92 1186.86,1140.26 1227.81,1003.61 1268.76,851.901 1309.72,695.066 1350.67,543.36 1391.62,406.706 1432.57,294.043 1473.52,212.741 \n",
       "  1514.47,168.117 1555.43,163.09 1596.38,197.989 1637.33,270.532 1678.28,375.972 1719.23,507.414 1760.18,656.26 1801.14,812.773 1842.09,966.716 1883.04,1108.02 \n",
       "  1923.99,1227.44 1964.94,1317.17 2005.89,1371.34 2046.85,1386.4 2087.8,1361.36 2128.75,1297.88 2169.7,1200.09 2210.65,1074.4 2251.61,929.031 2292.56,773.484 \n",
       "  \n",
       "  \"/>\n",
       "<polyline clip-path=\"url(#clip102)\" style=\"stroke:#ff0000; stroke-width:8; stroke-opacity:1; fill:none\" points=\"\n",
       "  285.922,160.256 326.874,180.312 367.825,239.167 408.777,332.972 449.729,455.591 490.68,599.003 531.632,753.829 572.584,909.939 613.536,1057.12 654.487,1185.76 \n",
       "  695.439,1287.42 736.391,1355.47 777.343,1385.45 818.294,1375.4 859.246,1325.98 900.198,1240.42 941.15,1124.32 982.101,985.271 1023.05,832.367 1064,675.613 \n",
       "  1104.96,525.259 1145.91,391.143 1186.86,282.035 1227.81,205.073 1268.76,165.291 1309.72,165.291 1350.67,205.073 1391.62,282.035 1432.57,391.143 1473.52,525.259 \n",
       "  1514.47,675.613 1555.43,832.367 1596.38,985.271 1637.33,1124.32 1678.28,1240.42 1719.23,1325.98 1760.18,1375.4 1801.14,1385.45 1842.09,1355.47 1883.04,1287.42 \n",
       "  1923.99,1185.76 1964.94,1057.12 2005.89,909.939 2046.85,753.829 2087.8,599.003 2128.75,455.591 2169.7,332.972 2210.65,239.167 2251.61,180.312 2292.56,160.256 \n",
       "  \n",
       "  \"/>\n",
       "<path clip-path=\"url(#clip100)\" d=\"\n",
       "M1915.83 388.432 L2280.76 388.432 L2280.76 206.992 L1915.83 206.992  Z\n",
       "  \" fill=\"#ffffff\" fill-rule=\"evenodd\" fill-opacity=\"1\"/>\n",
       "<polyline clip-path=\"url(#clip100)\" style=\"stroke:#000000; stroke-width:4; stroke-opacity:1; fill:none\" points=\"\n",
       "  1915.83,388.432 2280.76,388.432 2280.76,206.992 1915.83,206.992 1915.83,388.432 \n",
       "  \"/>\n",
       "<polyline clip-path=\"url(#clip100)\" style=\"stroke:#0000ff; stroke-width:4; stroke-opacity:1; fill:none\" points=\"\n",
       "  1939.83,267.472 2083.83,267.472 \n",
       "  \"/>\n",
       "<path clip-path=\"url(#clip100)\" d=\"M 0 0 M2126.25 259.59 L2126.25 263.618 Q2124.45 262.692 2122.5 262.229 Q2120.56 261.766 2118.47 261.766 Q2115.3 261.766 2113.71 262.738 Q2112.13 263.711 2112.13 265.655 Q2112.13 267.136 2113.27 267.993 Q2114.4 268.826 2117.83 269.59 L2119.28 269.914 Q2123.82 270.886 2125.72 272.669 Q2127.64 274.428 2127.64 277.599 Q2127.64 281.21 2124.77 283.317 Q2121.92 285.423 2116.92 285.423 Q2114.84 285.423 2112.57 285.007 Q2110.33 284.613 2107.83 283.803 L2107.83 279.405 Q2110.19 280.632 2112.48 281.257 Q2114.77 281.859 2117.02 281.859 Q2120.03 281.859 2121.65 280.84 Q2123.27 279.798 2123.27 277.923 Q2123.27 276.187 2122.09 275.261 Q2120.93 274.336 2116.97 273.479 L2115.49 273.132 Q2111.53 272.298 2109.77 270.586 Q2108.01 268.849 2108.01 265.84 Q2108.01 262.183 2110.6 260.192 Q2113.2 258.201 2117.96 258.201 Q2120.33 258.201 2122.41 258.549 Q2124.49 258.896 2126.25 259.59 Z\" fill=\"#000000\" fill-rule=\"evenodd\" fill-opacity=\"1\" /><path clip-path=\"url(#clip100)\" d=\"M 0 0 M2132.11 258.826 L2136.37 258.826 L2136.37 284.752 L2132.11 284.752 L2132.11 258.826 M2132.11 248.734 L2136.37 248.734 L2136.37 254.127 L2132.11 254.127 L2132.11 248.734 Z\" fill=\"#000000\" fill-rule=\"evenodd\" fill-opacity=\"1\" /><path clip-path=\"url(#clip100)\" d=\"M 0 0 M2162.39 269.104 L2162.39 284.752 L2158.13 284.752 L2158.13 269.243 Q2158.13 265.562 2156.69 263.734 Q2155.26 261.905 2152.39 261.905 Q2148.94 261.905 2146.95 264.104 Q2144.96 266.303 2144.96 270.099 L2144.96 284.752 L2140.67 284.752 L2140.67 258.826 L2144.96 258.826 L2144.96 262.854 Q2146.48 260.516 2148.54 259.359 Q2150.63 258.201 2153.34 258.201 Q2157.8 258.201 2160.09 260.979 Q2162.39 263.734 2162.39 269.104 Z\" fill=\"#000000\" fill-rule=\"evenodd\" fill-opacity=\"1\" /><path clip-path=\"url(#clip100)\" d=\"M 0 0 M2177.08 248.78 Q2173.98 254.104 2172.48 259.312 Q2170.97 264.521 2170.97 269.868 Q2170.97 275.215 2172.48 280.47 Q2174.01 285.701 2177.08 291.002 L2173.38 291.002 Q2169.91 285.562 2168.17 280.308 Q2166.46 275.053 2166.46 269.868 Q2166.46 264.706 2168.17 259.474 Q2169.89 254.243 2173.38 248.78 L2177.08 248.78 Z\" fill=\"#000000\" fill-rule=\"evenodd\" fill-opacity=\"1\" /><path clip-path=\"url(#clip100)\" d=\"M 0 0 M2203.1 258.826 L2193.73 271.442 L2203.59 284.752 L2198.57 284.752 L2191.02 274.567 L2183.47 284.752 L2178.45 284.752 L2188.52 271.187 L2179.31 258.826 L2184.33 258.826 L2191.21 268.062 L2198.08 258.826 L2203.1 258.826 Z\" fill=\"#000000\" fill-rule=\"evenodd\" fill-opacity=\"1\" /><path clip-path=\"url(#clip100)\" d=\"M 0 0 M2207.39 248.78 L2211.09 248.78 Q2214.56 254.243 2216.27 259.474 Q2218.01 264.706 2218.01 269.868 Q2218.01 275.053 2216.27 280.308 Q2214.56 285.562 2211.09 291.002 L2207.39 291.002 Q2210.46 285.701 2211.97 280.47 Q2213.5 275.215 2213.5 269.868 Q2213.5 264.521 2211.97 259.312 Q2210.46 254.104 2207.39 248.78 Z\" fill=\"#000000\" fill-rule=\"evenodd\" fill-opacity=\"1\" /><polyline clip-path=\"url(#clip100)\" style=\"stroke:#ff0000; stroke-width:4; stroke-opacity:1; fill:none\" points=\"\n",
       "  1939.83,327.952 2083.83,327.952 \n",
       "  \"/>\n",
       "<path clip-path=\"url(#clip100)\" d=\"M 0 0 M2128.34 320.302 L2128.34 324.283 Q2126.53 323.288 2124.7 322.802 Q2122.9 322.292 2121.04 322.292 Q2116.9 322.292 2114.61 324.931 Q2112.32 327.547 2112.32 332.292 Q2112.32 337.038 2114.61 339.677 Q2116.9 342.292 2121.04 342.292 Q2122.9 342.292 2124.7 341.806 Q2126.53 341.297 2128.34 340.302 L2128.34 344.237 Q2126.55 345.07 2124.63 345.487 Q2122.73 345.903 2120.58 345.903 Q2114.72 345.903 2111.28 342.223 Q2107.83 338.542 2107.83 332.292 Q2107.83 325.95 2111.3 322.316 Q2114.79 318.681 2120.86 318.681 Q2122.83 318.681 2124.7 319.098 Q2126.58 319.492 2128.34 320.302 Z\" fill=\"#000000\" fill-rule=\"evenodd\" fill-opacity=\"1\" /><path clip-path=\"url(#clip100)\" d=\"M 0 0 M2142.85 322.292 Q2139.42 322.292 2137.43 324.978 Q2135.44 327.64 2135.44 332.292 Q2135.44 336.945 2137.41 339.63 Q2139.4 342.292 2142.85 342.292 Q2146.25 342.292 2148.24 339.607 Q2150.23 336.922 2150.23 332.292 Q2150.23 327.686 2148.24 325.001 Q2146.25 322.292 2142.85 322.292 M2142.85 318.681 Q2148.4 318.681 2151.58 322.292 Q2154.75 325.904 2154.75 332.292 Q2154.75 338.658 2151.58 342.292 Q2148.4 345.903 2142.85 345.903 Q2137.27 345.903 2134.1 342.292 Q2130.95 338.658 2130.95 332.292 Q2130.95 325.904 2134.1 322.292 Q2137.27 318.681 2142.85 318.681 Z\" fill=\"#000000\" fill-rule=\"evenodd\" fill-opacity=\"1\" /><path clip-path=\"url(#clip100)\" d=\"M 0 0 M2175.74 320.07 L2175.74 324.098 Q2173.94 323.172 2171.99 322.709 Q2170.05 322.246 2167.96 322.246 Q2164.79 322.246 2163.2 323.218 Q2161.62 324.191 2161.62 326.135 Q2161.62 327.616 2162.76 328.473 Q2163.89 329.306 2167.32 330.07 L2168.77 330.394 Q2173.31 331.366 2175.21 333.149 Q2177.13 334.908 2177.13 338.079 Q2177.13 341.69 2174.26 343.797 Q2171.41 345.903 2166.41 345.903 Q2164.33 345.903 2162.06 345.487 Q2159.82 345.093 2157.32 344.283 L2157.32 339.885 Q2159.68 341.112 2161.97 341.737 Q2164.26 342.339 2166.51 342.339 Q2169.52 342.339 2171.14 341.32 Q2172.76 340.278 2172.76 338.403 Q2172.76 336.667 2171.58 335.741 Q2170.42 334.816 2166.46 333.959 L2164.98 333.612 Q2161.02 332.778 2159.26 331.066 Q2157.5 329.329 2157.5 326.32 Q2157.5 322.663 2160.09 320.672 Q2162.69 318.681 2167.46 318.681 Q2169.82 318.681 2171.9 319.029 Q2173.98 319.376 2175.74 320.07 Z\" fill=\"#000000\" fill-rule=\"evenodd\" fill-opacity=\"1\" /><path clip-path=\"url(#clip100)\" d=\"M 0 0 M2191.83 309.26 Q2188.73 314.584 2187.22 319.792 Q2185.72 325.001 2185.72 330.348 Q2185.72 335.695 2187.22 340.95 Q2188.75 346.181 2191.83 351.482 L2188.13 351.482 Q2184.65 346.042 2182.92 340.788 Q2181.21 335.533 2181.21 330.348 Q2181.21 325.186 2182.92 319.954 Q2184.63 314.723 2188.13 309.26 L2191.83 309.26 Z\" fill=\"#000000\" fill-rule=\"evenodd\" fill-opacity=\"1\" /><path clip-path=\"url(#clip100)\" d=\"M 0 0 M2217.85 319.306 L2208.47 331.922 L2218.33 345.232 L2213.31 345.232 L2205.77 335.047 L2198.22 345.232 L2193.2 345.232 L2203.27 331.667 L2194.05 319.306 L2199.08 319.306 L2205.95 328.542 L2212.83 319.306 L2217.85 319.306 Z\" fill=\"#000000\" fill-rule=\"evenodd\" fill-opacity=\"1\" /><path clip-path=\"url(#clip100)\" d=\"M 0 0 M2222.13 309.26 L2225.83 309.26 Q2229.31 314.723 2231.02 319.954 Q2232.76 325.186 2232.76 330.348 Q2232.76 335.533 2231.02 340.788 Q2229.31 346.042 2225.83 351.482 L2222.13 351.482 Q2225.21 346.181 2226.71 340.95 Q2228.24 335.695 2228.24 330.348 Q2228.24 325.001 2226.71 319.792 Q2225.21 314.584 2222.13 309.26 Z\" fill=\"#000000\" fill-rule=\"evenodd\" fill-opacity=\"1\" /></svg>\n"
      ]
     },
     "metadata": {},
     "output_type": "display_data"
    }
   ],
   "source": [
    "x = range(-2*pi, stop = 2*pi, length = 50)\n",
    "y1 = sin.(x)\n",
    "y2 = cos.(x)\n",
    "\n",
    "plt_sincos = plot(x,[y1 y2], xlabel=\"x\", ylabel=\"f(x)\", title = \"Función Seno y Coseno\", \n",
    "                  color=[\"blue\" \"red\"], label=[\"sin(x)\" \"cos(x)\"], legend = true, \n",
    "                  linewidth = 2, grid = true)\n",
    "display(plt_sincos)"
   ]
  },
  {
   "cell_type": "markdown",
   "metadata": {},
   "source": [
    "Existen muchas opciones para personalizar un gráfico:\n",
    "\n",
    "Estilos (usamos la opción `line`):\n",
    "- `:solid` Línea sólida (por defecto)\n",
    "- `:dash` Línea cortada.\n",
    "- `:dot` Línea punteada.\n",
    "- `:dashdot` Línea cortada-puntada.\n",
    "\n",
    "Colores (usamos la opción `color`):\n",
    "- `:yellow` Amarillo.\n",
    "- `:red` Rojo.\n",
    "- `:green` Verde.\n",
    "- `:blue` Azul.\n",
    "- `:white` Blanco.\n",
    "- `:black` Negro.\n",
    "\n",
    "Marcadores principales (usamos la opción `shape`):\n",
    "- `:circle`\n",
    "- `:square`\n",
    "- `:diamond`\n",
    "- `:hexagon`\n",
    "- `:cross`\n",
    "- `:pentagon`\n",
    "- `:vline`\n",
    "- `:hline`\n",
    "- `:+`\n",
    "- `:x`\n",
    "\n",
    "Para un listado completo de las opciones para personalizar gráficos ver el manual de `Plots` en http://docs.juliaplots.org/latest/\n",
    "\n",
    "Ejemplo 3:"
   ]
  },
  {
   "cell_type": "code",
   "execution_count": 58,
   "metadata": {
    "scrolled": true
   },
   "outputs": [
    {
     "data": {
      "image/svg+xml": [
       "<?xml version=\"1.0\" encoding=\"utf-8\"?>\n",
       "<svg xmlns=\"http://www.w3.org/2000/svg\" xmlns:xlink=\"http://www.w3.org/1999/xlink\" width=\"600\" height=\"400\" viewBox=\"0 0 2400 1600\">\n",
       "<defs>\n",
       "  <clipPath id=\"clip140\">\n",
       "    <rect x=\"0\" y=\"0\" width=\"2400\" height=\"1600\"/>\n",
       "  </clipPath>\n",
       "</defs>\n",
       "<path clip-path=\"url(#clip140)\" d=\"\n",
       "M0 1600 L2400 1600 L2400 0 L0 0  Z\n",
       "  \" fill=\"#ffffff\" fill-rule=\"evenodd\" fill-opacity=\"1\"/>\n",
       "<defs>\n",
       "  <clipPath id=\"clip141\">\n",
       "    <rect x=\"480\" y=\"0\" width=\"1681\" height=\"1600\"/>\n",
       "  </clipPath>\n",
       "</defs>\n",
       "<path clip-path=\"url(#clip140)\" d=\"\n",
       "M225.723 1423.18 L2352.76 1423.18 L2352.76 123.472 L225.723 123.472  Z\n",
       "  \" fill=\"#ffffff\" fill-rule=\"evenodd\" fill-opacity=\"1\"/>\n",
       "<defs>\n",
       "  <clipPath id=\"clip142\">\n",
       "    <rect x=\"225\" y=\"123\" width=\"2128\" height=\"1301\"/>\n",
       "  </clipPath>\n",
       "</defs>\n",
       "<polyline clip-path=\"url(#clip142)\" style=\"stroke:#000000; stroke-width:2; stroke-opacity:0.1; fill:none\" points=\"\n",
       "  490.825,1423.18 490.825,123.472 \n",
       "  \"/>\n",
       "<polyline clip-path=\"url(#clip142)\" style=\"stroke:#000000; stroke-width:2; stroke-opacity:0.1; fill:none\" points=\"\n",
       "  890.032,1423.18 890.032,123.472 \n",
       "  \"/>\n",
       "<polyline clip-path=\"url(#clip142)\" style=\"stroke:#000000; stroke-width:2; stroke-opacity:0.1; fill:none\" points=\"\n",
       "  1289.24,1423.18 1289.24,123.472 \n",
       "  \"/>\n",
       "<polyline clip-path=\"url(#clip142)\" style=\"stroke:#000000; stroke-width:2; stroke-opacity:0.1; fill:none\" points=\"\n",
       "  1688.45,1423.18 1688.45,123.472 \n",
       "  \"/>\n",
       "<polyline clip-path=\"url(#clip142)\" style=\"stroke:#000000; stroke-width:2; stroke-opacity:0.1; fill:none\" points=\"\n",
       "  2087.65,1423.18 2087.65,123.472 \n",
       "  \"/>\n",
       "<polyline clip-path=\"url(#clip142)\" style=\"stroke:#000000; stroke-width:2; stroke-opacity:0.1; fill:none\" points=\"\n",
       "  225.723,1386.71 2352.76,1386.71 \n",
       "  \"/>\n",
       "<polyline clip-path=\"url(#clip142)\" style=\"stroke:#000000; stroke-width:2; stroke-opacity:0.1; fill:none\" points=\"\n",
       "  225.723,1080.1 2352.76,1080.1 \n",
       "  \"/>\n",
       "<polyline clip-path=\"url(#clip142)\" style=\"stroke:#000000; stroke-width:2; stroke-opacity:0.1; fill:none\" points=\"\n",
       "  225.723,773.484 2352.76,773.484 \n",
       "  \"/>\n",
       "<polyline clip-path=\"url(#clip142)\" style=\"stroke:#000000; stroke-width:2; stroke-opacity:0.1; fill:none\" points=\"\n",
       "  225.723,466.87 2352.76,466.87 \n",
       "  \"/>\n",
       "<polyline clip-path=\"url(#clip142)\" style=\"stroke:#000000; stroke-width:2; stroke-opacity:0.1; fill:none\" points=\"\n",
       "  225.723,160.256 2352.76,160.256 \n",
       "  \"/>\n",
       "<polyline clip-path=\"url(#clip140)\" style=\"stroke:#000000; stroke-width:4; stroke-opacity:1; fill:none\" points=\"\n",
       "  225.723,1423.18 2352.76,1423.18 \n",
       "  \"/>\n",
       "<polyline clip-path=\"url(#clip140)\" style=\"stroke:#000000; stroke-width:4; stroke-opacity:1; fill:none\" points=\"\n",
       "  225.723,1423.18 225.723,123.472 \n",
       "  \"/>\n",
       "<polyline clip-path=\"url(#clip140)\" style=\"stroke:#000000; stroke-width:4; stroke-opacity:1; fill:none\" points=\"\n",
       "  490.825,1423.18 490.825,1407.58 \n",
       "  \"/>\n",
       "<polyline clip-path=\"url(#clip140)\" style=\"stroke:#000000; stroke-width:4; stroke-opacity:1; fill:none\" points=\"\n",
       "  890.032,1423.18 890.032,1407.58 \n",
       "  \"/>\n",
       "<polyline clip-path=\"url(#clip140)\" style=\"stroke:#000000; stroke-width:4; stroke-opacity:1; fill:none\" points=\"\n",
       "  1289.24,1423.18 1289.24,1407.58 \n",
       "  \"/>\n",
       "<polyline clip-path=\"url(#clip140)\" style=\"stroke:#000000; stroke-width:4; stroke-opacity:1; fill:none\" points=\"\n",
       "  1688.45,1423.18 1688.45,1407.58 \n",
       "  \"/>\n",
       "<polyline clip-path=\"url(#clip140)\" style=\"stroke:#000000; stroke-width:4; stroke-opacity:1; fill:none\" points=\"\n",
       "  2087.65,1423.18 2087.65,1407.58 \n",
       "  \"/>\n",
       "<polyline clip-path=\"url(#clip140)\" style=\"stroke:#000000; stroke-width:4; stroke-opacity:1; fill:none\" points=\"\n",
       "  225.723,1386.71 251.247,1386.71 \n",
       "  \"/>\n",
       "<polyline clip-path=\"url(#clip140)\" style=\"stroke:#000000; stroke-width:4; stroke-opacity:1; fill:none\" points=\"\n",
       "  225.723,1080.1 251.247,1080.1 \n",
       "  \"/>\n",
       "<polyline clip-path=\"url(#clip140)\" style=\"stroke:#000000; stroke-width:4; stroke-opacity:1; fill:none\" points=\"\n",
       "  225.723,773.484 251.247,773.484 \n",
       "  \"/>\n",
       "<polyline clip-path=\"url(#clip140)\" style=\"stroke:#000000; stroke-width:4; stroke-opacity:1; fill:none\" points=\"\n",
       "  225.723,466.87 251.247,466.87 \n",
       "  \"/>\n",
       "<polyline clip-path=\"url(#clip140)\" style=\"stroke:#000000; stroke-width:4; stroke-opacity:1; fill:none\" points=\"\n",
       "  225.723,160.256 251.247,160.256 \n",
       "  \"/>\n",
       "<path clip-path=\"url(#clip140)\" d=\"M 0 0 M453.093 1461.77 L465.57 1461.77 L465.57 1465.56 L453.093 1465.56 L453.093 1461.77 Z\" fill=\"#000000\" fill-rule=\"evenodd\" fill-opacity=\"1\" /><path clip-path=\"url(#clip140)\" d=\"M 0 0 M470.686 1442.09 L489.042 1442.09 L489.042 1446.03 L474.968 1446.03 L474.968 1454.5 Q475.987 1454.15 477.005 1453.99 Q478.024 1453.8 479.042 1453.8 Q484.829 1453.8 488.209 1456.98 Q491.588 1460.15 491.588 1465.56 Q491.588 1471.14 488.116 1474.24 Q484.644 1477.32 478.325 1477.32 Q476.149 1477.32 473.88 1476.95 Q471.635 1476.58 469.227 1475.84 L469.227 1471.14 Q471.311 1472.28 473.533 1472.83 Q475.755 1473.39 478.232 1473.39 Q482.237 1473.39 484.575 1471.28 Q486.913 1469.18 486.913 1465.56 Q486.913 1461.95 484.575 1459.85 Q482.237 1457.74 478.232 1457.74 Q476.357 1457.74 474.482 1458.16 Q472.63 1458.57 470.686 1459.45 L470.686 1442.09 Z\" fill=\"#000000\" fill-rule=\"evenodd\" fill-opacity=\"1\" /><path clip-path=\"url(#clip140)\" d=\"M 0 0 M496.658 1470.77 L501.542 1470.77 L501.542 1476.65 L496.658 1476.65 L496.658 1470.77 Z\" fill=\"#000000\" fill-rule=\"evenodd\" fill-opacity=\"1\" /><path clip-path=\"url(#clip140)\" d=\"M 0 0 M516.611 1445.17 Q513 1445.17 511.172 1448.74 Q509.366 1452.28 509.366 1459.41 Q509.366 1466.51 511.172 1470.08 Q513 1473.62 516.611 1473.62 Q520.246 1473.62 522.051 1470.08 Q523.88 1466.51 523.88 1459.41 Q523.88 1452.28 522.051 1448.74 Q520.246 1445.17 516.611 1445.17 M516.611 1441.47 Q522.422 1441.47 525.477 1446.07 Q528.556 1450.66 528.556 1459.41 Q528.556 1468.13 525.477 1472.74 Q522.422 1477.32 516.611 1477.32 Q510.801 1477.32 507.723 1472.74 Q504.667 1468.13 504.667 1459.41 Q504.667 1450.66 507.723 1446.07 Q510.801 1441.47 516.611 1441.47 Z\" fill=\"#000000\" fill-rule=\"evenodd\" fill-opacity=\"1\" /><path clip-path=\"url(#clip140)\" d=\"M 0 0 M853.099 1461.77 L865.576 1461.77 L865.576 1465.56 L853.099 1465.56 L853.099 1461.77 Z\" fill=\"#000000\" fill-rule=\"evenodd\" fill-opacity=\"1\" /><path clip-path=\"url(#clip140)\" d=\"M 0 0 M874.673 1472.72 L890.993 1472.72 L890.993 1476.65 L869.048 1476.65 L869.048 1472.72 Q871.71 1469.96 876.294 1465.33 Q880.9 1460.68 882.081 1459.34 Q884.326 1456.81 885.206 1455.08 Q886.108 1453.32 886.108 1451.63 Q886.108 1448.87 884.164 1447.14 Q882.243 1445.4 879.141 1445.4 Q876.942 1445.4 874.488 1446.17 Q872.058 1446.93 869.28 1448.48 L869.28 1443.76 Q872.104 1442.62 874.557 1442.05 Q877.011 1441.47 879.048 1441.47 Q884.419 1441.47 887.613 1444.15 Q890.807 1446.84 890.807 1451.33 Q890.807 1453.46 889.997 1455.38 Q889.21 1457.28 887.104 1459.87 Q886.525 1460.54 883.423 1463.76 Q880.321 1466.95 874.673 1472.72 Z\" fill=\"#000000\" fill-rule=\"evenodd\" fill-opacity=\"1\" /><path clip-path=\"url(#clip140)\" d=\"M 0 0 M896.062 1470.77 L900.946 1470.77 L900.946 1476.65 L896.062 1476.65 L896.062 1470.77 Z\" fill=\"#000000\" fill-rule=\"evenodd\" fill-opacity=\"1\" /><path clip-path=\"url(#clip140)\" d=\"M 0 0 M906.062 1442.09 L924.418 1442.09 L924.418 1446.03 L910.344 1446.03 L910.344 1454.5 Q911.363 1454.15 912.381 1453.99 Q913.4 1453.8 914.418 1453.8 Q920.205 1453.8 923.585 1456.98 Q926.965 1460.15 926.965 1465.56 Q926.965 1471.14 923.492 1474.24 Q920.02 1477.32 913.701 1477.32 Q911.525 1477.32 909.256 1476.95 Q907.011 1476.58 904.604 1475.84 L904.604 1471.14 Q906.687 1472.28 908.909 1472.83 Q911.131 1473.39 913.608 1473.39 Q917.613 1473.39 919.951 1471.28 Q922.289 1469.18 922.289 1465.56 Q922.289 1461.95 919.951 1459.85 Q917.613 1457.74 913.608 1457.74 Q911.733 1457.74 909.858 1458.16 Q908.006 1458.57 906.062 1459.45 L906.062 1442.09 Z\" fill=\"#000000\" fill-rule=\"evenodd\" fill-opacity=\"1\" /><path clip-path=\"url(#clip140)\" d=\"M 0 0 M1270.76 1445.17 Q1267.14 1445.17 1265.32 1448.74 Q1263.51 1452.28 1263.51 1459.41 Q1263.51 1466.51 1265.32 1470.08 Q1267.14 1473.62 1270.76 1473.62 Q1274.39 1473.62 1276.2 1470.08 Q1278.02 1466.51 1278.02 1459.41 Q1278.02 1452.28 1276.2 1448.74 Q1274.39 1445.17 1270.76 1445.17 M1270.76 1441.47 Q1276.57 1441.47 1279.62 1446.07 Q1282.7 1450.66 1282.7 1459.41 Q1282.7 1468.13 1279.62 1472.74 Q1276.57 1477.32 1270.76 1477.32 Q1264.95 1477.32 1261.87 1472.74 Q1258.81 1468.13 1258.81 1459.41 Q1258.81 1450.66 1261.87 1446.07 Q1264.95 1441.47 1270.76 1441.47 Z\" fill=\"#000000\" fill-rule=\"evenodd\" fill-opacity=\"1\" /><path clip-path=\"url(#clip140)\" d=\"M 0 0 M1287.77 1470.77 L1292.65 1470.77 L1292.65 1476.65 L1287.77 1476.65 L1287.77 1470.77 Z\" fill=\"#000000\" fill-rule=\"evenodd\" fill-opacity=\"1\" /><path clip-path=\"url(#clip140)\" d=\"M 0 0 M1307.72 1445.17 Q1304.11 1445.17 1302.28 1448.74 Q1300.48 1452.28 1300.48 1459.41 Q1300.48 1466.51 1302.28 1470.08 Q1304.11 1473.62 1307.72 1473.62 Q1311.36 1473.62 1313.16 1470.08 Q1314.99 1466.51 1314.99 1459.41 Q1314.99 1452.28 1313.16 1448.74 Q1311.36 1445.17 1307.72 1445.17 M1307.72 1441.47 Q1313.53 1441.47 1316.59 1446.07 Q1319.67 1450.66 1319.67 1459.41 Q1319.67 1468.13 1316.59 1472.74 Q1313.53 1477.32 1307.72 1477.32 Q1301.91 1477.32 1298.83 1472.74 Q1295.78 1468.13 1295.78 1459.41 Q1295.78 1450.66 1298.83 1446.07 Q1301.91 1441.47 1307.72 1441.47 Z\" fill=\"#000000\" fill-rule=\"evenodd\" fill-opacity=\"1\" /><path clip-path=\"url(#clip140)\" d=\"M 0 0 M1665.11 1472.72 L1681.43 1472.72 L1681.43 1476.65 L1659.49 1476.65 L1659.49 1472.72 Q1662.15 1469.96 1666.73 1465.33 Q1671.34 1460.68 1672.52 1459.34 Q1674.77 1456.81 1675.65 1455.08 Q1676.55 1453.32 1676.55 1451.63 Q1676.55 1448.87 1674.6 1447.14 Q1672.68 1445.4 1669.58 1445.4 Q1667.38 1445.4 1664.93 1446.17 Q1662.5 1446.93 1659.72 1448.48 L1659.72 1443.76 Q1662.54 1442.62 1665 1442.05 Q1667.45 1441.47 1669.49 1441.47 Q1674.86 1441.47 1678.05 1444.15 Q1681.25 1446.84 1681.25 1451.33 Q1681.25 1453.46 1680.44 1455.38 Q1679.65 1457.28 1677.54 1459.87 Q1676.97 1460.54 1673.86 1463.76 Q1670.76 1466.95 1665.11 1472.72 Z\" fill=\"#000000\" fill-rule=\"evenodd\" fill-opacity=\"1\" /><path clip-path=\"url(#clip140)\" d=\"M 0 0 M1686.5 1470.77 L1691.39 1470.77 L1691.39 1476.65 L1686.5 1476.65 L1686.5 1470.77 Z\" fill=\"#000000\" fill-rule=\"evenodd\" fill-opacity=\"1\" /><path clip-path=\"url(#clip140)\" d=\"M 0 0 M1696.5 1442.09 L1714.86 1442.09 L1714.86 1446.03 L1700.78 1446.03 L1700.78 1454.5 Q1701.8 1454.15 1702.82 1453.99 Q1703.84 1453.8 1704.86 1453.8 Q1710.65 1453.8 1714.03 1456.98 Q1717.4 1460.15 1717.4 1465.56 Q1717.4 1471.14 1713.93 1474.24 Q1710.46 1477.32 1704.14 1477.32 Q1701.97 1477.32 1699.7 1476.95 Q1697.45 1476.58 1695.04 1475.84 L1695.04 1471.14 Q1697.13 1472.28 1699.35 1472.83 Q1701.57 1473.39 1704.05 1473.39 Q1708.05 1473.39 1710.39 1471.28 Q1712.73 1469.18 1712.73 1465.56 Q1712.73 1461.95 1710.39 1459.85 Q1708.05 1457.74 1704.05 1457.74 Q1702.17 1457.74 1700.3 1458.16 Q1698.45 1458.57 1696.5 1459.45 L1696.5 1442.09 Z\" fill=\"#000000\" fill-rule=\"evenodd\" fill-opacity=\"1\" /><path clip-path=\"url(#clip140)\" d=\"M 0 0 M2059.45 1442.09 L2077.8 1442.09 L2077.8 1446.03 L2063.73 1446.03 L2063.73 1454.5 Q2064.75 1454.15 2065.77 1453.99 Q2066.79 1453.8 2067.8 1453.8 Q2073.59 1453.8 2076.97 1456.98 Q2080.35 1460.15 2080.35 1465.56 Q2080.35 1471.14 2076.88 1474.24 Q2073.41 1477.32 2067.09 1477.32 Q2064.91 1477.32 2062.64 1476.95 Q2060.4 1476.58 2057.99 1475.84 L2057.99 1471.14 Q2060.07 1472.28 2062.3 1472.83 Q2064.52 1473.39 2066.99 1473.39 Q2071 1473.39 2073.34 1471.28 Q2075.67 1469.18 2075.67 1465.56 Q2075.67 1461.95 2073.34 1459.85 Q2071 1457.74 2066.99 1457.74 Q2065.12 1457.74 2063.24 1458.16 Q2061.39 1458.57 2059.45 1459.45 L2059.45 1442.09 Z\" fill=\"#000000\" fill-rule=\"evenodd\" fill-opacity=\"1\" /><path clip-path=\"url(#clip140)\" d=\"M 0 0 M2085.42 1470.77 L2090.3 1470.77 L2090.3 1476.65 L2085.42 1476.65 L2085.42 1470.77 Z\" fill=\"#000000\" fill-rule=\"evenodd\" fill-opacity=\"1\" /><path clip-path=\"url(#clip140)\" d=\"M 0 0 M2105.37 1445.17 Q2101.76 1445.17 2099.93 1448.74 Q2098.13 1452.28 2098.13 1459.41 Q2098.13 1466.51 2099.93 1470.08 Q2101.76 1473.62 2105.37 1473.62 Q2109.01 1473.62 2110.81 1470.08 Q2112.64 1466.51 2112.64 1459.41 Q2112.64 1452.28 2110.81 1448.74 Q2109.01 1445.17 2105.37 1445.17 M2105.37 1441.47 Q2111.18 1441.47 2114.24 1446.07 Q2117.32 1450.66 2117.32 1459.41 Q2117.32 1468.13 2114.24 1472.74 Q2111.18 1477.32 2105.37 1477.32 Q2099.56 1477.32 2096.49 1472.74 Q2093.43 1468.13 2093.43 1459.41 Q2093.43 1450.66 2096.49 1446.07 Q2099.56 1441.47 2105.37 1441.47 Z\" fill=\"#000000\" fill-rule=\"evenodd\" fill-opacity=\"1\" /><path clip-path=\"url(#clip140)\" d=\"M 0 0 M126.492 1389.11 L138.968 1389.11 L138.968 1392.9 L126.492 1392.9 L126.492 1389.11 Z\" fill=\"#000000\" fill-rule=\"evenodd\" fill-opacity=\"1\" /><path clip-path=\"url(#clip140)\" d=\"M 0 0 M144.848 1400.06 L152.487 1400.06 L152.487 1373.69 L144.177 1375.36 L144.177 1371.1 L152.441 1369.43 L157.116 1369.43 L157.116 1400.06 L164.755 1400.06 L164.755 1403.99 L144.848 1403.99 L144.848 1400.06 Z\" fill=\"#000000\" fill-rule=\"evenodd\" fill-opacity=\"1\" /><path clip-path=\"url(#clip140)\" d=\"M 0 0 M169.825 1398.11 L174.709 1398.11 L174.709 1403.99 L169.825 1403.99 L169.825 1398.11 Z\" fill=\"#000000\" fill-rule=\"evenodd\" fill-opacity=\"1\" /><path clip-path=\"url(#clip140)\" d=\"M 0 0 M189.778 1372.51 Q186.167 1372.51 184.339 1376.07 Q182.533 1379.62 182.533 1386.75 Q182.533 1393.85 184.339 1397.42 Q186.167 1400.96 189.778 1400.96 Q193.413 1400.96 195.218 1397.42 Q197.047 1393.85 197.047 1386.75 Q197.047 1379.62 195.218 1376.07 Q193.413 1372.51 189.778 1372.51 M189.778 1368.81 Q195.588 1368.81 198.644 1373.41 Q201.723 1378 201.723 1386.75 Q201.723 1395.47 198.644 1400.08 Q195.588 1404.66 189.778 1404.66 Q183.968 1404.66 180.889 1400.08 Q177.834 1395.47 177.834 1386.75 Q177.834 1378 180.889 1373.41 Q183.968 1368.81 189.778 1368.81 Z\" fill=\"#000000\" fill-rule=\"evenodd\" fill-opacity=\"1\" /><path clip-path=\"url(#clip140)\" d=\"M 0 0 M126.26 1082.49 L138.737 1082.49 L138.737 1086.29 L126.26 1086.29 L126.26 1082.49 Z\" fill=\"#000000\" fill-rule=\"evenodd\" fill-opacity=\"1\" /><path clip-path=\"url(#clip140)\" d=\"M 0 0 M153.806 1065.9 Q150.195 1065.9 148.367 1069.46 Q146.561 1073 146.561 1080.13 Q146.561 1087.24 148.367 1090.8 Q150.195 1094.34 153.806 1094.34 Q157.441 1094.34 159.246 1090.8 Q161.075 1087.24 161.075 1080.13 Q161.075 1073 159.246 1069.46 Q157.441 1065.9 153.806 1065.9 M153.806 1062.19 Q159.616 1062.19 162.672 1066.8 Q165.751 1071.38 165.751 1080.13 Q165.751 1088.86 162.672 1093.47 Q159.616 1098.05 153.806 1098.05 Q147.996 1098.05 144.917 1093.47 Q141.862 1088.86 141.862 1080.13 Q141.862 1071.38 144.917 1066.8 Q147.996 1062.19 153.806 1062.19 Z\" fill=\"#000000\" fill-rule=\"evenodd\" fill-opacity=\"1\" /><path clip-path=\"url(#clip140)\" d=\"M 0 0 M170.82 1091.5 L175.704 1091.5 L175.704 1097.38 L170.82 1097.38 L170.82 1091.5 Z\" fill=\"#000000\" fill-rule=\"evenodd\" fill-opacity=\"1\" /><path clip-path=\"url(#clip140)\" d=\"M 0 0 M180.82 1062.82 L199.176 1062.82 L199.176 1066.75 L185.102 1066.75 L185.102 1075.22 Q186.121 1074.88 187.139 1074.72 Q188.158 1074.53 189.176 1074.53 Q194.963 1074.53 198.343 1077.7 Q201.723 1080.87 201.723 1086.29 Q201.723 1091.87 198.251 1094.97 Q194.778 1098.05 188.459 1098.05 Q186.283 1098.05 184.014 1097.68 Q181.769 1097.31 179.362 1096.57 L179.362 1091.87 Q181.445 1093 183.667 1093.56 Q185.889 1094.11 188.366 1094.11 Q192.371 1094.11 194.709 1092.01 Q197.047 1089.9 197.047 1086.29 Q197.047 1082.68 194.709 1080.57 Q192.371 1078.47 188.366 1078.47 Q186.491 1078.47 184.616 1078.88 Q182.764 1079.3 180.82 1080.18 L180.82 1062.82 Z\" fill=\"#000000\" fill-rule=\"evenodd\" fill-opacity=\"1\" /><path clip-path=\"url(#clip140)\" d=\"M 0 0 M152.811 759.282 Q149.2 759.282 147.371 762.847 Q145.566 766.389 145.566 773.518 Q145.566 780.625 147.371 784.189 Q149.2 787.731 152.811 787.731 Q156.445 787.731 158.251 784.189 Q160.079 780.625 160.079 773.518 Q160.079 766.389 158.251 762.847 Q156.445 759.282 152.811 759.282 M152.811 755.579 Q158.621 755.579 161.677 760.185 Q164.755 764.768 164.755 773.518 Q164.755 782.245 161.677 786.852 Q158.621 791.435 152.811 791.435 Q147.001 791.435 143.922 786.852 Q140.867 782.245 140.867 773.518 Q140.867 764.768 143.922 760.185 Q147.001 755.579 152.811 755.579 Z\" fill=\"#000000\" fill-rule=\"evenodd\" fill-opacity=\"1\" /><path clip-path=\"url(#clip140)\" d=\"M 0 0 M169.825 784.884 L174.709 784.884 L174.709 790.764 L169.825 790.764 L169.825 784.884 Z\" fill=\"#000000\" fill-rule=\"evenodd\" fill-opacity=\"1\" /><path clip-path=\"url(#clip140)\" d=\"M 0 0 M189.778 759.282 Q186.167 759.282 184.339 762.847 Q182.533 766.389 182.533 773.518 Q182.533 780.625 184.339 784.189 Q186.167 787.731 189.778 787.731 Q193.413 787.731 195.218 784.189 Q197.047 780.625 197.047 773.518 Q197.047 766.389 195.218 762.847 Q193.413 759.282 189.778 759.282 M189.778 755.579 Q195.588 755.579 198.644 760.185 Q201.723 764.768 201.723 773.518 Q201.723 782.245 198.644 786.852 Q195.588 791.435 189.778 791.435 Q183.968 791.435 180.889 786.852 Q177.834 782.245 177.834 773.518 Q177.834 764.768 180.889 760.185 Q183.968 755.579 189.778 755.579 Z\" fill=\"#000000\" fill-rule=\"evenodd\" fill-opacity=\"1\" /><path clip-path=\"url(#clip140)\" d=\"M 0 0 M153.806 452.669 Q150.195 452.669 148.367 456.233 Q146.561 459.775 146.561 466.905 Q146.561 474.011 148.367 477.576 Q150.195 481.118 153.806 481.118 Q157.441 481.118 159.246 477.576 Q161.075 474.011 161.075 466.905 Q161.075 459.775 159.246 456.233 Q157.441 452.669 153.806 452.669 M153.806 448.965 Q159.616 448.965 162.672 453.571 Q165.751 458.155 165.751 466.905 Q165.751 475.631 162.672 480.238 Q159.616 484.821 153.806 484.821 Q147.996 484.821 144.917 480.238 Q141.862 475.631 141.862 466.905 Q141.862 458.155 144.917 453.571 Q147.996 448.965 153.806 448.965 Z\" fill=\"#000000\" fill-rule=\"evenodd\" fill-opacity=\"1\" /><path clip-path=\"url(#clip140)\" d=\"M 0 0 M170.82 478.27 L175.704 478.27 L175.704 484.15 L170.82 484.15 L170.82 478.27 Z\" fill=\"#000000\" fill-rule=\"evenodd\" fill-opacity=\"1\" /><path clip-path=\"url(#clip140)\" d=\"M 0 0 M180.82 449.59 L199.176 449.59 L199.176 453.525 L185.102 453.525 L185.102 461.997 Q186.121 461.65 187.139 461.488 Q188.158 461.303 189.176 461.303 Q194.963 461.303 198.343 464.474 Q201.723 467.645 201.723 473.062 Q201.723 478.641 198.251 481.743 Q194.778 484.821 188.459 484.821 Q186.283 484.821 184.014 484.451 Q181.769 484.08 179.362 483.34 L179.362 478.641 Q181.445 479.775 183.667 480.33 Q185.889 480.886 188.366 480.886 Q192.371 480.886 194.709 478.78 Q197.047 476.673 197.047 473.062 Q197.047 469.451 194.709 467.344 Q192.371 465.238 188.366 465.238 Q186.491 465.238 184.616 465.655 Q182.764 466.071 180.82 466.951 L180.82 449.59 Z\" fill=\"#000000\" fill-rule=\"evenodd\" fill-opacity=\"1\" /><path clip-path=\"url(#clip140)\" d=\"M 0 0 M144.848 173.601 L152.487 173.601 L152.487 147.236 L144.177 148.902 L144.177 144.643 L152.441 142.976 L157.116 142.976 L157.116 173.601 L164.755 173.601 L164.755 177.536 L144.848 177.536 L144.848 173.601 Z\" fill=\"#000000\" fill-rule=\"evenodd\" fill-opacity=\"1\" /><path clip-path=\"url(#clip140)\" d=\"M 0 0 M169.825 171.657 L174.709 171.657 L174.709 177.536 L169.825 177.536 L169.825 171.657 Z\" fill=\"#000000\" fill-rule=\"evenodd\" fill-opacity=\"1\" /><path clip-path=\"url(#clip140)\" d=\"M 0 0 M189.778 146.055 Q186.167 146.055 184.339 149.62 Q182.533 153.161 182.533 160.291 Q182.533 167.397 184.339 170.962 Q186.167 174.504 189.778 174.504 Q193.413 174.504 195.218 170.962 Q197.047 167.397 197.047 160.291 Q197.047 153.161 195.218 149.62 Q193.413 146.055 189.778 146.055 M189.778 142.351 Q195.588 142.351 198.644 146.958 Q201.723 151.541 201.723 160.291 Q201.723 169.018 198.644 173.624 Q195.588 178.208 189.778 178.208 Q183.968 178.208 180.889 173.624 Q177.834 169.018 177.834 160.291 Q177.834 151.541 180.889 146.958 Q183.968 142.351 189.778 142.351 Z\" fill=\"#000000\" fill-rule=\"evenodd\" fill-opacity=\"1\" /><path clip-path=\"url(#clip140)\" d=\"M 0 0 M860.411 12.096 L895.167 12.096 L895.167 18.9825 L868.593 18.9825 L868.593 36.8065 L892.575 36.8065 L892.575 43.6931 L868.593 43.6931 L868.593 72.576 L860.411 72.576 L860.411 12.096 Z\" fill=\"#000000\" fill-rule=\"evenodd\" fill-opacity=\"1\" /><path clip-path=\"url(#clip140)\" d=\"M 0 0 M897.679 54.671 L897.679 27.2059 L905.133 27.2059 L905.133 54.3874 Q905.133 60.8284 907.644 64.0691 Q910.156 67.2693 915.179 67.2693 Q921.215 67.2693 924.698 63.421 Q928.223 59.5726 928.223 52.9291 L928.223 27.2059 L935.676 27.2059 L935.676 72.576 L928.223 72.576 L928.223 65.6084 Q925.509 69.7404 921.903 71.7658 Q918.339 73.7508 913.599 73.7508 Q905.781 73.7508 901.73 68.8897 Q897.679 64.0286 897.679 54.671 M916.435 26.1121 L916.435 26.1121 Z\" fill=\"#000000\" fill-rule=\"evenodd\" fill-opacity=\"1\" /><path clip-path=\"url(#clip140)\" d=\"M 0 0 M981.209 45.1919 L981.209 72.576 L973.755 72.576 L973.755 45.4349 Q973.755 38.994 971.243 35.7938 Q968.732 32.5936 963.709 32.5936 Q957.673 32.5936 954.189 36.4419 Q950.705 40.2903 950.705 46.9338 L950.705 72.576 L943.211 72.576 L943.211 27.2059 L950.705 27.2059 L950.705 34.2544 Q953.379 30.163 956.984 28.1376 Q960.63 26.1121 965.37 26.1121 Q973.188 26.1121 977.198 30.9732 Q981.209 35.7938 981.209 45.1919 Z\" fill=\"#000000\" fill-rule=\"evenodd\" fill-opacity=\"1\" /><path clip-path=\"url(#clip140)\" d=\"M 0 0 M1021.68 28.9478 L1021.68 35.9153 Q1018.52 34.1734 1015.32 33.3227 Q1012.16 32.4315 1008.92 32.4315 Q1001.67 32.4315 997.655 37.0496 Q993.645 41.6271 993.645 49.9314 Q993.645 58.2358 997.655 62.8538 Q1001.67 67.4314 1008.92 67.4314 Q1012.16 67.4314 1015.32 66.5807 Q1018.52 65.6895 1021.68 63.9476 L1021.68 70.8341 Q1018.56 72.2924 1015.2 73.0216 Q1011.87 73.7508 1008.11 73.7508 Q997.858 73.7508 991.822 67.3098 Q985.786 60.8689 985.786 49.9314 Q985.786 38.832 991.862 32.472 Q997.979 26.1121 1008.59 26.1121 Q1012.04 26.1121 1015.32 26.8413 Q1018.6 27.5299 1021.68 28.9478 Z\" fill=\"#000000\" fill-rule=\"evenodd\" fill-opacity=\"1\" /><path clip-path=\"url(#clip140)\" d=\"M 0 0 M1029.5 27.2059 L1036.95 27.2059 L1036.95 72.576 L1029.5 72.576 L1029.5 27.2059 M1029.5 9.54393 L1036.95 9.54393 L1036.95 18.9825 L1029.5 18.9825 L1029.5 9.54393 Z\" fill=\"#000000\" fill-rule=\"evenodd\" fill-opacity=\"1\" /><path clip-path=\"url(#clip140)\" d=\"M 0 0 M1062.35 32.4315 Q1056.35 32.4315 1052.87 37.1306 Q1049.39 41.7891 1049.39 49.9314 Q1049.39 58.0738 1052.83 62.7728 Q1056.31 67.4314 1062.35 67.4314 Q1068.3 67.4314 1071.79 62.7323 Q1075.27 58.0333 1075.27 49.9314 Q1075.27 41.8701 1071.79 37.1711 Q1068.3 32.4315 1062.35 32.4315 M1062.35 26.1121 Q1072.07 26.1121 1077.62 32.4315 Q1083.17 38.7509 1083.17 49.9314 Q1083.17 61.0714 1077.62 67.4314 Q1072.07 73.7508 1062.35 73.7508 Q1052.59 73.7508 1047.04 67.4314 Q1041.53 61.0714 1041.53 49.9314 Q1041.53 38.7509 1047.04 32.4315 Q1052.59 26.1121 1062.35 26.1121 M1067.98 6.22219 L1076.04 6.22219 L1062.83 21.4536 L1056.64 21.4536 L1067.98 6.22219 Z\" fill=\"#000000\" fill-rule=\"evenodd\" fill-opacity=\"1\" /><path clip-path=\"url(#clip140)\" d=\"M 0 0 M1128.7 45.1919 L1128.7 72.576 L1121.25 72.576 L1121.25 45.4349 Q1121.25 38.994 1118.74 35.7938 Q1116.23 32.5936 1111.2 32.5936 Q1105.17 32.5936 1101.68 36.4419 Q1098.2 40.2903 1098.2 46.9338 L1098.2 72.576 L1090.7 72.576 L1090.7 27.2059 L1098.2 27.2059 L1098.2 34.2544 Q1100.87 30.163 1104.48 28.1376 Q1108.12 26.1121 1112.86 26.1121 Q1120.68 26.1121 1124.69 30.9732 Q1128.7 35.7938 1128.7 45.1919 Z\" fill=\"#000000\" fill-rule=\"evenodd\" fill-opacity=\"1\" /><path clip-path=\"url(#clip140)\" d=\"M 0 0 M1199.47 14.0809 L1199.47 22.0612 Q1194.81 19.8332 1190.68 18.7395 Q1186.55 17.6457 1182.7 17.6457 Q1176.02 17.6457 1172.37 20.2383 Q1168.77 22.8309 1168.77 27.611 Q1168.77 31.6214 1171.16 33.6873 Q1173.59 35.7128 1180.31 36.9686 L1185.25 37.9813 Q1194.41 39.7232 1198.74 44.1387 Q1203.12 48.5136 1203.12 55.8863 Q1203.12 64.6767 1197.2 69.2137 Q1191.33 73.7508 1179.95 73.7508 Q1175.65 73.7508 1170.79 72.7785 Q1165.97 71.8063 1160.79 69.9024 L1160.79 61.4765 Q1165.77 64.2716 1170.55 65.6895 Q1175.33 67.1073 1179.95 67.1073 Q1186.95 67.1073 1190.76 64.3527 Q1194.57 61.598 1194.57 56.4939 Q1194.57 52.0379 1191.82 49.5264 Q1189.1 47.0148 1182.86 45.759 L1177.88 44.7868 Q1168.72 42.9639 1164.63 39.075 Q1160.54 35.1862 1160.54 28.2591 Q1160.54 20.2383 1166.17 15.6203 Q1171.84 11.0023 1181.77 11.0023 Q1186.02 11.0023 1190.44 11.7719 Q1194.85 12.5416 1199.47 14.0809 Z\" fill=\"#000000\" fill-rule=\"evenodd\" fill-opacity=\"1\" /><path clip-path=\"url(#clip140)\" d=\"M 0 0 M1249.74 48.0275 L1249.74 51.6733 L1215.47 51.6733 Q1215.96 59.3701 1220.09 63.421 Q1224.26 67.4314 1231.68 67.4314 Q1235.97 67.4314 1239.98 66.3781 Q1244.03 65.3249 1248 63.2184 L1248 70.267 Q1243.99 71.9684 1239.78 72.8596 Q1235.56 73.7508 1231.23 73.7508 Q1220.37 73.7508 1214.01 67.4314 Q1207.69 61.1119 1207.69 50.3365 Q1207.69 39.1965 1213.69 32.6746 Q1219.73 26.1121 1229.93 26.1121 Q1239.09 26.1121 1244.4 32.0264 Q1249.74 37.9003 1249.74 48.0275 M1242.29 45.84 Q1242.21 39.7232 1238.85 36.0774 Q1235.52 32.4315 1230.02 32.4315 Q1223.78 32.4315 1220.01 35.9558 Q1216.28 39.4801 1215.72 45.8805 L1242.29 45.84 Z\" fill=\"#000000\" fill-rule=\"evenodd\" fill-opacity=\"1\" /><path clip-path=\"url(#clip140)\" d=\"M 0 0 M1295.28 45.1919 L1295.28 72.576 L1287.82 72.576 L1287.82 45.4349 Q1287.82 38.994 1285.31 35.7938 Q1282.8 32.5936 1277.78 32.5936 Q1271.74 32.5936 1268.26 36.4419 Q1264.77 40.2903 1264.77 46.9338 L1264.77 72.576 L1257.28 72.576 L1257.28 27.2059 L1264.77 27.2059 L1264.77 34.2544 Q1267.45 30.163 1271.05 28.1376 Q1274.7 26.1121 1279.44 26.1121 Q1287.25 26.1121 1291.26 30.9732 Q1295.28 35.7938 1295.28 45.1919 Z\" fill=\"#000000\" fill-rule=\"evenodd\" fill-opacity=\"1\" /><path clip-path=\"url(#clip140)\" d=\"M 0 0 M1320.67 32.4315 Q1314.68 32.4315 1311.2 37.1306 Q1307.71 41.7891 1307.71 49.9314 Q1307.71 58.0738 1311.15 62.7728 Q1314.64 67.4314 1320.67 67.4314 Q1326.63 67.4314 1330.11 62.7323 Q1333.6 58.0333 1333.6 49.9314 Q1333.6 41.8701 1330.11 37.1711 Q1326.63 32.4315 1320.67 32.4315 M1320.67 26.1121 Q1330.4 26.1121 1335.95 32.4315 Q1341.5 38.7509 1341.5 49.9314 Q1341.5 61.0714 1335.95 67.4314 Q1330.4 73.7508 1320.67 73.7508 Q1310.91 73.7508 1305.36 67.4314 Q1299.85 61.0714 1299.85 49.9314 Q1299.85 38.7509 1305.36 32.4315 Q1310.91 26.1121 1320.67 26.1121 Z\" fill=\"#000000\" fill-rule=\"evenodd\" fill-opacity=\"1\" /><path clip-path=\"url(#clip140)\" d=\"M 0 0 M1394.56 76.7889 Q1391.4 84.8907 1388.41 87.3618 Q1385.41 89.8329 1380.38 89.8329 L1374.43 89.8329 L1374.43 83.5945 L1378.8 83.5945 Q1381.88 83.5945 1383.58 82.1361 Q1385.29 80.6778 1387.35 75.2496 L1388.69 71.8468 L1370.34 27.2059 L1378.24 27.2059 L1392.42 62.6918 L1406.59 27.2059 L1414.49 27.2059 L1394.56 76.7889 Z\" fill=\"#000000\" fill-rule=\"evenodd\" fill-opacity=\"1\" /><path clip-path=\"url(#clip140)\" d=\"M 0 0 M1494.3 16.7545 L1494.3 25.383 Q1490.16 21.5346 1485.47 19.6307 Q1480.81 17.7268 1475.54 17.7268 Q1465.17 17.7268 1459.66 24.0867 Q1454.15 30.4061 1454.15 42.3968 Q1454.15 54.3469 1459.66 60.7069 Q1465.17 67.0263 1475.54 67.0263 Q1480.81 67.0263 1485.47 65.1223 Q1490.16 63.2184 1494.3 59.3701 L1494.3 67.9175 Q1490 70.8341 1485.18 72.2924 Q1480.4 73.7508 1475.05 73.7508 Q1461.32 73.7508 1453.42 65.3654 Q1445.52 56.9395 1445.52 42.3968 Q1445.52 27.8135 1453.42 19.4281 Q1461.32 11.0023 1475.05 11.0023 Q1480.48 11.0023 1485.26 12.4606 Q1490.08 13.8784 1494.3 16.7545 Z\" fill=\"#000000\" fill-rule=\"evenodd\" fill-opacity=\"1\" /><path clip-path=\"url(#clip140)\" d=\"M 0 0 M1519.7 32.4315 Q1513.7 32.4315 1510.22 37.1306 Q1506.73 41.7891 1506.73 49.9314 Q1506.73 58.0738 1510.18 62.7728 Q1513.66 67.4314 1519.7 67.4314 Q1525.65 67.4314 1529.13 62.7323 Q1532.62 58.0333 1532.62 49.9314 Q1532.62 41.8701 1529.13 37.1711 Q1525.65 32.4315 1519.7 32.4315 M1519.7 26.1121 Q1529.42 26.1121 1534.97 32.4315 Q1540.52 38.7509 1540.52 49.9314 Q1540.52 61.0714 1534.97 67.4314 Q1529.42 73.7508 1519.7 73.7508 Q1509.93 73.7508 1504.38 67.4314 Q1498.87 61.0714 1498.87 49.9314 Q1498.87 38.7509 1504.38 32.4315 Q1509.93 26.1121 1519.7 26.1121 Z\" fill=\"#000000\" fill-rule=\"evenodd\" fill-opacity=\"1\" /><path clip-path=\"url(#clip140)\" d=\"M 0 0 M1577.26 28.5427 L1577.26 35.5912 Q1574.1 33.9709 1570.7 33.1607 Q1567.29 32.3505 1563.65 32.3505 Q1558.1 32.3505 1555.3 34.0519 Q1552.55 35.7533 1552.55 39.156 Q1552.55 41.7486 1554.53 43.2475 Q1556.52 44.7058 1562.51 46.0426 L1565.07 46.6097 Q1573.01 48.3111 1576.33 51.4303 Q1579.69 54.509 1579.69 60.0587 Q1579.69 66.3781 1574.67 70.0644 Q1569.68 73.7508 1560.93 73.7508 Q1557.29 73.7508 1553.32 73.0216 Q1549.39 72.3329 1545.01 70.9151 L1545.01 63.2184 Q1549.15 65.3654 1553.16 66.4591 Q1557.17 67.5124 1561.1 67.5124 Q1566.36 67.5124 1569.2 65.73 Q1572.03 63.9071 1572.03 60.6258 Q1572.03 57.5877 1569.97 55.9673 Q1567.94 54.3469 1561.01 52.8481 L1558.42 52.2405 Q1551.49 50.7821 1548.42 47.7845 Q1545.34 44.7463 1545.34 39.4801 Q1545.34 33.0797 1549.87 29.5959 Q1554.41 26.1121 1562.76 26.1121 Q1566.89 26.1121 1570.53 26.7198 Q1574.18 27.3274 1577.26 28.5427 Z\" fill=\"#000000\" fill-rule=\"evenodd\" fill-opacity=\"1\" /><path clip-path=\"url(#clip140)\" d=\"M 0 0 M1626.32 48.0275 L1626.32 51.6733 L1592.04 51.6733 Q1592.53 59.3701 1596.66 63.421 Q1600.83 67.4314 1608.25 67.4314 Q1612.54 67.4314 1616.55 66.3781 Q1620.6 65.3249 1624.57 63.2184 L1624.57 70.267 Q1620.56 71.9684 1616.35 72.8596 Q1612.14 73.7508 1607.8 73.7508 Q1596.95 73.7508 1590.59 67.4314 Q1584.27 61.1119 1584.27 50.3365 Q1584.27 39.1965 1590.26 32.6746 Q1596.3 26.1121 1606.51 26.1121 Q1615.66 26.1121 1620.97 32.0264 Q1626.32 37.9003 1626.32 48.0275 M1618.86 45.84 Q1618.78 39.7232 1615.42 36.0774 Q1612.1 32.4315 1606.59 32.4315 Q1600.35 32.4315 1596.58 35.9558 Q1592.85 39.4801 1592.29 45.8805 L1618.86 45.84 Z\" fill=\"#000000\" fill-rule=\"evenodd\" fill-opacity=\"1\" /><path clip-path=\"url(#clip140)\" d=\"M 0 0 M1671.85 45.1919 L1671.85 72.576 L1664.39 72.576 L1664.39 45.4349 Q1664.39 38.994 1661.88 35.7938 Q1659.37 32.5936 1654.35 32.5936 Q1648.31 32.5936 1644.83 36.4419 Q1641.34 40.2903 1641.34 46.9338 L1641.34 72.576 L1633.85 72.576 L1633.85 27.2059 L1641.34 27.2059 L1641.34 34.2544 Q1644.02 30.163 1647.62 28.1376 Q1651.27 26.1121 1656.01 26.1121 Q1663.83 26.1121 1667.84 30.9732 Q1671.85 35.7938 1671.85 45.1919 Z\" fill=\"#000000\" fill-rule=\"evenodd\" fill-opacity=\"1\" /><path clip-path=\"url(#clip140)\" d=\"M 0 0 M1697.25 32.4315 Q1691.25 32.4315 1687.77 37.1306 Q1684.28 41.7891 1684.28 49.9314 Q1684.28 58.0738 1687.73 62.7728 Q1691.21 67.4314 1697.25 67.4314 Q1703.2 67.4314 1706.68 62.7323 Q1710.17 58.0333 1710.17 49.9314 Q1710.17 41.8701 1706.68 37.1711 Q1703.2 32.4315 1697.25 32.4315 M1697.25 26.1121 Q1706.97 26.1121 1712.52 32.4315 Q1718.07 38.7509 1718.07 49.9314 Q1718.07 61.0714 1712.52 67.4314 Q1706.97 73.7508 1697.25 73.7508 Q1687.48 73.7508 1681.93 67.4314 Q1676.42 61.0714 1676.42 49.9314 Q1676.42 38.7509 1681.93 32.4315 Q1687.48 26.1121 1697.25 26.1121 Z\" fill=\"#000000\" fill-rule=\"evenodd\" fill-opacity=\"1\" /><path clip-path=\"url(#clip140)\" d=\"M 0 0 M1305.85 1520.4 L1292.96 1537.74 L1306.52 1556.04 L1299.62 1556.04 L1289.24 1542.04 L1278.86 1556.04 L1271.96 1556.04 L1285.8 1537.39 L1273.13 1520.4 L1280.04 1520.4 L1289.49 1533.1 L1298.95 1520.4 L1305.85 1520.4 Z\" fill=\"#000000\" fill-rule=\"evenodd\" fill-opacity=\"1\" /><path clip-path=\"url(#clip140)\" d=\"M 0 0 M38.479 800.221 L43.3487 800.221 L43.3487 805.823 Q43.3487 808.974 44.6219 810.215 Q45.895 811.425 49.2052 811.425 L52.3562 811.425 L52.3562 801.781 L56.9077 801.781 L56.9077 811.425 L88.0042 811.425 L88.0042 817.313 L56.9077 817.313 L56.9077 822.915 L52.3562 822.915 L52.3562 817.313 L49.8736 817.313 Q43.9216 817.313 41.2162 814.544 Q38.479 811.775 38.479 805.759 L38.479 800.221 Z\" fill=\"#000000\" fill-rule=\"evenodd\" fill-opacity=\"1\" /><path clip-path=\"url(#clip140)\" d=\"M 0 0 M38.5426 780.01 Q45.8632 784.275 53.0246 786.344 Q60.186 788.413 67.5384 788.413 Q74.8908 788.413 82.1159 786.344 Q89.3091 784.243 96.5979 780.01 L96.5979 785.103 Q89.1182 789.877 81.8931 792.264 Q74.668 794.619 67.5384 794.619 Q60.4406 794.619 53.2474 792.264 Q46.0542 789.909 38.5426 785.103 L38.5426 780.01 Z\" fill=\"#000000\" fill-rule=\"evenodd\" fill-opacity=\"1\" /><path clip-path=\"url(#clip140)\" d=\"M 0 0 M52.3562 744.235 L69.7028 757.125 L88.0042 743.566 L88.0042 750.473 L73.9996 760.849 L88.0042 771.225 L88.0042 778.132 L69.3526 764.287 L52.3562 776.954 L52.3562 770.048 L65.0558 760.595 L52.3562 751.141 L52.3562 744.235 Z\" fill=\"#000000\" fill-rule=\"evenodd\" fill-opacity=\"1\" /><path clip-path=\"url(#clip140)\" d=\"M 0 0 M38.5426 738.346 L38.5426 733.254 Q46.0542 728.48 53.2474 726.124 Q60.4406 723.737 67.5384 723.737 Q74.668 723.737 81.8931 726.124 Q89.1182 728.48 96.5979 733.254 L96.5979 738.346 Q89.3091 734.113 82.1159 732.044 Q74.8908 729.944 67.5384 729.944 Q60.186 729.944 53.0246 732.044 Q45.8632 734.113 38.5426 738.346 Z\" fill=\"#000000\" fill-rule=\"evenodd\" fill-opacity=\"1\" /><polyline clip-path=\"url(#clip142)\" style=\"stroke:#0000ff; stroke-width:8; stroke-opacity:1; fill:none\" stroke-dasharray=\"4, 8\" points=\"\n",
       "  285.922,773.484 326.874,617.936 367.825,472.562 408.777,346.872 449.729,249.087 490.68,185.602 531.632,160.571 572.584,175.631 613.536,229.797 654.487,319.525 \n",
       "  695.439,438.947 736.391,580.251 777.343,734.194 818.294,890.707 859.246,1039.55 900.198,1170.99 941.15,1276.44 982.101,1348.98 1023.05,1383.88 1064,1378.85 \n",
       "  1104.96,1334.23 1145.91,1252.92 1186.86,1140.26 1227.81,1003.61 1268.76,851.901 1309.72,695.066 1350.67,543.36 1391.62,406.706 1432.57,294.043 1473.52,212.741 \n",
       "  1514.47,168.117 1555.43,163.09 1596.38,197.989 1637.33,270.532 1678.28,375.972 1719.23,507.414 1760.18,656.26 1801.14,812.773 1842.09,966.716 1883.04,1108.02 \n",
       "  1923.99,1227.44 1964.94,1317.17 2005.89,1371.34 2046.85,1386.4 2087.8,1361.36 2128.75,1297.88 2169.7,1200.09 2210.65,1074.4 2251.61,929.031 2292.56,773.484 \n",
       "  \n",
       "  \"/>\n",
       "<circle clip-path=\"url(#clip142)\" cx=\"285.922\" cy=\"773.484\" r=\"14\" fill=\"#0000ff\" fill-rule=\"evenodd\" fill-opacity=\"1\" stroke=\"#000000\" stroke-opacity=\"1\" stroke-width=\"3.2\"/>\n",
       "<circle clip-path=\"url(#clip142)\" cx=\"326.874\" cy=\"617.936\" r=\"14\" fill=\"#0000ff\" fill-rule=\"evenodd\" fill-opacity=\"1\" stroke=\"#000000\" stroke-opacity=\"1\" stroke-width=\"3.2\"/>\n",
       "<circle clip-path=\"url(#clip142)\" cx=\"367.825\" cy=\"472.562\" r=\"14\" fill=\"#0000ff\" fill-rule=\"evenodd\" fill-opacity=\"1\" stroke=\"#000000\" stroke-opacity=\"1\" stroke-width=\"3.2\"/>\n",
       "<circle clip-path=\"url(#clip142)\" cx=\"408.777\" cy=\"346.872\" r=\"14\" fill=\"#0000ff\" fill-rule=\"evenodd\" fill-opacity=\"1\" stroke=\"#000000\" stroke-opacity=\"1\" stroke-width=\"3.2\"/>\n",
       "<circle clip-path=\"url(#clip142)\" cx=\"449.729\" cy=\"249.087\" r=\"14\" fill=\"#0000ff\" fill-rule=\"evenodd\" fill-opacity=\"1\" stroke=\"#000000\" stroke-opacity=\"1\" stroke-width=\"3.2\"/>\n",
       "<circle clip-path=\"url(#clip142)\" cx=\"490.68\" cy=\"185.602\" r=\"14\" fill=\"#0000ff\" fill-rule=\"evenodd\" fill-opacity=\"1\" stroke=\"#000000\" stroke-opacity=\"1\" stroke-width=\"3.2\"/>\n",
       "<circle clip-path=\"url(#clip142)\" cx=\"531.632\" cy=\"160.571\" r=\"14\" fill=\"#0000ff\" fill-rule=\"evenodd\" fill-opacity=\"1\" stroke=\"#000000\" stroke-opacity=\"1\" stroke-width=\"3.2\"/>\n",
       "<circle clip-path=\"url(#clip142)\" cx=\"572.584\" cy=\"175.631\" r=\"14\" fill=\"#0000ff\" fill-rule=\"evenodd\" fill-opacity=\"1\" stroke=\"#000000\" stroke-opacity=\"1\" stroke-width=\"3.2\"/>\n",
       "<circle clip-path=\"url(#clip142)\" cx=\"613.536\" cy=\"229.797\" r=\"14\" fill=\"#0000ff\" fill-rule=\"evenodd\" fill-opacity=\"1\" stroke=\"#000000\" stroke-opacity=\"1\" stroke-width=\"3.2\"/>\n",
       "<circle clip-path=\"url(#clip142)\" cx=\"654.487\" cy=\"319.525\" r=\"14\" fill=\"#0000ff\" fill-rule=\"evenodd\" fill-opacity=\"1\" stroke=\"#000000\" stroke-opacity=\"1\" stroke-width=\"3.2\"/>\n",
       "<circle clip-path=\"url(#clip142)\" cx=\"695.439\" cy=\"438.947\" r=\"14\" fill=\"#0000ff\" fill-rule=\"evenodd\" fill-opacity=\"1\" stroke=\"#000000\" stroke-opacity=\"1\" stroke-width=\"3.2\"/>\n",
       "<circle clip-path=\"url(#clip142)\" cx=\"736.391\" cy=\"580.251\" r=\"14\" fill=\"#0000ff\" fill-rule=\"evenodd\" fill-opacity=\"1\" stroke=\"#000000\" stroke-opacity=\"1\" stroke-width=\"3.2\"/>\n",
       "<circle clip-path=\"url(#clip142)\" cx=\"777.343\" cy=\"734.194\" r=\"14\" fill=\"#0000ff\" fill-rule=\"evenodd\" fill-opacity=\"1\" stroke=\"#000000\" stroke-opacity=\"1\" stroke-width=\"3.2\"/>\n",
       "<circle clip-path=\"url(#clip142)\" cx=\"818.294\" cy=\"890.707\" r=\"14\" fill=\"#0000ff\" fill-rule=\"evenodd\" fill-opacity=\"1\" stroke=\"#000000\" stroke-opacity=\"1\" stroke-width=\"3.2\"/>\n",
       "<circle clip-path=\"url(#clip142)\" cx=\"859.246\" cy=\"1039.55\" r=\"14\" fill=\"#0000ff\" fill-rule=\"evenodd\" fill-opacity=\"1\" stroke=\"#000000\" stroke-opacity=\"1\" stroke-width=\"3.2\"/>\n",
       "<circle clip-path=\"url(#clip142)\" cx=\"900.198\" cy=\"1170.99\" r=\"14\" fill=\"#0000ff\" fill-rule=\"evenodd\" fill-opacity=\"1\" stroke=\"#000000\" stroke-opacity=\"1\" stroke-width=\"3.2\"/>\n",
       "<circle clip-path=\"url(#clip142)\" cx=\"941.15\" cy=\"1276.44\" r=\"14\" fill=\"#0000ff\" fill-rule=\"evenodd\" fill-opacity=\"1\" stroke=\"#000000\" stroke-opacity=\"1\" stroke-width=\"3.2\"/>\n",
       "<circle clip-path=\"url(#clip142)\" cx=\"982.101\" cy=\"1348.98\" r=\"14\" fill=\"#0000ff\" fill-rule=\"evenodd\" fill-opacity=\"1\" stroke=\"#000000\" stroke-opacity=\"1\" stroke-width=\"3.2\"/>\n",
       "<circle clip-path=\"url(#clip142)\" cx=\"1023.05\" cy=\"1383.88\" r=\"14\" fill=\"#0000ff\" fill-rule=\"evenodd\" fill-opacity=\"1\" stroke=\"#000000\" stroke-opacity=\"1\" stroke-width=\"3.2\"/>\n",
       "<circle clip-path=\"url(#clip142)\" cx=\"1064\" cy=\"1378.85\" r=\"14\" fill=\"#0000ff\" fill-rule=\"evenodd\" fill-opacity=\"1\" stroke=\"#000000\" stroke-opacity=\"1\" stroke-width=\"3.2\"/>\n",
       "<circle clip-path=\"url(#clip142)\" cx=\"1104.96\" cy=\"1334.23\" r=\"14\" fill=\"#0000ff\" fill-rule=\"evenodd\" fill-opacity=\"1\" stroke=\"#000000\" stroke-opacity=\"1\" stroke-width=\"3.2\"/>\n",
       "<circle clip-path=\"url(#clip142)\" cx=\"1145.91\" cy=\"1252.92\" r=\"14\" fill=\"#0000ff\" fill-rule=\"evenodd\" fill-opacity=\"1\" stroke=\"#000000\" stroke-opacity=\"1\" stroke-width=\"3.2\"/>\n",
       "<circle clip-path=\"url(#clip142)\" cx=\"1186.86\" cy=\"1140.26\" r=\"14\" fill=\"#0000ff\" fill-rule=\"evenodd\" fill-opacity=\"1\" stroke=\"#000000\" stroke-opacity=\"1\" stroke-width=\"3.2\"/>\n",
       "<circle clip-path=\"url(#clip142)\" cx=\"1227.81\" cy=\"1003.61\" r=\"14\" fill=\"#0000ff\" fill-rule=\"evenodd\" fill-opacity=\"1\" stroke=\"#000000\" stroke-opacity=\"1\" stroke-width=\"3.2\"/>\n",
       "<circle clip-path=\"url(#clip142)\" cx=\"1268.76\" cy=\"851.901\" r=\"14\" fill=\"#0000ff\" fill-rule=\"evenodd\" fill-opacity=\"1\" stroke=\"#000000\" stroke-opacity=\"1\" stroke-width=\"3.2\"/>\n",
       "<circle clip-path=\"url(#clip142)\" cx=\"1309.72\" cy=\"695.066\" r=\"14\" fill=\"#0000ff\" fill-rule=\"evenodd\" fill-opacity=\"1\" stroke=\"#000000\" stroke-opacity=\"1\" stroke-width=\"3.2\"/>\n",
       "<circle clip-path=\"url(#clip142)\" cx=\"1350.67\" cy=\"543.36\" r=\"14\" fill=\"#0000ff\" fill-rule=\"evenodd\" fill-opacity=\"1\" stroke=\"#000000\" stroke-opacity=\"1\" stroke-width=\"3.2\"/>\n",
       "<circle clip-path=\"url(#clip142)\" cx=\"1391.62\" cy=\"406.706\" r=\"14\" fill=\"#0000ff\" fill-rule=\"evenodd\" fill-opacity=\"1\" stroke=\"#000000\" stroke-opacity=\"1\" stroke-width=\"3.2\"/>\n",
       "<circle clip-path=\"url(#clip142)\" cx=\"1432.57\" cy=\"294.043\" r=\"14\" fill=\"#0000ff\" fill-rule=\"evenodd\" fill-opacity=\"1\" stroke=\"#000000\" stroke-opacity=\"1\" stroke-width=\"3.2\"/>\n",
       "<circle clip-path=\"url(#clip142)\" cx=\"1473.52\" cy=\"212.741\" r=\"14\" fill=\"#0000ff\" fill-rule=\"evenodd\" fill-opacity=\"1\" stroke=\"#000000\" stroke-opacity=\"1\" stroke-width=\"3.2\"/>\n",
       "<circle clip-path=\"url(#clip142)\" cx=\"1514.47\" cy=\"168.117\" r=\"14\" fill=\"#0000ff\" fill-rule=\"evenodd\" fill-opacity=\"1\" stroke=\"#000000\" stroke-opacity=\"1\" stroke-width=\"3.2\"/>\n",
       "<circle clip-path=\"url(#clip142)\" cx=\"1555.43\" cy=\"163.09\" r=\"14\" fill=\"#0000ff\" fill-rule=\"evenodd\" fill-opacity=\"1\" stroke=\"#000000\" stroke-opacity=\"1\" stroke-width=\"3.2\"/>\n",
       "<circle clip-path=\"url(#clip142)\" cx=\"1596.38\" cy=\"197.989\" r=\"14\" fill=\"#0000ff\" fill-rule=\"evenodd\" fill-opacity=\"1\" stroke=\"#000000\" stroke-opacity=\"1\" stroke-width=\"3.2\"/>\n",
       "<circle clip-path=\"url(#clip142)\" cx=\"1637.33\" cy=\"270.532\" r=\"14\" fill=\"#0000ff\" fill-rule=\"evenodd\" fill-opacity=\"1\" stroke=\"#000000\" stroke-opacity=\"1\" stroke-width=\"3.2\"/>\n",
       "<circle clip-path=\"url(#clip142)\" cx=\"1678.28\" cy=\"375.972\" r=\"14\" fill=\"#0000ff\" fill-rule=\"evenodd\" fill-opacity=\"1\" stroke=\"#000000\" stroke-opacity=\"1\" stroke-width=\"3.2\"/>\n",
       "<circle clip-path=\"url(#clip142)\" cx=\"1719.23\" cy=\"507.414\" r=\"14\" fill=\"#0000ff\" fill-rule=\"evenodd\" fill-opacity=\"1\" stroke=\"#000000\" stroke-opacity=\"1\" stroke-width=\"3.2\"/>\n",
       "<circle clip-path=\"url(#clip142)\" cx=\"1760.18\" cy=\"656.26\" r=\"14\" fill=\"#0000ff\" fill-rule=\"evenodd\" fill-opacity=\"1\" stroke=\"#000000\" stroke-opacity=\"1\" stroke-width=\"3.2\"/>\n",
       "<circle clip-path=\"url(#clip142)\" cx=\"1801.14\" cy=\"812.773\" r=\"14\" fill=\"#0000ff\" fill-rule=\"evenodd\" fill-opacity=\"1\" stroke=\"#000000\" stroke-opacity=\"1\" stroke-width=\"3.2\"/>\n",
       "<circle clip-path=\"url(#clip142)\" cx=\"1842.09\" cy=\"966.716\" r=\"14\" fill=\"#0000ff\" fill-rule=\"evenodd\" fill-opacity=\"1\" stroke=\"#000000\" stroke-opacity=\"1\" stroke-width=\"3.2\"/>\n",
       "<circle clip-path=\"url(#clip142)\" cx=\"1883.04\" cy=\"1108.02\" r=\"14\" fill=\"#0000ff\" fill-rule=\"evenodd\" fill-opacity=\"1\" stroke=\"#000000\" stroke-opacity=\"1\" stroke-width=\"3.2\"/>\n",
       "<circle clip-path=\"url(#clip142)\" cx=\"1923.99\" cy=\"1227.44\" r=\"14\" fill=\"#0000ff\" fill-rule=\"evenodd\" fill-opacity=\"1\" stroke=\"#000000\" stroke-opacity=\"1\" stroke-width=\"3.2\"/>\n",
       "<circle clip-path=\"url(#clip142)\" cx=\"1964.94\" cy=\"1317.17\" r=\"14\" fill=\"#0000ff\" fill-rule=\"evenodd\" fill-opacity=\"1\" stroke=\"#000000\" stroke-opacity=\"1\" stroke-width=\"3.2\"/>\n",
       "<circle clip-path=\"url(#clip142)\" cx=\"2005.89\" cy=\"1371.34\" r=\"14\" fill=\"#0000ff\" fill-rule=\"evenodd\" fill-opacity=\"1\" stroke=\"#000000\" stroke-opacity=\"1\" stroke-width=\"3.2\"/>\n",
       "<circle clip-path=\"url(#clip142)\" cx=\"2046.85\" cy=\"1386.4\" r=\"14\" fill=\"#0000ff\" fill-rule=\"evenodd\" fill-opacity=\"1\" stroke=\"#000000\" stroke-opacity=\"1\" stroke-width=\"3.2\"/>\n",
       "<circle clip-path=\"url(#clip142)\" cx=\"2087.8\" cy=\"1361.36\" r=\"14\" fill=\"#0000ff\" fill-rule=\"evenodd\" fill-opacity=\"1\" stroke=\"#000000\" stroke-opacity=\"1\" stroke-width=\"3.2\"/>\n",
       "<circle clip-path=\"url(#clip142)\" cx=\"2128.75\" cy=\"1297.88\" r=\"14\" fill=\"#0000ff\" fill-rule=\"evenodd\" fill-opacity=\"1\" stroke=\"#000000\" stroke-opacity=\"1\" stroke-width=\"3.2\"/>\n",
       "<circle clip-path=\"url(#clip142)\" cx=\"2169.7\" cy=\"1200.09\" r=\"14\" fill=\"#0000ff\" fill-rule=\"evenodd\" fill-opacity=\"1\" stroke=\"#000000\" stroke-opacity=\"1\" stroke-width=\"3.2\"/>\n",
       "<circle clip-path=\"url(#clip142)\" cx=\"2210.65\" cy=\"1074.4\" r=\"14\" fill=\"#0000ff\" fill-rule=\"evenodd\" fill-opacity=\"1\" stroke=\"#000000\" stroke-opacity=\"1\" stroke-width=\"3.2\"/>\n",
       "<circle clip-path=\"url(#clip142)\" cx=\"2251.61\" cy=\"929.031\" r=\"14\" fill=\"#0000ff\" fill-rule=\"evenodd\" fill-opacity=\"1\" stroke=\"#000000\" stroke-opacity=\"1\" stroke-width=\"3.2\"/>\n",
       "<circle clip-path=\"url(#clip142)\" cx=\"2292.56\" cy=\"773.484\" r=\"14\" fill=\"#0000ff\" fill-rule=\"evenodd\" fill-opacity=\"1\" stroke=\"#000000\" stroke-opacity=\"1\" stroke-width=\"3.2\"/>\n",
       "<polyline clip-path=\"url(#clip142)\" style=\"stroke:#ff0000; stroke-width:8; stroke-opacity:1; fill:none\" stroke-dasharray=\"32, 20\" points=\"\n",
       "  285.922,160.256 326.874,180.312 367.825,239.167 408.777,332.972 449.729,455.591 490.68,599.003 531.632,753.829 572.584,909.939 613.536,1057.12 654.487,1185.76 \n",
       "  695.439,1287.42 736.391,1355.47 777.343,1385.45 818.294,1375.4 859.246,1325.98 900.198,1240.42 941.15,1124.32 982.101,985.271 1023.05,832.367 1064,675.613 \n",
       "  1104.96,525.259 1145.91,391.143 1186.86,282.035 1227.81,205.073 1268.76,165.291 1309.72,165.291 1350.67,205.073 1391.62,282.035 1432.57,391.143 1473.52,525.259 \n",
       "  1514.47,675.613 1555.43,832.367 1596.38,985.271 1637.33,1124.32 1678.28,1240.42 1719.23,1325.98 1760.18,1375.4 1801.14,1385.45 1842.09,1355.47 1883.04,1287.42 \n",
       "  1923.99,1185.76 1964.94,1057.12 2005.89,909.939 2046.85,753.829 2087.8,599.003 2128.75,455.591 2169.7,332.972 2210.65,239.167 2251.61,180.312 2292.56,160.256 \n",
       "  \n",
       "  \"/>\n",
       "<path clip-path=\"url(#clip142)\" d=\"M285.922 144.256 L269.922 160.256 L285.922 176.256 L301.922 160.256 L285.922 144.256 Z\" fill=\"#ff0000\" fill-rule=\"evenodd\" fill-opacity=\"1\" stroke=\"#000000\" stroke-opacity=\"1\" stroke-width=\"3.2\"/>\n",
       "<path clip-path=\"url(#clip142)\" d=\"M326.874 164.312 L310.874 180.312 L326.874 196.312 L342.874 180.312 L326.874 164.312 Z\" fill=\"#ff0000\" fill-rule=\"evenodd\" fill-opacity=\"1\" stroke=\"#000000\" stroke-opacity=\"1\" stroke-width=\"3.2\"/>\n",
       "<path clip-path=\"url(#clip142)\" d=\"M367.825 223.167 L351.825 239.167 L367.825 255.167 L383.825 239.167 L367.825 223.167 Z\" fill=\"#ff0000\" fill-rule=\"evenodd\" fill-opacity=\"1\" stroke=\"#000000\" stroke-opacity=\"1\" stroke-width=\"3.2\"/>\n",
       "<path clip-path=\"url(#clip142)\" d=\"M408.777 316.972 L392.777 332.972 L408.777 348.972 L424.777 332.972 L408.777 316.972 Z\" fill=\"#ff0000\" fill-rule=\"evenodd\" fill-opacity=\"1\" stroke=\"#000000\" stroke-opacity=\"1\" stroke-width=\"3.2\"/>\n",
       "<path clip-path=\"url(#clip142)\" d=\"M449.729 439.591 L433.729 455.591 L449.729 471.591 L465.729 455.591 L449.729 439.591 Z\" fill=\"#ff0000\" fill-rule=\"evenodd\" fill-opacity=\"1\" stroke=\"#000000\" stroke-opacity=\"1\" stroke-width=\"3.2\"/>\n",
       "<path clip-path=\"url(#clip142)\" d=\"M490.68 583.003 L474.68 599.003 L490.68 615.003 L506.68 599.003 L490.68 583.003 Z\" fill=\"#ff0000\" fill-rule=\"evenodd\" fill-opacity=\"1\" stroke=\"#000000\" stroke-opacity=\"1\" stroke-width=\"3.2\"/>\n",
       "<path clip-path=\"url(#clip142)\" d=\"M531.632 737.829 L515.632 753.829 L531.632 769.829 L547.632 753.829 L531.632 737.829 Z\" fill=\"#ff0000\" fill-rule=\"evenodd\" fill-opacity=\"1\" stroke=\"#000000\" stroke-opacity=\"1\" stroke-width=\"3.2\"/>\n",
       "<path clip-path=\"url(#clip142)\" d=\"M572.584 893.939 L556.584 909.939 L572.584 925.939 L588.584 909.939 L572.584 893.939 Z\" fill=\"#ff0000\" fill-rule=\"evenodd\" fill-opacity=\"1\" stroke=\"#000000\" stroke-opacity=\"1\" stroke-width=\"3.2\"/>\n",
       "<path clip-path=\"url(#clip142)\" d=\"M613.536 1041.12 L597.536 1057.12 L613.536 1073.12 L629.536 1057.12 L613.536 1041.12 Z\" fill=\"#ff0000\" fill-rule=\"evenodd\" fill-opacity=\"1\" stroke=\"#000000\" stroke-opacity=\"1\" stroke-width=\"3.2\"/>\n",
       "<path clip-path=\"url(#clip142)\" d=\"M654.487 1169.76 L638.487 1185.76 L654.487 1201.76 L670.487 1185.76 L654.487 1169.76 Z\" fill=\"#ff0000\" fill-rule=\"evenodd\" fill-opacity=\"1\" stroke=\"#000000\" stroke-opacity=\"1\" stroke-width=\"3.2\"/>\n",
       "<path clip-path=\"url(#clip142)\" d=\"M695.439 1271.42 L679.439 1287.42 L695.439 1303.42 L711.439 1287.42 L695.439 1271.42 Z\" fill=\"#ff0000\" fill-rule=\"evenodd\" fill-opacity=\"1\" stroke=\"#000000\" stroke-opacity=\"1\" stroke-width=\"3.2\"/>\n",
       "<path clip-path=\"url(#clip142)\" d=\"M736.391 1339.47 L720.391 1355.47 L736.391 1371.47 L752.391 1355.47 L736.391 1339.47 Z\" fill=\"#ff0000\" fill-rule=\"evenodd\" fill-opacity=\"1\" stroke=\"#000000\" stroke-opacity=\"1\" stroke-width=\"3.2\"/>\n",
       "<path clip-path=\"url(#clip142)\" d=\"M777.343 1369.45 L761.343 1385.45 L777.343 1401.45 L793.343 1385.45 L777.343 1369.45 Z\" fill=\"#ff0000\" fill-rule=\"evenodd\" fill-opacity=\"1\" stroke=\"#000000\" stroke-opacity=\"1\" stroke-width=\"3.2\"/>\n",
       "<path clip-path=\"url(#clip142)\" d=\"M818.294 1359.4 L802.294 1375.4 L818.294 1391.4 L834.294 1375.4 L818.294 1359.4 Z\" fill=\"#ff0000\" fill-rule=\"evenodd\" fill-opacity=\"1\" stroke=\"#000000\" stroke-opacity=\"1\" stroke-width=\"3.2\"/>\n",
       "<path clip-path=\"url(#clip142)\" d=\"M859.246 1309.98 L843.246 1325.98 L859.246 1341.98 L875.246 1325.98 L859.246 1309.98 Z\" fill=\"#ff0000\" fill-rule=\"evenodd\" fill-opacity=\"1\" stroke=\"#000000\" stroke-opacity=\"1\" stroke-width=\"3.2\"/>\n",
       "<path clip-path=\"url(#clip142)\" d=\"M900.198 1224.42 L884.198 1240.42 L900.198 1256.42 L916.198 1240.42 L900.198 1224.42 Z\" fill=\"#ff0000\" fill-rule=\"evenodd\" fill-opacity=\"1\" stroke=\"#000000\" stroke-opacity=\"1\" stroke-width=\"3.2\"/>\n",
       "<path clip-path=\"url(#clip142)\" d=\"M941.15 1108.32 L925.15 1124.32 L941.15 1140.32 L957.15 1124.32 L941.15 1108.32 Z\" fill=\"#ff0000\" fill-rule=\"evenodd\" fill-opacity=\"1\" stroke=\"#000000\" stroke-opacity=\"1\" stroke-width=\"3.2\"/>\n",
       "<path clip-path=\"url(#clip142)\" d=\"M982.101 969.271 L966.101 985.271 L982.101 1001.27 L998.101 985.271 L982.101 969.271 Z\" fill=\"#ff0000\" fill-rule=\"evenodd\" fill-opacity=\"1\" stroke=\"#000000\" stroke-opacity=\"1\" stroke-width=\"3.2\"/>\n",
       "<path clip-path=\"url(#clip142)\" d=\"M1023.05 816.367 L1007.05 832.367 L1023.05 848.367 L1039.05 832.367 L1023.05 816.367 Z\" fill=\"#ff0000\" fill-rule=\"evenodd\" fill-opacity=\"1\" stroke=\"#000000\" stroke-opacity=\"1\" stroke-width=\"3.2\"/>\n",
       "<path clip-path=\"url(#clip142)\" d=\"M1064 659.613 L1048 675.613 L1064 691.613 L1080 675.613 L1064 659.613 Z\" fill=\"#ff0000\" fill-rule=\"evenodd\" fill-opacity=\"1\" stroke=\"#000000\" stroke-opacity=\"1\" stroke-width=\"3.2\"/>\n",
       "<path clip-path=\"url(#clip142)\" d=\"M1104.96 509.259 L1088.96 525.259 L1104.96 541.259 L1120.96 525.259 L1104.96 509.259 Z\" fill=\"#ff0000\" fill-rule=\"evenodd\" fill-opacity=\"1\" stroke=\"#000000\" stroke-opacity=\"1\" stroke-width=\"3.2\"/>\n",
       "<path clip-path=\"url(#clip142)\" d=\"M1145.91 375.143 L1129.91 391.143 L1145.91 407.143 L1161.91 391.143 L1145.91 375.143 Z\" fill=\"#ff0000\" fill-rule=\"evenodd\" fill-opacity=\"1\" stroke=\"#000000\" stroke-opacity=\"1\" stroke-width=\"3.2\"/>\n",
       "<path clip-path=\"url(#clip142)\" d=\"M1186.86 266.035 L1170.86 282.035 L1186.86 298.035 L1202.86 282.035 L1186.86 266.035 Z\" fill=\"#ff0000\" fill-rule=\"evenodd\" fill-opacity=\"1\" stroke=\"#000000\" stroke-opacity=\"1\" stroke-width=\"3.2\"/>\n",
       "<path clip-path=\"url(#clip142)\" d=\"M1227.81 189.073 L1211.81 205.073 L1227.81 221.073 L1243.81 205.073 L1227.81 189.073 Z\" fill=\"#ff0000\" fill-rule=\"evenodd\" fill-opacity=\"1\" stroke=\"#000000\" stroke-opacity=\"1\" stroke-width=\"3.2\"/>\n",
       "<path clip-path=\"url(#clip142)\" d=\"M1268.76 149.291 L1252.76 165.291 L1268.76 181.291 L1284.76 165.291 L1268.76 149.291 Z\" fill=\"#ff0000\" fill-rule=\"evenodd\" fill-opacity=\"1\" stroke=\"#000000\" stroke-opacity=\"1\" stroke-width=\"3.2\"/>\n",
       "<path clip-path=\"url(#clip142)\" d=\"M1309.72 149.291 L1293.72 165.291 L1309.72 181.291 L1325.72 165.291 L1309.72 149.291 Z\" fill=\"#ff0000\" fill-rule=\"evenodd\" fill-opacity=\"1\" stroke=\"#000000\" stroke-opacity=\"1\" stroke-width=\"3.2\"/>\n",
       "<path clip-path=\"url(#clip142)\" d=\"M1350.67 189.073 L1334.67 205.073 L1350.67 221.073 L1366.67 205.073 L1350.67 189.073 Z\" fill=\"#ff0000\" fill-rule=\"evenodd\" fill-opacity=\"1\" stroke=\"#000000\" stroke-opacity=\"1\" stroke-width=\"3.2\"/>\n",
       "<path clip-path=\"url(#clip142)\" d=\"M1391.62 266.035 L1375.62 282.035 L1391.62 298.035 L1407.62 282.035 L1391.62 266.035 Z\" fill=\"#ff0000\" fill-rule=\"evenodd\" fill-opacity=\"1\" stroke=\"#000000\" stroke-opacity=\"1\" stroke-width=\"3.2\"/>\n",
       "<path clip-path=\"url(#clip142)\" d=\"M1432.57 375.143 L1416.57 391.143 L1432.57 407.143 L1448.57 391.143 L1432.57 375.143 Z\" fill=\"#ff0000\" fill-rule=\"evenodd\" fill-opacity=\"1\" stroke=\"#000000\" stroke-opacity=\"1\" stroke-width=\"3.2\"/>\n",
       "<path clip-path=\"url(#clip142)\" d=\"M1473.52 509.259 L1457.52 525.259 L1473.52 541.259 L1489.52 525.259 L1473.52 509.259 Z\" fill=\"#ff0000\" fill-rule=\"evenodd\" fill-opacity=\"1\" stroke=\"#000000\" stroke-opacity=\"1\" stroke-width=\"3.2\"/>\n",
       "<path clip-path=\"url(#clip142)\" d=\"M1514.47 659.613 L1498.47 675.613 L1514.47 691.613 L1530.47 675.613 L1514.47 659.613 Z\" fill=\"#ff0000\" fill-rule=\"evenodd\" fill-opacity=\"1\" stroke=\"#000000\" stroke-opacity=\"1\" stroke-width=\"3.2\"/>\n",
       "<path clip-path=\"url(#clip142)\" d=\"M1555.43 816.367 L1539.43 832.367 L1555.43 848.367 L1571.43 832.367 L1555.43 816.367 Z\" fill=\"#ff0000\" fill-rule=\"evenodd\" fill-opacity=\"1\" stroke=\"#000000\" stroke-opacity=\"1\" stroke-width=\"3.2\"/>\n",
       "<path clip-path=\"url(#clip142)\" d=\"M1596.38 969.271 L1580.38 985.271 L1596.38 1001.27 L1612.38 985.271 L1596.38 969.271 Z\" fill=\"#ff0000\" fill-rule=\"evenodd\" fill-opacity=\"1\" stroke=\"#000000\" stroke-opacity=\"1\" stroke-width=\"3.2\"/>\n",
       "<path clip-path=\"url(#clip142)\" d=\"M1637.33 1108.32 L1621.33 1124.32 L1637.33 1140.32 L1653.33 1124.32 L1637.33 1108.32 Z\" fill=\"#ff0000\" fill-rule=\"evenodd\" fill-opacity=\"1\" stroke=\"#000000\" stroke-opacity=\"1\" stroke-width=\"3.2\"/>\n",
       "<path clip-path=\"url(#clip142)\" d=\"M1678.28 1224.42 L1662.28 1240.42 L1678.28 1256.42 L1694.28 1240.42 L1678.28 1224.42 Z\" fill=\"#ff0000\" fill-rule=\"evenodd\" fill-opacity=\"1\" stroke=\"#000000\" stroke-opacity=\"1\" stroke-width=\"3.2\"/>\n",
       "<path clip-path=\"url(#clip142)\" d=\"M1719.23 1309.98 L1703.23 1325.98 L1719.23 1341.98 L1735.23 1325.98 L1719.23 1309.98 Z\" fill=\"#ff0000\" fill-rule=\"evenodd\" fill-opacity=\"1\" stroke=\"#000000\" stroke-opacity=\"1\" stroke-width=\"3.2\"/>\n",
       "<path clip-path=\"url(#clip142)\" d=\"M1760.18 1359.4 L1744.18 1375.4 L1760.18 1391.4 L1776.18 1375.4 L1760.18 1359.4 Z\" fill=\"#ff0000\" fill-rule=\"evenodd\" fill-opacity=\"1\" stroke=\"#000000\" stroke-opacity=\"1\" stroke-width=\"3.2\"/>\n",
       "<path clip-path=\"url(#clip142)\" d=\"M1801.14 1369.45 L1785.14 1385.45 L1801.14 1401.45 L1817.14 1385.45 L1801.14 1369.45 Z\" fill=\"#ff0000\" fill-rule=\"evenodd\" fill-opacity=\"1\" stroke=\"#000000\" stroke-opacity=\"1\" stroke-width=\"3.2\"/>\n",
       "<path clip-path=\"url(#clip142)\" d=\"M1842.09 1339.47 L1826.09 1355.47 L1842.09 1371.47 L1858.09 1355.47 L1842.09 1339.47 Z\" fill=\"#ff0000\" fill-rule=\"evenodd\" fill-opacity=\"1\" stroke=\"#000000\" stroke-opacity=\"1\" stroke-width=\"3.2\"/>\n",
       "<path clip-path=\"url(#clip142)\" d=\"M1883.04 1271.42 L1867.04 1287.42 L1883.04 1303.42 L1899.04 1287.42 L1883.04 1271.42 Z\" fill=\"#ff0000\" fill-rule=\"evenodd\" fill-opacity=\"1\" stroke=\"#000000\" stroke-opacity=\"1\" stroke-width=\"3.2\"/>\n",
       "<path clip-path=\"url(#clip142)\" d=\"M1923.99 1169.76 L1907.99 1185.76 L1923.99 1201.76 L1939.99 1185.76 L1923.99 1169.76 Z\" fill=\"#ff0000\" fill-rule=\"evenodd\" fill-opacity=\"1\" stroke=\"#000000\" stroke-opacity=\"1\" stroke-width=\"3.2\"/>\n",
       "<path clip-path=\"url(#clip142)\" d=\"M1964.94 1041.12 L1948.94 1057.12 L1964.94 1073.12 L1980.94 1057.12 L1964.94 1041.12 Z\" fill=\"#ff0000\" fill-rule=\"evenodd\" fill-opacity=\"1\" stroke=\"#000000\" stroke-opacity=\"1\" stroke-width=\"3.2\"/>\n",
       "<path clip-path=\"url(#clip142)\" d=\"M2005.89 893.939 L1989.89 909.939 L2005.89 925.939 L2021.89 909.939 L2005.89 893.939 Z\" fill=\"#ff0000\" fill-rule=\"evenodd\" fill-opacity=\"1\" stroke=\"#000000\" stroke-opacity=\"1\" stroke-width=\"3.2\"/>\n",
       "<path clip-path=\"url(#clip142)\" d=\"M2046.85 737.829 L2030.85 753.829 L2046.85 769.829 L2062.85 753.829 L2046.85 737.829 Z\" fill=\"#ff0000\" fill-rule=\"evenodd\" fill-opacity=\"1\" stroke=\"#000000\" stroke-opacity=\"1\" stroke-width=\"3.2\"/>\n",
       "<path clip-path=\"url(#clip142)\" d=\"M2087.8 583.003 L2071.8 599.003 L2087.8 615.003 L2103.8 599.003 L2087.8 583.003 Z\" fill=\"#ff0000\" fill-rule=\"evenodd\" fill-opacity=\"1\" stroke=\"#000000\" stroke-opacity=\"1\" stroke-width=\"3.2\"/>\n",
       "<path clip-path=\"url(#clip142)\" d=\"M2128.75 439.591 L2112.75 455.591 L2128.75 471.591 L2144.75 455.591 L2128.75 439.591 Z\" fill=\"#ff0000\" fill-rule=\"evenodd\" fill-opacity=\"1\" stroke=\"#000000\" stroke-opacity=\"1\" stroke-width=\"3.2\"/>\n",
       "<path clip-path=\"url(#clip142)\" d=\"M2169.7 316.972 L2153.7 332.972 L2169.7 348.972 L2185.7 332.972 L2169.7 316.972 Z\" fill=\"#ff0000\" fill-rule=\"evenodd\" fill-opacity=\"1\" stroke=\"#000000\" stroke-opacity=\"1\" stroke-width=\"3.2\"/>\n",
       "<path clip-path=\"url(#clip142)\" d=\"M2210.65 223.167 L2194.65 239.167 L2210.65 255.167 L2226.65 239.167 L2210.65 223.167 Z\" fill=\"#ff0000\" fill-rule=\"evenodd\" fill-opacity=\"1\" stroke=\"#000000\" stroke-opacity=\"1\" stroke-width=\"3.2\"/>\n",
       "<path clip-path=\"url(#clip142)\" d=\"M2251.61 164.312 L2235.61 180.312 L2251.61 196.312 L2267.61 180.312 L2251.61 164.312 Z\" fill=\"#ff0000\" fill-rule=\"evenodd\" fill-opacity=\"1\" stroke=\"#000000\" stroke-opacity=\"1\" stroke-width=\"3.2\"/>\n",
       "<path clip-path=\"url(#clip142)\" d=\"M2292.56 144.256 L2276.56 160.256 L2292.56 176.256 L2308.56 160.256 L2292.56 144.256 Z\" fill=\"#ff0000\" fill-rule=\"evenodd\" fill-opacity=\"1\" stroke=\"#000000\" stroke-opacity=\"1\" stroke-width=\"3.2\"/>\n",
       "<path clip-path=\"url(#clip140)\" d=\"\n",
       "M1915.83 388.432 L2280.76 388.432 L2280.76 206.992 L1915.83 206.992  Z\n",
       "  \" fill=\"#ffffff\" fill-rule=\"evenodd\" fill-opacity=\"1\"/>\n",
       "<polyline clip-path=\"url(#clip140)\" style=\"stroke:#000000; stroke-width:4; stroke-opacity:1; fill:none\" points=\"\n",
       "  1915.83,388.432 2280.76,388.432 2280.76,206.992 1915.83,206.992 1915.83,388.432 \n",
       "  \"/>\n",
       "<polyline clip-path=\"url(#clip140)\" style=\"stroke:#0000ff; stroke-width:4; stroke-opacity:1; fill:none\" stroke-dasharray=\"2, 4\" points=\"\n",
       "  1939.83,267.472 2083.83,267.472 \n",
       "  \"/>\n",
       "<circle clip-path=\"url(#clip140)\" cx=\"2023.83\" cy=\"267.472\" r=\"23\" fill=\"#0000ff\" fill-rule=\"evenodd\" fill-opacity=\"1\" stroke=\"#000000\" stroke-opacity=\"1\" stroke-width=\"5.12\"/>\n",
       "<path clip-path=\"url(#clip140)\" d=\"M 0 0 M2126.25 259.59 L2126.25 263.618 Q2124.45 262.692 2122.5 262.229 Q2120.56 261.766 2118.47 261.766 Q2115.3 261.766 2113.71 262.738 Q2112.13 263.711 2112.13 265.655 Q2112.13 267.136 2113.27 267.993 Q2114.4 268.826 2117.83 269.59 L2119.28 269.914 Q2123.82 270.886 2125.72 272.669 Q2127.64 274.428 2127.64 277.599 Q2127.64 281.21 2124.77 283.317 Q2121.92 285.423 2116.92 285.423 Q2114.84 285.423 2112.57 285.007 Q2110.33 284.613 2107.83 283.803 L2107.83 279.405 Q2110.19 280.632 2112.48 281.257 Q2114.77 281.859 2117.02 281.859 Q2120.03 281.859 2121.65 280.84 Q2123.27 279.798 2123.27 277.923 Q2123.27 276.187 2122.09 275.261 Q2120.93 274.336 2116.97 273.479 L2115.49 273.132 Q2111.53 272.298 2109.77 270.586 Q2108.01 268.849 2108.01 265.84 Q2108.01 262.183 2110.6 260.192 Q2113.2 258.201 2117.96 258.201 Q2120.33 258.201 2122.41 258.549 Q2124.49 258.896 2126.25 259.59 Z\" fill=\"#000000\" fill-rule=\"evenodd\" fill-opacity=\"1\" /><path clip-path=\"url(#clip140)\" d=\"M 0 0 M2132.11 258.826 L2136.37 258.826 L2136.37 284.752 L2132.11 284.752 L2132.11 258.826 M2132.11 248.734 L2136.37 248.734 L2136.37 254.127 L2132.11 254.127 L2132.11 248.734 Z\" fill=\"#000000\" fill-rule=\"evenodd\" fill-opacity=\"1\" /><path clip-path=\"url(#clip140)\" d=\"M 0 0 M2162.39 269.104 L2162.39 284.752 L2158.13 284.752 L2158.13 269.243 Q2158.13 265.562 2156.69 263.734 Q2155.26 261.905 2152.39 261.905 Q2148.94 261.905 2146.95 264.104 Q2144.96 266.303 2144.96 270.099 L2144.96 284.752 L2140.67 284.752 L2140.67 258.826 L2144.96 258.826 L2144.96 262.854 Q2146.48 260.516 2148.54 259.359 Q2150.63 258.201 2153.34 258.201 Q2157.8 258.201 2160.09 260.979 Q2162.39 263.734 2162.39 269.104 Z\" fill=\"#000000\" fill-rule=\"evenodd\" fill-opacity=\"1\" /><path clip-path=\"url(#clip140)\" d=\"M 0 0 M2177.08 248.78 Q2173.98 254.104 2172.48 259.312 Q2170.97 264.521 2170.97 269.868 Q2170.97 275.215 2172.48 280.47 Q2174.01 285.701 2177.08 291.002 L2173.38 291.002 Q2169.91 285.562 2168.17 280.308 Q2166.46 275.053 2166.46 269.868 Q2166.46 264.706 2168.17 259.474 Q2169.89 254.243 2173.38 248.78 L2177.08 248.78 Z\" fill=\"#000000\" fill-rule=\"evenodd\" fill-opacity=\"1\" /><path clip-path=\"url(#clip140)\" d=\"M 0 0 M2203.1 258.826 L2193.73 271.442 L2203.59 284.752 L2198.57 284.752 L2191.02 274.567 L2183.47 284.752 L2178.45 284.752 L2188.52 271.187 L2179.31 258.826 L2184.33 258.826 L2191.21 268.062 L2198.08 258.826 L2203.1 258.826 Z\" fill=\"#000000\" fill-rule=\"evenodd\" fill-opacity=\"1\" /><path clip-path=\"url(#clip140)\" d=\"M 0 0 M2207.39 248.78 L2211.09 248.78 Q2214.56 254.243 2216.27 259.474 Q2218.01 264.706 2218.01 269.868 Q2218.01 275.053 2216.27 280.308 Q2214.56 285.562 2211.09 291.002 L2207.39 291.002 Q2210.46 285.701 2211.97 280.47 Q2213.5 275.215 2213.5 269.868 Q2213.5 264.521 2211.97 259.312 Q2210.46 254.104 2207.39 248.78 Z\" fill=\"#000000\" fill-rule=\"evenodd\" fill-opacity=\"1\" /><polyline clip-path=\"url(#clip140)\" style=\"stroke:#ff0000; stroke-width:4; stroke-opacity:1; fill:none\" stroke-dasharray=\"16, 10\" points=\"\n",
       "  1939.83,327.952 2083.83,327.952 \n",
       "  \"/>\n",
       "<path clip-path=\"url(#clip140)\" d=\"M2023.83 302.352 L1998.23 327.952 L2023.83 353.552 L2049.43 327.952 L2023.83 302.352 Z\" fill=\"#ff0000\" fill-rule=\"evenodd\" fill-opacity=\"1\" stroke=\"#000000\" stroke-opacity=\"1\" stroke-width=\"5.12\"/>\n",
       "<path clip-path=\"url(#clip140)\" d=\"M 0 0 M2128.34 320.302 L2128.34 324.283 Q2126.53 323.288 2124.7 322.802 Q2122.9 322.292 2121.04 322.292 Q2116.9 322.292 2114.61 324.931 Q2112.32 327.547 2112.32 332.292 Q2112.32 337.038 2114.61 339.677 Q2116.9 342.292 2121.04 342.292 Q2122.9 342.292 2124.7 341.806 Q2126.53 341.297 2128.34 340.302 L2128.34 344.237 Q2126.55 345.07 2124.63 345.487 Q2122.73 345.903 2120.58 345.903 Q2114.72 345.903 2111.28 342.223 Q2107.83 338.542 2107.83 332.292 Q2107.83 325.95 2111.3 322.316 Q2114.79 318.681 2120.86 318.681 Q2122.83 318.681 2124.7 319.098 Q2126.58 319.492 2128.34 320.302 Z\" fill=\"#000000\" fill-rule=\"evenodd\" fill-opacity=\"1\" /><path clip-path=\"url(#clip140)\" d=\"M 0 0 M2142.85 322.292 Q2139.42 322.292 2137.43 324.978 Q2135.44 327.64 2135.44 332.292 Q2135.44 336.945 2137.41 339.63 Q2139.4 342.292 2142.85 342.292 Q2146.25 342.292 2148.24 339.607 Q2150.23 336.922 2150.23 332.292 Q2150.23 327.686 2148.24 325.001 Q2146.25 322.292 2142.85 322.292 M2142.85 318.681 Q2148.4 318.681 2151.58 322.292 Q2154.75 325.904 2154.75 332.292 Q2154.75 338.658 2151.58 342.292 Q2148.4 345.903 2142.85 345.903 Q2137.27 345.903 2134.1 342.292 Q2130.95 338.658 2130.95 332.292 Q2130.95 325.904 2134.1 322.292 Q2137.27 318.681 2142.85 318.681 Z\" fill=\"#000000\" fill-rule=\"evenodd\" fill-opacity=\"1\" /><path clip-path=\"url(#clip140)\" d=\"M 0 0 M2175.74 320.07 L2175.74 324.098 Q2173.94 323.172 2171.99 322.709 Q2170.05 322.246 2167.96 322.246 Q2164.79 322.246 2163.2 323.218 Q2161.62 324.191 2161.62 326.135 Q2161.62 327.616 2162.76 328.473 Q2163.89 329.306 2167.32 330.07 L2168.77 330.394 Q2173.31 331.366 2175.21 333.149 Q2177.13 334.908 2177.13 338.079 Q2177.13 341.69 2174.26 343.797 Q2171.41 345.903 2166.41 345.903 Q2164.33 345.903 2162.06 345.487 Q2159.82 345.093 2157.32 344.283 L2157.32 339.885 Q2159.68 341.112 2161.97 341.737 Q2164.26 342.339 2166.51 342.339 Q2169.52 342.339 2171.14 341.32 Q2172.76 340.278 2172.76 338.403 Q2172.76 336.667 2171.58 335.741 Q2170.42 334.816 2166.46 333.959 L2164.98 333.612 Q2161.02 332.778 2159.26 331.066 Q2157.5 329.329 2157.5 326.32 Q2157.5 322.663 2160.09 320.672 Q2162.69 318.681 2167.46 318.681 Q2169.82 318.681 2171.9 319.029 Q2173.98 319.376 2175.74 320.07 Z\" fill=\"#000000\" fill-rule=\"evenodd\" fill-opacity=\"1\" /><path clip-path=\"url(#clip140)\" d=\"M 0 0 M2191.83 309.26 Q2188.73 314.584 2187.22 319.792 Q2185.72 325.001 2185.72 330.348 Q2185.72 335.695 2187.22 340.95 Q2188.75 346.181 2191.83 351.482 L2188.13 351.482 Q2184.65 346.042 2182.92 340.788 Q2181.21 335.533 2181.21 330.348 Q2181.21 325.186 2182.92 319.954 Q2184.63 314.723 2188.13 309.26 L2191.83 309.26 Z\" fill=\"#000000\" fill-rule=\"evenodd\" fill-opacity=\"1\" /><path clip-path=\"url(#clip140)\" d=\"M 0 0 M2217.85 319.306 L2208.47 331.922 L2218.33 345.232 L2213.31 345.232 L2205.77 335.047 L2198.22 345.232 L2193.2 345.232 L2203.27 331.667 L2194.05 319.306 L2199.08 319.306 L2205.95 328.542 L2212.83 319.306 L2217.85 319.306 Z\" fill=\"#000000\" fill-rule=\"evenodd\" fill-opacity=\"1\" /><path clip-path=\"url(#clip140)\" d=\"M 0 0 M2222.13 309.26 L2225.83 309.26 Q2229.31 314.723 2231.02 319.954 Q2232.76 325.186 2232.76 330.348 Q2232.76 335.533 2231.02 340.788 Q2229.31 346.042 2225.83 351.482 L2222.13 351.482 Q2225.21 346.181 2226.71 340.95 Q2228.24 335.695 2228.24 330.348 Q2228.24 325.001 2226.71 319.792 Q2225.21 314.584 2222.13 309.26 Z\" fill=\"#000000\" fill-rule=\"evenodd\" fill-opacity=\"1\" /></svg>\n"
      ]
     },
     "metadata": {},
     "output_type": "display_data"
    }
   ],
   "source": [
    "x = range(-2*pi, stop = 2*pi, length = 50)\n",
    "y1 = sin.(x)\n",
    "y2 = cos.(x)\n",
    "\n",
    "plt_sincos = plot(x,[y1 y2], xlabel=\"x\", ylabel=\"f(x)\", title = \"Función Seno y Coseno\", \n",
    "                  color=[:blue :red], label=[\"sin(x)\" \"cos(x)\"], legend = true, \n",
    "                  linewidth = 2, shape = [:circle :diamond], line = [:dot :dash],\n",
    "                  grid = true)\n",
    "display(plt_sincos)"
   ]
  },
  {
   "cell_type": "markdown",
   "metadata": {},
   "source": [
    "Usamos la función `savefig` para exportar un gráfico a un archivo, por ejemplo, `pdf`. "
   ]
  },
  {
   "cell_type": "code",
   "execution_count": 59,
   "metadata": {},
   "outputs": [
    {
     "name": "stdout",
     "output_type": "stream",
     "text": [
      "search: \u001b[0m\u001b[1ms\u001b[22m\u001b[0m\u001b[1ma\u001b[22m\u001b[0m\u001b[1mv\u001b[22m\u001b[0m\u001b[1me\u001b[22m\u001b[0m\u001b[1mf\u001b[22m\u001b[0m\u001b[1mi\u001b[22m\u001b[0m\u001b[1mg\u001b[22m \u001b[0m\u001b[1mS\u001b[22mt\u001b[0m\u001b[1ma\u001b[22mckO\u001b[0m\u001b[1mv\u001b[22m\u001b[0m\u001b[1me\u001b[22mr\u001b[0m\u001b[1mf\u001b[22mlowError\n",
      "\n"
     ]
    },
    {
     "data": {
      "text/latex": [
       "\\begin{verbatim}\n",
       "savefig([plot,] filename)\n",
       "\\end{verbatim}\n",
       "Save a Plot (the current plot if \\texttt{plot} is not passed) to file. The file type is inferred from the file extension. All backends support png and pdf file types, some also support svg, ps, eps, html and tex.\n",
       "\n"
      ],
      "text/markdown": [
       "```\n",
       "savefig([plot,] filename)\n",
       "```\n",
       "\n",
       "Save a Plot (the current plot if `plot` is not passed) to file. The file type is inferred from the file extension. All backends support png and pdf file types, some also support svg, ps, eps, html and tex.\n"
      ],
      "text/plain": [
       "\u001b[36m  savefig([plot,] filename)\u001b[39m\n",
       "\n",
       "  Save a Plot (the current plot if \u001b[36mplot\u001b[39m is not passed) to file. The file type\n",
       "  is inferred from the file extension. All backends support png and pdf file\n",
       "  types, some also support svg, ps, eps, html and tex."
      ]
     },
     "execution_count": 59,
     "metadata": {},
     "output_type": "execute_result"
    }
   ],
   "source": [
    "?savefig"
   ]
  },
  {
   "cell_type": "code",
   "execution_count": 60,
   "metadata": {},
   "outputs": [],
   "source": [
    "savefig(plt_sincos, \"mytestplot.pdf\")"
   ]
  }
 ],
 "metadata": {
  "kernelspec": {
   "display_name": "Julia 1.4.1",
   "language": "julia",
   "name": "julia-1.4"
  },
  "language_info": {
   "file_extension": ".jl",
   "mimetype": "application/julia",
   "name": "julia",
   "version": "1.4.1"
  }
 },
 "nbformat": 4,
 "nbformat_minor": 4
}
