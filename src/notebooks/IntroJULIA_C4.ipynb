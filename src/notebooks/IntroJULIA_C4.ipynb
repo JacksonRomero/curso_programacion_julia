{
 "cells": [
  {
   "cell_type": "markdown",
   "metadata": {},
   "source": [
    "# Introducción a la Programación en JULIA \n",
    "## Notebook 4\n",
    "\n",
    "Mauricio Tejada\n",
    "\n",
    "ILADES - Universidad Alberto Hurtado\n",
    "\n",
    "Mayo 2019"
   ]
  },
  {
   "cell_type": "markdown",
   "metadata": {},
   "source": [
    "## Contenidos\n",
    "\n",
    "- [Funciones](#4.-Funciones)\n",
    "    - [Funciones Escalares](#4.1-Funciones-Escalares)\n",
    "    - [Funciones Vectoriales](#4.2-Funciones-Vectoriales)\n",
    "    - [Funciones Matriciales](#4.3-Funciones-Matriciales) "
   ]
  },
  {
   "cell_type": "markdown",
   "metadata": {},
   "source": [
    "## 4. Funciones\n",
    "\n",
    "Julia y los paquetes que amplían sus capacidades proveen muchas funciones para realizar operaciones matemáticas y analizar datos. Para ordenar la discusión, categorizamos dichas funciones en matriciales, vectoriales y escalares. \n",
    "\n",
    "Aquí presentamos sólo algunos ejemplos de las funciones que les serán más útiles. "
   ]
  },
  {
   "cell_type": "markdown",
   "metadata": {},
   "source": [
    "### 4.1 Funciones Escalares\n",
    "\n",
    "Las funciones escalares aplican operaciones sobre *escalares*. Son utilizables en escalares, vectores y matrices (y en general en cualquier Arreglo multidimensional). En el caso de los dos primeros, la operaciones se realizan elemento por elemento.\n",
    "\n",
    "Algunos ejemplos:\n",
    "\n",
    "- `sin`, `cos`: Seno, Coseno\n",
    "- `exp`, `log`, `log10`, `abs`: Exponencial, logaritmo natural, logaritmo base 10 Valor absoluto\n",
    "- `sign`: Signo (1 para positivo, -1 para negativo, 0 para cero) \n",
    "- `round`, `ceil`, `floor`: Redondea a entero"
   ]
  },
  {
   "cell_type": "code",
   "execution_count": 1,
   "metadata": {},
   "outputs": [
    {
     "data": {
      "text/plain": [
       "7.38905609893065"
      ]
     },
     "execution_count": 1,
     "metadata": {},
     "output_type": "execute_result"
    }
   ],
   "source": [
    "a = 2\n",
    "expa = exp(a)"
   ]
  },
  {
   "cell_type": "code",
   "execution_count": 2,
   "metadata": {},
   "outputs": [
    {
     "data": {
      "text/plain": [
       "-0.4161468365471424"
      ]
     },
     "execution_count": 2,
     "metadata": {},
     "output_type": "execute_result"
    }
   ],
   "source": [
    "cosa = cos(a)"
   ]
  },
  {
   "cell_type": "code",
   "execution_count": 3,
   "metadata": {},
   "outputs": [
    {
     "data": {
      "text/plain": [
       "0.6931471805599453"
      ]
     },
     "execution_count": 3,
     "metadata": {},
     "output_type": "execute_result"
    }
   ],
   "source": [
    "loga = log(a)"
   ]
  },
  {
   "cell_type": "code",
   "execution_count": 4,
   "metadata": {},
   "outputs": [
    {
     "data": {
      "text/plain": [
       "2.2"
      ]
     },
     "execution_count": 4,
     "metadata": {},
     "output_type": "execute_result"
    }
   ],
   "source": [
    "b = -2.2\n",
    "absa = abs(b)"
   ]
  },
  {
   "cell_type": "markdown",
   "metadata": {},
   "source": [
    "Para aplicar funciones escalares a vectores y matrices usamos la construcción `funcion.()`, indicando así que la operación será realizada con cada elemento escalar que compone el vector o la matriz. Por ejemplo, usando un vector:"
   ]
  },
  {
   "cell_type": "code",
   "execution_count": 5,
   "metadata": {},
   "outputs": [
    {
     "data": {
      "text/plain": [
       "2-element Array{Float64,1}:\n",
       "  7.38905609893065\n",
       " 20.085536923187668"
      ]
     },
     "execution_count": 5,
     "metadata": {},
     "output_type": "execute_result"
    }
   ],
   "source": [
    "B = [2, 3]\n",
    "expB = exp.(B)"
   ]
  },
  {
   "cell_type": "markdown",
   "metadata": {},
   "source": [
    "Ahora usando una matriz:"
   ]
  },
  {
   "cell_type": "code",
   "execution_count": 6,
   "metadata": {},
   "outputs": [
    {
     "data": {
      "text/plain": [
       "2×2 Array{Float64,2}:\n",
       " -0.245072  -0.111865\n",
       " -3.86277   -2.62166"
      ]
     },
     "execution_count": 6,
     "metadata": {},
     "output_type": "execute_result"
    }
   ],
   "source": [
    "C = rand(2,2)\n",
    "logC = log.(C)"
   ]
  },
  {
   "cell_type": "markdown",
   "metadata": {},
   "source": [
    "Otras funciones escalares útiles son:"
   ]
  },
  {
   "cell_type": "code",
   "execution_count": 7,
   "metadata": {},
   "outputs": [
    {
     "data": {
      "text/plain": [
       "2.0"
      ]
     },
     "execution_count": 7,
     "metadata": {},
     "output_type": "execute_result"
    }
   ],
   "source": [
    "round(1.6)"
   ]
  },
  {
   "cell_type": "code",
   "execution_count": 8,
   "metadata": {},
   "outputs": [
    {
     "data": {
      "text/plain": [
       "2.0"
      ]
     },
     "execution_count": 8,
     "metadata": {},
     "output_type": "execute_result"
    }
   ],
   "source": [
    "ceil(1.2)"
   ]
  },
  {
   "cell_type": "code",
   "execution_count": 9,
   "metadata": {},
   "outputs": [
    {
     "data": {
      "text/plain": [
       "1.0"
      ]
     },
     "execution_count": 9,
     "metadata": {},
     "output_type": "execute_result"
    }
   ],
   "source": [
    "floor(1.2)"
   ]
  },
  {
   "cell_type": "code",
   "execution_count": 10,
   "metadata": {},
   "outputs": [
    {
     "data": {
      "text/plain": [
       "-1"
      ]
     },
     "execution_count": 10,
     "metadata": {},
     "output_type": "execute_result"
    }
   ],
   "source": [
    "sign(-4)"
   ]
  },
  {
   "cell_type": "markdown",
   "metadata": {},
   "source": [
    "### 4.2 Funciones Vectoriales\n",
    "\n",
    "Las funciones vectoriales aplican operaciones sobre *vectores*. Son utilizables en vectores y matrices. En el caso de las segundas, las operaciones se aplican por fila o por columna.\n",
    "\n",
    "Algunos ejemplos:\n",
    "\n",
    "- `maximum`, `minimum`, `findmax`, `findmin`: Máximo, mínimo.\n",
    "- `length`: Tamaño de un vector\n",
    "- `sort`, `sortrows`: Ordenar vector, ordenar filas de una matriz\n",
    "- `sum`, `prod`, `cumsum`, `cumprod`: Suma, producto, suma acumulada, producto acumulado\n",
    "- `mean`, `std`, `median`, `var`, `cov`: Media, desviación estándar, mediana, varianza, covarianza (para estas funciones se usa el paquete *Statistics* que viene en la instalación Base de Julia).\n",
    "\n",
    "Ejemplo:"
   ]
  },
  {
   "cell_type": "code",
   "execution_count": 11,
   "metadata": {},
   "outputs": [
    {
     "data": {
      "text/plain": [
       "6×1 Array{Float64,2}:\n",
       " 0.04122509765350335\n",
       " 0.20862651529968157\n",
       " 0.6426362054573778\n",
       " 0.16583556523040333\n",
       " 0.16327818248684878\n",
       " 0.06372005885159893"
      ]
     },
     "execution_count": 11,
     "metadata": {},
     "output_type": "execute_result"
    }
   ],
   "source": [
    "v = rand(6,1) # Generamos un vector"
   ]
  },
  {
   "cell_type": "code",
   "execution_count": 12,
   "metadata": {},
   "outputs": [
    {
     "data": {
      "text/plain": [
       "0.6426362054573778"
      ]
     },
     "execution_count": 12,
     "metadata": {},
     "output_type": "execute_result"
    }
   ],
   "source": [
    "vmax = maximum(v)"
   ]
  },
  {
   "cell_type": "code",
   "execution_count": 13,
   "metadata": {},
   "outputs": [
    {
     "data": {
      "text/plain": [
       "0.04122509765350335"
      ]
     },
     "execution_count": 13,
     "metadata": {},
     "output_type": "execute_result"
    }
   ],
   "source": [
    "vmin = minimum(v)"
   ]
  },
  {
   "cell_type": "code",
   "execution_count": 14,
   "metadata": {},
   "outputs": [
    {
     "data": {
      "text/plain": [
       "6"
      ]
     },
     "execution_count": 14,
     "metadata": {},
     "output_type": "execute_result"
    }
   ],
   "source": [
    "length(v)"
   ]
  },
  {
   "cell_type": "markdown",
   "metadata": {},
   "source": [
    "Las funciones vectoriales, según la operación que realicen tienen diversas opciones y posiblemente entregan más de un *resultado*. Ver opciones de cada función usando `?funcion`.\n",
    "\n",
    "- Ejemplo de uso de funciones con más de un argumento de la función:"
   ]
  },
  {
   "cell_type": "code",
   "execution_count": 15,
   "metadata": {},
   "outputs": [
    {
     "data": {
      "text/plain": [
       "5×3 Array{Float64,2}:\n",
       " 0.0887595  0.0855072  0.122308\n",
       " 0.302627   0.310138   0.670346\n",
       " 0.327429   0.541284   0.7231\n",
       " 0.536855   0.843691   0.439307\n",
       " 0.417173   0.133888   0.233029"
      ]
     },
     "execution_count": 15,
     "metadata": {},
     "output_type": "execute_result"
    }
   ],
   "source": [
    "G = rand(5,3)"
   ]
  },
  {
   "cell_type": "code",
   "execution_count": 16,
   "metadata": {},
   "outputs": [
    {
     "data": {
      "text/plain": [
       "0.8436909313392533"
      ]
     },
     "execution_count": 16,
     "metadata": {},
     "output_type": "execute_result"
    }
   ],
   "source": [
    "a = maximum(G)"
   ]
  },
  {
   "cell_type": "markdown",
   "metadata": {},
   "source": [
    "Note que la función `maximum()` encuentra el máximo dentro de todos los elementos. Si nos interesa buscar el máximo por filas o por columnas utilizamos la opción `dims`:"
   ]
  },
  {
   "cell_type": "code",
   "execution_count": 17,
   "metadata": {},
   "outputs": [
    {
     "data": {
      "text/plain": [
       "1×3 Array{Float64,2}:\n",
       " 0.536855  0.843691  0.7231"
      ]
     },
     "execution_count": 17,
     "metadata": {},
     "output_type": "execute_result"
    }
   ],
   "source": [
    "a = maximum(G, dims=1) # Máximo por columnas"
   ]
  },
  {
   "cell_type": "code",
   "execution_count": 18,
   "metadata": {},
   "outputs": [
    {
     "data": {
      "text/plain": [
       "5×1 Array{Float64,2}:\n",
       " 0.1223075599477641\n",
       " 0.6703458931676567\n",
       " 0.7230997029731163\n",
       " 0.8436909313392533\n",
       " 0.4171731945197412"
      ]
     },
     "execution_count": 18,
     "metadata": {},
     "output_type": "execute_result"
    }
   ],
   "source": [
    "a = maximum(G, dims=2) # Máximo por filas"
   ]
  },
  {
   "cell_type": "markdown",
   "metadata": {},
   "source": [
    "Esta misma lógica aplica a funciones como `sum()`, `prod()`, `cumsum()` y `cumprod()` (en el caso de los dos últimos la dimensión es un argumento obligatorio). Ejemplo:"
   ]
  },
  {
   "cell_type": "code",
   "execution_count": 19,
   "metadata": {},
   "outputs": [
    {
     "data": {
      "text/plain": [
       "5×3 Array{Float64,2}:\n",
       " 0.0887595  0.0855072  0.122308\n",
       " 0.391386   0.395645   0.792653\n",
       " 0.718815   0.93693    1.51575\n",
       " 1.25567    1.78062    1.95506\n",
       " 1.67284    1.91451    2.18809"
      ]
     },
     "execution_count": 19,
     "metadata": {},
     "output_type": "execute_result"
    }
   ],
   "source": [
    "G_suma_asum = cumsum(G, dims=1) # Acumula suma por columnas"
   ]
  },
  {
   "cell_type": "markdown",
   "metadata": {},
   "source": [
    "Las funciones `findmax` y `findmin` son ejemplos de funciones que tienen más de un resultado. En este caso, el valor del máximo (mínimo) y la posición del mismo. Ejemplo:"
   ]
  },
  {
   "cell_type": "code",
   "execution_count": 20,
   "metadata": {},
   "outputs": [
    {
     "data": {
      "text/plain": [
       "(0.8436909313392533, CartesianIndex(4, 2))"
      ]
     },
     "execution_count": 20,
     "metadata": {},
     "output_type": "execute_result"
    }
   ],
   "source": [
    "minval, posind = findmax(G)"
   ]
  },
  {
   "cell_type": "markdown",
   "metadata": {},
   "source": [
    "Lo que indica que el máximo de $G$ es 0.96 y la posición dentro la matriz es fila 3 y columna 1. Para acceder a la fila y columna de `posind` usamos el índice ordinal: "
   ]
  },
  {
   "cell_type": "code",
   "execution_count": 21,
   "metadata": {},
   "outputs": [
    {
     "data": {
      "text/plain": [
       "4"
      ]
     },
     "execution_count": 21,
     "metadata": {},
     "output_type": "execute_result"
    }
   ],
   "source": [
    "posind[1]"
   ]
  },
  {
   "cell_type": "code",
   "execution_count": 22,
   "metadata": {},
   "outputs": [
    {
     "data": {
      "text/plain": [
       "2"
      ]
     },
     "execution_count": 22,
     "metadata": {},
     "output_type": "execute_result"
    }
   ],
   "source": [
    "posind[2]"
   ]
  },
  {
   "cell_type": "markdown",
   "metadata": {},
   "source": [
    "Cuando definimos la orientación fila o columna, `findmax` entregara el valor y la posición en cada fila o columna."
   ]
  },
  {
   "cell_type": "code",
   "execution_count": 23,
   "metadata": {},
   "outputs": [
    {
     "data": {
      "text/plain": [
       "([0.5368546359828663 0.8436909313392533 0.7230997029731163], CartesianIndex{2}[CartesianIndex(4, 1) CartesianIndex(4, 2) CartesianIndex(3, 3)])"
      ]
     },
     "execution_count": 23,
     "metadata": {},
     "output_type": "execute_result"
    }
   ],
   "source": [
    "minval, posind = findmax(G,dims=1)"
   ]
  },
  {
   "cell_type": "code",
   "execution_count": 24,
   "metadata": {},
   "outputs": [
    {
     "data": {
      "text/plain": [
       "CartesianIndex(4, 1)"
      ]
     },
     "execution_count": 24,
     "metadata": {},
     "output_type": "execute_result"
    }
   ],
   "source": [
    "posind[1]"
   ]
  },
  {
   "cell_type": "markdown",
   "metadata": {},
   "source": [
    "Note que usamos indexación para acceder a cada posición. Para para acceder al valor fila o columna de la fila o columna correspondiente usamos doble indexación:"
   ]
  },
  {
   "cell_type": "code",
   "execution_count": 25,
   "metadata": {},
   "outputs": [
    {
     "data": {
      "text/plain": [
       "4"
      ]
     },
     "execution_count": 25,
     "metadata": {},
     "output_type": "execute_result"
    }
   ],
   "source": [
    "posind[1][1] # Posición max en primera columna (fila,col). Además posición fila dentro esa columna."
   ]
  },
  {
   "cell_type": "markdown",
   "metadata": {},
   "source": [
    "Las funciones estadísticas como `mean`, `std`, `median`, `var` y `cov`, entre otras, son fundamentales en el análisis de datos. Para usarlas en Julia necesitamos primero cargar el paquete `Statistics` que viene en la instalación base de Julia."
   ]
  },
  {
   "cell_type": "code",
   "execution_count": 26,
   "metadata": {},
   "outputs": [],
   "source": [
    "using Statistics"
   ]
  },
  {
   "cell_type": "code",
   "execution_count": 27,
   "metadata": {},
   "outputs": [
    {
     "data": {
      "text/plain": [
       "0.38502934549780604"
      ]
     },
     "execution_count": 27,
     "metadata": {},
     "output_type": "execute_result"
    }
   ],
   "source": [
    "mGc = mean(G)  # promedio de todos los elementos de la matriz."
   ]
  },
  {
   "cell_type": "code",
   "execution_count": 28,
   "metadata": {},
   "outputs": [
    {
     "data": {
      "text/plain": [
       "1×3 Array{Float64,2}:\n",
       " 0.334569  0.382902  0.437618"
      ]
     },
     "execution_count": 28,
     "metadata": {},
     "output_type": "execute_result"
    }
   ],
   "source": [
    "mGf = mean(G,dims=1) # promedios por columnas"
   ]
  },
  {
   "cell_type": "code",
   "execution_count": 29,
   "metadata": {},
   "outputs": [
    {
     "data": {
      "text/plain": [
       "5×1 Array{Float64,2}:\n",
       " 0.09885808713436997\n",
       " 0.4277035258534279\n",
       " 0.530604434354558\n",
       " 0.6066173862415334\n",
       " 0.2613632939051412"
      ]
     },
     "execution_count": 29,
     "metadata": {},
     "output_type": "execute_result"
    }
   ],
   "source": [
    "mGf = mean(G,dims=2)  # promedios por filas"
   ]
  },
  {
   "cell_type": "code",
   "execution_count": 30,
   "metadata": {},
   "outputs": [
    {
     "data": {
      "text/plain": [
       "0.23992830544203808"
      ]
     },
     "execution_count": 30,
     "metadata": {},
     "output_type": "execute_result"
    }
   ],
   "source": [
    "mGc = std(G) # desvío estándar, todos los elementos"
   ]
  },
  {
   "cell_type": "code",
   "execution_count": 31,
   "metadata": {},
   "outputs": [
    {
     "data": {
      "text/plain": [
       "1×3 Array{Float64,2}:\n",
       " 0.334569  0.382902  0.437618"
      ]
     },
     "execution_count": 31,
     "metadata": {},
     "output_type": "execute_result"
    }
   ],
   "source": [
    "mGf = mean(G,dims=1) # desvío estándar por columnas"
   ]
  },
  {
   "cell_type": "markdown",
   "metadata": {},
   "source": [
    "Para calcular covarianzas a partir de dos vectores usamos:"
   ]
  },
  {
   "cell_type": "code",
   "execution_count": 32,
   "metadata": {},
   "outputs": [
    {
     "data": {
      "text/plain": [
       "1×1 Array{Float64,2}:\n",
       " -0.00036313531592260264"
      ]
     },
     "execution_count": 32,
     "metadata": {},
     "output_type": "execute_result"
    }
   ],
   "source": [
    "a = rand(5,1)\n",
    "b = rand(5,1)\n",
    "covab = cov(a,b)"
   ]
  },
  {
   "cell_type": "markdown",
   "metadata": {},
   "source": [
    "### 4.3 Funciones Matriciales\n",
    "\n",
    "La funciones matriciales realizan operaciones sobre matrices y sólo son utilizables con este tipo de objetos.\n",
    "\n",
    "Algunos ejemplos:\n",
    "\n",
    "- `size`: Tamaño de la matriz.\n",
    "- `inv`: Inversa (es mejor utilizar /).\n",
    "- `eig`: Autovalores y autovectores.\n",
    "- `cholesky`: Descomposición de Cholesky\n",
    "- `det`: Determinante.\n",
    "- `kron`: Producto de kronecker.\n",
    "- `:` Convierte un matriz en un vector columna: vectorizar A[:].\n",
    "- `reshape(A,filas,columnas)`: Cambio de dimensión.\n",
    "- `diag`: Diagonal de una matriz (además matriz diagonal si el argumento es un vector).\n",
    "- `triu`, `tril`: Matrices triangulares, superior e inferior.\n",
    "\n",
    "Para contar con la funcionalidad del álgebra lineal debemos cargar el paquete `LinearAlgebra`:"
   ]
  },
  {
   "cell_type": "code",
   "execution_count": 33,
   "metadata": {},
   "outputs": [],
   "source": [
    "using LinearAlgebra"
   ]
  },
  {
   "cell_type": "markdown",
   "metadata": {},
   "source": [
    "Creamos una matriz $3 \\times 3$ con números aleatorios para generar ejemplo sobre las funciones matriciales:"
   ]
  },
  {
   "cell_type": "code",
   "execution_count": 34,
   "metadata": {},
   "outputs": [
    {
     "data": {
      "text/plain": [
       "3×3 Array{Float64,2}:\n",
       " 0.333335  0.257027  0.136347\n",
       " 0.82768   0.867059  0.152616\n",
       " 0.925303  0.991552  0.915607"
      ]
     },
     "execution_count": 34,
     "metadata": {},
     "output_type": "execute_result"
    }
   ],
   "source": [
    "G = rand(3,3)"
   ]
  },
  {
   "cell_type": "markdown",
   "metadata": {},
   "source": [
    "El determinante de la matriz:"
   ]
  },
  {
   "cell_type": "code",
   "execution_count": 35,
   "metadata": {},
   "outputs": [
    {
     "data": {
      "text/plain": [
       "0.0582087161793667"
      ]
     },
     "execution_count": 35,
     "metadata": {},
     "output_type": "execute_result"
    }
   ],
   "source": [
    "det_matriz = det(G)"
   ]
  },
  {
   "cell_type": "markdown",
   "metadata": {},
   "source": [
    "La inversa de la matriz:"
   ]
  },
  {
   "cell_type": "code",
   "execution_count": 36,
   "metadata": {},
   "outputs": [
    {
     "data": {
      "text/plain": [
       "3×3 Array{Float64,2}:\n",
       "  11.0389    -1.72037  -1.35709\n",
       " -10.5931     3.07585   1.06478\n",
       "   0.316022  -1.59238   1.31053"
      ]
     },
     "execution_count": 36,
     "metadata": {},
     "output_type": "execute_result"
    }
   ],
   "source": [
    "inv(G)"
   ]
  },
  {
   "cell_type": "markdown",
   "metadata": {},
   "source": [
    "Los elementos de la diagonal principal son:"
   ]
  },
  {
   "cell_type": "code",
   "execution_count": 37,
   "metadata": {},
   "outputs": [
    {
     "data": {
      "text/plain": [
       "3-element Array{Float64,1}:\n",
       " 0.333334806223623\n",
       " 0.867058724963311\n",
       " 0.9156069535883953"
      ]
     },
     "execution_count": 37,
     "metadata": {},
     "output_type": "execute_result"
    }
   ],
   "source": [
    "diag(G)"
   ]
  },
  {
   "cell_type": "markdown",
   "metadata": {},
   "source": [
    "Para construir una matriz diagonal a partir de un vector usamos `diagm()` con la opción `0 =>` para indicar que el vector poblará la diagonal principal: "
   ]
  },
  {
   "cell_type": "code",
   "execution_count": 38,
   "metadata": {},
   "outputs": [
    {
     "data": {
      "text/plain": [
       "4×4 Array{Int64,2}:\n",
       " 1  0  0  0\n",
       " 0  2  0  0\n",
       " 0  0  3  0\n",
       " 0  0  0  4"
      ]
     },
     "execution_count": 38,
     "metadata": {},
     "output_type": "execute_result"
    }
   ],
   "source": [
    "diagm(0 => collect(1:4))"
   ]
  },
  {
   "cell_type": "markdown",
   "metadata": {},
   "source": [
    "Para vectorizar una matriz usamos `[:]` o `reshape(A,numfilas,1)` (el primer caso convierte la matriz en un Arreglo de una dimensión, mientras que el segundo convierte la matriz en un vector fila/columna dependiendo de las dimensiones):"
   ]
  },
  {
   "cell_type": "code",
   "execution_count": 39,
   "metadata": {},
   "outputs": [
    {
     "data": {
      "text/plain": [
       "9-element Array{Float64,1}:\n",
       " 0.333334806223623\n",
       " 0.8276795809018942\n",
       " 0.9253026743888646\n",
       " 0.25702740383887424\n",
       " 0.867058724963311\n",
       " 0.991551564307277\n",
       " 0.13634744795622789\n",
       " 0.1526160780833028\n",
       " 0.9156069535883953"
      ]
     },
     "execution_count": 39,
     "metadata": {},
     "output_type": "execute_result"
    }
   ],
   "source": [
    "vecG = G[:]"
   ]
  },
  {
   "cell_type": "code",
   "execution_count": 40,
   "metadata": {},
   "outputs": [
    {
     "data": {
      "text/plain": [
       "9×1 Array{Float64,2}:\n",
       " 0.333334806223623\n",
       " 0.8276795809018942\n",
       " 0.9253026743888646\n",
       " 0.25702740383887424\n",
       " 0.867058724963311\n",
       " 0.991551564307277\n",
       " 0.13634744795622789\n",
       " 0.1526160780833028\n",
       " 0.9156069535883953"
      ]
     },
     "execution_count": 40,
     "metadata": {},
     "output_type": "execute_result"
    }
   ],
   "source": [
    "vecG = reshape(G,9,1)"
   ]
  },
  {
   "cell_type": "markdown",
   "metadata": {},
   "source": [
    "Calculamos los autovalores y autovectores de una matriz usando `eigen()`:"
   ]
  },
  {
   "cell_type": "code",
   "execution_count": 41,
   "metadata": {},
   "outputs": [
    {
     "data": {
      "text/plain": [
       "Eigen{Float64,Float64,Array{Float64,2},Array{Float64,1}}\n",
       "values:\n",
       "3-element Array{Float64,1}:\n",
       " 0.07898079211537704\n",
       " 0.47045517499126704\n",
       " 1.5665645176686847\n",
       "vectors:\n",
       "3×3 Array{Float64,2}:\n",
       " -0.672685   0.0496444  -0.184691\n",
       "  0.729946  -0.447249   -0.413095\n",
       " -0.121132   0.893031   -0.891763"
      ]
     },
     "execution_count": 41,
     "metadata": {},
     "output_type": "execute_result"
    }
   ],
   "source": [
    "eigenval, eigenvecs = eigen(G)"
   ]
  },
  {
   "cell_type": "code",
   "execution_count": 42,
   "metadata": {},
   "outputs": [
    {
     "data": {
      "text/plain": [
       "3-element Array{Float64,1}:\n",
       " 0.07898079211537704\n",
       " 0.47045517499126704\n",
       " 1.5665645176686847"
      ]
     },
     "execution_count": 42,
     "metadata": {},
     "output_type": "execute_result"
    }
   ],
   "source": [
    "eigenval"
   ]
  },
  {
   "cell_type": "code",
   "execution_count": 43,
   "metadata": {},
   "outputs": [
    {
     "data": {
      "text/plain": [
       "3×3 Array{Float64,2}:\n",
       " -0.672685   0.0496444  -0.184691\n",
       "  0.729946  -0.447249   -0.413095\n",
       " -0.121132   0.893031   -0.891763"
      ]
     },
     "execution_count": 43,
     "metadata": {},
     "output_type": "execute_result"
    }
   ],
   "source": [
    "eigenvecs"
   ]
  },
  {
   "cell_type": "markdown",
   "metadata": {},
   "source": [
    "Obtenemos matrices triangulares a partir de una matriz usando `triu()` (superior) y `tril()` (inferior):"
   ]
  },
  {
   "cell_type": "code",
   "execution_count": 44,
   "metadata": {},
   "outputs": [
    {
     "data": {
      "text/plain": [
       "4×4 Array{Float64,2}:\n",
       " 1.0  0.0  0.0  0.0\n",
       " 1.0  1.0  0.0  0.0\n",
       " 1.0  1.0  1.0  0.0\n",
       " 1.0  1.0  1.0  1.0"
      ]
     },
     "execution_count": 44,
     "metadata": {},
     "output_type": "execute_result"
    }
   ],
   "source": [
    "F = ones(4,4)\n",
    "tril(F)"
   ]
  },
  {
   "cell_type": "code",
   "execution_count": 45,
   "metadata": {},
   "outputs": [
    {
     "data": {
      "text/plain": [
       "4×4 Array{Float64,2}:\n",
       " 1.0  1.0  1.0  1.0\n",
       " 0.0  1.0  1.0  1.0\n",
       " 0.0  0.0  1.0  1.0\n",
       " 0.0  0.0  0.0  1.0"
      ]
     },
     "execution_count": 45,
     "metadata": {},
     "output_type": "execute_result"
    }
   ],
   "source": [
    "triu(F)"
   ]
  },
  {
   "cell_type": "markdown",
   "metadata": {},
   "source": [
    "Para crear una matriz de tamaño $4 \\times 4$ y rellenarla del valor 5.0 usamos `fill()`:"
   ]
  },
  {
   "cell_type": "code",
   "execution_count": 46,
   "metadata": {},
   "outputs": [
    {
     "data": {
      "text/plain": [
       "4×4 Array{Float64,2}:\n",
       " 5.0  5.0  5.0  5.0\n",
       " 5.0  5.0  5.0  5.0\n",
       " 5.0  5.0  5.0  5.0\n",
       " 5.0  5.0  5.0  5.0"
      ]
     },
     "execution_count": 46,
     "metadata": {},
     "output_type": "execute_result"
    }
   ],
   "source": [
    "H = fill(5.0, (4,4))"
   ]
  },
  {
   "cell_type": "markdown",
   "metadata": {},
   "source": [
    "Finalmente, podemos transformar vectores en matrices usando `reshape()`:"
   ]
  },
  {
   "cell_type": "code",
   "execution_count": 47,
   "metadata": {},
   "outputs": [
    {
     "data": {
      "text/plain": [
       "9-element Array{Int64,1}:\n",
       " 1\n",
       " 2\n",
       " 3\n",
       " 4\n",
       " 5\n",
       " 6\n",
       " 7\n",
       " 8\n",
       " 9"
      ]
     },
     "execution_count": 47,
     "metadata": {},
     "output_type": "execute_result"
    }
   ],
   "source": [
    "v = collect(1:1:9)"
   ]
  },
  {
   "cell_type": "code",
   "execution_count": 48,
   "metadata": {},
   "outputs": [
    {
     "data": {
      "text/plain": [
       "3×3 Array{Int64,2}:\n",
       " 1  4  7\n",
       " 2  5  8\n",
       " 3  6  9"
      ]
     },
     "execution_count": 48,
     "metadata": {},
     "output_type": "execute_result"
    }
   ],
   "source": [
    "R = reshape(v,3,3)"
   ]
  }
 ],
 "metadata": {
  "kernelspec": {
   "display_name": "Julia 1.4.1",
   "language": "julia",
   "name": "julia-1.4"
  },
  "language_info": {
   "file_extension": ".jl",
   "mimetype": "application/julia",
   "name": "julia",
   "version": "1.4.1"
  }
 },
 "nbformat": 4,
 "nbformat_minor": 2
}
