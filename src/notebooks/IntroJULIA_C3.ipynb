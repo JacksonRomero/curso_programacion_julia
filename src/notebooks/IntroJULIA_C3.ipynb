{
 "cells": [
  {
   "cell_type": "markdown",
   "metadata": {},
   "source": [
    "# Introducción a la Programación en JULIA \n",
    "## Notebook 3\n",
    "\n",
    "Mauricio Tejada\n",
    "\n",
    "ILADES - Universidad Alberto Hurtado"
   ]
  },
  {
   "cell_type": "markdown",
   "metadata": {},
   "source": [
    "## Contenidos\n",
    "\n",
    "- [Matrices](#3.-Matrices)\n",
    "    - [Secuencias](#3.1-Secuencias)\n",
    "    - [Matrices Especiales](#3.2-Matrices-Especiales)\n",
    "    - [Operaciones con Matrices](#3.3-Operaciones-con-Matrices)\n",
    "    - [Referenciación y Submatrices](#3.4-Referenciación-y-Submatrices)\n",
    "    - [Concatenar Matrices](#3.4-Referenciación-y-Submatrices)\n",
    "    - [Arreglos de Mayor Dimensión](#3.6-Arreglos-de-Mayor-Dimensión)"
   ]
  },
  {
   "cell_type": "markdown",
   "metadata": {},
   "source": [
    "## 3. Matrices\n",
    "\n",
    "El álgebra lineal ocupa un lugar fundamental en el conjunto de herramientas que manejamos los economistas. En Julia, las matrices no son otra cosa que Arreglos (Arrays) homogéneos (que contienen sólo números) en dos dimensiones. Específicamente:\n",
    "\n",
    "- Una matriz es un arreglo bidireccional que contiene números reales o complejos. Una matriz de dimensión $n \\times m$ tiene $n$ filas y $m$ columnas. \n",
    "- Escalares representados por arreglos en una dimensión.\n",
    "- Vectores fila y vectores columna están representados por arreglos en dos dimensiones con $1 \\times m$ y $n \\times 1$, respectivamente.\n",
    "\n",
    "Existen dos formas de definir matrices: usando el teclado y/o leyendo archivos externos (de texto, Excel, etc). \n",
    "\n",
    "- *Usando el teclado:* Toda matriz se inicia y termina con `[ ]`, las columnas están separadas por espacios y filas por punto y coma. \n",
    "- *Leyendo archivos externos:* Se usan los comandos `dlmread`. Más adelante veremos detalles."
   ]
  },
  {
   "cell_type": "code",
   "execution_count": 1,
   "metadata": {},
   "outputs": [],
   "source": [
    "# Cargamos el paquete de herramientas de álgebra lineal de Julia (viene en la instalación base)\n",
    "using LinearAlgebra"
   ]
  },
  {
   "cell_type": "code",
   "execution_count": 2,
   "metadata": {},
   "outputs": [
    {
     "data": {
      "text/plain": [
       "3×3 Array{Float64,2}:\n",
       " 1.0  2.0  3.0\n",
       " 4.0  5.0  6.0\n",
       " 7.0  8.0  9.0"
      ]
     },
     "execution_count": 2,
     "metadata": {},
     "output_type": "execute_result"
    }
   ],
   "source": [
    "A = [1.0 2.0 3.0; 4.0 5.0 6.0; 7.0 8.0 9.0]"
   ]
  },
  {
   "cell_type": "code",
   "execution_count": 3,
   "metadata": {},
   "outputs": [
    {
     "data": {
      "text/plain": [
       "2×3 Array{Float64,2}:\n",
       " 1.0  2.0  3.0\n",
       " 4.0  5.0  6.0"
      ]
     },
     "execution_count": 3,
     "metadata": {},
     "output_type": "execute_result"
    }
   ],
   "source": [
    "B = [1.0 2.0 3.0; 4.0 5.0 6.0]"
   ]
  },
  {
   "cell_type": "code",
   "execution_count": 4,
   "metadata": {},
   "outputs": [
    {
     "data": {
      "text/plain": [
       "3-element Array{Float64,1}:\n",
       " 1.0\n",
       " 2.0\n",
       " 3.0"
      ]
     },
     "execution_count": 4,
     "metadata": {},
     "output_type": "execute_result"
    }
   ],
   "source": [
    "C = [1.0; 2.0; 3.0]  # Note que este es un arreglo en una dimensión "
   ]
  },
  {
   "cell_type": "code",
   "execution_count": 5,
   "metadata": {},
   "outputs": [
    {
     "data": {
      "text/plain": [
       "3×1 Adjoint{Float64,Array{Float64,2}}:\n",
       " 1.0\n",
       " 2.0\n",
       " 3.0"
      ]
     },
     "execution_count": 5,
     "metadata": {},
     "output_type": "execute_result"
    }
   ],
   "source": [
    "C = [1.0 2.0 3.0]' # Vector columna 3 x 1"
   ]
  },
  {
   "cell_type": "code",
   "execution_count": 6,
   "metadata": {},
   "outputs": [
    {
     "data": {
      "text/plain": [
       "1×3 Array{Float64,2}:\n",
       " 1.0  4.0  3.0"
      ]
     },
     "execution_count": 6,
     "metadata": {},
     "output_type": "execute_result"
    }
   ],
   "source": [
    "D = [1.0 4.0 3.0] # Vector fila 1 x 3"
   ]
  },
  {
   "cell_type": "markdown",
   "metadata": {},
   "source": [
    "Para determinar el tamaño de una matriz utilizamos la función `size()`:"
   ]
  },
  {
   "cell_type": "code",
   "execution_count": 7,
   "metadata": {},
   "outputs": [
    {
     "data": {
      "text/plain": [
       "(3, 3)"
      ]
     },
     "execution_count": 7,
     "metadata": {},
     "output_type": "execute_result"
    }
   ],
   "source": [
    "filas, cols = size(A)"
   ]
  },
  {
   "cell_type": "markdown",
   "metadata": {},
   "source": [
    "### 3.1 Secuencias\n",
    "\n",
    "Es posible crear arreglos unidimensionales a partir de secuencias con valores equidistantes unos de otros.\n",
    "\n",
    "- Forma 1: `inicio:incremento:fin` (incremento por defecto = 1). La secuencia termina en el número más cercano al número final definido. En Julia las secuencias son iterables son un tipo de objeto denominado iterable. Para convertir este objeto en un Arreglo se usa el comando `collect`.\n",
    "- Forma 2: `range(inicio; tamaño, fin, incremento=1)` crea también in iterable con una secuencia de números. Si `tamaño` e `incremento` son provistos el último número es calculado automáticamente. Si `fin` e `incrementos` son provistos, el tamaño es calculado automáticamente. Finalmente, si `tamaño` y `fin` son provistos el incremento será calculado automáticamente. De nuevo, `collect` se usa par transformar este objeto iterable en un Arreglo.\n",
    "\n",
    "Adicionalmente, existe la posibilidad de crear secuencias con número espaciados logarítmicamente.\n",
    "\n",
    "Forma 3: `exp10.(range(inicio; tamaño, fin, incremento=1))` crea un vector de numero elementos en el intervalo [10^inicio,10^fin] espaciados logarítmicamente. Todas las opciones de `range()` aplican en este caso."
   ]
  },
  {
   "cell_type": "code",
   "execution_count": 8,
   "metadata": {},
   "outputs": [
    {
     "data": {
      "text/plain": [
       "1:10"
      ]
     },
     "execution_count": 8,
     "metadata": {},
     "output_type": "execute_result"
    }
   ],
   "source": [
    "H0 = 1:10"
   ]
  },
  {
   "cell_type": "code",
   "execution_count": 9,
   "metadata": {},
   "outputs": [
    {
     "data": {
      "text/plain": [
       "10-element Array{Int64,1}:\n",
       "  1\n",
       "  2\n",
       "  3\n",
       "  4\n",
       "  5\n",
       "  6\n",
       "  7\n",
       "  8\n",
       "  9\n",
       " 10"
      ]
     },
     "execution_count": 9,
     "metadata": {},
     "output_type": "execute_result"
    }
   ],
   "source": [
    "H0 = collect(1:10)"
   ]
  },
  {
   "cell_type": "code",
   "execution_count": 10,
   "metadata": {},
   "outputs": [
    {
     "data": {
      "text/plain": [
       "4-element Array{Float64,1}:\n",
       " 1.0\n",
       " 1.6\n",
       " 2.2\n",
       " 2.8"
      ]
     },
     "execution_count": 10,
     "metadata": {},
     "output_type": "execute_result"
    }
   ],
   "source": [
    "H1 = collect(1:0.6:3)"
   ]
  },
  {
   "cell_type": "code",
   "execution_count": 11,
   "metadata": {},
   "outputs": [
    {
     "data": {
      "text/plain": [
       "5-element Array{Int64,1}:\n",
       " 10\n",
       "  8\n",
       "  6\n",
       "  4\n",
       "  2"
      ]
     },
     "execution_count": 11,
     "metadata": {},
     "output_type": "execute_result"
    }
   ],
   "source": [
    "o = collect(10:-2:2)"
   ]
  },
  {
   "cell_type": "code",
   "execution_count": 12,
   "metadata": {},
   "outputs": [
    {
     "data": {
      "text/plain": [
       "1.0:0.1:4.0"
      ]
     },
     "execution_count": 12,
     "metadata": {},
     "output_type": "execute_result"
    }
   ],
   "source": [
    "H2 = range(1,stop=4,step = 0.1)"
   ]
  },
  {
   "cell_type": "code",
   "execution_count": 13,
   "metadata": {},
   "outputs": [
    {
     "data": {
      "text/plain": [
       "10-element Array{Float64,1}:\n",
       " 1.0\n",
       " 1.7777777777777777\n",
       " 2.5555555555555554\n",
       " 3.3333333333333335\n",
       " 4.111111111111111\n",
       " 4.888888888888889\n",
       " 5.666666666666667\n",
       " 6.444444444444445\n",
       " 7.222222222222222\n",
       " 8.0"
      ]
     },
     "execution_count": 13,
     "metadata": {},
     "output_type": "execute_result"
    }
   ],
   "source": [
    "H2 = collect(range(1,stop=8,length = 10))"
   ]
  },
  {
   "cell_type": "code",
   "execution_count": 14,
   "metadata": {},
   "outputs": [
    {
     "data": {
      "text/plain": [
       "3-element Array{Float64,1}:\n",
       "   10.0\n",
       "  100.0\n",
       " 1000.0"
      ]
     },
     "execution_count": 14,
     "metadata": {},
     "output_type": "execute_result"
    }
   ],
   "source": [
    "H3 = collect(exp10.(range(1,stop=3,length=3)))"
   ]
  },
  {
   "cell_type": "markdown",
   "metadata": {},
   "source": [
    "### 3.2 Matrices Especiales\n",
    "\n",
    "Julia tiene funciones especialmente diseñadas para construir cierto tipo de matrices:\n",
    "\n",
    "- Matrices de ceros: `zeros(nfilas,ncolumnas)`\n",
    "- Matrices de unos: `ones(nfilas,ncolumnas)`\n",
    "- Matriz identidad: `eye(dimesion)`\n",
    "- Matrices con números aleatorios: `rand(nfilas,ncolumnas)` (uniforme [0,1]) y `randn(nfilas,ncolumnas)` (Normal estándar)."
   ]
  },
  {
   "cell_type": "code",
   "execution_count": 15,
   "metadata": {},
   "outputs": [
    {
     "data": {
      "text/plain": [
       "3×2 Array{Float64,2}:\n",
       " 0.0  0.0\n",
       " 0.0  0.0\n",
       " 0.0  0.0"
      ]
     },
     "execution_count": 15,
     "metadata": {},
     "output_type": "execute_result"
    }
   ],
   "source": [
    "ME1 = zeros(3,2)"
   ]
  },
  {
   "cell_type": "code",
   "execution_count": 16,
   "metadata": {},
   "outputs": [
    {
     "data": {
      "text/plain": [
       "4×1 Array{Float64,2}:\n",
       " 1.0\n",
       " 1.0\n",
       " 1.0\n",
       " 1.0"
      ]
     },
     "execution_count": 16,
     "metadata": {},
     "output_type": "execute_result"
    }
   ],
   "source": [
    "ME2 = ones(4,1)"
   ]
  },
  {
   "cell_type": "code",
   "execution_count": 17,
   "metadata": {},
   "outputs": [
    {
     "data": {
      "text/plain": [
       "2×2 Array{Float64,2}:\n",
       " 1.0  0.0\n",
       " 0.0  1.0"
      ]
     },
     "execution_count": 17,
     "metadata": {},
     "output_type": "execute_result"
    }
   ],
   "source": [
    "ME3 = Matrix{Float64}(I, 2, 2)"
   ]
  },
  {
   "cell_type": "markdown",
   "metadata": {},
   "source": [
    "Julia también tiene funcionalidad para crear matrices a partir de números aleatorios, esto usando las funciones `rand(nfilas,ncolumnas)` y `randn(nfilas,ncolumnas)` (el primero de una uniforme $[0,1]$ y el segundo de una Normal Estándar):"
   ]
  },
  {
   "cell_type": "code",
   "execution_count": 18,
   "metadata": {},
   "outputs": [
    {
     "data": {
      "text/plain": [
       "2×2 Array{Float64,2}:\n",
       " 0.476437  0.462704\n",
       " 0.25391   0.507852"
      ]
     },
     "execution_count": 18,
     "metadata": {},
     "output_type": "execute_result"
    }
   ],
   "source": [
    "ME4 = rand(2,2)"
   ]
  },
  {
   "cell_type": "code",
   "execution_count": 19,
   "metadata": {},
   "outputs": [
    {
     "data": {
      "text/plain": [
       "3×1 Array{Float64,2}:\n",
       " -0.04482778954493163\n",
       "  0.27467803596815427\n",
       " -1.7607505143037605"
      ]
     },
     "execution_count": 19,
     "metadata": {},
     "output_type": "execute_result"
    }
   ],
   "source": [
    "ME5 = randn(3,1)"
   ]
  },
  {
   "cell_type": "markdown",
   "metadata": {},
   "source": [
    "Notas: \n",
    "- Para generar número aleatorios de una distribución Normal con media $\\mu$ y desviación estándar $\\sigma$ usamos `mu+sig*randn(nfilas,ncols)`. \n",
    "- Para generar número aleatorios de una distribución Uniforme definida en el intervalo $[a,b]$ usamos `a+(b-a)*rand(nfilas,ncols)`.\n",
    "\n",
    "Números aleatorios de una $N(2,0.5^2)$ se obtienen:"
   ]
  },
  {
   "cell_type": "code",
   "execution_count": 20,
   "metadata": {},
   "outputs": [
    {
     "data": {
      "text/plain": [
       "3×3 Array{Float64,2}:\n",
       " 1.26827  2.00713  2.24438\n",
       " 2.47997  2.19968  3.37917\n",
       " 1.81106  2.19398  2.46638"
      ]
     },
     "execution_count": 20,
     "metadata": {},
     "output_type": "execute_result"
    }
   ],
   "source": [
    "xn = 2.0*ones(3,3) + 0.5*randn(3,3)"
   ]
  },
  {
   "cell_type": "markdown",
   "metadata": {},
   "source": [
    "Números aleatorios de una $U(2,4)$ se obtienen:"
   ]
  },
  {
   "cell_type": "code",
   "execution_count": 21,
   "metadata": {},
   "outputs": [
    {
     "data": {
      "text/plain": [
       "2×2 Array{Float64,2}:\n",
       " 2.93924  3.01067\n",
       " 3.6774   3.43768"
      ]
     },
     "execution_count": 21,
     "metadata": {},
     "output_type": "execute_result"
    }
   ],
   "source": [
    "xu = 2.0*ones(2,2) + (4-2)*rand(2,2)"
   ]
  },
  {
   "cell_type": "markdown",
   "metadata": {},
   "source": [
    "### 3.3 Operaciones con Matrices\n",
    "\n",
    "El álgebra lineal define operaciones matriciales que Julia es capaz de realizar. Julia determina su uso is los arreglos califican como matrices (dos dimensiones). Todas las operaciones matriciales deben cumplir con los requerimiento de conformabilidad apropiados a la operación, caso contrario Julia indicara que existe un error.  *Note: Las operaciones con arreglos en una dimensión se realizan elemento por elemento.* \n",
    "\n",
    "- Suma `+` \n",
    "- Sustracción `-` "
   ]
  },
  {
   "cell_type": "code",
   "execution_count": 22,
   "metadata": {},
   "outputs": [],
   "source": [
    "A = [1 2 3; 4 5 6; 7 8 9];\n",
    "B = [1 1 1; 2 2 2; 3 3 3];   "
   ]
  },
  {
   "cell_type": "markdown",
   "metadata": {},
   "source": [
    "*Nota*: terminar una línea con `;` suprime la impresión del resultado en pantalla."
   ]
  },
  {
   "cell_type": "code",
   "execution_count": 23,
   "metadata": {},
   "outputs": [
    {
     "data": {
      "text/plain": [
       "3×3 Array{Int64,2}:\n",
       "  2   3   4\n",
       "  6   7   8\n",
       " 10  11  12"
      ]
     },
     "execution_count": 23,
     "metadata": {},
     "output_type": "execute_result"
    }
   ],
   "source": [
    "S = A + B"
   ]
  },
  {
   "cell_type": "code",
   "execution_count": 24,
   "metadata": {},
   "outputs": [
    {
     "data": {
      "text/plain": [
       "3×3 Array{Int64,2}:\n",
       " 0  1  2\n",
       " 2  3  4\n",
       " 4  5  6"
      ]
     },
     "execution_count": 24,
     "metadata": {},
     "output_type": "execute_result"
    }
   ],
   "source": [
    "R = A - B"
   ]
  },
  {
   "cell_type": "markdown",
   "metadata": {},
   "source": [
    "- Multiplicación `*`\n",
    "- Potencia `^`"
   ]
  },
  {
   "cell_type": "code",
   "execution_count": 25,
   "metadata": {},
   "outputs": [
    {
     "data": {
      "text/plain": [
       "3×3 Array{Int64,2}:\n",
       " 14  14  14\n",
       " 32  32  32\n",
       " 50  50  50"
      ]
     },
     "execution_count": 25,
     "metadata": {},
     "output_type": "execute_result"
    }
   ],
   "source": [
    "MM = A*B"
   ]
  },
  {
   "cell_type": "code",
   "execution_count": 26,
   "metadata": {},
   "outputs": [
    {
     "data": {
      "text/plain": [
       "3×3 Array{Int64,2}:\n",
       "  30   36   42\n",
       "  66   81   96\n",
       " 102  126  150"
      ]
     },
     "execution_count": 26,
     "metadata": {},
     "output_type": "execute_result"
    }
   ],
   "source": [
    "P = A^2 # Idem P = A*A"
   ]
  },
  {
   "cell_type": "markdown",
   "metadata": {},
   "source": [
    "- Traspuesta `'` o `transpose()`\n",
    "- Inversa `inv(matriz)`\n",
    "- División Izquierda '\\' ($A^{-1}\\times B$)\n",
    "- División Derecha '/' ($B \\times A^{-1}$)"
   ]
  },
  {
   "cell_type": "code",
   "execution_count": 27,
   "metadata": {},
   "outputs": [
    {
     "data": {
      "text/plain": [
       "3×3 Array{Float64,2}:\n",
       " 0.420028  0.981017  0.0836713\n",
       " 0.209223  0.620724  0.511472\n",
       " 0.427229  0.496171  0.10856"
      ]
     },
     "execution_count": 27,
     "metadata": {},
     "output_type": "execute_result"
    }
   ],
   "source": [
    "C = rand(3,3)"
   ]
  },
  {
   "cell_type": "code",
   "execution_count": 28,
   "metadata": {},
   "outputs": [
    {
     "data": {
      "text/plain": [
       "3×3 Transpose{Float64,Array{Float64,2}}:\n",
       " 0.420028   0.209223  0.427229\n",
       " 0.981017   0.620724  0.496171\n",
       " 0.0836713  0.511472  0.10856"
      ]
     },
     "execution_count": 28,
     "metadata": {},
     "output_type": "execute_result"
    }
   ],
   "source": [
    "Ctrans = transpose(C)"
   ]
  },
  {
   "cell_type": "code",
   "execution_count": 29,
   "metadata": {},
   "outputs": [
    {
     "data": {
      "text/plain": [
       "3×3 Array{Float64,2}:\n",
       " -1.85848  -0.647941   4.48513\n",
       "  1.95231   0.098226  -1.9675\n",
       " -1.6091    2.10098    0.553083"
      ]
     },
     "execution_count": 29,
     "metadata": {},
     "output_type": "execute_result"
    }
   ],
   "source": [
    "IV = inv(C)"
   ]
  },
  {
   "cell_type": "code",
   "execution_count": 30,
   "metadata": {},
   "outputs": [
    {
     "data": {
      "text/plain": [
       "3×3 Array{Float64,2}:\n",
       "  26.9457   28.9244   30.9031\n",
       " -11.4273  -11.3443  -11.2613\n",
       "  10.6664   11.7114   12.7563"
      ]
     },
     "execution_count": 30,
     "metadata": {},
     "output_type": "execute_result"
    }
   ],
   "source": [
    "DI = C \\ A    # Idem DI = inv(C)*A`"
   ]
  },
  {
   "cell_type": "code",
   "execution_count": 31,
   "metadata": {},
   "outputs": [
    {
     "data": {
      "text/plain": [
       "3×3 Array{Float64,2}:\n",
       "  26.9457   28.9244   30.9031\n",
       " -11.4273  -11.3443  -11.2613\n",
       "  10.6664   11.7114   12.7563"
      ]
     },
     "execution_count": 31,
     "metadata": {},
     "output_type": "execute_result"
    }
   ],
   "source": [
    "DI = inv(C)*A"
   ]
  },
  {
   "cell_type": "markdown",
   "metadata": {},
   "source": [
    "- Operaciones elemento por elemento usan un punto precediendo al operador: `.*`, `.^`, `./`."
   ]
  },
  {
   "cell_type": "code",
   "execution_count": 32,
   "metadata": {},
   "outputs": [],
   "source": [
    "A = [1 2 3; 4 5 6; 7 8 9];\n",
    "B = [1 1 1; 2 2 2; 3 3 3];  "
   ]
  },
  {
   "cell_type": "code",
   "execution_count": 33,
   "metadata": {},
   "outputs": [
    {
     "data": {
      "text/plain": [
       "3×3 Array{Int64,2}:\n",
       "  1   2   3\n",
       "  8  10  12\n",
       " 21  24  27"
      ]
     },
     "execution_count": 33,
     "metadata": {},
     "output_type": "execute_result"
    }
   ],
   "source": [
    "Me = A.*B"
   ]
  },
  {
   "cell_type": "code",
   "execution_count": 34,
   "metadata": {},
   "outputs": [
    {
     "data": {
      "text/plain": [
       "3×3 Array{Float64,2}:\n",
       " 1.0      2.0      3.0\n",
       " 2.0      2.5      3.0\n",
       " 2.33333  2.66667  3.0"
      ]
     },
     "execution_count": 34,
     "metadata": {},
     "output_type": "execute_result"
    }
   ],
   "source": [
    "Me = A./B"
   ]
  },
  {
   "cell_type": "code",
   "execution_count": 35,
   "metadata": {},
   "outputs": [
    {
     "data": {
      "text/plain": [
       "3×3 Array{Int64,2}:\n",
       "  1   4   9\n",
       " 16  25  36\n",
       " 49  64  81"
      ]
     },
     "execution_count": 35,
     "metadata": {},
     "output_type": "execute_result"
    }
   ],
   "source": [
    "Pe = A.^2"
   ]
  },
  {
   "cell_type": "markdown",
   "metadata": {},
   "source": [
    "### 3.4 Referenciación y Submatrices\n",
    "\n",
    "Los elementos se una matriz se pueden referenciar de diversas formas:\n",
    "\n",
    "- Usando `matriz[i,j]` donde `i` es la fila y `j` es la columna."
   ]
  },
  {
   "cell_type": "code",
   "execution_count": 36,
   "metadata": {},
   "outputs": [
    {
     "data": {
      "text/plain": [
       "3×3 Array{Int64,2}:\n",
       " 1  2  3\n",
       " 4  5  6\n",
       " 7  8  9"
      ]
     },
     "execution_count": 36,
     "metadata": {},
     "output_type": "execute_result"
    }
   ],
   "source": [
    "A"
   ]
  },
  {
   "cell_type": "code",
   "execution_count": 37,
   "metadata": {},
   "outputs": [
    {
     "data": {
      "text/plain": [
       "5"
      ]
     },
     "execution_count": 37,
     "metadata": {},
     "output_type": "execute_result"
    }
   ],
   "source": [
    "a22 = A[2,2]"
   ]
  },
  {
   "cell_type": "code",
   "execution_count": 38,
   "metadata": {},
   "outputs": [
    {
     "data": {
      "text/plain": [
       "7"
      ]
     },
     "execution_count": 38,
     "metadata": {},
     "output_type": "execute_result"
    }
   ],
   "source": [
    "a31 = A[3,1]"
   ]
  },
  {
   "cell_type": "markdown",
   "metadata": {},
   "source": [
    "- Usando `matriz[ii:if,ci:cf]` para extraer más de un elemento. `ii` e `if` corresponden a la fila inicial y la fila final (lo mismo aplica a `ci` y `cf` para las columnas). Este método se usa para extraer submatrices o particionar."
   ]
  },
  {
   "cell_type": "code",
   "execution_count": 39,
   "metadata": {},
   "outputs": [
    {
     "data": {
      "text/plain": [
       "2×2 Array{Int64,2}:\n",
       " 1  2\n",
       " 4  5"
      ]
     },
     "execution_count": 39,
     "metadata": {},
     "output_type": "execute_result"
    }
   ],
   "source": [
    "subA1 = A[1:2,1:2]"
   ]
  },
  {
   "cell_type": "code",
   "execution_count": 40,
   "metadata": {},
   "outputs": [
    {
     "data": {
      "text/plain": [
       "2×3 Array{Int64,2}:\n",
       " 4  5  6\n",
       " 7  8  9"
      ]
     },
     "execution_count": 40,
     "metadata": {},
     "output_type": "execute_result"
    }
   ],
   "source": [
    "subA2 = A[2:3,1:3]"
   ]
  },
  {
   "cell_type": "markdown",
   "metadata": {},
   "source": [
    "Usar únicamente : indica toda la fila o columna según corresponda. El término `end` indica el último elemento."
   ]
  },
  {
   "cell_type": "code",
   "execution_count": 41,
   "metadata": {},
   "outputs": [
    {
     "data": {
      "text/plain": [
       "3-element Array{Int64,1}:\n",
       " 4\n",
       " 5\n",
       " 6"
      ]
     },
     "execution_count": 41,
     "metadata": {},
     "output_type": "execute_result"
    }
   ],
   "source": [
    "subA3 = A[2,:]"
   ]
  },
  {
   "cell_type": "code",
   "execution_count": 42,
   "metadata": {},
   "outputs": [
    {
     "data": {
      "text/plain": [
       "3×2 Array{Int64,2}:\n",
       " 2  3\n",
       " 5  6\n",
       " 8  9"
      ]
     },
     "execution_count": 42,
     "metadata": {},
     "output_type": "execute_result"
    }
   ],
   "source": [
    "subA4 = A[:,2:3]"
   ]
  },
  {
   "cell_type": "code",
   "execution_count": 43,
   "metadata": {},
   "outputs": [
    {
     "data": {
      "text/plain": [
       "2-element Array{Int64,1}:\n",
       " 6\n",
       " 9"
      ]
     },
     "execution_count": 43,
     "metadata": {},
     "output_type": "execute_result"
    }
   ],
   "source": [
    "subA5 = A[2:end,3]"
   ]
  },
  {
   "cell_type": "markdown",
   "metadata": {},
   "source": [
    "- Note que al usar matriz(ii:if,ji:jf) no estamos haciendo otra cosa que definir un vector secuencia (iterable) dentro la matriz. Por tanto es válido usar vectores para referenciar elementos (en secuencia o no)."
   ]
  },
  {
   "cell_type": "code",
   "execution_count": 44,
   "metadata": {},
   "outputs": [],
   "source": [
    "B=rand(4,6);\n",
    "Ind = 1:4;"
   ]
  },
  {
   "cell_type": "code",
   "execution_count": 45,
   "metadata": {},
   "outputs": [
    {
     "data": {
      "text/plain": [
       "4-element Array{Float64,1}:\n",
       " 0.8750783583984212\n",
       " 0.32461099178015207\n",
       " 0.2465850516781527\n",
       " 0.2374153793205398"
      ]
     },
     "execution_count": 45,
     "metadata": {},
     "output_type": "execute_result"
    }
   ],
   "source": [
    "subB1 = B[Ind,5]"
   ]
  },
  {
   "cell_type": "code",
   "execution_count": 46,
   "metadata": {},
   "outputs": [
    {
     "data": {
      "text/plain": [
       "4-element Array{Float64,1}:\n",
       " 0.8750783583984212\n",
       " 0.32461099178015207\n",
       " 0.2465850516781527\n",
       " 0.2374153793205398"
      ]
     },
     "execution_count": 46,
     "metadata": {},
     "output_type": "execute_result"
    }
   ],
   "source": [
    "subB2 = B[1:4,5]"
   ]
  },
  {
   "cell_type": "markdown",
   "metadata": {},
   "source": [
    "- Podemos usar la misma lógica para elegir elementos que no son contiguos:"
   ]
  },
  {
   "cell_type": "code",
   "execution_count": 47,
   "metadata": {},
   "outputs": [
    {
     "data": {
      "text/plain": [
       "3-element Array{Int64,1}:\n",
       " 1\n",
       " 3\n",
       " 4"
      ]
     },
     "execution_count": 47,
     "metadata": {},
     "output_type": "execute_result"
    }
   ],
   "source": [
    "Indc = [1, 3, 4]"
   ]
  },
  {
   "cell_type": "code",
   "execution_count": 48,
   "metadata": {},
   "outputs": [
    {
     "data": {
      "text/plain": [
       "2-element Array{Int64,1}:\n",
       " 2\n",
       " 4"
      ]
     },
     "execution_count": 48,
     "metadata": {},
     "output_type": "execute_result"
    }
   ],
   "source": [
    "Indf = [2, 4]"
   ]
  },
  {
   "cell_type": "code",
   "execution_count": 49,
   "metadata": {},
   "outputs": [
    {
     "data": {
      "text/plain": [
       "2×3 Array{Float64,2}:\n",
       " 0.718146  0.373253  0.98508\n",
       " 0.863863  0.444644  0.48635"
      ]
     },
     "execution_count": 49,
     "metadata": {},
     "output_type": "execute_result"
    }
   ],
   "source": [
    "subB3 = B[Indf,Indc]"
   ]
  },
  {
   "cell_type": "markdown",
   "metadata": {},
   "source": [
    "### 3.5 Concatenar Matrices\n",
    "\n",
    "Para concatenar matrices usamos los mismos procedimientos que para la definición de matrices usando el teclado, la única diferencia está en que los elementos son matrices. \n",
    "\n",
    "- La matriz se define en `[]`.\n",
    "- Concatenar horizontalmente ` ` (espacio).\n",
    "- Concatenar verticalmente `;`.\n",
    "\n",
    "Nota: Ser cuidadoso con la conformabilidad de las matrices."
   ]
  },
  {
   "cell_type": "code",
   "execution_count": 50,
   "metadata": {},
   "outputs": [],
   "source": [
    "A = rand(3,2);\n",
    "B = rand(2,2);"
   ]
  },
  {
   "cell_type": "markdown",
   "metadata": {},
   "source": [
    "Concatenar verticalmente A y B:"
   ]
  },
  {
   "cell_type": "code",
   "execution_count": 51,
   "metadata": {},
   "outputs": [
    {
     "data": {
      "text/plain": [
       "5×2 Array{Float64,2}:\n",
       " 0.648599  0.89093\n",
       " 0.422508  0.701603\n",
       " 0.28877   0.467927\n",
       " 0.284474  0.402947\n",
       " 0.410712  0.0403167"
      ]
     },
     "execution_count": 51,
     "metadata": {},
     "output_type": "execute_result"
    }
   ],
   "source": [
    "C = [A ; B]"
   ]
  },
  {
   "cell_type": "markdown",
   "metadata": {},
   "source": [
    "Concatenar horizontalmente la traspuesta de A con B:"
   ]
  },
  {
   "cell_type": "code",
   "execution_count": 52,
   "metadata": {},
   "outputs": [
    {
     "data": {
      "text/plain": [
       "2×5 Array{Float64,2}:\n",
       " 0.648599  0.422508  0.28877   0.284474  0.402947\n",
       " 0.89093   0.701603  0.467927  0.410712  0.0403167"
      ]
     },
     "execution_count": 52,
     "metadata": {},
     "output_type": "execute_result"
    }
   ],
   "source": [
    "D = [A' B]"
   ]
  },
  {
   "cell_type": "markdown",
   "metadata": {},
   "source": [
    "### 3.6 Arreglos de Mayor Dimensión\n",
    "\n",
    "Julia es capaz de manipular matrices de mayor dimensión (ejemplo 3D). Todas las reglas de creación, referenciación, partición y concatenación aplican.\n",
    "\n",
    "*Nota: Sólo operaciones elemento por elemento son utilizables con arreglos de mayor dimensión.*"
   ]
  },
  {
   "cell_type": "code",
   "execution_count": 53,
   "metadata": {},
   "outputs": [
    {
     "data": {
      "text/plain": [
       "2×2×2 Array{Float64,3}:\n",
       "[:, :, 1] =\n",
       " 0.426227  0.488331\n",
       " 0.763232  0.208264\n",
       "\n",
       "[:, :, 2] =\n",
       " 0.553193  0.0315616\n",
       " 0.821481  0.467431"
      ]
     },
     "execution_count": 53,
     "metadata": {},
     "output_type": "execute_result"
    }
   ],
   "source": [
    "A = rand(2,2,2)"
   ]
  },
  {
   "cell_type": "markdown",
   "metadata": {},
   "source": [
    "La referenciación a los elementos funciona de la misma forma. Por ejemplo, encontramos el elemento de la fila 2, columna 2, grupo (matriz) 1:"
   ]
  },
  {
   "cell_type": "code",
   "execution_count": 54,
   "metadata": {},
   "outputs": [
    {
     "data": {
      "text/plain": [
       "0.20826446817410416"
      ]
     },
     "execution_count": 54,
     "metadata": {},
     "output_type": "execute_result"
    }
   ],
   "source": [
    "A[2,2,1]"
   ]
  }
 ],
 "metadata": {
  "kernelspec": {
   "display_name": "Julia 1.4.1",
   "language": "julia",
   "name": "julia-1.4"
  },
  "language_info": {
   "file_extension": ".jl",
   "mimetype": "application/julia",
   "name": "julia",
   "version": "1.4.1"
  }
 },
 "nbformat": 4,
 "nbformat_minor": 4
}
